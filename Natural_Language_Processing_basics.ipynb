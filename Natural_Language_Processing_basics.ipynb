{
 "cells": [
  {
   "cell_type": "markdown",
   "metadata": {},
   "source": [
    "# NLP Basics"
   ]
  },
  {
   "cell_type": "code",
   "execution_count": 1,
   "metadata": {},
   "outputs": [],
   "source": [
    "import nltk"
   ]
  },
  {
   "cell_type": "code",
   "execution_count": 2,
   "metadata": {},
   "outputs": [],
   "source": [
    "from nltk.tokenize import sent_tokenize"
   ]
  },
  {
   "cell_type": "code",
   "execution_count": 6,
   "metadata": {},
   "outputs": [
    {
     "name": "stderr",
     "output_type": "stream",
     "text": [
      "[nltk_data] Downloading package punkt to\n",
      "[nltk_data]     C:\\Users\\Mayank\\AppData\\Roaming\\nltk_data...\n",
      "[nltk_data]   Unzipping tokenizers\\punkt.zip.\n"
     ]
    },
    {
     "data": {
      "text/plain": [
       "True"
      ]
     },
     "execution_count": 6,
     "metadata": {},
     "output_type": "execute_result"
    }
   ],
   "source": [
    "# One time\n",
    "nltk.download('punkt')"
   ]
  },
  {
   "cell_type": "code",
   "execution_count": 7,
   "metadata": {},
   "outputs": [],
   "source": [
    "text = 'Sub-module available for the above is sent_tokenize. An obvious question in your mind would be why sentence tokenization is needed when we have the option of word tokenization. Imagine you need to count average words per sentence, how you will calculate? For accomplishing such a task, you need both sentence tokenization as well as words to calculate the ratio. Such output serves as an important feature for machine training as the answer would be numeric.'"
   ]
  },
  {
   "cell_type": "code",
   "execution_count": 8,
   "metadata": {},
   "outputs": [
    {
     "data": {
      "text/plain": [
       "'Sub-module available for the above is sent_tokenize. An obvious question in your mind would be why sentence tokenization is needed when we have the option of word tokenization. Imagine you need to count average words per sentence, how you will calculate? For accomplishing such a task, you need both sentence tokenization as well as words to calculate the ratio. Such output serves as an important feature for machine training as the answer would be numeric.'"
      ]
     },
     "execution_count": 8,
     "metadata": {},
     "output_type": "execute_result"
    }
   ],
   "source": [
    "text"
   ]
  },
  {
   "cell_type": "markdown",
   "metadata": {},
   "source": [
    "### Sentence Tokenizer"
   ]
  },
  {
   "cell_type": "code",
   "execution_count": 9,
   "metadata": {},
   "outputs": [
    {
     "data": {
      "text/plain": [
       "['Sub-module available for the above is sent_tokenize.',\n",
       " 'An obvious question in your mind would be why sentence tokenization is needed when we have the option of word tokenization.',\n",
       " 'Imagine you need to count average words per sentence, how you will calculate?',\n",
       " 'For accomplishing such a task, you need both sentence tokenization as well as words to calculate the ratio.',\n",
       " 'Such output serves as an important feature for machine training as the answer would be numeric.']"
      ]
     },
     "execution_count": 9,
     "metadata": {},
     "output_type": "execute_result"
    }
   ],
   "source": [
    "tokens = sent_tokenize(text)\n",
    "tokens"
   ]
  },
  {
   "cell_type": "code",
   "execution_count": 13,
   "metadata": {},
   "outputs": [
    {
     "name": "stdout",
     "output_type": "stream",
     "text": [
      "Count of sentences: 5\n"
     ]
    }
   ],
   "source": [
    "print(\"Count of sentences:\", len(tokens))"
   ]
  },
  {
   "cell_type": "code",
   "execution_count": 15,
   "metadata": {},
   "outputs": [
    {
     "name": "stdout",
     "output_type": "stream",
     "text": [
      "b\n"
     ]
    }
   ],
   "source": [
    "print(tokens[0][2])"
   ]
  },
  {
   "cell_type": "markdown",
   "metadata": {},
   "source": [
    "### Word tokenizer"
   ]
  },
  {
   "cell_type": "code",
   "execution_count": 16,
   "metadata": {},
   "outputs": [],
   "source": [
    "from nltk.tokenize import word_tokenize"
   ]
  },
  {
   "cell_type": "code",
   "execution_count": 23,
   "metadata": {},
   "outputs": [
    {
     "name": "stdout",
     "output_type": "stream",
     "text": [
      "['Sub-module', 'available', 'for', 'the', 'above', 'is', 'sent_tokenize', '.', 'An', 'obvious', 'question', 'in', 'your', 'mind', 'would', 'be', 'why', 'sentence', 'tokenization', 'is', 'needed', 'when', 'we', 'have', 'the', 'option', 'of', 'word', 'tokenization', '.', 'Imagine', 'you', 'need', 'to', 'count', 'average', 'words', 'per', 'sentence', ',', 'how', 'you', 'will', 'calculate', '?', 'For', 'accomplishing', 'such', 'a', 'task', ',', 'you', 'need', 'both', 'sentence', 'tokenization', 'as', 'well', 'as', 'words', 'to', 'calculate', 'the', 'ratio', '.', 'Such', 'output', 'serves', 'as', 'an', 'important', 'feature', 'for', 'machine', 'training', 'as', 'the', 'answer', 'would', 'be', 'numeric', '.']\n"
     ]
    }
   ],
   "source": [
    "word_tk = word_tokenize(text)\n",
    "print(word_tk)"
   ]
  },
  {
   "cell_type": "code",
   "execution_count": 24,
   "metadata": {},
   "outputs": [
    {
     "name": "stdout",
     "output_type": "stream",
     "text": [
      "Count of words: 82\n"
     ]
    }
   ],
   "source": [
    "print(\"Count of words:\", len(word_tk))"
   ]
  },
  {
   "cell_type": "markdown",
   "metadata": {},
   "source": [
    "### Removing stop words"
   ]
  },
  {
   "cell_type": "code",
   "execution_count": 19,
   "metadata": {},
   "outputs": [
    {
     "name": "stderr",
     "output_type": "stream",
     "text": [
      "[nltk_data] Downloading package stopwords to\n",
      "[nltk_data]     C:\\Users\\Mayank\\AppData\\Roaming\\nltk_data...\n",
      "[nltk_data]   Unzipping corpora\\stopwords.zip.\n"
     ]
    },
    {
     "data": {
      "text/plain": [
       "True"
      ]
     },
     "execution_count": 19,
     "metadata": {},
     "output_type": "execute_result"
    }
   ],
   "source": [
    "nltk.download('stopwords')"
   ]
  },
  {
   "cell_type": "code",
   "execution_count": 25,
   "metadata": {},
   "outputs": [
    {
     "name": "stdout",
     "output_type": "stream",
     "text": [
      "Stopwords in English language: \n",
      "{'its', \"that'll\", 'each', 'against', 'yourself', \"you're\", 'being', 'their', 'haven', 'her', 'had', 'too', 'you', 'do', 'whom', 'during', 've', 'if', 'most', 'such', 'd', 'were', 'aren', 'don', 'i', \"wasn't\", 'so', 'no', 'is', \"shan't\", 'ain', 'under', 'be', 'me', 'these', 't', \"hadn't\", 'our', \"isn't\", \"you'd\", 'as', 'yours', 'further', 'both', \"don't\", 'very', 'about', 'than', 'why', 'by', 'doing', 'them', 'she', 'who', 'been', \"didn't\", 'because', \"needn't\", 'wasn', 'how', 'with', 'ourselves', 'doesn', 'they', 'where', 'weren', 'y', 'more', 'between', \"doesn't\", 'once', \"mightn't\", 'am', 'your', 'hasn', 'themselves', \"should've\", 'didn', \"weren't\", 'herself', 'did', \"it's\", 'he', 'an', 'there', 'yourselves', 'out', 'into', 'hadn', 'has', 'to', 'until', 'himself', 'll', 'but', 'below', 'own', 'needn', 'having', 'couldn', 'of', 's', 'was', \"mustn't\", \"hasn't\", 'ma', \"she's\", 'in', 'mustn', 'isn', 'theirs', 'have', 'not', 'at', 'or', 'while', 'are', 'from', \"aren't\", 'him', 'all', 'any', 'wouldn', 'hers', 'on', 'up', \"couldn't\", \"shouldn't\", 'down', 'we', 'some', 'through', 'for', 'his', 'will', 'before', 'after', 'does', 'again', \"won't\", \"you'll\", 'itself', 'off', 're', \"wouldn't\", 'then', 'which', 'nor', \"you've\", 'ours', 'same', 'can', 'what', 'myself', 'that', 'my', 'it', 'mightn', 'other', 'here', 'just', 'this', 'over', 'shan', 'when', 'o', 'the', 'and', 'shouldn', 'those', 'a', 'won', 'few', 'now', \"haven't\", 'm', 'only', 'above', 'should'}\n"
     ]
    }
   ],
   "source": [
    "from nltk.corpus import stopwords\n",
    "sw = set(stopwords.words('english'))\n",
    "\n",
    "print(\"Stopwords in English language: \")\n",
    "print(sw)"
   ]
  },
  {
   "cell_type": "code",
   "execution_count": 28,
   "metadata": {},
   "outputs": [
    {
     "name": "stdout",
     "output_type": "stream",
     "text": [
      "Words before removing the stopwords:\n",
      "['Sub-module', 'available', 'for', 'the', 'above', 'is', 'sent_tokenize', '.', 'An', 'obvious', 'question', 'in', 'your', 'mind', 'would', 'be', 'why', 'sentence', 'tokenization', 'is', 'needed', 'when', 'we', 'have', 'the', 'option', 'of', 'word', 'tokenization', '.', 'Imagine', 'you', 'need', 'to', 'count', 'average', 'words', 'per', 'sentence', ',', 'how', 'you', 'will', 'calculate', '?', 'For', 'accomplishing', 'such', 'a', 'task', ',', 'you', 'need', 'both', 'sentence', 'tokenization', 'as', 'well', 'as', 'words', 'to', 'calculate', 'the', 'ratio', '.', 'Such', 'output', 'serves', 'as', 'an', 'important', 'feature', 'for', 'machine', 'training', 'as', 'the', 'answer', 'would', 'be', 'numeric', '.']\n",
      "\n",
      "Filtered words after removing the stopwords:\n",
      "['Sub-module', 'available', 'sent_tokenize', '.', 'An', 'obvious', 'question', 'mind', 'would', 'sentence', 'tokenization', 'needed', 'option', 'word', 'tokenization', '.', 'Imagine', 'need', 'count', 'average', 'words', 'per', 'sentence', ',', 'calculate', '?', 'For', 'accomplishing', 'task', ',', 'need', 'sentence', 'tokenization', 'well', 'words', 'calculate', 'ratio', '.', 'Such', 'output', 'serves', 'important', 'feature', 'machine', 'training', 'answer', 'would', 'numeric', '.']\n"
     ]
    }
   ],
   "source": [
    "filtered_words = [w for w in word_tk if w not in sw]\n",
    "print(\"Words before removing the stopwords:\")\n",
    "print(word_tk)\n",
    "print()\n",
    "print(\"Filtered words after removing the stopwords:\")\n",
    "print(filtered_words)"
   ]
  },
  {
   "cell_type": "markdown",
   "metadata": {},
   "source": [
    "### Stemming"
   ]
  },
  {
   "cell_type": "code",
   "execution_count": 32,
   "metadata": {},
   "outputs": [],
   "source": [
    "from nltk.stem import PorterStemmer\n",
    "from nltk.tokenize import sent_tokenize, word_tokenize\n",
    "\n",
    "port_stem = PorterStemmer()"
   ]
  },
  {
   "cell_type": "code",
   "execution_count": 35,
   "metadata": {},
   "outputs": [
    {
     "name": "stdout",
     "output_type": "stream",
     "text": [
      "Filtered_words:\n",
      "['Sub-module', 'available', 'sent_tokenize', '.', 'An', 'obvious', 'question', 'mind', 'would', 'sentence', 'tokenization', 'needed', 'option', 'word', 'tokenization', '.', 'Imagine', 'need', 'count', 'average', 'words', 'per', 'sentence', ',', 'calculate', '?', 'For', 'accomplishing', 'task', ',', 'need', 'sentence', 'tokenization', 'well', 'words', 'calculate', 'ratio', '.', 'Such', 'output', 'serves', 'important', 'feature', 'machine', 'training', 'answer', 'would', 'numeric', '.']\n",
      "\n",
      "Stemmed_words:\n",
      "['sub-modul', 'avail', 'sent_token', '.', 'An', 'obviou', 'question', 'mind', 'would', 'sentenc', 'token', 'need', 'option', 'word', 'token', '.', 'imagin', 'need', 'count', 'averag', 'word', 'per', 'sentenc', ',', 'calcul', '?', 'for', 'accomplish', 'task', ',', 'need', 'sentenc', 'token', 'well', 'word', 'calcul', 'ratio', '.', 'such', 'output', 'serv', 'import', 'featur', 'machin', 'train', 'answer', 'would', 'numer', '.']\n"
     ]
    }
   ],
   "source": [
    "stemmed_words = []\n",
    "\n",
    "for w in filtered_words:\n",
    "    stemmed_words.append(port_stem.stem(w))\n",
    "\n",
    "print(\"Filtered_words:\", filtered_words, sep=\"\\n\", end=\"\\n\")\n",
    "print()\n",
    "print(\"Stemmed_words:\", stemmed_words, sep=\"\\n\")"
   ]
  },
  {
   "cell_type": "code",
   "execution_count": null,
   "metadata": {},
   "outputs": [],
   "source": []
  },
  {
   "cell_type": "markdown",
   "metadata": {},
   "source": [
    "### Lemmatization"
   ]
  },
  {
   "cell_type": "code",
   "execution_count": 36,
   "metadata": {},
   "outputs": [
    {
     "name": "stderr",
     "output_type": "stream",
     "text": [
      "[nltk_data] Downloading package wordnet to\n",
      "[nltk_data]     C:\\Users\\Mayank\\AppData\\Roaming\\nltk_data...\n",
      "[nltk_data]   Unzipping corpora\\wordnet.zip.\n"
     ]
    },
    {
     "data": {
      "text/plain": [
       "True"
      ]
     },
     "execution_count": 36,
     "metadata": {},
     "output_type": "execute_result"
    }
   ],
   "source": [
    "nltk.download('wordnet')"
   ]
  },
  {
   "cell_type": "code",
   "execution_count": 37,
   "metadata": {},
   "outputs": [
    {
     "name": "stdout",
     "output_type": "stream",
     "text": [
      "['Sub-module', 'available', 'sent_tokenize', '.', 'An', 'obvious', 'question', 'mind', 'would', 'sentence', 'tokenization', 'needed', 'option', 'word', 'tokenization', '.', 'Imagine', 'need', 'count', 'average', 'word', 'per', 'sentence', ',', 'calculate', '?', 'For', 'accomplishing', 'task', ',', 'need', 'sentence', 'tokenization', 'well', 'word', 'calculate', 'ratio', '.', 'Such', 'output', 'serf', 'important', 'feature', 'machine', 'training', 'answer', 'would', 'numeric', '.']\n"
     ]
    }
   ],
   "source": [
    "from nltk.stem.wordnet import WordNetLemmatizer\n",
    "\n",
    "lemm = WordNetLemmatizer()\n",
    "\n",
    "from nltk.stem.porter import PorterStemmer\n",
    "stem = PorterStemmer()\n",
    "\n",
    "lemm_words = []\n",
    "\n",
    "for i in range(len(filtered_words)):\n",
    "    lemm_words.append(lemm.lemmatize(filtered_words[i]))\n",
    "\n",
    "\n",
    "print(lemm_words)"
   ]
  },
  {
   "cell_type": "code",
   "execution_count": 40,
   "metadata": {},
   "outputs": [
    {
     "name": "stdout",
     "output_type": "stream",
     "text": [
      "Filtered_words:\n",
      "['Sub-module', 'available', 'sent_tokenize', '.', 'An', 'obvious', 'question', 'mind', 'would', 'sentence', 'tokenization', 'needed', 'option', 'word', 'tokenization', '.', 'Imagine', 'need', 'count', 'average', 'words', 'per', 'sentence', ',', 'calculate', '?', 'For', 'accomplishing', 'task', ',', 'need', 'sentence', 'tokenization', 'well', 'words', 'calculate', 'ratio', '.', 'Such', 'output', 'serves', 'important', 'feature', 'machine', 'training', 'answer', 'would', 'numeric', '.']\n",
      "\n",
      "Stemmed_words:\n",
      "['sub-modul', 'avail', 'sent_token', '.', 'An', 'obviou', 'question', 'mind', 'would', 'sentenc', 'token', 'need', 'option', 'word', 'token', '.', 'imagin', 'need', 'count', 'averag', 'word', 'per', 'sentenc', ',', 'calcul', '?', 'for', 'accomplish', 'task', ',', 'need', 'sentenc', 'token', 'well', 'word', 'calcul', 'ratio', '.', 'such', 'output', 'serv', 'import', 'featur', 'machin', 'train', 'answer', 'would', 'numer', '.']\n",
      "\n",
      "Lemmatized words: \n",
      " ['Sub-module', 'available', 'sent_tokenize', '.', 'An', 'obvious', 'question', 'mind', 'would', 'sentence', 'tokenization', 'needed', 'option', 'word', 'tokenization', '.', 'Imagine', 'need', 'count', 'average', 'word', 'per', 'sentence', ',', 'calculate', '?', 'For', 'accomplishing', 'task', ',', 'need', 'sentence', 'tokenization', 'well', 'word', 'calculate', 'ratio', '.', 'Such', 'output', 'serf', 'important', 'feature', 'machine', 'training', 'answer', 'would', 'numeric', '.']\n"
     ]
    }
   ],
   "source": [
    "print(\"Filtered_words:\", filtered_words, sep=\"\\n\", end=\"\\n\")\n",
    "print()\n",
    "print(\"Stemmed_words:\", stemmed_words, sep=\"\\n\")\n",
    "print()\n",
    "print(\"Lemmatized words:\", \"\\n\", lemm_words)"
   ]
  },
  {
   "cell_type": "markdown",
   "metadata": {},
   "source": [
    "### Parts of speech tagging"
   ]
  },
  {
   "cell_type": "code",
   "execution_count": 41,
   "metadata": {},
   "outputs": [
    {
     "name": "stderr",
     "output_type": "stream",
     "text": [
      "[nltk_data] Downloading package averaged_perceptron_tagger to\n",
      "[nltk_data]     C:\\Users\\Mayank\\AppData\\Roaming\\nltk_data...\n",
      "[nltk_data]   Unzipping taggers\\averaged_perceptron_tagger.zip.\n"
     ]
    },
    {
     "data": {
      "text/plain": [
       "True"
      ]
     },
     "execution_count": 41,
     "metadata": {},
     "output_type": "execute_result"
    }
   ],
   "source": [
    "nltk.download('averaged_perceptron_tagger')"
   ]
  },
  {
   "cell_type": "code",
   "execution_count": 42,
   "metadata": {},
   "outputs": [
    {
     "name": "stdout",
     "output_type": "stream",
     "text": [
      "[('Sub-module', 'NN'), ('available', 'JJ'), ('for', 'IN'), ('the', 'DT'), ('above', 'NN'), ('is', 'VBZ'), ('sent_tokenize', 'VBN'), ('.', '.'), ('An', 'DT'), ('obvious', 'JJ'), ('question', 'NN'), ('in', 'IN'), ('your', 'PRP$'), ('mind', 'NN'), ('would', 'MD'), ('be', 'VB'), ('why', 'WRB'), ('sentence', 'NN'), ('tokenization', 'NN'), ('is', 'VBZ'), ('needed', 'VBN'), ('when', 'WRB'), ('we', 'PRP'), ('have', 'VBP'), ('the', 'DT'), ('option', 'NN'), ('of', 'IN'), ('word', 'NN'), ('tokenization', 'NN'), ('.', '.'), ('Imagine', 'NNP'), ('you', 'PRP'), ('need', 'VBP'), ('to', 'TO'), ('count', 'VB'), ('average', 'JJ'), ('words', 'NNS'), ('per', 'IN'), ('sentence', 'NN'), (',', ','), ('how', 'WRB'), ('you', 'PRP'), ('will', 'MD'), ('calculate', 'VB'), ('?', '.'), ('For', 'IN'), ('accomplishing', 'VBG'), ('such', 'PDT'), ('a', 'DT'), ('task', 'NN'), (',', ','), ('you', 'PRP'), ('need', 'VBP'), ('both', 'DT'), ('sentence', 'NN'), ('tokenization', 'NN'), ('as', 'RB'), ('well', 'RB'), ('as', 'IN'), ('words', 'NNS'), ('to', 'TO'), ('calculate', 'VB'), ('the', 'DT'), ('ratio', 'NN'), ('.', '.'), ('Such', 'JJ'), ('output', 'NN'), ('serves', 'NNS'), ('as', 'IN'), ('an', 'DT'), ('important', 'JJ'), ('feature', 'NN'), ('for', 'IN'), ('machine', 'NN'), ('training', 'NN'), ('as', 'IN'), ('the', 'DT'), ('answer', 'NN'), ('would', 'MD'), ('be', 'VB'), ('numeric', 'JJ'), ('.', '.')]\n"
     ]
    }
   ],
   "source": [
    "from nltk import pos_tag\n",
    "pos_tagged_words = pos_tag(word_tk)\n",
    "\n",
    "print(pos_tagged_words)"
   ]
  },
  {
   "cell_type": "code",
   "execution_count": null,
   "metadata": {},
   "outputs": [],
   "source": []
  },
  {
   "cell_type": "markdown",
   "metadata": {},
   "source": [
    "### Frequency Distribution plots"
   ]
  },
  {
   "cell_type": "code",
   "execution_count": 46,
   "metadata": {},
   "outputs": [
    {
     "name": "stdout",
     "output_type": "stream",
     "text": [
      "82\n",
      "<FreqDist with 58 samples and 82 outcomes>\n"
     ]
    }
   ],
   "source": [
    "from nltk.probability import FreqDist\n",
    "\n",
    "fd = FreqDist(word_tk)\n",
    "print(len(word_tk))\n",
    "\n",
    "print(fd)"
   ]
  },
  {
   "cell_type": "code",
   "execution_count": 48,
   "metadata": {},
   "outputs": [
    {
     "data": {
      "image/png": "[encoded data removed]",
      "text/plain": [
       "<Figure size 432x288 with 1 Axes>"
      ]
     },
     "metadata": {
      "needs_background": "light"
     },
     "output_type": "display_data"
    }
   ],
   "source": [
    "import matplotlib.pyplot as plt\n",
    "fd.plot(25, cumulative = False)\n",
    "plt.show()"
   ]
  },
  {
   "cell_type": "code",
   "execution_count": 51,
   "metadata": {},
   "outputs": [
    {
     "name": "stdout",
     "output_type": "stream",
     "text": [
      "<FreqDist with 34 samples and 458 outcomes>\n",
      "458\n"
     ]
    }
   ],
   "source": [
    "fd_alpha = FreqDist(text)\n",
    "print(fd_alpha)\n",
    "print(len(text))"
   ]
  },
  {
   "cell_type": "code",
   "execution_count": 50,
   "metadata": {},
   "outputs": [
    {
     "data": {
      "image/png": "[encoded data removed]",
      "text/plain": [
       "<Figure size 432x288 with 1 Axes>"
      ]
     },
     "metadata": {
      "needs_background": "light"
     },
     "output_type": "display_data"
    },
    {
     "data": {
      "text/plain": [
       "<AxesSubplot:xlabel='Samples', ylabel='Counts'>"
      ]
     },
     "execution_count": 50,
     "metadata": {},
     "output_type": "execute_result"
    }
   ],
   "source": [
    "fd_alpha.plot(34, cumulative = False)"
   ]
  },
  {
   "cell_type": "code",
   "execution_count": null,
   "metadata": {},
   "outputs": [],
   "source": []
  }
 ],
 "metadata": {
  "kernelspec": {
   "display_name": "Python 3",
   "language": "python",
   "name": "python3"
  },
  "language_info": {
   "codemirror_mode": {
    "name": "ipython",
    "version": 3
   },
   "file_extension": ".py",
   "mimetype": "text/x-python",
   "name": "python",
   "nbconvert_exporter": "python",
   "pygments_lexer": "ipython3",
   "version": "3.8.5"
  }
 },
 "nbformat": 4,
 "nbformat_minor": 4
}
