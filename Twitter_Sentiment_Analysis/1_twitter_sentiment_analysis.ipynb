{
 "cells": [
  {
   "cell_type": "markdown",
   "metadata": {},
   "source": [
    "# Twitter Sentiment Analysis\n",
    "###### Calculating Subjectivity and Polarity Score of a Twitter Account"
   ]
  },
  {
   "cell_type": "markdown",
   "metadata": {},
   "source": [
    "#### Sentiment analysis is one of the most common tasks in Data Science and AI. \n",
    "  \n",
    "#### We use Python, Tweepy and TextBlob to perform sentiment analysis of a selected Twitter account using Twitter API and Natural Language Processing."
   ]
  },
  {
   "cell_type": "markdown",
   "metadata": {},
   "source": [
    "## Learnings"
   ]
  },
  {
   "cell_type": "markdown",
   "metadata": {},
   "source": [
    "- How to perform basic sentiment analysis using **TextBlob** (powerful Natural Language Processing library for Python) \n",
    "- Use the **WordCloud** library to visualise the findings\n",
    "- Working with the **Twitter API** (Familiarizing with APIs is a useful skill, it's a very common method of getting hold of the data from the internet)"
   ]
  },
  {
   "cell_type": "markdown",
   "metadata": {},
   "source": [
    "## Problem definition"
   ]
  },
  {
   "cell_type": "markdown",
   "metadata": {},
   "source": [
    "Task is to analyse the Tweets of an individual Twitter account in terms of **Subjectivity** and **Polarity**. \n",
    "We will identify individual tweets as **positive, negative and neutral** and calculate the percentage of positive tweets. \n",
    "We will use the WordCloud library to display a word cloud of the most positive words from the tweets."
   ]
  },
  {
   "cell_type": "markdown",
   "metadata": {},
   "source": [
    "## Get Twitter Application Keys"
   ]
  },
  {
   "cell_type": "markdown",
   "metadata": {},
   "source": [
    "- Create a **Twitter account**\n",
    "- Go to **developer.twitter.com**\n",
    "- Apply for developer access by going to - developer.twitter.com/en/apply-for-access and click **Apply for developer account**. Answer a few questions to get started.\n",
    "- Confirm your email address by clicking on the link that Twitter will send. After confirming your email address, access to Twitter Developer Account should be granted almost immediately.\n",
    "- Once your access is granted go to the url - https://developer.twitter.com/en/apps and **Create an app**.\n",
    "- Provide a unique name to your app\n",
    "- Go to settings tab and get the 4 values -\n",
    "- - **API key**\n",
    "- - **API secret key** \n",
    "- - **Access token**\n",
    "- - **Access token secret**\n",
    "- We need all four values for Twitter Sentiment Analysis"
   ]
  },
  {
   "cell_type": "markdown",
   "metadata": {},
   "source": [
    "## Import libraries"
   ]
  },
  {
   "cell_type": "code",
   "execution_count": 2,
   "metadata": {},
   "outputs": [],
   "source": [
    "# Numpy - performing mathematical functions on multi-dimensional arrays\n",
    "import numpy as np\n",
    "\n",
    "# Pandas - Data manipulation and analysis library (working with tabular data)\n",
    "import pandas as pd\n",
    "\n",
    "# Matplotlib - Python library for plotting graphs and visualisations\n",
    "import matplotlib.pyplot as plt\n"
   ]
  },
  {
   "cell_type": "code",
   "execution_count": 14,
   "metadata": {},
   "outputs": [],
   "source": [
    "# Regular expression Python module\n",
    "import re\n",
    "\n",
    "# Tweepy - Python library for accessing the Twitter API\n",
    "import tweepy\n",
    "\n",
    "# TextBlob - NLP library for preprocessing of textual data\n",
    "from textblob import TextBlob\n",
    "\n",
    "# WordCloud - Python library for creating image clouds of frequently used words\n",
    "from wordcloud import WordCloud"
   ]
  },
  {
   "cell_type": "markdown",
   "metadata": {},
   "source": [
    "### Load the API keys and access tokens"
   ]
  },
  {
   "cell_type": "code",
   "execution_count": 4,
   "metadata": {},
   "outputs": [],
   "source": [
    "config = pd.read_csv('./keys.csv')\n",
    "print(type(config))"
   ]
  },
  {
   "cell_type": "code",
   "execution_count": 6,
   "metadata": {},
   "outputs": [
    {
     "data": {
      "text/html": [
       "<div>\n",
       "<style scoped>\n",
       "    .dataframe tbody tr th:only-of-type {\n",
       "        vertical-align: middle;\n",
       "    }\n",
       "\n",
       "    .dataframe tbody tr th {\n",
       "        vertical-align: top;\n",
       "    }\n",
       "\n",
       "    .dataframe thead th {\n",
       "        text-align: right;\n",
       "    }\n",
       "</style>\n",
       "<table border=\"1\" class=\"dataframe\">\n",
       "  <thead>\n",
       "    <tr style=\"text-align: right;\">\n",
       "      <th></th>\n",
       "      <th>twitterApiKey</th>\n",
       "      <th>twitterApiSecret</th>\n",
       "      <th>twitterApiAccessToken</th>\n",
       "      <th>twitterApiAccessTokenSecret</th>\n",
       "    </tr>\n",
       "  </thead>\n",
       "  <tbody>\n",
       "    <tr>\n",
       "      <th>0</th>\n",
       "      <td>taO8URia9jrMTD4sJvgctRuxR</td>\n",
       "      <td>TA1BJ1SylrtPp8MSlNrvSctLj0zbiCmTJ49XMWFMhvRk4I...</td>\n",
       "      <td>1358085162093793280-WIXTcJJ8biYTfMvX8ZGHY8l43k...</td>\n",
       "      <td>4OHpjVJzRDCXxx4REJrxmn8E532dsRSjCq2JgXcvy5Z6n</td>\n",
       "    </tr>\n",
       "  </tbody>\n",
       "</table>\n",
       "</div>"
      ],
      "text/plain": [
       "               twitterApiKey  \\\n",
       "0  taO8URia9jrMTD4sJvgctRuxR   \n",
       "\n",
       "                                    twitterApiSecret  \\\n",
       "0  TA1BJ1SylrtPp8MSlNrvSctLj0zbiCmTJ49XMWFMhvRk4I...   \n",
       "\n",
       "                               twitterApiAccessToken  \\\n",
       "0  1358085162093793280-WIXTcJJ8biYTfMvX8ZGHY8l43k...   \n",
       "\n",
       "                     twitterApiAccessTokenSecret  \n",
       "0  4OHpjVJzRDCXxx4REJrxmn8E532dsRSjCq2JgXcvy5Z6n  "
      ]
     },
     "execution_count": 6,
     "metadata": {},
     "output_type": "execute_result"
    }
   ],
   "source": [
    "config.head()"
   ]
  },
  {
   "cell_type": "code",
   "execution_count": 11,
   "metadata": {
    "collapsed": true
   },
   "outputs": [
    {
     "name": "stdout",
     "output_type": "stream",
     "text": [
      "0    taO8URia9jrMTD4sJvgctRuxR\n",
      "Name: twitterApiKey, dtype: object\n",
      "<class 'pandas.core.series.Series'>\n",
      "taO8URia9jrMTD4sJvgctRuxR\n"
     ]
    }
   ],
   "source": [
    "print(config['twitterApiKey'])\n",
    "print(type(config['twitterApiKey']))\n",
    "print(config['twitterApiKey'][0])\n",
    "# print(config['twitterApiKey'][1])  # Error - ValueError: 1 is not in range"
   ]
  },
  {
   "cell_type": "markdown",
   "metadata": {},
   "source": [
    "Set all Twitter API config variables required for authentication with Tweepy."
   ]
  },
  {
   "cell_type": "code",
   "execution_count": 12,
   "metadata": {},
   "outputs": [],
   "source": [
    "twitterApiKey = config['twitterApiKey'][0]\n",
    "twitterApiSecret = config['twitterApiSecret'][0]\n",
    "twitterApiAccessToken = config['twitterApiAccessToken'][0]\n",
    "twitterApiAccessTokenSecret = config['twitterApiAccessTokenSecret'][0]"
   ]
  },
  {
   "cell_type": "markdown",
   "metadata": {},
   "source": [
    "We are making an authentication call with Tweepy so we can call a function to retrieve the latest tweets from the specified account."
   ]
  },
  {
   "cell_type": "code",
   "execution_count": 16,
   "metadata": {},
   "outputs": [],
   "source": [
    "auth = tweepy.OAuthHandler(twitterApiKey, twitterApiSecret)"
   ]
  },
  {
   "cell_type": "code",
   "execution_count": 17,
   "metadata": {},
   "outputs": [],
   "source": [
    "auth.set_access_token(twitterApiAccessToken, twitterApiAccessTokenSecret)"
   ]
  },
  {
   "cell_type": "code",
   "execution_count": 18,
   "metadata": {},
   "outputs": [],
   "source": [
    "twiterApi = tweepy.API(auth, wait_on_rate_limit=True)"
   ]
  },
  {
   "cell_type": "code",
   "execution_count": 19,
   "metadata": {},
   "outputs": [],
   "source": [
    "twitterAccount = 'elonmusk'"
   ]
  },
  {
   "cell_type": "code",
   "execution_count": 23,
   "metadata": {},
   "outputs": [],
   "source": [
    "tweets = tweepy.Cursor(twiterApi.user_timeline, \n",
    "                        screen_name=twitterAccount, \n",
    "                        count=None,\n",
    "                        since_id=None,\n",
    "                        max_id=None,\n",
    "                        trim_user=True,\n",
    "                        exclude_replies=True,\n",
    "                        contributor_details=False,\n",
    "                        include_entities=False\n",
    "                        ).items(50);"
   ]
  },
  {
   "cell_type": "code",
   "execution_count": 24,
   "metadata": {},
   "outputs": [],
   "source": [
    "df = pd.DataFrame(data=[tweet.text for tweet in tweets], columns=['Tweet'])"
   ]
  },
  {
   "cell_type": "code",
   "execution_count": 25,
   "metadata": {},
   "outputs": [
    {
     "data": {
      "text/html": [
       "<div>\n",
       "<style scoped>\n",
       "    .dataframe tbody tr th:only-of-type {\n",
       "        vertical-align: middle;\n",
       "    }\n",
       "\n",
       "    .dataframe tbody tr th {\n",
       "        vertical-align: top;\n",
       "    }\n",
       "\n",
       "    .dataframe thead th {\n",
       "        text-align: right;\n",
       "    }\n",
       "</style>\n",
       "<table border=\"1\" class=\"dataframe\">\n",
       "  <thead>\n",
       "    <tr style=\"text-align: right;\">\n",
       "      <th></th>\n",
       "      <th>Tweet</th>\n",
       "    </tr>\n",
       "  </thead>\n",
       "  <tbody>\n",
       "    <tr>\n",
       "      <th>0</th>\n",
       "      <td>Frodo was the underdoge,\\nAll thought he would...</td>\n",
       "    </tr>\n",
       "    <tr>\n",
       "      <th>1</th>\n",
       "      <td>Just agree to do Clubhouse with @kanyewest</td>\n",
       "    </tr>\n",
       "    <tr>\n",
       "      <th>2</th>\n",
       "      <td>Bought some Dogecoin for lil X, so he can be a...</td>\n",
       "    </tr>\n",
       "    <tr>\n",
       "      <th>3</th>\n",
       "      <td>This is true power haha https://t.co/Fc9uhQSd7O</td>\n",
       "    </tr>\n",
       "    <tr>\n",
       "      <th>4</th>\n",
       "      <td>RT @SpaceX: NASA has selected Falcon Heavy to ...</td>\n",
       "    </tr>\n",
       "  </tbody>\n",
       "</table>\n",
       "</div>"
      ],
      "text/plain": [
       "                                               Tweet\n",
       "0  Frodo was the underdoge,\\nAll thought he would...\n",
       "1         Just agree to do Clubhouse with @kanyewest\n",
       "2  Bought some Dogecoin for lil X, so he can be a...\n",
       "3    This is true power haha https://t.co/Fc9uhQSd7O\n",
       "4  RT @SpaceX: NASA has selected Falcon Heavy to ..."
      ]
     },
     "execution_count": 25,
     "metadata": {},
     "output_type": "execute_result"
    }
   ],
   "source": [
    "df.head()"
   ]
  },
  {
   "cell_type": "code",
   "execution_count": 26,
   "metadata": {},
   "outputs": [
    {
     "data": {
      "text/plain": [
       "pandas.core.series.Series"
      ]
     },
     "execution_count": 26,
     "metadata": {},
     "output_type": "execute_result"
    }
   ],
   "source": [
    "type(df['Tweet'])"
   ]
  },
  {
   "cell_type": "code",
   "execution_count": 27,
   "metadata": {},
   "outputs": [
    {
     "data": {
      "text/plain": [
       "'Frodo was the underdoge,\\nAll thought he would fail,\\nHimself most of all. https://t.co/zGxJFDzzrM'"
      ]
     },
     "execution_count": 27,
     "metadata": {},
     "output_type": "execute_result"
    }
   ],
   "source": [
    "df['Tweet'][0]"
   ]
  },
  {
   "cell_type": "code",
   "execution_count": 29,
   "metadata": {},
   "outputs": [],
   "source": [
    "tweets_li = []\n",
    "for i in range(10):\n",
    "    tweets_li.append(df['Tweet'][i])"
   ]
  },
  {
   "cell_type": "code",
   "execution_count": 30,
   "metadata": {},
   "outputs": [
    {
     "data": {
      "text/plain": [
       "['Frodo was the underdoge,\\nAll thought he would fail,\\nHimself most of all. https://t.co/zGxJFDzzrM',\n",
       " 'Just agree to do Clubhouse with @kanyewest',\n",
       " 'Bought some Dogecoin for lil X, so he can be a toddler hodler',\n",
       " 'This is true power haha https://t.co/Fc9uhQSd7O',\n",
       " 'RT @SpaceX: NASA has selected Falcon Heavy to launch the first two elements of the lunar Gateway together on one mission! https://t.co/3pWt…',\n",
       " 'XPrize team will manage the $100M carbon capture prize https://t.co/fSw5IanL0r',\n",
       " 'Back to work I go …',\n",
       " 'Ð is for Ðogecoin! Instructional video.\\nhttps://t.co/UEEocOfcTb',\n",
       " 'The people have spoken … https://t.co/x41oVMzTGo',\n",
       " '🎶 Who let the Doge out 🎶']"
      ]
     },
     "execution_count": 30,
     "metadata": {},
     "output_type": "execute_result"
    }
   ],
   "source": [
    "tweets_li"
   ]
  },
  {
   "cell_type": "markdown",
   "metadata": {},
   "source": [
    "Before doing sentiment analysis, we clean up each tweets from unnecessary data first.\n",
    "\n",
    "We are going to create a cleanTweets function that will:\n",
    "- remove mentions\n",
    "- remove hashtags\n",
    "- remove retweets\n",
    "- remove urls"
   ]
  },
  {
   "cell_type": "code",
   "execution_count": 31,
   "metadata": {},
   "outputs": [],
   "source": [
    "re.sub?"
   ]
  },
  {
   "cell_type": "code",
   "execution_count": null,
   "metadata": {},
   "outputs": [],
   "source": []
  },
  {
   "cell_type": "code",
   "execution_count": null,
   "metadata": {},
   "outputs": [],
   "source": []
  },
  {
   "cell_type": "code",
   "execution_count": null,
   "metadata": {},
   "outputs": [],
   "source": []
  },
  {
   "cell_type": "code",
   "execution_count": null,
   "metadata": {},
   "outputs": [],
   "source": []
  },
  {
   "cell_type": "code",
   "execution_count": null,
   "metadata": {},
   "outputs": [],
   "source": []
  },
  {
   "cell_type": "code",
   "execution_count": null,
   "metadata": {},
   "outputs": [],
   "source": []
  }
 ],
 "metadata": {
  "kernelspec": {
   "display_name": "Python 3",
   "language": "python",
   "name": "python3"
  },
  "language_info": {
   "codemirror_mode": {
    "name": "ipython",
    "version": 3
   },
   "file_extension": ".py",
   "mimetype": "text/x-python",
   "name": "python",
   "nbconvert_exporter": "python",
   "pygments_lexer": "ipython3",
   "version": "3.8.5"
  }
 },
 "nbformat": 4,
 "nbformat_minor": 4
}
