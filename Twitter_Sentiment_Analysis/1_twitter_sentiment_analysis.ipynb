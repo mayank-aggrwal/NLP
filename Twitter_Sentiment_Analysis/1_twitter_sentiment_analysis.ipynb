{
 "cells": [
  {
   "cell_type": "markdown",
   "metadata": {},
   "source": [
    "# Twitter Sentiment Analysis\n",
    "###### Calculating Subjectivity and Polarity Score of a Twitter Account"
   ]
  },
  {
   "cell_type": "markdown",
   "metadata": {},
   "source": [
    "#### Sentiment analysis is one of the most common tasks in Data Science and AI. \n",
    "  \n",
    "#### We use Python, Tweepy and TextBlob to perform sentiment analysis of a selected Twitter account using Twitter API and Natural Language Processing."
   ]
  },
  {
   "cell_type": "markdown",
   "metadata": {},
   "source": [
    "## Learnings"
   ]
  },
  {
   "cell_type": "markdown",
   "metadata": {},
   "source": [
    "- How to perform basic sentiment analysis using **TextBlob** (powerful Natural Language Processing library for Python) \n",
    "- Use the **WordCloud** library to visualise the findings\n",
    "- Working with the **Twitter API** (Familiarizing with APIs is a useful skill, it's a very common method of getting hold of the data from the internet)"
   ]
  },
  {
   "cell_type": "markdown",
   "metadata": {},
   "source": [
    "## Problem definition"
   ]
  },
  {
   "cell_type": "markdown",
   "metadata": {},
   "source": [
    "Task is to analyse the Tweets of an individual Twitter account in terms of **Subjectivity** and **Polarity**. \n",
    "We will identify individual tweets as **positive, negative and neutral** and calculate the percentage of positive tweets. \n",
    "We will use the WordCloud library to display a word cloud of the most positive words from the tweets."
   ]
  },
  {
   "cell_type": "markdown",
   "metadata": {},
   "source": [
    "## Get Twitter Application Keys"
   ]
  },
  {
   "cell_type": "markdown",
   "metadata": {},
   "source": [
    "- Create a **Twitter account**\n",
    "- Go to **developer.twitter.com**\n",
    "- Apply for developer access by going to - developer.twitter.com/en/apply-for-access and click **Apply for developer account**. Answer a few questions to get started.\n",
    "- Confirm your email address by clicking on the link that Twitter will send. After confirming your email address, access to Twitter Developer Account should be granted almost immediately.\n",
    "- Once your access is granted go to the url - https://developer.twitter.com/en/apps and **Create an app**.\n",
    "- Provide a unique name to your app\n",
    "- Go to settings tab and get the 4 values -\n",
    "- - **API key**\n",
    "- - **API secret key** \n",
    "- - **Access token**\n",
    "- - **Access token secret**\n",
    "- We need all four values for Twitter Sentiment Analysis"
   ]
  },
  {
   "cell_type": "code",
   "execution_count": null,
   "metadata": {},
   "outputs": [],
   "source": []
  },
  {
   "cell_type": "code",
   "execution_count": null,
   "metadata": {},
   "outputs": [],
   "source": []
  },
  {
   "cell_type": "code",
   "execution_count": 1,
   "metadata": {},
   "outputs": [],
   "source": [
    "import numpy as np\n",
    "import pandas as pd"
   ]
  },
  {
   "cell_type": "code",
   "execution_count": null,
   "metadata": {},
   "outputs": [],
   "source": []
  }
 ],
 "metadata": {
  "kernelspec": {
   "display_name": "Python 3",
   "language": "python",
   "name": "python3"
  },
  "language_info": {
   "codemirror_mode": {
    "name": "ipython",
    "version": 3
   },
   "file_extension": ".py",
   "mimetype": "text/x-python",
   "name": "python",
   "nbconvert_exporter": "python",
   "pygments_lexer": "ipython3",
   "version": "3.8.5"
  }
 },
 "nbformat": 4,
 "nbformat_minor": 4
}
