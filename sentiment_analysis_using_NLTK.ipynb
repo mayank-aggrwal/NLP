{
 "cells": [
  {
   "cell_type": "markdown",
   "metadata": {},
   "source": [
    "# Sentiment Analysis: Python's NLTK Library"
   ]
  },
  {
   "cell_type": "markdown",
   "metadata": {},
   "source": [
    "---"
   ]
  },
  {
   "cell_type": "markdown",
   "metadata": {},
   "source": [
    "- Getting Started With NLTK\n",
    "    - Installing and Importing\n",
    "    - Compiling Data\n",
    "    - Creating Frequency Distributions\n",
    "    - Extracting Concordance and Collocations\n",
    "  \n",
    "  \n",
    "- Using NLTK’s Pre-Trained Sentiment Analyzer\n",
    "  \n",
    "  \n",
    "- Customizing NLTK’s Sentiment Analysis\n",
    "    - Selecting Useful Features\n",
    "    - Training and Using a Classifier\n",
    "  \n",
    "  \n",
    "- Comparing Additional Classifiers\n",
    "    - Installing and Importing scikit-learn\n",
    "    - Using scikit-learn Classifiers With NLTK\n",
    "  \n",
    "  \n",
    "- Conclusion"
   ]
  },
  {
   "cell_type": "markdown",
   "metadata": {},
   "source": [
    "---"
   ]
  },
  {
   "cell_type": "markdown",
   "metadata": {},
   "source": [
    "### 1. Getting Started With NLTK"
   ]
  },
  {
   "cell_type": "markdown",
   "metadata": {},
   "source": [
    "The NLTK library contains various utilities that allow you to effectively manipulate and analyze linguistic data. Among its advanced features are text classifiers that you can use for many kinds of classification, including sentiment analysis."
   ]
  },
  {
   "cell_type": "markdown",
   "metadata": {},
   "source": [
    "<b>Sentiment analysis</b> is the practice of using algorithms to classify various samples of related text into overall positive and negative categories. With NLTK, you can employ these algorithms through powerful built-in machine learning operations to obtain insights from linguistic data."
   ]
  },
  {
   "cell_type": "code",
   "execution_count": 1,
   "metadata": {},
   "outputs": [],
   "source": [
    "import nltk"
   ]
  },
  {
   "cell_type": "markdown",
   "metadata": {},
   "source": [
    "We installed and imported the library but still need to obtain a few additional resources. Some of them are text samples, and others are data models that certain NLTK functions require."
   ]
  },
  {
   "cell_type": "markdown",
   "metadata": {},
   "source": [
    "#### names: \n",
    "A list of common English names compiled by Mark Kantrowitz\n",
    "#### stopwords:\n",
    "A list of really common words, like articles, pronouns, prepositions, and conjunctions\n",
    "#### state_union:\n",
    "A sample of transcribed State of the Union addresses by different US presidents, compiled by Kathleen Ahrens\n",
    "#### twitter_samples: \n",
    "A list of social media phrases posted to Twitter\n",
    "#### movie_reviews: \n",
    "Two thousand movie reviews categorized by Bo Pang and Lillian Lee\n",
    "#### averaged_perceptron_tagger: \n",
    "A data model that NLTK uses to categorize words into their part of speech\n",
    "#### vader_lexicon: \n",
    "A scored list of words and jargon that NLTK references when performing sentiment analysis, created by C.J. Hutto and Eric Gilbert\n",
    "#### punkt:\n",
    "A data model created by Jan Strunk that NLTK uses to split full texts into word lists"
   ]
  },
  {
   "cell_type": "code",
   "execution_count": 2,
   "metadata": {
    "collapsed": true
   },
   "outputs": [
    {
     "name": "stderr",
     "output_type": "stream",
     "text": [
      "[nltk_data] Downloading package names to\n",
      "[nltk_data]     C:\\Users\\Mayank\\AppData\\Roaming\\nltk_data...\n",
      "[nltk_data]   Unzipping corpora\\names.zip.\n",
      "[nltk_data] Downloading package stopwords to\n",
      "[nltk_data]     C:\\Users\\Mayank\\AppData\\Roaming\\nltk_data...\n",
      "[nltk_data]   Package stopwords is already up-to-date!\n",
      "[nltk_data] Downloading package state_union to\n",
      "[nltk_data]     C:\\Users\\Mayank\\AppData\\Roaming\\nltk_data...\n",
      "[nltk_data]   Unzipping corpora\\state_union.zip.\n",
      "[nltk_data] Downloading package twitter_samples to\n",
      "[nltk_data]     C:\\Users\\Mayank\\AppData\\Roaming\\nltk_data...\n",
      "[nltk_data]   Unzipping corpora\\twitter_samples.zip.\n",
      "[nltk_data] Downloading package movie_reviews to\n",
      "[nltk_data]     C:\\Users\\Mayank\\AppData\\Roaming\\nltk_data...\n",
      "[nltk_data]   Unzipping corpora\\movie_reviews.zip.\n",
      "[nltk_data] Downloading package averaged_perceptron_tagger to\n",
      "[nltk_data]     C:\\Users\\Mayank\\AppData\\Roaming\\nltk_data...\n",
      "[nltk_data]   Package averaged_perceptron_tagger is already up-to-\n",
      "[nltk_data]       date!\n",
      "[nltk_data] Downloading package vader_lexicon to\n",
      "[nltk_data]     C:\\Users\\Mayank\\AppData\\Roaming\\nltk_data...\n",
      "[nltk_data] Downloading package punkt to\n",
      "[nltk_data]     C:\\Users\\Mayank\\AppData\\Roaming\\nltk_data...\n",
      "[nltk_data]   Package punkt is already up-to-date!\n"
     ]
    },
    {
     "data": {
      "text/plain": [
       "True"
      ]
     },
     "execution_count": 2,
     "metadata": {},
     "output_type": "execute_result"
    }
   ],
   "source": [
    "nltk.download([\n",
    "    \"names\",\n",
    "    \"stopwords\",\n",
    "    \"state_union\",\n",
    "    \"twitter_samples\",\n",
    "    \"movie_reviews\",\n",
    "    \"averaged_perceptron_tagger\",\n",
    "    \"vader_lexicon\",\n",
    "    \"punkt\",\n",
    "])"
   ]
  },
  {
   "cell_type": "markdown",
   "metadata": {},
   "source": [
    "Should NLTK require additional resources that you haven’t installed, you’ll see a helpful LookupError with details and instructions to download the resource"
   ]
  },
  {
   "cell_type": "code",
   "execution_count": 5,
   "metadata": {
    "collapsed": true
   },
   "outputs": [],
   "source": [
    "# w = nltk.corpus.shakespeare.words()"
   ]
  },
  {
   "cell_type": "code",
   "execution_count": 7,
   "metadata": {
    "collapsed": true
   },
   "outputs": [
    {
     "name": "stderr",
     "output_type": "stream",
     "text": [
      "[nltk_data] Downloading package shakespeare to\n",
      "[nltk_data]     C:\\Users\\Mayank\\AppData\\Roaming\\nltk_data...\n",
      "[nltk_data]   Unzipping corpora\\shakespeare.zip.\n"
     ]
    },
    {
     "data": {
      "text/plain": [
       "True"
      ]
     },
     "execution_count": 7,
     "metadata": {},
     "output_type": "execute_result"
    }
   ],
   "source": [
    "nltk.download('shakespeare')"
   ]
  },
  {
   "cell_type": "code",
   "execution_count": 2,
   "metadata": {
    "collapsed": true
   },
   "outputs": [
    {
     "name": "stdout",
     "output_type": "stream",
     "text": [
      "['A', 'Midsummer', 'Night', \"'\", 's', 'Dream', 'Dramatis', 'Personae', 'THESEUS', ',', 'Duke', 'of', 'Athens', '.', 'EGEUS', ',', 'father', 'to', 'Hermia', '.', 'LYSANDER', 'DEMETRIUS', 'in', 'love', 'with', 'Hermia', '.', 'PHILOSTRATE', ',', 'master', 'of', 'the', 'revels', 'to', 'Theseus', '.', 'QUINCE', ',', 'a', 'carpenter', '.', 'SNUG', ',', 'a', 'joiner', '.', 'BOTTOM', ',', 'a', 'weaver', '.', 'FLUTE', ',', 'a', 'bellows', '-', 'mender', '.', 'SNOUT', ',', 'a', 'tinker', '.', 'STARVELING', ',', 'a', 'tailor', '.', 'HIPPOLYTA', ',', 'queen', 'of', 'the', 'Amazons', ',', 'betrothed', 'to', 'Theseus', '.', 'HERMIA', ',', 'daughter', 'to', 'Egeus', ',', 'in', 'love', 'with', 'Lysander', '.', 'HELENA', ',', 'in', 'love', 'with', 'Demetrius', '.', 'OBERON', ',', 'king', 'of', 'the', 'fairies', '.', 'TITANIA', ',', 'queen', 'of', 'the', 'fairies', '.', 'PUCK', ',', 'or', 'Robin', 'Goodfellow', '.', 'PEASEBLOSSOM', 'COBWEB', 'MOTH', 'MUSTARDSEED', 'fairies', '.', 'Other', 'fairies', 'attending', 'their', 'King', 'and', 'Queen', '.', 'Attendants', 'on', 'Theseus', 'and', 'Hippolyta', '.', 'SCENE', 'Athens', ',', 'and', 'a', 'wood', 'near', 'it', '.', 'A', 'MIDSUMMER', 'NIGHT', \"'\", 'S', 'DREAM', 'ACT', 'I', 'SCENE', 'I', '.', 'Athens', '.', 'The', 'palace', 'of', 'THESEUS', '.', 'Enter', 'THESEUS', ',', 'HIPPOLYTA', ',', 'PHILOSTRATE', ',', 'and', 'Attendants', 'THESEUS', 'Now', ',', 'fair', 'Hippolyta', ',', 'our', 'nuptial', 'hour', 'Draws', 'on', 'apace', ';', 'four', 'happy', 'days', 'bring', 'in', 'Another', 'moon', ':', 'but', ',', 'O', ',', 'methinks', ',', 'how', 'slow', 'This', 'old', 'moon', 'wanes', '!', 'she', 'lingers', 'my', 'desires', ',', 'Like', 'to', 'a', 'step', '-', 'dame', 'or', 'a', 'dowager', 'Long', 'withering', 'out', 'a', 'young', 'man', 'revenue', '.', 'HIPPOLYTA', 'Four', 'days', 'will', 'quickly', 'steep', 'themselves', 'in', 'night', ';', 'Four', 'nights', 'will', 'quickly', 'dream', 'away', 'the', 'time', ';', 'And', 'then', 'the', 'moon', ',', 'like', 'to', 'a', 'silver', 'bow', 'New', '-', 'bent', 'in', 'heaven', ',', 'shall', 'behold', 'the', 'night', 'Of', 'our', 'solemnities', '.', 'THESEUS', 'Go', ',', 'Philostrate', ',', 'Stir', 'up', 'the', 'Athenian', 'youth', 'to', 'merriments', ';', 'Awake', 'the', 'pert', 'and', 'nimble', 'spirit', 'of', 'mirth', ';', 'Turn', 'melancholy', 'forth', 'to', 'funerals', ';', 'The', 'pale', 'companion', 'is', 'not', 'for', 'our', 'pomp', '.', 'Exit', 'PHILOSTRATE', 'Hippolyta', ',', 'I', 'woo', \"'\", 'd', 'thee', 'with', 'my', 'sword', ',', 'And', 'won', 'thy', 'love', ',', 'doing', 'thee', 'injuries', ';', 'But', 'I', 'will', 'wed', 'thee', 'in', 'another', 'key', ',', 'With', 'pomp', ',', 'with', 'triumph', 'and', 'with', 'revelling', '.', 'Enter', 'EGEUS', ',', 'HERMIA', ',', 'LYSANDER', ',', 'and', 'DEMETRIUS', 'EGEUS', 'Happy', 'be', 'Theseus', ',', 'our', 'renowned', 'duke', '!', 'THESEUS', 'Thanks', ',', 'good', 'Egeus', ':', 'what', \"'\", 's', 'the', 'news', 'with', 'thee', '?', 'EGEUS', 'Full', 'of', 'vexation', 'come', 'I', ',', 'with', 'complaint', 'Against', 'my', 'child', ',', 'my', 'daughter', 'Hermia', '.', 'Stand', 'forth', ',', 'Demetrius', '.', 'My', 'noble', 'lord', ',', 'This', 'man', 'hath', 'my', 'consent', 'to', 'marry', 'her', '.', 'Stand', 'forth', ',', 'Lysander', ':', 'and', 'my', 'gracious', 'duke', ',', 'This', 'man', 'hath', 'bewitch', \"'\", 'd', 'the', 'bosom', 'of', 'my', 'child', ';', 'Thou', ',', 'thou', ',', 'Lysander', ',', 'thou', 'hast', 'given', 'her', 'rhymes', ',', 'And', 'interchanged', 'love', '-', 'tokens', 'with', 'my', 'child', ':', 'Thou', 'hast', 'by', 'moonlight', 'at', 'her', 'window', 'sung', ',', 'With', 'feigning', 'voice', 'verses', 'of', 'feigning', 'love', ',', 'And', 'stolen', 'the', 'impression', 'of', 'her', 'fantasy', 'With', 'bracelets', 'of', 'thy', 'hair', ',', 'rings', ',', 'gawds', ',', 'conceits', ',', 'Knacks', ',', 'trifles', ',', 'nosegays', ',', 'sweetmeats', ',', 'messengers', 'Of', 'strong', 'prevailment', 'in', 'unharden', \"'\", 'd', 'youth', ':', 'With', 'cunning', 'hast', 'thou', 'filch', \"'\", 'd', 'my', 'daughter', \"'\", 's', 'heart', ',', 'Turn', \"'\", 'd', 'her', 'obedience', ',', 'which', 'is', 'due', 'to', 'me', ',', 'To', 'stubborn', 'harshness', ':', 'and', ',', 'my', 'gracious', 'duke', ',', 'Be', 'it', 'so', 'she', ';', 'will', 'not', 'here', 'before', 'your', 'grace', 'Consent', 'to', 'marry', 'with', 'Demetrius', ',', 'I', 'beg', 'the', 'ancient', 'privilege', 'of', 'Athens', ',', 'As', 'she', 'is', 'mine', ',', 'I', 'may', 'dispose', 'of', 'her', ':', 'Which', 'shall', 'be', 'either', 'to', 'this', 'gentleman', 'Or', 'to', 'her', 'death', ',', 'according', 'to', 'our', 'law', 'Immediately', 'provided', 'in', 'that', 'case', '.', 'THESEUS', 'What', 'say', 'you', ',', 'Hermia', '?', 'be', 'advised', 'fair', 'maid', ':', 'To', 'you', 'your', 'father', 'should', 'be', 'as', 'a', 'god', ';', 'One', 'that', 'composed', 'your', 'beauties', ',', 'yea', ',', 'and', 'one', 'To', 'whom', 'you', 'are', 'but', 'as', 'a', 'form', 'in', 'wax', 'By', 'him', 'imprinted', 'and', 'within', 'his', 'power', 'To', 'leave', 'the', 'figure', 'or', 'disfigure', 'it', '.', 'Demetrius', 'is', 'a', 'worthy', 'gentleman', '.', 'HERMIA', 'So', 'is', 'Lysander', '.', 'THESEUS', 'In', 'himself', 'he', 'is', ';', 'But', 'in', 'this', 'kind', ',', 'wanting', 'your', 'father', \"'\", 's', 'voice', ',', 'The', 'other', 'must', 'be', 'held', 'the', 'worthier', '.', 'HERMIA', 'I', 'would', 'my', 'father', 'look', \"'\", 'd', 'but', 'with', 'my', 'eyes', '.', 'THESEUS', 'Rather', 'your', 'eyes', 'must', 'with', 'his', 'judgment', 'look', '.', 'HERMIA', 'I', 'do', 'entreat', 'your', 'grace', 'to', 'pardon', 'me', '.', 'I', 'know', 'not', 'by', 'what', 'power', 'I', 'am', 'made', 'bold', ',', 'Nor', 'how', 'it', 'may', 'concern', 'my', 'modesty', ',', 'In', 'such', 'a', 'presence', 'here', 'to', 'plead', 'my', 'thoughts', ';', 'But', 'I', 'beseech', 'your', 'grace', 'that', 'I', 'may', 'know', 'The', 'worst', 'that', 'may', 'befall', 'me', 'in', 'this', 'case', ',', 'If', 'I', 'refuse', 'to', 'wed', 'Demetrius', '.', 'THESEUS', 'Either', 'to', 'die', 'the', 'death', 'or', 'to', 'abjure', 'For', 'ever', 'the', 'society', 'of', 'men', '.', 'Therefore', ',', 'fair', 'Hermia', ',', 'question', 'your', 'desires', ';', 'Know', 'of', 'your', 'youth', ',', 'examine', 'well', 'your', 'blood', ',', 'Whether', ',', 'if', 'you', 'yield', 'not', 'to', 'your', 'father', \"'\", 's', 'choice', ',', 'You', 'can', 'endure', 'the', 'livery', 'of', 'a', 'nun', ',', 'For', 'aye', 'to', 'be', 'in', 'shady', 'cloister', 'mew', \"'\", 'd', ',', 'To', 'live', 'a', 'barren', 'sister', 'all', 'your', 'life', ',', 'Chanting', 'faint', 'hymns', 'to', 'the', 'cold', 'fruitless', 'moon', '.', 'Thrice', '-', 'blessed', 'they', 'that', 'master', 'so', 'their', 'blood', ',', 'To', 'undergo', 'such', 'maiden', 'pilgrimage', ';', 'But', 'earthlier', 'happy', 'is', 'the', 'rose', 'distill', \"'\", 'd', ',', 'Than', 'that', 'which', 'withering', 'on', 'the', 'virgin', 'thorn', 'Grows', ',', 'lives', 'and', 'dies', 'in', 'single', 'blessedness', '.', 'HERMIA', 'So', 'will', 'I', 'grow', ',', 'so', 'live', ',', 'so', 'die', ',', 'my', 'lord', ',', 'Ere', 'I', 'will', 'my', 'virgin', 'patent', 'up', 'Unto', 'his', 'lordship', ',', 'whose', 'unwished', 'yoke', 'My', 'soul', 'consents', 'not', 'to', 'give', 'sovereignty', '.', 'THESEUS', 'Take', 'time', 'to', 'pause', ';', 'and', ',', 'by', 'the', 'nest', 'new', 'moon', '--', 'The', 'sealing', '-', 'day', 'betwixt', 'my', 'love', 'and', 'me', ',', 'For', 'everlasting', 'bond', 'of', 'fellowship', '--', 'Upon', 'that', 'day', 'either', 'prepare', 'to', 'die', 'For', 'disobedience', 'to', 'your', 'father', \"'\", 's', 'will', ',', 'Or', 'else', 'to', 'wed', 'Demetrius', ',', 'as', 'he', 'would', ';', 'Or', 'on', 'Diana', \"'\", 's', 'altar', 'to', 'protest', 'For', 'aye', 'austerity', 'and', 'single', 'life', '.', 'DEMETRIUS', 'Relent', ',', 'sweet', 'Hermia', ':', 'and', ',', 'Lysander', ',', 'yield', 'Thy', 'crazed', 'title', 'to', 'my', 'certain', 'right', '.', 'LYSANDER', 'You', 'have', 'her', 'father', \"'\", 's', 'love', ',', 'Demetrius', ';', 'Let', 'me', 'have', 'Hermia', \"'\", 's', ':', 'do', 'you', 'marry', 'him', '.', 'EGEUS', 'Scornful', 'Lysander', '!', 'true', ',', 'he', 'hath', 'my', 'love', ',', 'And', 'what', 'is', 'mine', 'my', 'love', 'shall', 'render', 'him', '.', 'And', 'she', 'is', 'mine', ',', 'and', 'all', 'my', 'right', 'of', 'her', 'I', 'do', 'estate', 'unto', 'Demetrius', '.', 'LYSANDER', 'I', 'am', ',', 'my', 'lord', ',', 'as', 'well', 'derived', 'as', 'he', ',', 'As', 'well', 'possess', \"'\", 'd', ';', 'my', 'love', 'is', 'more', 'than', 'his', ';', 'My', 'fortunes', 'every', 'way', 'as', 'fairly', 'rank', \"'\", 'd', ',', 'If', 'not', 'with', 'vantage', ',', 'as', 'Demetrius', \"';\", 'And', ',', 'which', 'is', 'more', 'than', 'all', 'these', 'boasts', 'can', 'be', ',', 'I', 'am', 'beloved', 'of', 'beauteous', 'Hermia', ':', 'Why', 'should', 'not', 'I', 'then', 'prosecute', 'my', 'right', '?', 'Demetrius', ',', 'I', \"'\", 'll', 'avouch', 'it', 'to', 'his', 'head', ',', 'Made', 'love', 'to', 'Nedar', \"'\", 's', 'daughter', ',', 'Helena', ',', 'And', 'won', 'her', 'soul', ';', 'and', 'she', ',', 'sweet', 'lady', ',', 'dotes', ',', 'Devoutly', 'dotes', ',', 'dotes', 'in', 'idolatry', ',', 'Upon', 'this', 'spotted', 'and', 'inconstant', 'man', '.', 'THESEUS', 'I', 'must', 'confess', 'that', 'I', 'have', 'heard', 'so', 'much', ',', 'And', 'with', 'Demetrius', 'thought', 'to', 'have', 'spoke', 'thereof', ';', 'But', ',', 'being', 'over', '-', 'full', 'of', 'self', '-', 'affairs', ',', 'My', 'mind', 'did', 'lose', 'it', '.', 'But', ',', 'Demetrius', ',', 'come', ';', 'And', 'come', ',', 'Egeus', ';', 'you', 'shall', 'go', 'with', 'me', ',', 'I', 'have', 'some', 'private', 'schooling', 'for', 'you', 'both', '.', 'For', 'you', ',', 'fair', 'Hermia', ',', 'look', 'you', 'arm', 'yourself', 'To', 'fit', 'your', 'fancies', 'to', 'your', 'father', \"'\", 's', 'will', ';', 'Or', 'else', 'the', 'law', 'of', 'Athens', 'yields', 'you', 'up', '--', 'Which', 'by', 'no', 'means', 'we', 'may', 'extenuate', '--', 'To', 'death', ',', 'or', 'to', 'a', 'vow', 'of', 'single', 'life', '.', 'Come', ',', 'my', 'Hippolyta', ':', 'what', 'cheer', ',', 'my', 'love', '?', 'Demetrius', 'and', 'Egeus', ',', 'go', 'along', ':', 'I', 'must', 'employ', 'you', 'in', 'some', 'business', 'Against', 'our', 'nuptial', 'and', 'confer', 'with', 'you', 'Of', 'something', 'nearly', 'that', 'concerns', 'yourselves', '.', 'EGEUS', 'With', 'duty', 'and', 'desire', 'we', 'follow', 'you', '.', 'Exeunt', 'all', 'but', 'LYSANDER', 'and', 'HERMIA', 'LYSANDER', 'How', 'now', ',', 'my', 'love', '!', 'why', 'is', 'your', 'cheek', 'so', 'pale', '?', 'How', 'chance', 'the', 'roses', 'there', 'do', 'fade', 'so', 'fast', '?', 'HERMIA', 'Belike', 'for', 'want', 'of', 'rain', ',', 'which', 'I', 'could', 'well', 'Beteem', 'them', 'from', 'the', 'tempest', 'of', 'my', 'eyes', '.', 'LYSANDER', 'Ay', 'me', '!', 'for', 'aught', 'that', 'I', 'could', 'ever', 'read', ',', 'Could', 'ever', 'hear', 'by', 'tale', 'or', 'history', ',', 'The', 'course', 'of', 'true', 'love', 'never', 'did', 'run', 'smooth', ';', 'But', ',', 'either', 'it', 'was', 'different', 'in', 'blood', ',--', 'HERMIA', 'O', 'cross', '!', 'too', 'high', 'to', 'be', 'enthrall', \"'\", 'd', 'to', 'low', '.', 'LYSANDER', 'Or', 'else', 'misgraffed', 'in', 'respect', 'of', 'years', ',--', 'HERMIA', 'O', 'spite', '!', 'too', 'old', 'to', 'be', 'engaged', 'to', 'young', '.', 'LYSANDER', 'Or', 'else', 'it', 'stood', 'upon', 'the', 'choice', 'of', 'friends', ',--', 'HERMIA', 'O', 'hell', '!', 'to', 'choose', 'love', 'by', 'another', \"'\", 's', 'eyes', '.', 'LYSANDER', 'Or', ',', 'if', 'there', 'were', 'a', 'sympathy', 'in', 'choice', ',', 'War', ',', 'death', ',', 'or', 'sickness', 'did', 'lay', 'siege', 'to', 'it', ',', 'Making', 'it', 'momentany', 'as', 'a', 'sound', ',', 'Swift', 'as', 'a', 'shadow', ',', 'short', 'as', 'any', 'dream', ';', 'Brief', 'as', 'the', 'lightning', 'in', 'the', 'collied', 'night', ',', 'That', ',', 'in', 'a', 'spleen', ',', 'unfolds', 'both', 'heaven', 'and', 'earth', ',', 'And', 'ere', 'a', 'man', 'hath', 'power', 'to', 'say', \"'\", 'Behold', \"!'\", 'The', 'jaws', 'of', 'darkness', 'do', 'devour', 'it', 'up', ':', 'So', 'quick', 'bright', 'things', 'come', 'to', 'confusion', '.', 'HERMIA', 'If', 'then', 'true', 'lovers', 'have', 'been', 'ever', 'cross', \"'\", 'd', ',', 'It', 'stands', 'as', 'an', 'edict', 'in', 'destiny', ':', 'Then', 'let', 'us', 'teach', 'our', 'trial', 'patience', ',', 'Because', 'it', 'is', 'a', 'customary', 'cross', ',', 'As', 'due', 'to', 'love', 'as', 'thoughts', 'and', 'dreams', 'and', 'sighs', ',', 'Wishes', 'and', 'tears', ',', 'poor', 'fancy', \"'\", 's', 'followers', '.', 'LYSANDER', 'A', 'good', 'persuasion', ':', 'therefore', ',', 'hear', 'me', ',', 'Hermia', '.', 'I', 'have', 'a', 'widow', 'aunt', ',', 'a', 'dowager', 'Of', 'great', 'revenue', ',', 'and', 'she', 'hath', 'no', 'child', ':', 'From', 'Athens', 'is', 'her', 'house', 'remote', 'seven', 'leagues', ';', 'And', 'she', 'respects', 'me', 'as', 'her', 'only', 'son', '.', 'There', ',', 'gentle', 'Hermia', ',', 'may', 'I', 'marry', 'thee', ';', 'And', 'to', 'that', 'place', 'the', 'sharp', 'Athenian', 'law', 'Cannot', 'pursue', 'us', '.', 'If', 'thou', 'lovest', 'me', 'then', ',', 'Steal', 'forth', 'thy', 'father', \"'\", 's', 'house', 'to', '-', 'morrow', 'night', ';', 'And', 'in', 'the', 'wood', ',', 'a', 'league', 'without', 'the', 'town', ',', 'Where', 'I', 'did', 'meet', 'thee', 'once', 'with', 'Helena', ',', 'To', 'do', 'observance', 'to', 'a', 'morn', 'of', 'May', ',', 'There', 'will', 'I', 'stay', 'for', 'thee', '.', 'HERMIA', 'My', 'good', 'Lysander', '!', 'I', 'swear', 'to', 'thee', ',', 'by', 'Cupid', \"'\", 's', 'strongest', 'bow', ',', 'By', 'his', 'best', 'arrow', 'with', 'the', 'golden', 'head', ',', 'By', 'the', 'simplicity', 'of', 'Venus', \"'\", 'doves', ',', 'By', 'that', 'which', 'knitteth', 'souls', 'and', 'prospers', 'loves', ',', 'And', 'by', 'that', 'fire', 'which', 'burn', \"'\", 'd', 'the', 'Carthage', 'queen', ',', 'When', 'the', 'false', 'Troyan', 'under', 'sail', 'was', 'seen', ',', 'By', 'all', 'the', 'vows', 'that', 'ever', 'men', 'have', 'broke', ',', 'In', 'number', 'more', 'than', 'ever', 'women', 'spoke', ',', 'In', 'that', 'same', 'place', 'thou', 'hast', 'appointed', 'me', ',', 'To', '-', 'morrow', 'truly', 'will', 'I', 'meet', 'with', 'thee', '.', 'LYSANDER', 'Keep', 'promise', ',', 'love', '.', 'Look', ',', 'here', 'comes', 'Helena', '.', 'Enter', 'HELENA', 'HERMIA', 'God', 'speed', 'fair', 'Helena', '!', 'whither', 'away', '?', 'HELENA', 'Call', 'you', 'me', 'fair', '?', 'that', 'fair', 'again', 'unsay', '.', 'Demetrius', 'loves', 'your', 'fair', ':', 'O', 'happy', 'fair', '!', 'Your', 'eyes', 'are', 'lode', '-', 'stars', ';', 'and', 'your', 'tongue', \"'\", 's', 'sweet', 'air', 'More', 'tuneable', 'than', 'lark', 'to', 'shepherd', \"'\", 's', 'ear', ',', 'When', 'wheat', 'is', 'green', ',', 'when', 'hawthorn', 'buds', 'appear', '.', 'Sickness', 'is', 'catching', ':', 'O', ',', 'were', 'favour', 'so', ',', 'Yours', 'would', 'I', 'catch', ',', 'fair', 'Hermia', ',', 'ere', 'I', 'go', ';', 'My', 'ear', 'should', 'catch', 'your', 'voice', ',', 'my', 'eye', 'your', 'eye', ',', 'My', 'tongue', 'should', 'catch', 'your', 'tongue', \"'\", 's', 'sweet', 'melody', '.', 'Were', 'the', 'world', 'mine', ',', 'Demetrius', 'being', 'bated', ',', 'The', 'rest', 'I', \"'\", 'd', 'give', 'to', 'be', 'to', 'you', 'translated', '.', 'O', ',', 'teach', 'me', 'how', 'you', 'look', ',', 'and', 'with', 'what', 'art', 'You', 'sway', 'the', 'motion', 'of', 'Demetrius', \"'\", 'heart', '.', 'HERMIA', 'I', 'frown', 'upon', 'him', ',', 'yet', 'he', 'loves', 'me', 'still', '.', 'HELENA', 'O', 'that', 'your', 'frowns', 'would', 'teach', 'my', 'smiles', 'such', 'skill', '!', 'HERMIA', 'I', 'give', 'him', 'curses', ',', 'yet', 'he', 'gives', 'me', 'love', '.', 'HELENA', 'O', 'that', 'my', 'prayers', 'could', 'such', 'affection', 'move', '!', 'HERMIA', 'The', 'more', 'I', 'hate', ',', 'the', 'more', 'he', 'follows', 'me', '.', 'HELENA', 'The', 'more', 'I', 'love', ',', 'the', 'more', 'he', 'hateth', 'me', '.', 'HERMIA', 'His', 'folly', ',', 'Helena', ',', 'is', 'no', 'fault', 'of', 'mine', '.', 'HELENA', 'None', ',', 'but', 'your', 'beauty', ':', 'would', 'that', 'fault', 'were', 'mine', '!', 'HERMIA', 'Take', 'comfort', ':', 'he', 'no', 'more', 'shall', 'see', 'my', 'face', ';', 'Lysander', 'and', 'myself', 'will', 'fly', 'this', 'place', '.', 'Before', 'the', 'time', 'I', 'did', 'Lysander', 'see', ',', 'Seem', \"'\", 'd', 'Athens', 'as', 'a', 'paradise', 'to', 'me', ':', 'O', ',', 'then', ',', 'what', 'graces', 'in', 'my', 'love', 'do', 'dwell', ',', 'That', 'he', 'hath', 'turn', \"'\", 'd', 'a', 'heaven', 'unto', 'a', 'hell', '!', 'LYSANDER', 'Helen', ',', 'to', 'you', 'our', 'minds', 'we', 'will', 'unfold', ':', 'To', '-', 'morrow', 'night', ',', 'when', 'Phoebe', 'doth', 'behold', 'Her', 'silver', 'visage', 'in', 'the', 'watery', 'glass', ',', 'Decking', 'with', 'liquid', 'pearl', 'the', 'bladed', 'grass', ',', 'A', 'time', 'that', 'lovers', \"'\", 'flights', 'doth', 'still', 'conceal', ',', 'Through', 'Athens', \"'\", 'gates', 'have', 'we', 'devised', 'to', 'steal', '.', 'HERMIA', 'And', 'in', 'the', 'wood', ',', 'where', 'often', 'you', 'and', 'I', 'Upon', 'faint', 'primrose', '-', 'beds', 'were', 'wont', 'to', 'lie', ',', 'Emptying', 'our', 'bosoms', 'of', 'their', 'counsel', 'sweet', ',', 'There', 'my', 'Lysander', 'and', 'myself', 'shall', 'meet', ';', 'And', 'thence', 'from', 'Athens', 'turn', 'away', 'our', 'eyes', ',', 'To', 'seek', 'new', 'friends', 'and', 'stranger', 'companies', '.', 'Farewell', ',', 'sweet', 'playfellow', ':', 'pray', 'thou', 'for', 'us', ';', 'And', 'good', 'luck', 'grant', 'thee', 'thy', 'Demetrius', '!', 'Keep', 'word', ',', 'Lysander', ':', 'we', 'must', 'starve', 'our', 'sight', 'From', 'lovers', \"'\", 'food', 'till', 'morrow', 'deep', 'midnight', '.', 'LYSANDER', 'I', 'will', ',', 'my', 'Hermia', '.', 'Exit', 'HERMIA', 'Helena', ',', 'adieu', ':', 'As', 'you', 'on', 'him', ',', 'Demetrius', 'dote', 'on', 'you', '!', 'Exit', 'HELENA', 'How', 'happy', 'some', 'o', \"'\", 'er', 'other', 'some', 'can', 'be', '!', 'Through', 'Athens', 'I', 'am', 'thought', 'as', 'fair', 'as', 'she', '.', 'But', 'what', 'of', 'that', '?', 'Demetrius', 'thinks', 'not', 'so', ';', 'He', 'will', 'not', 'know', 'what', 'all', 'but', 'he', 'do', 'know', ':', 'And', 'as', 'he', 'errs', ',', 'doting', 'on', 'Hermia', \"'\", 's', 'eyes', ',', 'So', 'I', ',', 'admiring', 'of', 'his', 'qualities', ':', 'Things', 'base', 'and', 'vile', ',', 'folding', 'no', 'quantity', ',', 'Love', 'can', 'transpose', 'to', 'form', 'and', 'dignity', ':', 'Love', 'looks', 'not', 'with', 'the', 'eyes', ',', 'but', 'with', 'the', 'mind', ';', 'And', 'therefore', 'is', 'wing', \"'\", 'd', 'Cupid', 'painted', 'blind', ':', 'Nor', 'hath', 'Love', \"'\", 's', 'mind', 'of', 'any', 'judgement', 'taste', ';', 'Wings', 'and', 'no', 'eyes', 'figure', 'unheedy', 'haste', ':', 'And', 'therefore', 'is', 'Love', 'said', 'to', 'be', 'a', 'child', ',', 'Because', 'in', 'choice', 'he', 'is', 'so', 'oft', 'beguiled', '.', 'As', 'waggish', 'boys', 'in', 'game', 'themselves', 'forswear', ',', 'So', 'the', 'boy', 'Love', 'is', 'perjured', 'every', 'where', ':', 'For', 'ere', 'Demetrius', 'look', \"'\", 'd', 'on', 'Hermia', \"'\", 's', 'eyne', ',', 'He', 'hail', \"'\", 'd', 'down', 'oaths', 'that', 'he', 'was', 'only', 'mine', ';', 'And', 'when', 'this', 'hail', 'some', 'heat', 'from', 'Hermia', 'felt', ',', 'So', 'he', 'dissolved', ',', 'and', 'showers', 'of', 'oaths', 'did', 'melt', '.', 'I', 'will', 'go', 'tell', 'him', 'of', 'fair', 'Hermia', \"'\", 's', 'flight', ':', 'Then', 'to', 'the', 'wood', 'will', 'he', 'to', '-', 'morrow', 'night', 'Pursue', 'her', ';', 'and', 'for', 'this', 'intelligence', 'If', 'I', 'have', 'thanks', ',', 'it', 'is', 'a', 'dear', 'expense', ':', 'But', 'herein', 'mean', 'I', 'to', 'enrich', 'my', 'pain', ',', 'To', 'have', 'his', 'sight', 'thither', 'and', 'back', 'again', '.', 'Exit', 'SCENE', 'II', '.', 'Athens', '.', 'QUINCE', \"'\", 'S', 'house', '.', 'Enter', 'QUINCE', ',', 'SNUG', ',', 'BOTTOM', ',', 'FLUTE', ',', 'SNOUT', ',', 'and', 'STARVELING', 'QUINCE', 'Is', 'all', 'our', 'company', 'here', '?', 'BOTTOM', 'You', 'were', 'best', 'to', 'call', 'them', 'generally', ',', 'man', 'by', 'man', ',', 'according', 'to', 'the', 'scrip', '.', 'QUINCE', 'Here', 'is', 'the', 'scroll', 'of', 'every', 'man', \"'\", 's', 'name', ',', 'which', 'is', 'thought', 'fit', ',', 'through', 'all', 'Athens', ',', 'to', 'play', 'in', 'our', 'interlude', 'before', 'the', 'duke', 'and', 'the', 'duchess', ',', 'on', 'his', 'wedding', '-', 'day', 'at', 'night', '.', 'BOTTOM', 'First', ',', 'good', 'Peter', 'Quince', ',', 'say', 'what', 'the', 'play', 'treats', 'on', ',', 'then', 'read', 'the', 'names', 'of', 'the', 'actors', ',', 'and', 'so', 'grow', 'to', 'a', 'point', '.', 'QUINCE', 'Marry', ',', 'our', 'play', 'is', ',', 'The', 'most', 'lamentable', 'comedy', ',', 'and', 'most', 'cruel', 'death', 'of', 'Pyramus', 'and', 'Thisby', '.', 'BOTTOM', 'A', 'very', 'good', 'piece', 'of', 'work', ',', 'I', 'assure', 'you', ',', 'and', 'a', 'merry', '.', 'Now', ',', 'good', 'Peter', 'Quince', ',', 'call', 'forth', 'your', 'actors', 'by', 'the', 'scroll', '.', 'Masters', ',', 'spread', 'yourselves', '.', 'QUINCE', 'Answer', 'as', 'I', 'call', 'you', '.', 'Nick', 'Bottom', ',', 'the', 'weaver', '.', 'BOTTOM', 'Ready', '.', 'Name', 'what', 'part', 'I', 'am', 'for', ',', 'and', 'proceed', '.', 'QUINCE', 'You', ',', 'Nick', 'Bottom', ',', 'are', 'set', 'down', 'for', 'Pyramus', '.', 'BOTTOM', 'What', 'is', 'Pyramus', '?', 'a', 'lover', ',', 'or', 'a', 'tyrant', '?', 'QUINCE', 'A', 'lover', ',', 'that', 'kills', 'himself', 'most', 'gallant', 'for', 'love', '.', 'BOTTOM', 'That', 'will', 'ask', 'some', 'tears', 'in', 'the', 'true', 'performing', 'of', 'it', ':', 'if', 'I', 'do', 'it', ',', 'let', 'the', 'audience', 'look', 'to', 'their', 'eyes', ';', 'I', 'will', 'move', 'storms', ',', 'I', 'will', 'condole', 'in', 'some', 'measure', '.', 'To', 'the', 'rest', ':', 'yet', 'my', 'chief', 'humour', 'is', 'for', 'a', 'tyrant', ':', 'I', 'could', 'play', 'Ercles', 'rarely', ',', 'or', 'a', 'part', 'to', 'tear', 'a', 'cat', 'in', ',', 'to', 'make', 'all', 'split', '.', 'The', 'raging', 'rocks', 'And', 'shivering', 'shocks', 'Shall', 'break', 'the', 'locks', 'Of', 'prison', 'gates', ';', 'And', 'Phibbus', \"'\", 'car', 'Shall', 'shine', 'from', 'far', 'And', 'make', 'and', 'mar', 'The', 'foolish', 'Fates', '.', 'This', 'was', 'lofty', '!', 'Now', 'name', 'the', 'rest', 'of', 'the', 'players', '.', 'This', 'is', 'Ercles', \"'\", 'vein', ',', 'a', 'tyrant', \"'\", 's', 'vein', ';', 'a', 'lover', 'is', 'more', 'condoling', '.', 'QUINCE', 'Francis', 'Flute', ',', 'the', 'bellows', '-', 'mender', '.', 'FLUTE', 'Here', ',', 'Peter', 'Quince', '.', 'QUINCE', 'Flute', ',', 'you', 'must', 'take', 'Thisby', 'on', 'you', '.', 'FLUTE', 'What', 'is', 'Thisby', '?', 'a', 'wandering', 'knight', '?', 'QUINCE', 'It', 'is', 'the', 'lady', 'that', 'Pyramus', 'must', 'love', '.', 'FLUTE', 'Nay', ',', 'faith', ',', 'let', 'me', 'not', 'play', 'a', 'woman', ';', 'I', 'have', 'a', 'beard', 'coming', '.', 'QUINCE', 'That', \"'\", 's', 'all', 'one', ':', 'you', 'shall', 'play', 'it', 'in', 'a', 'mask', ',', 'and', 'you', 'may', 'speak', 'as', 'small', 'as', 'you', 'will', '.', 'BOTTOM', 'An', 'I', 'may', 'hide', 'my', 'face', ',', 'let', 'me', 'play', 'Thisby', 'too', ',', 'I', \"'\", 'll', 'speak', 'in', 'a', 'monstrous', 'little', 'voice', '.', \"'\", 'Thisne', ',', 'Thisne', \";'\", \"'\", 'Ah', ',', 'Pyramus', ',', 'lover', 'dear', '!', 'thy', 'Thisby', 'dear', ',', 'and', 'lady', 'dear', \"!'\", 'QUINCE', 'No', ',', 'no', ';', 'you', 'must', 'play', 'Pyramus', ':', 'and', ',', 'Flute', ',', 'you', 'Thisby', '.', 'BOTTOM', 'Well', ',', 'proceed', '.', 'QUINCE', 'Robin', 'Starveling', ',', 'the', 'tailor', '.', 'STARVELING', 'Here', ',', 'Peter', 'Quince', '.', 'QUINCE', 'Robin', 'Starveling', ',', 'you', 'must', 'play', 'Thisby', \"'\", 's', 'mother', '.', 'Tom', 'Snout', ',', 'the', 'tinker', '.', 'SNOUT', 'Here', ',', 'Peter', 'Quince', '.', 'QUINCE', 'You', ',', 'Pyramus', \"'\", 'father', ':', 'myself', ',', 'Thisby', \"'\", 's', 'father', ':', 'Snug', ',', 'the', 'joiner', ';', 'you', ',', 'the', 'lion', \"'\", 's', 'part', ':', 'and', ',', 'I', 'hope', ',', 'here', 'is', 'a', 'play', 'fitted', '.', 'SNUG', 'Have', 'you', 'the', 'lion', \"'\", 's', 'part', 'written', '?', 'pray', 'you', ',', 'if', 'it', 'be', ',', 'give', 'it', 'me', ',', 'for', 'I', 'am', 'slow', 'of', 'study', '.', 'QUINCE', 'You', 'may', 'do', 'it', 'extempore', ',', 'for', 'it', 'is', 'nothing', 'but', 'roaring', '.', 'BOTTOM', 'Let', 'me', 'play', 'the', 'lion', 'too', ':', 'I', 'will', 'roar', ',', 'that', 'I', 'will', 'do', 'any', 'man', \"'\", 's', 'heart', 'good', 'to', 'hear', 'me', ';', 'I', 'will', 'roar', ',', 'that', 'I', 'will', 'make', 'the', 'duke', 'say', \"'\", 'Let', 'him', 'roar', 'again', ',', 'let', 'him', 'roar', 'again', \".'\", 'QUINCE', 'An', 'you', 'should', 'do', 'it', 'too', 'terribly', ',', 'you', 'would', 'fright', 'the', 'duchess', 'and', 'the', 'ladies', ',', 'that', 'they', 'would', 'shriek', ';', 'and', 'that', 'were', 'enough', 'to', 'hang', 'us', 'all', '.', 'ALL', 'That', 'would', 'hang', 'us', ',', 'every', 'mother', \"'\", 's', 'son', '.', 'BOTTOM', 'I', 'grant', 'you', ',', 'friends', ',', 'if', 'that', 'you', 'should', 'fright', 'the', 'ladies', 'out', 'of', 'their', 'wits', ',', 'they', 'would', 'have', 'no', 'more', 'discretion', 'but', 'to', 'hang', 'us', ':', 'but', 'I', 'will', 'aggravate', 'my', 'voice', 'so', 'that', 'I', 'will', 'roar', 'you', 'as', 'gently', 'as', 'any', 'sucking', 'dove', ';', 'I', 'will', 'roar', 'you', 'an', \"'\", 'twere', 'any', 'nightingale', '.', 'QUINCE', 'You', 'can', 'play', 'no', 'part', 'but', 'Pyramus', ';', 'for', 'Pyramus', 'is', 'a', 'sweet', '-', 'faced', 'man', ';', 'a', 'proper', 'man', ',', 'as', 'one', 'shall', 'see', 'in', 'a', 'summer', \"'\", 's', 'day', ';', 'a', 'most', 'lovely', 'gentleman', '-', 'like', 'man', ':', 'therefore', 'you', 'must', 'needs', 'play', 'Pyramus', '.', 'BOTTOM', 'Well', ',', 'I', 'will', 'undertake', 'it', '.', 'What', 'beard', 'were', 'I', 'best', 'to', 'play', 'it', 'in', '?', 'QUINCE', 'Why', ',', 'what', 'you', 'will', '.', 'BOTTOM', 'I', 'will', 'discharge', 'it', 'in', 'either', 'your', 'straw', '-', 'colour', 'beard', ',', 'your', 'orange', '-', 'tawny', 'beard', ',', 'your', 'purple', '-', 'in', '-', 'grain', 'beard', ',', 'or', 'your', 'French', '-', 'crown', '-', 'colour', 'beard', ',', 'your', 'perfect', 'yellow', '.', 'QUINCE', 'Some', 'of', 'your', 'French', 'crowns', 'have', 'no', 'hair', 'at', 'all', ',', 'and', 'then', 'you', 'will', 'play', 'bare', '-', 'faced', '.', 'But', ',', 'masters', ',', 'here', 'are', 'your', 'parts', ':', 'and', 'I', 'am', 'to', 'entreat', 'you', ',', 'request', 'you', 'and', 'desire', 'you', ',', 'to', 'con', 'them', 'by', 'to', '-', 'morrow', 'night', ';', 'and', 'meet', 'me', 'in', 'the', 'palace', 'wood', ',', 'a', 'mile', 'without', 'the', 'town', ',', 'by', 'moonlight', ';', 'there', 'will', 'we', 'rehearse', ',', 'for', 'if', 'we', 'meet', 'in', 'the', 'city', ',', 'we', 'shall', 'be', 'dogged', 'with', 'company', ',', 'and', 'our', 'devices', 'known', '.', 'In', 'the', 'meantime', 'I', 'will', 'draw', 'a', 'bill', 'of', 'properties', ',', 'such', 'as', 'our', 'play', 'wants', '.', 'I', 'pray', 'you', ',', 'fail', 'me', 'not', '.', 'BOTTOM', 'We', 'will', 'meet', ';', 'and', 'there', 'we', 'may', 'rehearse', 'most', 'obscenely', 'and', 'courageously', '.', 'Take', 'pains', ';', 'be', 'perfect', ':', 'adieu', '.', 'QUINCE', 'At', 'the', 'duke', \"'\", 's', 'oak', 'we', 'meet', '.', 'BOTTOM', 'Enough', ';', 'hold', 'or', 'cut', 'bow', '-', 'strings', '.', 'Exeunt', 'ACT', 'II', 'SCENE', 'I', '.', 'A', 'wood', 'near', 'Athens', '.', 'Enter', ',', 'from', 'opposite', 'sides', ',', 'a', 'Fairy', ',', 'and', 'PUCK', 'PUCK', 'How', 'now', ',', 'spirit', '!', 'whither', 'wander', 'you', '?', 'Fairy', 'Over', 'hill', ',', 'over', 'dale', ',', 'Thorough', 'bush', ',', 'thorough', 'brier', ',', 'Over', 'park', ',', 'over', 'pale', ',', 'Thorough', 'flood', ',', 'thorough', 'fire', ',', 'I', 'do', 'wander', 'everywhere', ',', 'Swifter', 'than', 'the', 'moon', \"'\", 's', 'sphere', ';', 'And', 'I', 'serve', 'the', 'fairy', 'queen', ',', 'To', 'dew', 'her', 'orbs', 'upon', 'the', 'green', '.', 'The', 'cowslips', 'tall', 'her', 'pensioners', 'be', ':', 'In', 'their', 'gold', 'coats', 'spots', 'you', 'see', ';', 'Those', 'be', 'rubies', ',', 'fairy', 'favours', ',', 'In', 'those', 'freckles', 'live', 'their', 'savours', ':', 'I', 'must', 'go', 'seek', 'some', 'dewdrops', 'here', 'And', 'hang', 'a', 'pearl', 'in', 'every', 'cowslip', \"'\", 's', 'ear', '.', 'Farewell', ',', 'thou', 'lob', 'of', 'spirits', ';', 'I', \"'\", 'll', 'be', 'gone', ':', 'Our', 'queen', 'and', 'all', 'our', 'elves', 'come', 'here', 'anon', '.', 'PUCK', 'The', 'king', 'doth', 'keep', 'his', 'revels', 'here', 'to', '-', 'night', ':', 'Take', 'heed', 'the', 'queen', 'come', 'not', 'within', 'his', 'sight', ';', 'For', 'Oberon', 'is', 'passing', 'fell', 'and', 'wrath', ',', 'Because', 'that', 'she', 'as', 'her', 'attendant', 'hath', 'A', 'lovely', 'boy', ',', 'stolen', 'from', 'an', 'Indian', 'king', ';', 'She', 'never', 'had', 'so', 'sweet', 'a', 'changeling', ';', 'And', 'jealous', 'Oberon', 'would', 'have', 'the', 'child', 'Knight', 'of', 'his', 'train', ',', 'to', 'trace', 'the', 'forests', 'wild', ';', 'But', 'she', 'perforce', 'withholds', 'the', 'loved', 'boy', ',', 'Crowns', 'him', 'with', 'flowers', 'and', 'makes', 'him', 'all', 'her', 'joy', ':', 'And', 'now', 'they', 'never', 'meet', 'in', 'grove', 'or', 'green', ',', 'By', 'fountain', 'clear', ',', 'or', 'spangled', 'starlight', 'sheen', ',', 'But', ',', 'they', 'do', 'square', ',', 'that', 'all', 'their', 'elves', 'for', 'fear', 'Creep', 'into', 'acorn', '-', 'cups', 'and', 'hide', 'them', 'there', '.', 'Fairy', 'Either', 'I', 'mistake', 'your', 'shape', 'and', 'making', 'quite', ',', 'Or', 'else', 'you', 'are', 'that', 'shrewd', 'and', 'knavish', 'sprite', 'Call', \"'\", 'd', 'Robin', 'Goodfellow', ':', 'are', 'not', 'you', 'he', 'That', 'frights', 'the', 'maidens', 'of', 'the', 'villagery', ';', 'Skim', 'milk', ',', 'and', 'sometimes', 'labour', 'in', 'the', 'quern', 'And', 'bootless', 'make', 'the', 'breathless', 'housewife', 'churn', ';', 'And', 'sometime', 'make', 'the', 'drink', 'to', 'bear', 'no', 'barm', ';', 'Mislead', 'night', '-', 'wanderers', ',', 'laughing', 'at', 'their', 'harm', '?', 'Those', 'that', 'Hobgoblin', 'call', 'you', 'and', 'sweet', 'Puck', ',', 'You', 'do', 'their', 'work', ',', 'and', 'they', 'shall', 'have', 'good', 'luck', ':', 'Are', 'not', 'you', 'he', '?', 'PUCK', 'Thou', 'speak', \"'\", 'st', 'aright', ';', 'I', 'am', 'that', 'merry', 'wanderer', 'of', 'the', 'night', '.', 'I', 'jest', 'to', 'Oberon', 'and', 'make', 'him', 'smile', 'When', 'I', 'a', 'fat', 'and', 'bean', '-', 'fed', 'horse', 'beguile', ',', 'Neighing', 'in', 'likeness', 'of', 'a', 'filly', 'foal', ':', 'And', 'sometime', 'lurk', 'I', 'in', 'a', 'gossip', \"'\", 's', 'bowl', ',', 'In', 'very', 'likeness', 'of', 'a', 'roasted', 'crab', ',', 'And', 'when', 'she', 'drinks', ',', 'against', 'her', 'lips', 'I', 'bob', 'And', 'on', 'her', 'wither', \"'\", 'd', 'dewlap', 'pour', 'the', 'ale', '.', 'The', 'wisest', 'aunt', ',', 'telling', 'the', 'saddest', 'tale', ',', 'Sometime', 'for', 'three', '-', 'foot', 'stool', 'mistaketh', 'me', ';', 'Then', 'slip', 'I', 'from', 'her', 'bum', ',', 'down', 'topples', 'she', ',', 'And', \"'\", 'tailor', \"'\", 'cries', ',', 'and', 'falls', 'into', 'a', 'cough', ';', 'And', 'then', 'the', 'whole', 'quire', 'hold', 'their', 'hips', 'and', 'laugh', ',', 'And', 'waxen', 'in', 'their', 'mirth', 'and', 'neeze', 'and', 'swear', 'A', 'merrier', 'hour', 'was', 'never', 'wasted', 'there', '.', 'But', ',', 'room', ',', 'fairy', '!', 'here', 'comes', 'Oberon', '.', 'Fairy', 'And', 'here', 'my', 'mistress', '.', 'Would', 'that', 'he', 'were', 'gone', '!', 'Enter', ',', 'from', 'one', 'side', ',', 'OBERON', ',', 'with', 'his', 'train', ';', 'from', 'the', 'other', ',', 'TITANIA', ',', 'with', 'hers', 'OBERON', 'Ill', 'met', 'by', 'moonlight', ',', 'proud', 'Titania', '.', 'TITANIA', 'What', ',', 'jealous', 'Oberon', '!', 'Fairies', ',', 'skip', 'hence', ':', 'I', 'have', 'forsworn', 'his', 'bed', 'and', 'company', '.', 'OBERON', 'Tarry', ',', 'rash', 'wanton', ':', 'am', 'not', 'I', 'thy', 'lord', '?', 'TITANIA', 'Then', 'I', 'must', 'be', 'thy', 'lady', ':', 'but', 'I', 'know', 'When', 'thou', 'hast', 'stolen', 'away', 'from', 'fairy', 'land', ',', 'And', 'in', 'the', 'shape', 'of', 'Corin', 'sat', 'all', 'day', ',', 'Playing', 'on', 'pipes', 'of', 'corn', 'and', 'versing', 'love', 'To', 'amorous', 'Phillida', '.', 'Why', 'art', 'thou', 'here', ',', 'Come', 'from', 'the', 'farthest', 'Steppe', 'of', 'India', '?', 'But', 'that', ',', 'forsooth', ',', 'the', 'bouncing', 'Amazon', ',', 'Your', 'buskin', \"'\", 'd', 'mistress', 'and', 'your', 'warrior', 'love', ',', 'To', 'Theseus', 'must', 'be', 'wedded', ',', 'and', 'you', 'come', 'To', 'give', 'their', 'bed', 'joy', 'and', 'prosperity', '.', 'OBERON', 'How', 'canst', 'thou', 'thus', 'for', 'shame', ',', 'Titania', ',', 'Glance', 'at', 'my', 'credit', 'with', 'Hippolyta', ',', 'Knowing', 'I', 'know', 'thy', 'love', 'to', 'Theseus', '?', 'Didst', 'thou', 'not', 'lead', 'him', 'through', 'the', 'glimmering', 'night', 'From', 'Perigenia', ',', 'whom', 'he', 'ravished', '?', 'And', 'make', 'him', 'with', 'fair', 'AEgle', 'break', 'his', 'faith', ',', 'With', 'Ariadne', 'and', 'Antiopa', '?', 'TITANIA', 'These', 'are', 'the', 'forgeries', 'of', 'jealousy', ':', 'And', 'never', ',', 'since', 'the', 'middle', 'summer', \"'\", 's', 'spring', ',', 'Met', 'we', 'on', 'hill', ',', 'in', 'dale', ',', 'forest', 'or', 'mead', ',', 'By', 'paved', 'fountain', 'or', 'by', 'rushy', 'brook', ',', 'Or', 'in', 'the', 'beached', 'margent', 'of', 'the', 'sea', ',', 'To', 'dance', 'our', 'ringlets', 'to', 'the', 'whistling', 'wind', ',', 'But', 'with', 'thy', 'brawls', 'thou', 'hast', 'disturb', \"'\", 'd', 'our', 'sport', '.', 'Therefore', 'the', 'winds', ',', 'piping', 'to', 'us', 'in', 'vain', ',', 'As', 'in', 'revenge', ',', 'have', 'suck', \"'\", 'd', 'up', 'from', 'the', 'sea', 'Contagious', 'fogs', ';', 'which', 'falling', 'in', 'the', 'land', 'Have', 'every', 'pelting', 'river', 'made', 'so', 'proud', 'That', 'they', 'have', 'overborne', 'their', 'continents', ':', 'The', 'ox', 'hath', 'therefore', 'stretch', \"'\", 'd', 'his', 'yoke', 'in', 'vain', ',', 'The', 'ploughman', 'lost', 'his', 'sweat', ',', 'and', 'the', 'green', 'corn', 'Hath', 'rotted', 'ere', 'his', 'youth', 'attain', \"'\", 'd', 'a', 'beard', ';', 'The', 'fold', 'stands', 'empty', 'in', 'the', 'drowned', 'field', ',', 'And', 'crows', 'are', 'fatted', 'with', 'the', 'murrion', 'flock', ';', 'The', 'nine', 'men', \"'\", 's', 'morris', 'is', 'fill', \"'\", 'd', 'up', 'with', 'mud', ',', 'And', 'the', 'quaint', 'mazes', 'in', 'the', 'wanton', 'green', 'For', 'lack', 'of', 'tread', 'are', 'undistinguishable', ':', 'The', 'human', 'mortals', 'want', 'their', 'winter', 'here', ';', 'No', 'night', 'is', 'now', 'with', 'hymn', 'or', 'carol', 'blest', ':', 'Therefore', 'the', 'moon', ',', 'the', 'governess', 'of', 'floods', ',', 'Pale', 'in', 'her', 'anger', ',', 'washes', 'all', 'the', 'air', ',', 'That', 'rheumatic', 'diseases', 'do', 'abound', ':', 'And', 'thorough', 'this', 'distemperature', 'we', 'see', 'The', 'seasons', 'alter', ':', 'hoary', '-', 'headed', 'frosts', 'Far', 'in', 'the', 'fresh', 'lap', 'of', 'the', 'crimson', 'rose', ',', 'And', 'on', 'old', 'Hiems', \"'\", 'thin', 'and', 'icy', 'crown', 'An', 'odorous', 'chaplet', 'of', 'sweet', 'summer', 'buds', 'Is', ',', 'as', 'in', 'mockery', ',', 'set', ':', 'the', 'spring', ',', 'the', 'summer', ',', 'The', 'childing', 'autumn', ',', 'angry', 'winter', ',', 'change', 'Their', 'wonted', 'liveries', ',', 'and', 'the', 'mazed', 'world', ',', 'By', 'their', 'increase', ',', 'now', 'knows', 'not', 'which', 'is', 'which', ':', 'And', 'this', 'same', 'progeny', 'of', 'evils', 'comes', 'From', 'our', 'debate', ',', 'from', 'our', 'dissension', ';', 'We', 'are', 'their', 'parents', 'and', 'original', '.', 'OBERON', 'Do', 'you', 'amend', 'it', 'then', ';', 'it', 'lies', 'in', 'you', ':', 'Why', 'should', 'Titania', 'cross', 'her', 'Oberon', '?', 'I', 'do', 'but', 'beg', 'a', 'little', 'changeling', 'boy', ',', 'To', 'be', 'my', 'henchman', '.', 'TITANIA', 'Set', 'your', 'heart', 'at', 'rest', ':', 'The', 'fairy', 'land', 'buys', 'not', 'the', 'child', 'of', 'me', '.', 'His', 'mother', 'was', 'a', 'votaress', 'of', 'my', 'order', ':', 'And', ',', 'in', 'the', 'spiced', 'Indian', 'air', ',', 'by', 'night', ',', 'Full', 'often', 'hath', 'she', 'gossip', \"'\", 'd', 'by', 'my', 'side', ',', 'And', 'sat', 'with', 'me', 'on', 'Neptune', \"'\", 's', 'yellow', 'sands', ',', 'Marking', 'the', 'embarked', 'traders', 'on', 'the', 'flood', ',', 'When', 'we', 'have', 'laugh', \"'\", 'd', 'to', 'see', 'the', 'sails', 'conceive', 'And', 'grow', 'big', '-', 'bellied', 'with', 'the', 'wanton', 'wind', ';', 'Which', 'she', ',', 'with', 'pretty', 'and', 'with', 'swimming', 'gait', 'Following', ',--', 'her', 'womb', 'then', 'rich', 'with', 'my', 'young', 'squire', ',--', 'Would', 'imitate', ',', 'and', 'sail', 'upon', 'the', 'land', ',', 'To', 'fetch', 'me', 'trifles', ',', 'and', 'return', 'again', ',', 'As', 'from', 'a', 'voyage', ',', 'rich', 'with', 'merchandise', '.', 'But', 'she', ',', 'being', 'mortal', ',', 'of', 'that', 'boy', 'did', 'die', ';', 'And', 'for', 'her', 'sake', 'do', 'I', 'rear', 'up', 'her', 'boy', ',', 'And', 'for', 'her', 'sake', 'I', 'will', 'not', 'part', 'with', 'him', '.', 'OBERON', 'How', 'long', 'within', 'this', 'wood', 'intend', 'you', 'stay', '?', 'TITANIA', 'Perchance', 'till', 'after', 'Theseus', \"'\", 'wedding', '-', 'day', '.', 'If', 'you', 'will', 'patiently', 'dance', 'in', 'our', 'round', 'And', 'see', 'our', 'moonlight', 'revels', ',', 'go', 'with', 'us', ';', 'If', 'not', ',', 'shun', 'me', ',', 'and', 'I', 'will', 'spare', 'your', 'haunts', '.', 'OBERON', 'Give', 'me', 'that', 'boy', ',', 'and', 'I', 'will', 'go', 'with', 'thee', '.', 'TITANIA', 'Not', 'for', 'thy', 'fairy', 'kingdom', '.', 'Fairies', ',', 'away', '!', 'We', 'shall', 'chide', 'downright', ',', 'if', 'I', 'longer', 'stay', '.', 'Exit', 'TITANIA', 'with', 'her', 'train', 'OBERON', 'Well', ',', 'go', 'thy', 'way', ':', 'thou', 'shalt', 'not', 'from', 'this', 'grove', 'Till', 'I', 'torment', 'thee', 'for', 'this', 'injury', '.', 'My', 'gentle', 'Puck', ',', 'come', 'hither', '.', 'Thou', 'rememberest', 'Since', 'once', 'I', 'sat', 'upon', 'a', 'promontory', ',', 'And', 'heard', 'a', 'mermaid', 'on', 'a', 'dolphin', \"'\", 's', 'back', 'Uttering', 'such', 'dulcet', 'and', 'harmonious', 'breath', 'That', 'the', 'rude', 'sea', 'grew', 'civil', 'at', 'her', 'song', 'And', 'certain', 'stars', 'shot', 'madly', 'from', 'their', 'spheres', ',', 'To', 'hear', 'the', 'sea', '-', 'maid', \"'\", 's', 'music', '.', 'PUCK', 'I', 'remember', '.', 'OBERON', 'That', 'very', 'time', 'I', 'saw', ',', 'but', 'thou', 'couldst', 'not', ',', 'Flying', 'between', 'the', 'cold', 'moon', 'and', 'the', 'earth', ',', 'Cupid', 'all', 'arm', \"'\", 'd', ':', 'a', 'certain', 'aim', 'he', 'took', 'At', 'a', 'fair', 'vestal', 'throned', 'by', 'the', 'west', ',', 'And', 'loosed', 'his', 'love', '-', 'shaft', 'smartly', 'from', 'his', 'bow', ',', 'As', 'it', 'should', 'pierce', 'a', 'hundred', 'thousand', 'hearts', ';', 'But', 'I', 'might', 'see', 'young', 'Cupid', \"'\", 's', 'fiery', 'shaft', 'Quench', \"'\", 'd', 'in', 'the', 'chaste', 'beams', 'of', 'the', 'watery', 'moon', ',', 'And', 'the', 'imperial', 'votaress', 'passed', 'on', ',', 'In', 'maiden', 'meditation', ',', 'fancy', '-', 'free', '.', 'Yet', 'mark', \"'\", 'd', 'I', 'where', 'the', 'bolt', 'of', 'Cupid', 'fell', ':', 'It', 'fell', 'upon', 'a', 'little', 'western', 'flower', ',', 'Before', 'milk', '-', 'white', ',', 'now', 'purple', 'with', 'love', \"'\", 's', 'wound', ',', 'And', 'maidens', 'call', 'it', 'love', '-', 'in', '-', 'idleness', '.', 'Fetch', 'me', 'that', 'flower', ';', 'the', 'herb', 'I', 'shew', \"'\", 'd', 'thee', 'once', ':', 'The', 'juice', 'of', 'it', 'on', 'sleeping', 'eye', '-', 'lids', 'laid', 'Will', 'make', 'or', 'man', 'or', 'woman', 'madly', 'dote', 'Upon', 'the', 'next', 'live', 'creature', 'that', 'it', 'sees', '.', 'Fetch', 'me', 'this', 'herb', ';', 'and', 'be', 'thou', 'here', 'again', 'Ere', 'the', 'leviathan', 'can', 'swim', 'a', 'league', '.', 'PUCK', 'I', \"'\", 'll', 'put', 'a', 'girdle', 'round', 'about', 'the', 'earth', 'In', 'forty', 'minutes', '.', 'Exit', 'OBERON', 'Having', 'once', 'this', 'juice', ',', 'I', \"'\", 'll', 'watch', 'Titania', 'when', 'she', 'is', 'asleep', ',', 'And', 'drop', 'the', 'liquor', 'of', 'it', 'in', 'her', 'eyes', '.', 'The', 'next', 'thing', 'then', 'she', 'waking', 'looks', 'upon', ',', 'Be', 'it', 'on', 'lion', ',', 'bear', ',', 'or', 'wolf', ',', 'or', 'bull', ',', 'On', 'meddling', 'monkey', ',', 'or', 'on', 'busy', 'ape', ',', 'She', 'shall', 'pursue', 'it', 'with', 'the', 'soul', 'of', 'love', ':', 'And', 'ere', 'I', 'take', 'this', 'charm', 'from', 'off', 'her', 'sight', ',', 'As', 'I', 'can', 'take', 'it', 'with', 'another', 'herb', ',', 'I', \"'\", 'll', 'make', 'her', 'render', 'up', 'her', 'page', 'to', 'me', '.', 'But', 'who', 'comes', 'here', '?', 'I', 'am', 'invisible', ';', 'And', 'I', 'will', 'overhear', 'their', 'conference', '.', 'Enter', 'DEMETRIUS', ',', 'HELENA', ',', 'following', 'him', 'DEMETRIUS', 'I', 'love', 'thee', 'not', ',', 'therefore', 'pursue', 'me', 'not', '.', 'Where', 'is', 'Lysander', 'and', 'fair', 'Hermia', '?', 'The', 'one', 'I', \"'\", 'll', 'slay', ',', 'the', 'other', 'slayeth', 'me', '.', 'Thou', 'told', \"'\", 'st', 'me', 'they', 'were', 'stolen', 'unto', 'this', 'wood', ';', 'And', 'here', 'am', 'I', ',', 'and', 'wode', 'within', 'this', 'wood', ',', 'Because', 'I', 'cannot', 'meet', 'my', 'Hermia', '.', 'Hence', ',', 'get', 'thee', 'gone', ',', 'and', 'follow', 'me', 'no', 'more', '.', 'HELENA', 'You', 'draw', 'me', ',', 'you', 'hard', '-', 'hearted', 'adamant', ';', 'But', 'yet', 'you', 'draw', 'not', 'iron', ',', 'for', 'my', 'heart', 'Is', 'true', 'as', 'steel', ':', 'leave', 'you', 'your', 'power', 'to', 'draw', ',', 'And', 'I', 'shall', 'have', 'no', 'power', 'to', 'follow', 'you', '.', 'DEMETRIUS', 'Do', 'I', 'entice', 'you', '?', 'do', 'I', 'speak', 'you', 'fair', '?', 'Or', ',', 'rather', ',', 'do', 'I', 'not', 'in', 'plainest', 'truth', 'Tell', 'you', ',', 'I', 'do', 'not', ',', 'nor', 'I', 'cannot', 'love', 'you', '?', 'HELENA', 'And', 'even', 'for', 'that', 'do', 'I', 'love', 'you', 'the', 'more', '.', 'I', 'am', 'your', 'spaniel', ';', 'and', ',', 'Demetrius', ',', 'The', 'more', 'you', 'beat', 'me', ',', 'I', 'will', 'fawn', 'on', 'you', ':', 'Use', 'me', 'but', 'as', 'your', 'spaniel', ',', 'spurn', 'me', ',', 'strike', 'me', ',', 'Neglect', 'me', ',', 'lose', 'me', ';', 'only', 'give', 'me', 'leave', ',', 'Unworthy', 'as', 'I', 'am', ',', 'to', 'follow', 'you', '.', 'What', 'worser', 'place', 'can', 'I', 'beg', 'in', 'your', 'love', ',--', 'And', 'yet', 'a', 'place', 'of', 'high', 'respect', 'with', 'me', ',--', 'Than', 'to', 'be', 'used', 'as', 'you', 'use', 'your', 'dog', '?', 'DEMETRIUS', 'Tempt', 'not', 'too', 'much', 'the', 'hatred', 'of', 'my', 'spirit', ';', 'For', 'I', 'am', 'sick', 'when', 'I', 'do', 'look', 'on', 'thee', '.', 'HELENA', 'And', 'I', 'am', 'sick', 'when', 'I', 'look', 'not', 'on', 'you', '.', 'DEMETRIUS', 'You', 'do', 'impeach', 'your', 'modesty', 'too', 'much', ',', 'To', 'leave', 'the', 'city', 'and', 'commit', 'yourself', 'Into', 'the', 'hands', 'of', 'one', 'that', 'loves', 'you', 'not', ';', 'To', 'trust', 'the', 'opportunity', 'of', 'night', 'And', 'the', 'ill', 'counsel', 'of', 'a', 'desert', 'place', 'With', 'the', 'rich', 'worth', 'of', 'your', 'virginity', '.', 'HELENA', 'Your', 'virtue', 'is', 'my', 'privilege', ':', 'for', 'that', 'It', 'is', 'not', 'night', 'when', 'I', 'do', 'see', 'your', 'face', ',', 'Therefore', 'I', 'think', 'I', 'am', 'not', 'in', 'the', 'night', ';', 'Nor', 'doth', 'this', 'wood', 'lack', 'worlds', 'of', 'company', ',', 'For', 'you', 'in', 'my', 'respect', 'are', 'all', 'the', 'world', ':', 'Then', 'how', 'can', 'it', 'be', 'said', 'I', 'am', 'alone', ',', 'When', 'all', 'the', 'world', 'is', 'here', 'to', 'look', 'on', 'me', '?', 'DEMETRIUS', 'I', \"'\", 'll', 'run', 'from', 'thee', 'and', 'hide', 'me', 'in', 'the', 'brakes', ',', 'And', 'leave', 'thee', 'to', 'the', 'mercy', 'of', 'wild', 'beasts', '.', 'HELENA', 'The', 'wildest', 'hath', 'not', 'such', 'a', 'heart', 'as', 'you', '.', 'Run', 'when', 'you', 'will', ',', 'the', 'story', 'shall', 'be', 'changed', ':', 'Apollo', 'flies', ',', 'and', 'Daphne', 'holds', 'the', 'chase', ';', 'The', 'dove', 'pursues', 'the', 'griffin', ';', 'the', 'mild', 'hind', 'Makes', 'speed', 'to', 'catch', 'the', 'tiger', ';', 'bootless', 'speed', ',', 'When', 'cowardice', 'pursues', 'and', 'valour', 'flies', '.', 'DEMETRIUS', 'I', 'will', 'not', 'stay', 'thy', 'questions', ';', 'let', 'me', 'go', ':', 'Or', ',', 'if', 'thou', 'follow', 'me', ',', 'do', 'not', 'believe', 'But', 'I', 'shall', 'do', 'thee', 'mischief', 'in', 'the', 'wood', '.', 'HELENA', 'Ay', ',', 'in', 'the', 'temple', ',', 'in', 'the', 'town', ',', 'the', 'field', ',', 'You', 'do', 'me', 'mischief', '.', 'Fie', ',', 'Demetrius', '!', 'Your', 'wrongs', 'do', 'set', 'a', 'scandal', 'on', 'my', 'sex', ':', 'We', 'cannot', 'fight', 'for', 'love', ',', 'as', 'men', 'may', 'do', ';', 'We', 'should', 'be', 'wood', 'and', 'were', 'not', 'made', 'to', 'woo', '.', 'Exit', 'DEMETRIUS', 'I', \"'\", 'll', 'follow', 'thee', 'and', 'make', 'a', 'heaven', 'of', 'hell', ',', 'To', 'die', 'upon', 'the', 'hand', 'I', 'love', 'so', 'well', '.', 'Exit', 'OBERON', 'Fare', 'thee', 'well', ',', 'nymph', ':', 'ere', 'he', 'do', 'leave', 'this', 'grove', ',', 'Thou', 'shalt', 'fly', 'him', 'and', 'he', 'shall', 'seek', 'thy', 'love', '.', 'Re', '-', 'enter', 'PUCK', 'Hast', 'thou', 'the', 'flower', 'there', '?', 'Welcome', ',', 'wanderer', '.', 'PUCK', 'Ay', ',', 'there', 'it', 'is', '.', 'OBERON', 'I', 'pray', 'thee', ',', 'give', 'it', 'me', '.', 'I', 'know', 'a', 'bank', 'where', 'the', 'wild', 'thyme', 'blows', ',', 'Where', 'oxlips', 'and', 'the', 'nodding', 'violet', 'grows', ',', 'Quite', 'over', '-', 'canopied', 'with', 'luscious', 'woodbine', ',', 'With', 'sweet', 'musk', '-', 'roses', 'and', 'with', 'eglantine', ':', 'There', 'sleeps', 'Titania', 'sometime', 'of', 'the', 'night', ',', 'Lull', \"'\", 'd', 'in', 'these', 'flowers', 'with', 'dances', 'and', 'delight', ';', 'And', 'there', 'the', 'snake', 'throws', 'her', 'enamell', \"'\", 'd', 'skin', ',', 'Weed', 'wide', 'enough', 'to', 'wrap', 'a', 'fairy', 'in', ':', 'And', 'with', 'the', 'juice', 'of', 'this', 'I', \"'\", 'll', 'streak', 'her', 'eyes', ',', 'And', 'make', 'her', 'full', 'of', 'hateful', 'fantasies', '.', 'Take', 'thou', 'some', 'of', 'it', ',', 'and', 'seek', 'through', 'this', 'grove', ':', 'A', 'sweet', 'Athenian', 'lady', 'is', 'in', 'love', 'With', 'a', 'disdainful', 'youth', ':', 'anoint', 'his', 'eyes', ';', 'But', 'do', 'it', 'when', 'the', 'next', 'thing', 'he', 'espies', 'May', 'be', 'the', 'lady', ':', 'thou', 'shalt', 'know', 'the', 'man', 'By', 'the', 'Athenian', 'garments', 'he', 'hath', 'on', '.', 'Effect', 'it', 'with', 'some', 'care', ',', 'that', 'he', 'may', 'prove', 'More', 'fond', 'on', 'her', 'than', 'she', 'upon', 'her', 'love', ':', 'And', 'look', 'thou', 'meet', 'me', 'ere', 'the', 'first', 'cock', 'crow', '.', 'PUCK', 'Fear', 'not', ',', 'my', 'lord', ',', 'your', 'servant', 'shall', 'do', 'so', '.', 'Exeunt', 'SCENE', 'II', '.', 'Another', 'part', 'of', 'the', 'wood', '.', 'Enter', 'TITANIA', ',', 'with', 'her', 'train', 'TITANIA', 'Come', ',', 'now', 'a', 'roundel', 'and', 'a', 'fairy', 'song', ';', 'Then', ',', 'for', 'the', 'third', 'part', 'of', 'a', 'minute', ',', 'hence', ';', 'Some', 'to', 'kill', 'cankers', 'in', 'the', 'musk', '-', 'rose', 'buds', ',', 'Some', 'war', 'with', 'rere', '-', 'mice', 'for', 'their', 'leathern', 'wings', ',', 'To', 'make', 'my', 'small', 'elves', 'coats', ',', 'and', 'some', 'keep', 'back', 'The', 'clamorous', 'owl', 'that', 'nightly', 'hoots', 'and', 'wonders', 'At', 'our', 'quaint', 'spirits', '.', 'Sing', 'me', 'now', 'asleep', ';', 'Then', 'to', 'your', 'offices', 'and', 'let', 'me', 'rest', '.', 'The', 'Fairies', 'sing', 'You', 'spotted', 'snakes', 'with', 'double', 'tongue', ',', 'Thorny', 'hedgehogs', ',', 'be', 'not', 'seen', ';', 'Newts', 'and', 'blind', '-', 'worms', ',', 'do', 'no', 'wrong', ',', 'Come', 'not', 'near', 'our', 'fairy', 'queen', '.', 'Philomel', ',', 'with', 'melody', 'Sing', 'in', 'our', 'sweet', 'lullaby', ';', 'Lulla', ',', 'lulla', ',', 'lullaby', ',', 'lulla', ',', 'lulla', ',', 'lullaby', ':', 'Never', 'harm', ',', 'Nor', 'spell', 'nor', 'charm', ',', 'Come', 'our', 'lovely', 'lady', 'nigh', ';', 'So', ',', 'good', 'night', ',', 'with', 'lullaby', '.', 'Weaving', 'spiders', ',', 'come', 'not', 'here', ';', 'Hence', ',', 'you', 'long', '-', 'legg', \"'\", 'd', 'spinners', ',', 'hence', '!', 'Beetles', 'black', ',', 'approach', 'not', 'near', ';', 'Worm', 'nor', 'snail', ',', 'do', 'no', 'offence', '.', 'Philomel', ',', 'with', 'melody', ',', '&', 'c', '.', 'Fairy', 'Hence', ',', 'away', '!', 'now', 'all', 'is', 'well', ':', 'One', 'aloof', 'stand', 'sentinel', '.', 'Exeunt', 'Fairies', '.', 'TITANIA', 'sleeps', 'Enter', 'OBERON', 'and', 'squeezes', 'the', 'flower', 'on', 'TITANIA', \"'\", 's', 'eyelids', 'OBERON', 'What', 'thou', 'seest', 'when', 'thou', 'dost', 'wake', ',', 'Do', 'it', 'for', 'thy', 'true', '-', 'love', 'take', ',', 'Love', 'and', 'languish', 'for', 'his', 'sake', ':', 'Be', 'it', 'ounce', ',', 'or', 'cat', ',', 'or', 'bear', ',', 'Pard', ',', 'or', 'boar', 'with', 'bristled', 'hair', ',', 'In', 'thy', 'eye', 'that', 'shall', 'appear', 'When', 'thou', 'wakest', ',', 'it', 'is', 'thy', 'dear', ':', 'Wake', 'when', 'some', 'vile', 'thing', 'is', 'near', '.', 'Exit', 'Enter', 'LYSANDER', 'and', 'HERMIA', 'LYSANDER', 'Fair', 'love', ',', 'you', 'faint', 'with', 'wandering', 'in', 'the', 'wood', ';', 'And', 'to', 'speak', 'troth', ',', 'I', 'have', 'forgot', 'our', 'way', ':', 'We', \"'\", 'll', 'rest', 'us', ',', 'Hermia', ',', 'if', 'you', 'think', 'it', 'good', ',', 'And', 'tarry', 'for', 'the', 'comfort', 'of', 'the', 'day', '.', 'HERMIA', 'Be', 'it', 'so', ',', 'Lysander', ':', 'find', 'you', 'out', 'a', 'bed', ';', 'For', 'I', 'upon', 'this', 'bank', 'will', 'rest', 'my', 'head', '.', 'LYSANDER', 'One', 'turf', 'shall', 'serve', 'as', 'pillow', 'for', 'us', 'both', ';', 'One', 'heart', ',', 'one', 'bed', ',', 'two', 'bosoms', 'and', 'one', 'troth', '.', 'HERMIA', 'Nay', ',', 'good', 'Lysander', ';', 'for', 'my', 'sake', ',', 'my', 'dear', ',', 'Lie', 'further', 'off', 'yet', ',', 'do', 'not', 'lie', 'so', 'near', '.', 'LYSANDER', 'O', ',', 'take', 'the', 'sense', ',', 'sweet', ',', 'of', 'my', 'innocence', '!', 'Love', 'takes', 'the', 'meaning', 'in', 'love', \"'\", 's', 'conference', '.', 'I', 'mean', ',', 'that', 'my', 'heart', 'unto', 'yours', 'is', 'knit', 'So', 'that', 'but', 'one', 'heart', 'we', 'can', 'make', 'of', 'it', ';', 'Two', 'bosoms', 'interchained', 'with', 'an', 'oath', ';', 'So', 'then', 'two', 'bosoms', 'and', 'a', 'single', 'troth', '.', 'Then', 'by', 'your', 'side', 'no', 'bed', '-', 'room', 'me', 'deny', ';', 'For', 'lying', 'so', ',', 'Hermia', ',', 'I', 'do', 'not', 'lie', '.', 'HERMIA', 'Lysander', 'riddles', 'very', 'prettily', ':', 'Now', 'much', 'beshrew', 'my', 'manners', 'and', 'my', 'pride', ',', 'If', 'Hermia', 'meant', 'to', 'say', 'Lysander', 'lied', '.', 'But', ',', 'gentle', 'friend', ',', 'for', 'love', 'and', 'courtesy', 'Lie', 'further', 'off', ';', 'in', 'human', 'modesty', ',', 'Such', 'separation', 'as', 'may', 'well', 'be', 'said', 'Becomes', 'a', 'virtuous', 'bachelor', 'and', 'a', 'maid', ',', 'So', 'far', 'be', 'distant', ';', 'and', ',', 'good', 'night', ',', 'sweet', 'friend', ':', 'Thy', 'love', 'ne', \"'\", 'er', 'alter', 'till', 'thy', 'sweet', 'life', 'end', '!', 'LYSANDER', 'Amen', ',', 'amen', ',', 'to', 'that', 'fair', 'prayer', ',', 'say', 'I', ';', 'And', 'then', 'end', 'life', 'when', 'I', 'end', 'loyalty', '!', 'Here', 'is', 'my', 'bed', ':', 'sleep', 'give', 'thee', 'all', 'his', 'rest', '!', 'HERMIA', 'With', 'half', 'that', 'wish', 'the', 'wisher', \"'\", 's', 'eyes', 'be', 'press', \"'\", 'd', '!', 'They', 'sleep', 'Enter', 'PUCK', 'PUCK', 'Through', 'the', 'forest', 'have', 'I', 'gone', '.', 'But', 'Athenian', 'found', 'I', 'none', ',', 'On', 'whose', 'eyes', 'I', 'might', 'approve', 'This', 'flower', \"'\", 's', 'force', 'in', 'stirring', 'love', '.', 'Night', 'and', 'silence', '.--', 'Who', 'is', 'here', '?', 'Weeds', 'of', 'Athens', 'he', 'doth', 'wear', ':', 'This', 'is', 'he', ',', 'my', 'master', 'said', ',', 'Despised', 'the', 'Athenian', 'maid', ';', 'And', 'here', 'the', 'maiden', ',', 'sleeping', 'sound', ',', 'On', 'the', 'dank', 'and', 'dirty', 'ground', '.', 'Pretty', 'soul', '!', 'she', 'durst', 'not', 'lie', 'Near', 'this', 'lack', '-', 'love', ',', 'this', 'kill', '-', 'courtesy', '.', 'Churl', ',', 'upon', 'thy', 'eyes', 'I', 'throw', 'All', 'the', 'power', 'this', 'charm', 'doth', 'owe', '.', 'When', 'thou', 'wakest', ',', 'let', 'love', 'forbid', 'Sleep', 'his', 'seat', 'on', 'thy', 'eyelid', ':', 'So', 'awake', 'when', 'I', 'am', 'gone', ';', 'For', 'I', 'must', 'now', 'to', 'Oberon', '.', 'Exit', 'Enter', 'DEMETRIUS', 'and', 'HELENA', ',', 'running', 'HELENA', 'Stay', ',', 'though', 'thou', 'kill', 'me', ',', 'sweet', 'Demetrius', '.', 'DEMETRIUS', 'I', 'charge', 'thee', ',', 'hence', ',', 'and', 'do', 'not', 'haunt', 'me', 'thus', '.', 'HELENA', 'O', ',', 'wilt', 'thou', 'darkling', 'leave', 'me', '?', 'do', 'not', 'so', '.', 'DEMETRIUS', 'Stay', ',', 'on', 'thy', 'peril', ':', 'I', 'alone', 'will', 'go', '.', 'Exit', 'HELENA', 'O', ',', 'I', 'am', 'out', 'of', 'breath', 'in', 'this', 'fond', 'chase', '!', 'The', 'more', 'my', 'prayer', ',', 'the', 'lesser', 'is', 'my', 'grace', '.', 'Happy', 'is', 'Hermia', ',', 'wheresoe', \"'\", 'er', 'she', 'lies', ';', 'For', 'she', 'hath', 'blessed', 'and', 'attractive', 'eyes', '.', 'How', 'came', 'her', 'eyes', 'so', 'bright', '?', 'Not', 'with', 'salt', 'tears', ':', 'If', 'so', ',', 'my', 'eyes', 'are', 'oftener', 'wash', \"'\", 'd', 'than', 'hers', '.', 'No', ',', 'no', ',', 'I', 'am', 'as', 'ugly', 'as', 'a', 'bear', ';', 'For', 'beasts', 'that', 'meet', 'me', 'run', 'away', 'for', 'fear', ':', 'Therefore', 'no', 'marvel', 'though', 'Demetrius', 'Do', ',', 'as', 'a', 'monster', 'fly', 'my', 'presence', 'thus', '.', 'What', 'wicked', 'and', 'dissembling', 'glass', 'of', 'mine', 'Made', 'me', 'compare', 'with', 'Hermia', \"'\", 's', 'sphery', 'eyne', '?', 'But', 'who', 'is', 'here', '?', 'Lysander', '!', 'on', 'the', 'ground', '!', 'Dead', '?', 'or', 'asleep', '?', 'I', 'see', 'no', 'blood', ',', 'no', 'wound', '.', 'Lysander', 'if', 'you', 'live', ',', 'good', 'sir', ',', 'awake', '.', 'LYSANDER', 'Awaking', 'Transparent', 'Helena', '!', 'Nature', 'shows', 'art', ',', 'That', 'through', 'thy', 'bosom', 'makes', 'me', 'see', 'thy', 'heart', '.', 'Where', 'is', 'Demetrius', '?', 'O', ',', 'how', 'fit', 'a', 'word', 'Is', 'that', 'vile', 'name', 'to', 'perish', 'on', 'my', 'sword', '!', 'HELENA', 'Do', 'not', 'say', 'so', ',', 'Lysander', ';', 'say', 'not', 'so', 'What', 'though', 'he', 'love', 'your', 'Hermia', '?', 'Lord', ',', 'what', 'though', '?', 'Yet', 'Hermia', 'still', 'loves', 'you', ':', 'then', 'be', 'content', '.', 'LYSANDER', 'Content', 'with', 'Hermia', '!', 'No', ';', 'I', 'do', 'repent', 'The', 'tedious', 'minutes', 'I', 'with', 'her', 'have', 'spent', '.', 'Not', 'Hermia', 'but', 'Helena', 'I', 'love', ':', 'Who', 'will', 'not', 'change', 'a', 'raven', 'for', 'a', 'dove', '?', 'The', 'will', 'of', 'man', 'is', 'by', 'his', 'reason', 'sway', \"'\", 'd', ';', 'And', 'reason', 'says', 'you', 'are', 'the', 'worthier', 'maid', '.', 'Things', 'growing', 'are', 'not', 'ripe', 'until', 'their', 'season', 'So', 'I', ',', 'being', 'young', ',', 'till', 'now', 'ripe', 'not', 'to', 'reason', ';', 'And', 'touching', 'now', 'the', 'point', 'of', 'human', 'skill', ',', 'Reason', 'becomes', 'the', 'marshal', 'to', 'my', 'will', 'And', 'leads', 'me', 'to', 'your', 'eyes', ',', 'where', 'I', 'o', \"'\", 'erlook', 'Love', \"'\", 's', 'stories', 'written', 'in', 'love', \"'\", 's', 'richest', 'book', '.', 'HELENA', 'Wherefore', 'was', 'I', 'to', 'this', 'keen', 'mockery', 'born', '?', 'When', 'at', 'your', 'hands', 'did', 'I', 'deserve', 'this', 'scorn', '?', 'Is', \"'\", 't', 'not', 'enough', ',', 'is', \"'\", 't', 'not', 'enough', ',', 'young', 'man', ',', 'That', 'I', 'did', 'never', ',', 'no', ',', 'nor', 'never', 'can', ',', 'Deserve', 'a', 'sweet', 'look', 'from', 'Demetrius', \"'\", 'eye', ',', 'But', 'you', 'must', 'flout', 'my', 'insufficiency', '?', 'Good', 'troth', ',', 'you', 'do', 'me', 'wrong', ',', 'good', 'sooth', ',', 'you', 'do', ',', 'In', 'such', 'disdainful', 'manner', 'me', 'to', 'woo', '.', 'But', 'fare', 'you', 'well', ':', 'perforce', 'I', 'must', 'confess', 'I', 'thought', 'you', 'lord', 'of', 'more', 'true', 'gentleness', '.', 'O', ',', 'that', 'a', 'lady', ',', 'of', 'one', 'man', 'refused', '.', 'Should', 'of', 'another', 'therefore', 'be', 'abused', '!', 'Exit', 'LYSANDER', 'She', 'sees', 'not', 'Hermia', '.', 'Hermia', ',', 'sleep', 'thou', 'there', ':', 'And', 'never', 'mayst', 'thou', 'come', 'Lysander', 'near', '!', 'For', 'as', 'a', 'surfeit', 'of', 'the', 'sweetest', 'things', 'The', 'deepest', 'loathing', 'to', 'the', 'stomach', 'brings', ',', 'Or', 'as', 'tie', 'heresies', 'that', 'men', 'do', 'leave', 'Are', 'hated', 'most', 'of', 'those', 'they', 'did', 'deceive', ',', 'So', 'thou', ',', 'my', 'surfeit', 'and', 'my', 'heresy', ',', 'Of', 'all', 'be', 'hated', ',', 'but', 'the', 'most', 'of', 'me', '!', 'And', ',', 'all', 'my', 'powers', ',', 'address', 'your', 'love', 'and', 'might', 'To', 'honour', 'Helen', 'and', 'to', 'be', 'her', 'knight', '!', 'Exit', 'HERMIA', 'Awaking', 'To', 'pluck', 'this', 'crawling', 'serpent', 'from', 'my', 'breast', '!', 'Ay', 'me', ',', 'for', 'pity', '!', 'what', 'a', 'dream', 'was', 'here', '!', 'Lysander', ',', 'look', 'how', 'I', 'do', 'quake', 'with', 'fear', ':', 'Methought', 'a', 'serpent', 'eat', 'my', 'heart', 'away', ',', 'And', 'you', 'sat', 'smiling', 'at', 'his', 'cruel', 'pray', '.', 'Lysander', '!', 'what', ',', 'removed', '?', 'Lysander', '!', 'lord', '!', 'What', ',', 'out', 'of', 'hearing', '?', 'gone', '?', 'no', 'sound', ',', 'no', 'word', '?', 'Alack', ',', 'where', 'are', 'you', 'speak', ',', 'an', 'if', 'you', 'hear', ';', 'Speak', ',', 'of', 'all', 'loves', '!', 'I', 'swoon', 'almost', 'with', 'fear', '.', 'No', '?', 'then', 'I', 'well', 'perceive', 'you', 'all', 'not', 'nigh', 'Either', 'death', 'or', 'you', 'I', \"'\", 'll', 'find', 'immediately', '.', 'Exit', 'ACT', 'III', 'SCENE', 'I', '.', 'The', 'wood', '.', 'TITANIA', 'lying', 'asleep', '.', 'Enter', 'QUINCE', ',', 'SNUG', ',', 'BOTTOM', ',', 'FLUTE', ',', 'SNOUT', ',', 'and', 'STARVELING', 'BOTTOM', 'Are', 'we', 'all', 'met', '?', 'QUINCE', 'Pat', ',', 'pat', ';', 'and', 'here', \"'\", 's', 'a', 'marvellous', 'convenient', 'place', 'for', 'our', 'rehearsal', '.', 'This', 'green', 'plot', 'shall', 'be', 'our', 'stage', ',', 'this', 'hawthorn', '-', 'brake', 'our', 'tiring', '-', 'house', ';', 'and', 'we', 'will', 'do', 'it', 'in', 'action', 'as', 'we', 'will', 'do', 'it', 'before', 'the', 'duke', '.', 'BOTTOM', 'Peter', 'Quince', ',--', 'QUINCE', 'What', 'sayest', 'thou', ',', 'bully', 'Bottom', '?', 'BOTTOM', 'There', 'are', 'things', 'in', 'this', 'comedy', 'of', 'Pyramus', 'and', 'Thisby', 'that', 'will', 'never', 'please', '.', 'First', ',', 'Pyramus', 'must', 'draw', 'a', 'sword', 'to', 'kill', 'himself', ';', 'which', 'the', 'ladies', 'cannot', 'abide', '.', 'How', 'answer', 'you', 'that', '?', 'SNOUT', 'By', \"'\", 'r', 'lakin', ',', 'a', 'parlous', 'fear', '.', 'STARVELING', 'I', 'believe', 'we', 'must', 'leave', 'the', 'killing', 'out', ',', 'when', 'all', 'is', 'done', '.', 'BOTTOM', 'Not', 'a', 'whit', ':', 'I', 'have', 'a', 'device', 'to', 'make', 'all', 'well', '.', 'Write', 'me', 'a', 'prologue', ';', 'and', 'let', 'the', 'prologue', 'seem', 'to', 'say', ',', 'we', 'will', 'do', 'no', 'harm', 'with', 'our', 'swords', ',', 'and', 'that', 'Pyramus', 'is', 'not', 'killed', 'indeed', ';', 'and', ',', 'for', 'the', 'more', 'better', 'assurance', ',', 'tell', 'them', 'that', 'I', ',', 'Pyramus', ',', 'am', 'not', 'Pyramus', ',', 'but', 'Bottom', 'the', 'weaver', ':', 'this', 'will', 'put', 'them', 'out', 'of', 'fear', '.', 'QUINCE', 'Well', ',', 'we', 'will', 'have', 'such', 'a', 'prologue', ';', 'and', 'it', 'shall', 'be', 'written', 'in', 'eight', 'and', 'six', '.', 'BOTTOM', 'No', ',', 'make', 'it', 'two', 'more', ';', 'let', 'it', 'be', 'written', 'in', 'eight', 'and', 'eight', '.', 'SNOUT', 'Will', 'not', 'the', 'ladies', 'be', 'afeard', 'of', 'the', 'lion', '?', 'STARVELING', 'I', 'fear', 'it', ',', 'I', 'promise', 'you', '.', 'BOTTOM', 'Masters', ',', 'you', 'ought', 'to', 'consider', 'with', 'yourselves', ':', 'to', 'bring', 'in', '--', 'God', 'shield', 'us', '!--', 'a', 'lion', 'among', 'ladies', ',', 'is', 'a', 'most', 'dreadful', 'thing', ';', 'for', 'there', 'is', 'not', 'a', 'more', 'fearful', 'wild', '-', 'fowl', 'than', 'your', 'lion', 'living', ';', 'and', 'we', 'ought', 'to', 'look', 'to', \"'\", 't', '.', 'SNOUT', 'Therefore', 'another', 'prologue', 'must', 'tell', 'he', 'is', 'not', 'a', 'lion', '.', 'BOTTOM', 'Nay', ',', 'you', 'must', 'name', 'his', 'name', ',', 'and', 'half', 'his', 'face', 'must', 'be', 'seen', 'through', 'the', 'lion', \"'\", 's', 'neck', ':', 'and', 'he', 'himself', 'must', 'speak', 'through', ',', 'saying', 'thus', ',', 'or', 'to', 'the', 'same', 'defect', \",--'\", 'Ladies', \",'--\", 'or', \"'\", 'Fair', '-', 'ladies', '--', 'I', 'would', 'wish', 'You', \",'--\", 'or', \"'\", 'I', 'would', 'request', 'you', \",'--\", 'or', \"'\", 'I', 'would', 'entreat', 'you', ',--', 'not', 'to', 'fear', ',', 'not', 'to', 'tremble', ':', 'my', 'life', 'for', 'yours', '.', 'If', 'you', 'think', 'I', 'come', 'hither', 'as', 'a', 'lion', ',', 'it', 'were', 'pity', 'of', 'my', 'life', ':', 'no', 'I', 'am', 'no', 'such', 'thing', ';', 'I', 'am', 'a', 'man', 'as', 'other', 'men', 'are', \";'\", 'and', 'there', 'indeed', 'let', 'him', 'name', 'his', 'name', ',', 'and', 'tell', 'them', 'plainly', 'he', 'is', 'Snug', 'the', 'joiner', '.', 'QUINCE', 'Well', 'it', 'shall', 'be', 'so', '.', 'But', 'there', 'is', 'two', 'hard', 'things', ';', 'that', 'is', ',', 'to', 'bring', 'the', 'moonlight', 'into', 'a', 'chamber', ';', 'for', ',', 'you', 'know', ',', 'Pyramus', 'and', 'Thisby', 'meet', 'by', 'moonlight', '.', 'SNOUT', 'Doth', 'the', 'moon', 'shine', 'that', 'night', 'we', 'play', 'our', 'play', '?', 'BOTTOM', 'A', 'calendar', ',', 'a', 'calendar', '!', 'look', 'in', 'the', 'almanac', ';', 'find', 'out', 'moonshine', ',', 'find', 'out', 'moonshine', '.', 'QUINCE', 'Yes', ',', 'it', 'doth', 'shine', 'that', 'night', '.', 'BOTTOM', 'Why', ',', 'then', 'may', 'you', 'leave', 'a', 'casement', 'of', 'the', 'great', 'chamber', 'window', ',', 'where', 'we', 'play', ',', 'open', ',', 'and', 'the', 'moon', 'may', 'shine', 'in', 'at', 'the', 'casement', '.', 'QUINCE', 'Ay', ';', 'or', 'else', 'one', 'must', 'come', 'in', 'with', 'a', 'bush', 'of', 'thorns', 'and', 'a', 'lanthorn', ',', 'and', 'say', 'he', 'comes', 'to', 'disfigure', ',', 'or', 'to', 'present', ',', 'the', 'person', 'of', 'Moonshine', '.', 'Then', ',', 'there', 'is', 'another', 'thing', ':', 'we', 'must', 'have', 'a', 'wall', 'in', 'the', 'great', 'chamber', ';', 'for', 'Pyramus', 'and', 'Thisby', 'says', 'the', 'story', ',', 'did', 'talk', 'through', 'the', 'chink', 'of', 'a', 'wall', '.', 'SNOUT', 'You', 'can', 'never', 'bring', 'in', 'a', 'wall', '.', 'What', 'say', 'you', ',', 'Bottom', '?', 'BOTTOM', 'Some', 'man', 'or', 'other', 'must', 'present', 'Wall', ':', 'and', 'let', 'him', 'have', 'some', 'plaster', ',', 'or', 'some', 'loam', ',', 'or', 'some', 'rough', '-', 'cast', 'about', 'him', ',', 'to', 'signify', 'wall', ';', 'and', 'let', 'him', 'hold', 'his', 'fingers', 'thus', ',', 'and', 'through', 'that', 'cranny', 'shall', 'Pyramus', 'and', 'Thisby', 'whisper', '.', 'QUINCE', 'If', 'that', 'may', 'be', ',', 'then', 'all', 'is', 'well', '.', 'Come', ',', 'sit', 'down', ',', 'every', 'mother', \"'\", 's', 'son', ',', 'and', 'rehearse', 'your', 'parts', '.', 'Pyramus', ',', 'you', 'begin', ':', 'when', 'you', 'have', 'spoken', 'your', 'speech', ',', 'enter', 'into', 'that', 'brake', ':', 'and', 'so', 'every', 'one', 'according', 'to', 'his', 'cue', '.', 'Enter', 'PUCK', 'behind', 'PUCK', 'What', 'hempen', 'home', '-', 'spuns', 'have', 'we', 'swaggering', 'here', ',', 'So', 'near', 'the', 'cradle', 'of', 'the', 'fairy', 'queen', '?', 'What', ',', 'a', 'play', 'toward', '!', 'I', \"'\", 'll', 'be', 'an', 'auditor', ';', 'An', 'actor', 'too', ',', 'perhaps', ',', 'if', 'I', 'see', 'cause', '.', 'QUINCE', 'Speak', ',', 'Pyramus', '.', 'Thisby', ',', 'stand', 'forth', '.', 'BOTTOM', 'Thisby', ',', 'the', 'flowers', 'of', 'odious', 'savours', 'sweet', ',--', 'QUINCE', 'Odours', ',', 'odours', '.', 'BOTTOM', '--', 'odours', 'savours', 'sweet', ':', 'So', 'hath', 'thy', 'breath', ',', 'my', 'dearest', 'Thisby', 'dear', '.', 'But', 'hark', ',', 'a', 'voice', '!', 'stay', 'thou', 'but', 'here', 'awhile', ',', 'And', 'by', 'and', 'by', 'I', 'will', 'to', 'thee', 'appear', '.', 'Exit', 'PUCK', 'A', 'stranger', 'Pyramus', 'than', 'e', \"'\", 'er', 'played', 'here', '.', 'Exit', 'FLUTE', 'Must', 'I', 'speak', 'now', '?', 'QUINCE', 'Ay', ',', 'marry', ',', 'must', 'you', ';', 'for', 'you', 'must', 'understand', 'he', 'goes', 'but', 'to', 'see', 'a', 'noise', 'that', 'he', 'heard', ',', 'and', 'is', 'to', 'come', 'again', '.', 'FLUTE', 'Most', 'radiant', 'Pyramus', ',', 'most', 'lily', '-', 'white', 'of', 'hue', ',', 'Of', 'colour', 'like', 'the', 'red', 'rose', 'on', 'triumphant', 'brier', ',', 'Most', 'brisky', 'juvenal', 'and', 'eke', 'most', 'lovely', 'Jew', ',', 'As', 'true', 'as', 'truest', 'horse', 'that', 'yet', 'would', 'never', 'tire', ',', 'I', \"'\", 'll', 'meet', 'thee', ',', 'Pyramus', ',', 'at', 'Ninny', \"'\", 's', 'tomb', '.', 'QUINCE', \"'\", 'Ninus', \"'\", 'tomb', \",'\", 'man', ':', 'why', ',', 'you', 'must', 'not', 'speak', 'that', 'yet', ';', 'that', 'you', 'answer', 'to', 'Pyramus', ':', 'you', 'speak', 'all', 'your', 'part', 'at', 'once', ',', 'cues', 'and', 'all', 'Pyramus', 'enter', ':', 'your', 'cue', 'is', 'past', ';', 'it', 'is', ',', \"'\", 'never', 'tire', \".'\", 'FLUTE', 'O', ',--', 'As', 'true', 'as', 'truest', 'horse', ',', 'that', 'yet', 'would', 'never', 'tire', '.', 'Re', '-', 'enter', 'PUCK', ',', 'and', 'BOTTOM', 'with', 'an', 'ass', \"'\", 's', 'head', 'BOTTOM', 'If', 'I', 'were', 'fair', ',', 'Thisby', ',', 'I', 'were', 'only', 'thine', '.', 'QUINCE', 'O', 'monstrous', '!', 'O', 'strange', '!', 'we', 'are', 'haunted', '.', 'Pray', ',', 'masters', '!', 'fly', ',', 'masters', '!', 'Help', '!', 'Exeunt', 'QUINCE', ',', 'SNUG', ',', 'FLUTE', ',', 'SNOUT', ',', 'and', 'STARVELING', 'PUCK', 'I', \"'\", 'll', 'follow', 'you', ',', 'I', \"'\", 'll', 'lead', 'you', 'about', 'a', 'round', ',', 'Through', 'bog', ',', 'through', 'bush', ',', 'through', 'brake', ',', 'through', 'brier', ':', 'Sometime', 'a', 'horse', 'I', \"'\", 'll', 'be', ',', 'sometime', 'a', 'hound', ',', 'A', 'hog', ',', 'a', 'headless', 'bear', ',', 'sometime', 'a', 'fire', ';', 'And', 'neigh', ',', 'and', 'bark', ',', 'and', 'grunt', ',', 'and', 'roar', ',', 'and', 'burn', ',', 'Like', 'horse', ',', 'hound', ',', 'hog', ',', 'bear', ',', 'fire', ',', 'at', 'every', 'turn', '.', 'Exit', 'BOTTOM', 'Why', 'do', 'they', 'run', 'away', '?', 'this', 'is', 'a', 'knavery', 'of', 'them', 'to', 'make', 'me', 'afeard', '.', 'Re', '-', 'enter', 'SNOUT', 'SNOUT', 'O', 'Bottom', ',', 'thou', 'art', 'changed', '!', 'what', 'do', 'I', 'see', 'on', 'thee', '?', 'BOTTOM', 'What', 'do', 'you', 'see', '?', 'you', 'see', 'an', 'asshead', 'of', 'your', 'own', ',', 'do', 'you', '?', 'Exit', 'SNOUT', 'Re', '-', 'enter', 'QUINCE', 'QUINCE', 'Bless', 'thee', ',', 'Bottom', '!', 'bless', 'thee', '!', 'thou', 'art', 'translated', '.', 'Exit', 'BOTTOM', 'I', 'see', 'their', 'knavery', ':', 'this', 'is', 'to', 'make', 'an', 'ass', 'of', 'me', ';', 'to', 'fright', 'me', ',', 'if', 'they', 'could', '.', 'But', 'I', 'will', 'not', 'stir', 'from', 'this', 'place', ',', 'do', 'what', 'they', 'can', ':', 'I', 'will', 'walk', 'up', 'and', 'down', 'here', ',', 'and', 'I', 'will', 'sing', ',', 'that', 'they', 'shall', 'hear', 'I', 'am', 'not', 'afraid', '.', 'Sings', 'The', 'ousel', 'cock', 'so', 'black', 'of', 'hue', ',', 'With', 'orange', '-', 'tawny', 'bill', ',', 'The', 'throstle', 'with', 'his', 'note', 'so', 'true', ',', 'The', 'wren', 'with', 'little', 'quill', ',--', 'TITANIA', 'Awaking', 'BOTTOM', 'Sings', 'The', 'finch', ',', 'the', 'sparrow', 'and', 'the', 'lark', ',', 'The', 'plain', '-', 'song', 'cuckoo', 'gray', ',', 'Whose', 'note', 'full', 'many', 'a', 'man', 'doth', 'mark', ',', 'And', 'dares', 'not', 'answer', 'nay', ';--', 'for', ',', 'indeed', ',', 'who', 'would', 'set', 'his', 'wit', 'to', 'so', 'foolish', 'a', 'bird', '?', 'who', 'would', 'give', 'a', 'bird', 'the', 'lie', ',', 'though', 'he', 'cry', \"'\", 'cuckoo', \"'\", 'never', 'so', '?', 'TITANIA', 'I', 'pray', 'thee', ',', 'gentle', 'mortal', ',', 'sing', 'again', ':', 'Mine', 'ear', 'is', 'much', 'enamour', \"'\", 'd', 'of', 'thy', 'note', ';', 'So', 'is', 'mine', 'eye', 'enthralled', 'to', 'thy', 'shape', ';', 'And', 'thy', 'fair', 'virtue', \"'\", 's', 'force', 'perforce', 'doth', 'move', 'me', 'On', 'the', 'first', 'view', 'to', 'say', ',', 'to', 'swear', ',', 'I', 'love', 'thee', '.', 'BOTTOM', 'Methinks', ',', 'mistress', ',', 'you', 'should', 'have', 'little', 'reason', 'for', 'that', ':', 'and', 'yet', ',', 'to', 'say', 'the', 'truth', ',', 'reason', 'and', 'love', 'keep', 'little', 'company', 'together', 'now', '-', 'a', '-', 'days', ';', 'the', 'more', 'the', 'pity', 'that', 'some', 'honest', 'neighbours', 'will', 'not', 'make', 'them', 'friends', '.', 'Nay', ',', 'I', 'can', 'gleek', 'upon', 'occasion', '.', 'TITANIA', 'Thou', 'art', 'as', 'wise', 'as', 'thou', 'art', 'beautiful', '.', 'BOTTOM', 'Not', 'so', ',', 'neither', ':', 'but', 'if', 'I', 'had', 'wit', 'enough', 'to', 'get', 'out', 'of', 'this', 'wood', ',', 'I', 'have', 'enough', 'to', 'serve', 'mine', 'own', 'turn', '.', 'TITANIA', 'Out', 'of', 'this', 'wood', 'do', 'not', 'desire', 'to', 'go', ':', 'Thou', 'shalt', 'remain', 'here', ',', 'whether', 'thou', 'wilt', 'or', 'no', '.', 'I', 'am', 'a', 'spirit', 'of', 'no', 'common', 'rate', ';', 'The', 'summer', 'still', 'doth', 'tend', 'upon', 'my', 'state', ';', 'And', 'I', 'do', 'love', 'thee', ':', 'therefore', ',', 'go', 'with', 'me', ';', 'I', \"'\", 'll', 'give', 'thee', 'fairies', 'to', 'attend', 'on', 'thee', ',', 'And', 'they', 'shall', 'fetch', 'thee', 'jewels', 'from', 'the', 'deep', ',', 'And', 'sing', 'while', 'thou', 'on', 'pressed', 'flowers', 'dost', 'sleep', ';', 'And', 'I', 'will', 'purge', 'thy', 'mortal', 'grossness', 'so', 'That', 'thou', 'shalt', 'like', 'an', 'airy', 'spirit', 'go', '.', 'Peaseblossom', '!', 'Cobweb', '!', 'Moth', '!', 'and', 'Mustardseed', '!', 'Enter', 'PEASEBLOSSOM', ',', 'COBWEB', ',', 'MOTH', ',', 'and', 'MUSTARDSEED', 'PEASEBLOSSOM', 'Ready', '.', 'COBWEB', 'And', 'I', '.', 'MOTH', 'And', 'I', '.', 'MUSTARDSEED', 'And', 'I', '.', 'ALL', 'Where', 'shall', 'we', 'go', '?', 'TITANIA', 'Be', 'kind', 'and', 'courteous', 'to', 'this', 'gentleman', ';', 'Hop', 'in', 'his', 'walks', 'and', 'gambol', 'in', 'his', 'eyes', ';', 'Feed', 'him', 'with', 'apricocks', 'and', 'dewberries', ',', 'With', 'purple', 'grapes', ',', 'green', 'figs', ',', 'and', 'mulberries', ';', 'The', 'honey', '-', 'bags', 'steal', 'from', 'the', 'humble', '-', 'bees', ',', 'And', 'for', 'night', '-', 'tapers', 'crop', 'their', 'waxen', 'thighs', 'And', 'light', 'them', 'at', 'the', 'fiery', 'glow', '-', 'worm', \"'\", 's', 'eyes', ',', 'To', 'have', 'my', 'love', 'to', 'bed', 'and', 'to', 'arise', ';', 'And', 'pluck', 'the', 'wings', 'from', 'Painted', 'butterflies', 'To', 'fan', 'the', 'moonbeams', 'from', 'his', 'sleeping', 'eyes', ':', 'Nod', 'to', 'him', ',', 'elves', ',', 'and', 'do', 'him', 'courtesies', '.', 'PEASEBLOSSOM', 'Hail', ',', 'mortal', '!', 'COBWEB', 'Hail', '!', 'MOTH', 'Hail', '!', 'MUSTARDSEED', 'Hail', '!', 'BOTTOM', 'I', 'cry', 'your', 'worship', \"'\", 's', 'mercy', ',', 'heartily', ':', 'I', 'beseech', 'your', 'worship', \"'\", 's', 'name', '.', 'COBWEB', 'Cobweb', '.', 'BOTTOM', 'I', 'shall', 'desire', 'you', 'of', 'more', 'acquaintance', ',', 'good', 'Master', 'Cobweb', ':', 'if', 'I', 'cut', 'my', 'finger', ',', 'I', 'shall', 'make', 'bold', 'with', 'you', '.', 'Your', 'name', ',', 'honest', 'gentleman', '?', 'PEASEBLOSSOM', 'Peaseblossom', '.', 'BOTTOM', 'I', 'pray', 'you', ',', 'commend', 'me', 'to', 'Mistress', 'Squash', ',', 'your', 'mother', ',', 'and', 'to', 'Master', 'Peascod', ',', 'your', 'father', '.', 'Good', 'Master', 'Peaseblossom', ',', 'I', 'shall', 'desire', 'you', 'of', 'more', 'acquaintance', 'too', '.', 'Your', 'name', ',', 'I', 'beseech', 'you', ',', 'sir', '?', 'MUSTARDSEED', 'Mustardseed', '.', 'BOTTOM', 'Good', 'Master', 'Mustardseed', ',', 'I', 'know', 'your', 'patience', 'well', ':', 'that', 'same', 'cowardly', ',', 'giant', '-', 'like', 'ox', '-', 'beef', 'hath', 'devoured', 'many', 'a', 'gentleman', 'of', 'your', 'house', ':', 'I', 'promise', 'you', 'your', 'kindred', 'had', 'made', 'my', 'eyes', 'water', 'ere', 'now', '.', 'I', 'desire', 'your', 'more', 'acquaintance', ',', 'good', 'Master', 'Mustardseed', '.', 'TITANIA', 'Come', ',', 'wait', 'upon', 'him', ';', 'lead', 'him', 'to', 'my', 'bower', '.', 'The', 'moon', 'methinks', 'looks', 'with', 'a', 'watery', 'eye', ';', 'And', 'when', 'she', 'weeps', ',', 'weeps', 'every', 'little', 'flower', ',', 'Lamenting', 'some', 'enforced', 'chastity', '.', 'Tie', 'up', 'my', 'love', \"'\", 's', 'tongue', 'bring', 'him', 'silently', '.', 'Exeunt', 'SCENE', 'II', '.', 'Another', 'part', 'of', 'the', 'wood', '.', 'Enter', 'OBERON', 'OBERON', 'I', 'wonder', 'if', 'Titania', 'be', 'awaked', ';', 'Then', ',', 'what', 'it', 'was', 'that', 'next', 'came', 'in', 'her', 'eye', ',', 'Which', 'she', 'must', 'dote', 'on', 'in', 'extremity', '.', 'Enter', 'PUCK', 'Here', 'comes', 'my', 'messenger', '.', 'How', 'now', ',', 'mad', 'spirit', '!', 'What', 'night', '-', 'rule', 'now', 'about', 'this', 'haunted', 'grove', '?', 'PUCK', 'My', 'mistress', 'with', 'a', 'monster', 'is', 'in', 'love', '.', 'Near', 'to', 'her', 'close', 'and', 'consecrated', 'bower', ',', 'While', 'she', 'was', 'in', 'her', 'dull', 'and', 'sleeping', 'hour', ',', 'A', 'crew', 'of', 'patches', ',', 'rude', 'mechanicals', ',', 'That', 'work', 'for', 'bread', 'upon', 'Athenian', 'stalls', ',', 'Were', 'met', 'together', 'to', 'rehearse', 'a', 'play', 'Intended', 'for', 'great', 'Theseus', \"'\", 'nuptial', '-', 'day', '.', 'The', 'shallowest', 'thick', '-', 'skin', 'of', 'that', 'barren', 'sort', ',', 'Who', 'Pyramus', 'presented', ',', 'in', 'their', 'sport', 'Forsook', 'his', 'scene', 'and', 'enter', \"'\", 'd', 'in', 'a', 'brake', 'When', 'I', 'did', 'him', 'at', 'this', 'advantage', 'take', ',', 'An', 'ass', \"'\", 's', 'nole', 'I', 'fixed', 'on', 'his', 'head', ':', 'Anon', 'his', 'Thisbe', 'must', 'be', 'answered', ',', 'And', 'forth', 'my', 'mimic', 'comes', '.', 'When', 'they', 'him', 'spy', ',', 'As', 'wild', 'geese', 'that', 'the', 'creeping', 'fowler', 'eye', ',', 'Or', 'russet', '-', 'pated', 'choughs', ',', 'many', 'in', 'sort', ',', 'Rising', 'and', 'cawing', 'at', 'the', 'gun', \"'\", 's', 'report', ',', 'Sever', 'themselves', 'and', 'madly', 'sweep', 'the', 'sky', ',', 'So', ',', 'at', 'his', 'sight', ',', 'away', 'his', 'fellows', 'fly', ';', 'And', ',', 'at', 'our', 'stamp', ',', 'here', 'o', \"'\", 'er', 'and', 'o', \"'\", 'er', 'one', 'falls', ';', 'He', 'murder', 'cries', 'and', 'help', 'from', 'Athens', 'calls', '.', 'Their', 'sense', 'thus', 'weak', ',', 'lost', 'with', 'their', 'fears', 'thus', 'strong', ',', 'Made', 'senseless', 'things', 'begin', 'to', 'do', 'them', 'wrong', ';', 'For', 'briers', 'and', 'thorns', 'at', 'their', 'apparel', 'snatch', ';', 'Some', 'sleeves', ',', 'some', 'hats', ',', 'from', 'yielders', 'all', 'things', 'catch', '.', 'I', 'led', 'them', 'on', 'in', 'this', 'distracted', 'fear', ',', 'And', 'left', 'sweet', 'Pyramus', 'translated', 'there', ':', 'When', 'in', 'that', 'moment', ',', 'so', 'it', 'came', 'to', 'pass', ',', 'Titania', 'waked', 'and', 'straightway', 'loved', 'an', 'ass', '.', 'OBERON', 'This', 'falls', 'out', 'better', 'than', 'I', 'could', 'devise', '.', 'But', 'hast', 'thou', 'yet', 'latch', \"'\", 'd', 'the', 'Athenian', \"'\", 's', 'eyes', 'With', 'the', 'love', '-', 'juice', ',', 'as', 'I', 'did', 'bid', 'thee', 'do', '?', 'PUCK', 'I', 'took', 'him', 'sleeping', ',--', 'that', 'is', 'finish', \"'\", 'd', 'too', ',--', 'And', 'the', 'Athenian', 'woman', 'by', 'his', 'side', ':', 'That', ',', 'when', 'he', 'waked', ',', 'of', 'force', 'she', 'must', 'be', 'eyed', '.', 'Enter', 'HERMIA', 'and', 'DEMETRIUS', 'OBERON', 'Stand', 'close', ':', 'this', 'is', 'the', 'same', 'Athenian', '.', 'PUCK', 'This', 'is', 'the', 'woman', ',', 'but', 'not', 'this', 'the', 'man', '.', 'DEMETRIUS', 'O', ',', 'why', 'rebuke', 'you', 'him', 'that', 'loves', 'you', 'so', '?', 'Lay', 'breath', 'so', 'bitter', 'on', 'your', 'bitter', 'foe', '.', 'HERMIA', 'Now', 'I', 'but', 'chide', ';', 'but', 'I', 'should', 'use', 'thee', 'worse', ',', 'For', 'thou', ',', 'I', 'fear', ',', 'hast', 'given', 'me', 'cause', 'to', 'curse', ',', 'If', 'thou', 'hast', 'slain', 'Lysander', 'in', 'his', 'sleep', ',', 'Being', 'o', \"'\", 'er', 'shoes', 'in', 'blood', ',', 'plunge', 'in', 'the', 'deep', ',', 'And', 'kill', 'me', 'too', '.', 'The', 'sun', 'was', 'not', 'so', 'true', 'unto', 'the', 'day', 'As', 'he', 'to', 'me', ':', 'would', 'he', 'have', 'stolen', 'away', 'From', 'sleeping', 'Hermia', '?', 'I', \"'\", 'll', 'believe', 'as', 'soon', 'This', 'whole', 'earth', 'may', 'be', 'bored', 'and', 'that', 'the', 'moon', 'May', 'through', 'the', 'centre', 'creep', 'and', 'so', 'displease', 'Her', 'brother', \"'\", 's', 'noontide', 'with', 'Antipodes', '.', 'It', 'cannot', 'be', 'but', 'thou', 'hast', 'murder', \"'\", 'd', 'him', ';', 'So', 'should', 'a', 'murderer', 'look', ',', 'so', 'dead', ',', 'so', 'grim', '.', 'DEMETRIUS', 'So', 'should', 'the', 'murder', \"'\", 'd', 'look', ',', 'and', 'so', 'should', 'I', ',', 'Pierced', 'through', 'the', 'heart', 'with', 'your', 'stern', 'cruelty', ':', 'Yet', 'you', ',', 'the', 'murderer', ',', 'look', 'as', 'bright', ',', 'as', 'clear', ',', 'As', 'yonder', 'Venus', 'in', 'her', 'glimmering', 'sphere', '.', 'HERMIA', 'What', \"'\", 's', 'this', 'to', 'my', 'Lysander', '?', 'where', 'is', 'he', '?', 'Ah', ',', 'good', 'Demetrius', ',', 'wilt', 'thou', 'give', 'him', 'me', '?', 'DEMETRIUS', 'I', 'had', 'rather', 'give', 'his', 'carcass', 'to', 'my', 'hounds', '.', 'HERMIA', 'Out', ',', 'dog', '!', 'out', ',', 'cur', '!', 'thou', 'drivest', 'me', 'past', 'the', 'bounds', 'Of', 'maiden', \"'\", 's', 'patience', '.', 'Hast', 'thou', 'slain', 'him', ',', 'then', '?', 'Henceforth', 'be', 'never', 'number', \"'\", 'd', 'among', 'men', '!', 'O', ',', 'once', 'tell', 'true', ',', 'tell', 'true', ',', 'even', 'for', 'my', 'sake', '!', 'Durst', 'thou', 'have', 'look', \"'\", 'd', 'upon', 'him', 'being', 'awake', ',', 'And', 'hast', 'thou', 'kill', \"'\", 'd', 'him', 'sleeping', '?', 'O', 'brave', 'touch', '!', 'Could', 'not', 'a', 'worm', ',', 'an', 'adder', ',', 'do', 'so', 'much', '?', 'An', 'adder', 'did', 'it', ';', 'for', 'with', 'doubler', 'tongue', 'Than', 'thine', ',', 'thou', 'serpent', ',', 'never', 'adder', 'stung', '.', 'DEMETRIUS', 'You', 'spend', 'your', 'passion', 'on', 'a', 'misprised', 'mood', ':', 'I', 'am', 'not', 'guilty', 'of', 'Lysander', \"'\", 's', 'blood', ';', 'Nor', 'is', 'he', 'dead', ',', 'for', 'aught', 'that', 'I', 'can', 'tell', '.', 'HERMIA', 'I', 'pray', 'thee', ',', 'tell', 'me', 'then', 'that', 'he', 'is', 'well', '.', 'DEMETRIUS', 'An', 'if', 'I', 'could', ',', 'what', 'should', 'I', 'get', 'therefore', '?', 'HERMIA', 'A', 'privilege', 'never', 'to', 'see', 'me', 'more', '.', 'And', 'from', 'thy', 'hated', 'presence', 'part', 'I', 'so', ':', 'See', 'me', 'no', 'more', ',', 'whether', 'he', 'be', 'dead', 'or', 'no', '.', 'Exit', 'DEMETRIUS', 'There', 'is', 'no', 'following', 'her', 'in', 'this', 'fierce', 'vein', ':', 'Here', 'therefore', 'for', 'a', 'while', 'I', 'will', 'remain', '.', 'So', 'sorrow', \"'\", 's', 'heaviness', 'doth', 'heavier', 'grow', 'For', 'debt', 'that', 'bankrupt', 'sleep', 'doth', 'sorrow', 'owe', ':', 'Which', 'now', 'in', 'some', 'slight', 'measure', 'it', 'will', 'pay', ',', 'If', 'for', 'his', 'tender', 'here', 'I', 'make', 'some', 'stay', '.', 'Lies', 'down', 'and', 'sleeps', 'OBERON', 'What', 'hast', 'thou', 'done', '?', 'thou', 'hast', 'mistaken', 'quite', 'And', 'laid', 'the', 'love', '-', 'juice', 'on', 'some', 'true', '-', 'love', \"'\", 's', 'sight', ':', 'Of', 'thy', 'misprision', 'must', 'perforce', 'ensue', 'Some', 'true', 'love', 'turn', \"'\", 'd', 'and', 'not', 'a', 'false', 'turn', \"'\", 'd', 'true', '.', 'PUCK', 'Then', 'fate', 'o', \"'\", 'er', '-', 'rules', ',', 'that', ',', 'one', 'man', 'holding', 'troth', ',', 'A', 'million', 'fail', ',', 'confounding', 'oath', 'on', 'oath', '.', 'OBERON', 'About', 'the', 'wood', 'go', 'swifter', 'than', 'the', 'wind', ',', 'And', 'Helena', 'of', 'Athens', 'look', 'thou', 'find', ':', 'All', 'fancy', '-', 'sick', 'she', 'is', 'and', 'pale', 'of', 'cheer', ',', 'With', 'sighs', 'of', 'love', ',', 'that', 'costs', 'the', 'fresh', 'blood', 'dear', ':', 'By', 'some', 'illusion', 'see', 'thou', 'bring', 'her', 'here', ':', 'I', \"'\", 'll', 'charm', 'his', 'eyes', 'against', 'she', 'do', 'appear', '.', 'PUCK', 'I', 'go', ',', 'I', 'go', ';', 'look', 'how', 'I', 'go', ',', 'Swifter', 'than', 'arrow', 'from', 'the', 'Tartar', \"'\", 's', 'bow', '.', 'Exit', 'OBERON', 'Flower', 'of', 'this', 'purple', 'dye', ',', 'Hit', 'with', 'Cupid', \"'\", 's', 'archery', ',', 'Sink', 'in', 'apple', 'of', 'his', 'eye', '.', 'When', 'his', 'love', 'he', 'doth', 'espy', ',', 'Let', 'her', 'shine', 'as', 'gloriously', 'As', 'the', 'Venus', 'of', 'the', 'sky', '.', 'When', 'thou', 'wakest', ',', 'if', 'she', 'be', 'by', ',', 'Beg', 'of', 'her', 'for', 'remedy', '.', 'Re', '-', 'enter', 'PUCK', 'PUCK', 'Captain', 'of', 'our', 'fairy', 'band', ',', 'Helena', 'is', 'here', 'at', 'hand', ';', 'And', 'the', 'youth', ',', 'mistook', 'by', 'me', ',', 'Pleading', 'for', 'a', 'lover', \"'\", 's', 'fee', '.', 'Shall', 'we', 'their', 'fond', 'pageant', 'see', '?', 'Lord', ',', 'what', 'fools', 'these', 'mortals', 'be', '!', 'OBERON', 'Stand', 'aside', ':', 'the', 'noise', 'they', 'make', 'Will', 'cause', 'Demetrius', 'to', 'awake', '.', 'PUCK', 'Then', 'will', 'two', 'at', 'once', 'woo', 'one', ';', 'That', 'must', 'needs', 'be', 'sport', 'alone', ';', 'And', 'those', 'things', 'do', 'best', 'please', 'me', 'That', 'befal', 'preposterously', '.', 'Enter', 'LYSANDER', 'and', 'HELENA', 'LYSANDER', 'Why', 'should', 'you', 'think', 'that', 'I', 'should', 'woo', 'in', 'scorn', '?', 'Scorn', 'and', 'derision', 'never', 'come', 'in', 'tears', ':', 'Look', ',', 'when', 'I', 'vow', ',', 'I', 'weep', ';', 'and', 'vows', 'so', 'born', ',', 'In', 'their', 'nativity', 'all', 'truth', 'appears', '.', 'How', 'can', 'these', 'things', 'in', 'me', 'seem', 'scorn', 'to', 'you', ',', 'Bearing', 'the', 'badge', 'of', 'faith', ',', 'to', 'prove', 'them', 'true', '?', 'HELENA', 'You', 'do', 'advance', 'your', 'cunning', 'more', 'and', 'more', '.', 'When', 'truth', 'kills', 'truth', ',', 'O', 'devilish', '-', 'holy', 'fray', '!', 'These', 'vows', 'are', 'Hermia', \"'\", 's', ':', 'will', 'you', 'give', 'her', 'o', \"'\", 'er', '?', 'Weigh', 'oath', 'with', 'oath', ',', 'and', 'you', 'will', 'nothing', 'weigh', ':', 'Your', 'vows', 'to', 'her', 'and', 'me', ',', 'put', 'in', 'two', 'scales', ',', 'Will', 'even', 'weigh', ',', 'and', 'both', 'as', 'light', 'as', 'tales', '.', 'LYSANDER', 'I', 'had', 'no', 'judgment', 'when', 'to', 'her', 'I', 'swore', '.', 'HELENA', 'Nor', 'none', ',', 'in', 'my', 'mind', ',', 'now', 'you', 'give', 'her', 'o', \"'\", 'er', '.', 'LYSANDER', 'Demetrius', 'loves', 'her', ',', 'and', 'he', 'loves', 'not', 'you', '.', 'DEMETRIUS', 'Awaking', 'To', 'what', ',', 'my', 'love', ',', 'shall', 'I', 'compare', 'thine', 'eyne', '?', 'Crystal', 'is', 'muddy', '.', 'O', ',', 'how', 'ripe', 'in', 'show', 'Thy', 'lips', ',', 'those', 'kissing', 'cherries', ',', 'tempting', 'grow', '!', 'That', 'pure', 'congealed', 'white', ',', 'high', 'Taurus', 'snow', ',', 'Fann', \"'\", 'd', 'with', 'the', 'eastern', 'wind', ',', 'turns', 'to', 'a', 'crow', 'When', 'thou', 'hold', \"'\", 'st', 'up', 'thy', 'hand', ':', 'O', ',', 'let', 'me', 'kiss', 'This', 'princess', 'of', 'pure', 'white', ',', 'this', 'seal', 'of', 'bliss', '!', 'HELENA', 'O', 'spite', '!', 'O', 'hell', '!', 'I', 'see', 'you', 'all', 'are', 'bent', 'To', 'set', 'against', 'me', 'for', 'your', 'merriment', ':', 'If', 'you', 'we', 're', 'civil', 'and', 'knew', 'courtesy', ',', 'You', 'would', 'not', 'do', 'me', 'thus', 'much', 'injury', '.', 'Can', 'you', 'not', 'hate', 'me', ',', 'as', 'I', 'know', 'you', 'do', ',', 'But', 'you', 'must', 'join', 'in', 'souls', 'to', 'mock', 'me', 'too', '?', 'If', 'you', 'were', 'men', ',', 'as', 'men', 'you', 'are', 'in', 'show', ',', 'You', 'would', 'not', 'use', 'a', 'gentle', 'lady', 'so', ';', 'To', 'vow', ',', 'and', 'swear', ',', 'and', 'superpraise', 'my', 'parts', ',', 'When', 'I', 'am', 'sure', 'you', 'hate', 'me', 'with', 'your', 'hearts', '.', 'You', 'both', 'are', 'rivals', ',', 'and', 'love', 'Hermia', ';', 'And', 'now', 'both', 'rivals', ',', 'to', 'mock', 'Helena', ':', 'A', 'trim', 'exploit', ',', 'a', 'manly', 'enterprise', ',', 'To', 'conjure', 'tears', 'up', 'in', 'a', 'poor', 'maid', \"'\", 's', 'eyes', 'With', 'your', 'derision', '!', 'none', 'of', 'noble', 'sort', 'Would', 'so', 'offend', 'a', 'virgin', ',', 'and', 'extort', 'A', 'poor', 'soul', \"'\", 's', 'patience', ',', 'all', 'to', 'make', 'you', 'sport', '.', 'LYSANDER', 'You', 'are', 'unkind', ',', 'Demetrius', ';', 'be', 'not', 'so', ';', 'For', 'you', 'love', 'Hermia', ';', 'this', 'you', 'know', 'I', 'know', ':', 'And', 'here', ',', 'with', 'all', 'good', 'will', ',', 'with', 'all', 'my', 'heart', ',', 'In', 'Hermia', \"'\", 's', 'love', 'I', 'yield', 'you', 'up', 'my', 'part', ';', 'And', 'yours', 'of', 'Helena', 'to', 'me', 'bequeath', ',', 'Whom', 'I', 'do', 'love', 'and', 'will', 'do', 'till', 'my', 'death', '.', 'HELENA', 'Never', 'did', 'mockers', 'waste', 'more', 'idle', 'breath', '.', 'DEMETRIUS', 'Lysander', ',', 'keep', 'thy', 'Hermia', ';', 'I', 'will', 'none', ':', 'If', 'e', \"'\", 'er', 'I', 'loved', 'her', ',', 'all', 'that', 'love', 'is', 'gone', '.', 'My', 'heart', 'to', 'her', 'but', 'as', 'guest', '-', 'wise', 'sojourn', \"'\", 'd', ',', 'And', 'now', 'to', 'Helen', 'is', 'it', 'home', 'return', \"'\", 'd', ',', 'There', 'to', 'remain', '.', 'LYSANDER', 'Helen', ',', 'it', 'is', 'not', 'so', '.', 'DEMETRIUS', 'Disparage', 'not', 'the', 'faith', 'thou', 'dost', 'not', 'know', ',', 'Lest', ',', 'to', 'thy', 'peril', ',', 'thou', 'aby', 'it', 'dear', '.', 'Look', ',', 'where', 'thy', 'love', 'comes', ';', 'yonder', 'is', 'thy', 'dear', '.', 'Re', '-', 'enter', 'HERMIA', 'HERMIA', 'Dark', 'night', ',', 'that', 'from', 'the', 'eye', 'his', 'function', 'takes', ',', 'The', 'ear', 'more', 'quick', 'of', 'apprehension', 'makes', ';', 'Wherein', 'it', 'doth', 'impair', 'the', 'seeing', 'sense', ',', 'It', 'pays', 'the', 'hearing', 'double', 'recompense', '.', 'Thou', 'art', 'not', 'by', 'mine', 'eye', ',', 'Lysander', ',', 'found', ';', 'Mine', 'ear', ',', 'I', 'thank', 'it', ',', 'brought', 'me', 'to', 'thy', 'sound', 'But', 'why', 'unkindly', 'didst', 'thou', 'leave', 'me', 'so', '?', 'LYSANDER', 'Why', 'should', 'he', 'stay', ',', 'whom', 'love', 'doth', 'press', 'to', 'go', '?', 'HERMIA', 'What', 'love', 'could', 'press', 'Lysander', 'from', 'my', 'side', '?', 'LYSANDER', 'Lysander', \"'\", 's', 'love', ',', 'that', 'would', 'not', 'let', 'him', 'bide', ',', 'Fair', 'Helena', ',', 'who', 'more', 'engilds', 'the', 'night', 'Than', 'all', 'you', 'fiery', 'oes', 'and', 'eyes', 'of', 'light', '.', 'Why', 'seek', \"'\", 'st', 'thou', 'me', '?', 'could', 'not', 'this', 'make', 'thee', 'know', ',', 'The', 'hate', 'I', 'bear', 'thee', 'made', 'me', 'leave', 'thee', 'so', '?', 'HERMIA', 'You', 'speak', 'not', 'as', 'you', 'think', ':', 'it', 'cannot', 'be', '.', 'HELENA', 'Lo', ',', 'she', 'is', 'one', 'of', 'this', 'confederacy', '!', 'Now', 'I', 'perceive', 'they', 'have', 'conjoin', \"'\", 'd', 'all', 'three', 'To', 'fashion', 'this', 'false', 'sport', ',', 'in', 'spite', 'of', 'me', '.', 'Injurious', 'Hermia', '!', 'most', 'ungrateful', 'maid', '!', 'Have', 'you', 'conspired', ',', 'have', 'you', 'with', 'these', 'contrived', 'To', 'bait', 'me', 'with', 'this', 'foul', 'derision', '?', 'Is', 'all', 'the', 'counsel', 'that', 'we', 'two', 'have', 'shared', ',', 'The', 'sisters', \"'\", 'vows', ',', 'the', 'hours', 'that', 'we', 'have', 'spent', ',', 'When', 'we', 'have', 'chid', 'the', 'hasty', '-', 'footed', 'time', 'For', 'parting', 'us', ',--', 'O', ',', 'is', 'it', 'all', 'forgot', '?', 'All', 'school', '-', 'days', \"'\", 'friendship', ',', 'childhood', 'innocence', '?', 'We', ',', 'Hermia', ',', 'like', 'two', 'artificial', 'gods', ',', 'Have', 'with', 'our', 'needles', 'created', 'both', 'one', 'flower', ',', 'Both', 'on', 'one', 'sampler', ',', 'sitting', 'on', 'one', 'cushion', ',', 'Both', 'warbling', 'of', 'one', 'song', ',', 'both', 'in', 'one', 'key', ',', 'As', 'if', 'our', 'hands', ',', 'our', 'sides', ',', 'voices', 'and', 'minds', ',', 'Had', 'been', 'incorporate', '.', 'So', 'we', 'grow', 'together', ',', 'Like', 'to', 'a', 'double', 'cherry', ',', 'seeming', 'parted', ',', 'But', 'yet', 'an', 'union', 'in', 'partition', ';', 'Two', 'lovely', 'berries', 'moulded', 'on', 'one', 'stem', ';', 'So', ',', 'with', 'two', 'seeming', 'bodies', ',', 'but', 'one', 'heart', ';', 'Two', 'of', 'the', 'first', ',', 'like', 'coats', 'in', 'heraldry', ',', 'Due', 'but', 'to', 'one', 'and', 'crowned', 'with', 'one', 'crest', '.', 'And', 'will', 'you', 'rent', 'our', 'ancient', 'love', 'asunder', ',', 'To', 'join', 'with', 'men', 'in', 'scorning', 'your', 'poor', 'friend', '?', 'It', 'is', 'not', 'friendly', ',', \"'\", 'tis', 'not', 'maidenly', ':', 'Our', 'sex', ',', 'as', 'well', 'as', 'I', ',', 'may', 'chide', 'you', 'for', 'it', ',', 'Though', 'I', 'alone', 'do', 'feel', 'the', 'injury', '.', 'HERMIA', 'I', 'am', 'amazed', 'at', 'your', 'passionate', 'words', '.', 'I', 'scorn', 'you', 'not', ':', 'it', 'seems', 'that', 'you', 'scorn', 'me', '.', 'HELENA', 'Have', 'you', 'not', 'set', 'Lysander', ',', 'as', 'in', 'scorn', ',', 'To', 'follow', 'me', 'and', 'praise', 'my', 'eyes', 'and', 'face', '?', 'And', 'made', 'your', 'other', 'love', ',', 'Demetrius', ',', 'Who', 'even', 'but', 'now', 'did', 'spurn', 'me', 'with', 'his', 'foot', ',', 'To', 'call', 'me', 'goddess', ',', 'nymph', ',', 'divine', 'and', 'rare', ',', 'Precious', ',', 'celestial', '?', 'Wherefore', 'speaks', 'he', 'this', 'To', 'her', 'he', 'hates', '?', 'and', 'wherefore', 'doth', 'Lysander', 'Deny', 'your', 'love', ',', 'so', 'rich', 'within', 'his', 'soul', ',', 'And', 'tender', 'me', ',', 'forsooth', ',', 'affection', ',', 'But', 'by', 'your', 'setting', 'on', ',', 'by', 'your', 'consent', '?', 'What', 'thought', 'I', 'be', 'not', 'so', 'in', 'grace', 'as', 'you', ',', 'So', 'hung', 'upon', 'with', 'love', ',', 'so', 'fortunate', ',', 'But', 'miserable', 'most', ',', 'to', 'love', 'unloved', '?', 'This', 'you', 'should', 'pity', 'rather', 'than', 'despise', '.', 'HERNIA', 'I', 'understand', 'not', 'what', 'you', 'mean', 'by', 'this', '.', 'HELENA', 'Ay', ',', 'do', ',', 'persever', ',', 'counterfeit', 'sad', 'looks', ',', 'Make', 'mouths', 'upon', 'me', 'when', 'I', 'turn', 'my', 'back', ';', 'Wink', 'each', 'at', 'other', ';', 'hold', 'the', 'sweet', 'jest', 'up', ':', 'This', 'sport', ',', 'well', 'carried', ',', 'shall', 'be', 'chronicled', '.', 'If', 'you', 'have', 'any', 'pity', ',', 'grace', ',', 'or', 'manners', ',', 'You', 'would', 'not', 'make', 'me', 'such', 'an', 'argument', '.', 'But', 'fare', 'ye', 'well', ':', \"'\", 'tis', 'partly', 'my', 'own', 'fault', ';', 'Which', 'death', 'or', 'absence', 'soon', 'shall', 'remedy', '.', 'LYSANDER', 'Stay', ',', 'gentle', 'Helena', ';', 'hear', 'my', 'excuse', ':', 'My', 'love', ',', 'my', 'life', 'my', 'soul', ',', 'fair', 'Helena', '!', 'HELENA', 'O', 'excellent', '!', 'HERMIA', 'Sweet', ',', 'do', 'not', 'scorn', 'her', 'so', '.', 'DEMETRIUS', 'If', 'she', 'cannot', 'entreat', ',', 'I', 'can', 'compel', '.', 'LYSANDER', 'Thou', 'canst', 'compel', 'no', 'more', 'than', 'she', 'entreat', ':', 'Thy', 'threats', 'have', 'no', 'more', 'strength', 'than', 'her', 'weak', 'prayers', '.', 'Helen', ',', 'I', 'love', 'thee', ';', 'by', 'my', 'life', ',', 'I', 'do', ':', 'I', 'swear', 'by', 'that', 'which', 'I', 'will', 'lose', 'for', 'thee', ',', 'To', 'prove', 'him', 'false', 'that', 'says', 'I', 'love', 'thee', 'not', '.', 'DEMETRIUS', 'I', 'say', 'I', 'love', 'thee', 'more', 'than', 'he', 'can', 'do', '.', 'LYSANDER', 'If', 'thou', 'say', 'so', ',', 'withdraw', ',', 'and', 'prove', 'it', 'too', '.', 'DEMETRIUS', 'Quick', ',', 'come', '!', 'HERMIA', 'Lysander', ',', 'whereto', 'tends', 'all', 'this', '?', 'LYSANDER', 'Away', ',', 'you', 'Ethiope', '!', 'DEMETRIUS', 'No', ',', 'no', ';', 'he', \"'\", 'll', 'Seem', 'to', 'break', 'loose', ';', 'take', 'on', 'as', 'you', 'would', 'follow', ',', 'But', 'yet', 'come', 'not', ':', 'you', 'are', 'a', 'tame', 'man', ',', 'go', '!', 'LYSANDER', 'Hang', 'off', ',', 'thou', 'cat', ',', 'thou', 'burr', '!', 'vile', 'thing', ',', 'let', 'loose', ',', 'Or', 'I', 'will', 'shake', 'thee', 'from', 'me', 'like', 'a', 'serpent', '!', 'HERMIA', 'Why', 'are', 'you', 'grown', 'so', 'rude', '?', 'what', 'change', 'is', 'this', '?', 'Sweet', 'love', ',--', 'LYSANDER', 'Thy', 'love', '!', 'out', ',', 'tawny', 'Tartar', ',', 'out', '!', 'Out', ',', 'loathed', 'medicine', '!', 'hated', 'potion', ',', 'hence', '!', 'HERMIA', 'Do', 'you', 'not', 'jest', '?', 'HELENA', 'Yes', ',', 'sooth', ';', 'and', 'so', 'do', 'you', '.', 'LYSANDER', 'Demetrius', ',', 'I', 'will', 'keep', 'my', 'word', 'with', 'thee', '.', 'DEMETRIUS', 'I', 'would', 'I', 'had', 'your', 'bond', ',', 'for', 'I', 'perceive', 'A', 'weak', 'bond', 'holds', 'you', ':', 'I', \"'\", 'll', 'not', 'trust', 'your', 'word', '.', 'LYSANDER', 'What', ',', 'should', 'I', 'hurt', 'her', ',', 'strike', 'her', ',', 'kill', 'her', 'dead', '?', 'Although', 'I', 'hate', 'her', ',', 'I', \"'\", 'll', 'not', 'harm', 'her', 'so', '.', 'HERMIA', 'What', ',', 'can', 'you', 'do', 'me', 'greater', 'harm', 'than', 'hate', '?', 'Hate', 'me', '!', 'wherefore', '?', 'O', 'me', '!', 'what', 'news', ',', 'my', 'love', '!', 'Am', 'not', 'I', 'Hermia', '?', 'are', 'not', 'you', 'Lysander', '?', 'I', 'am', 'as', 'fair', 'now', 'as', 'I', 'was', 'erewhile', '.', 'Since', 'night', 'you', 'loved', 'me', ';', 'yet', 'since', 'night', 'you', 'left', 'me', ':', 'Why', ',', 'then', 'you', 'left', 'me', '--', 'O', ',', 'the', 'gods', 'forbid', '!--', 'In', 'earnest', ',', 'shall', 'I', 'say', '?', 'LYSANDER', 'Ay', ',', 'by', 'my', 'life', ';', 'And', 'never', 'did', 'desire', 'to', 'see', 'thee', 'more', '.', 'Therefore', 'be', 'out', 'of', 'hope', ',', 'of', 'question', ',', 'of', 'doubt', ';', 'Be', 'certain', ',', 'nothing', 'truer', ';', \"'\", 'tis', 'no', 'jest', 'That', 'I', 'do', 'hate', 'thee', 'and', 'love', 'Helena', '.', 'HERMIA', 'O', 'me', '!', 'you', 'juggler', '!', 'you', 'canker', '-', 'blossom', '!', 'You', 'thief', 'of', 'love', '!', 'what', ',', 'have', 'you', 'come', 'by', 'night', 'And', 'stolen', 'my', 'love', \"'\", 's', 'heart', 'from', 'him', '?', 'HELENA', 'Fine', ',', 'i', \"'\", 'faith', '!', 'Have', 'you', 'no', 'modesty', ',', 'no', 'maiden', 'shame', ',', 'No', 'touch', 'of', 'bashfulness', '?', 'What', ',', 'will', 'you', 'tear', 'Impatient', 'answers', 'from', 'my', 'gentle', 'tongue', '?', 'Fie', ',', 'fie', '!', 'you', 'counterfeit', ',', 'you', 'puppet', ',', 'you', '!', 'HERMIA', 'Puppet', '?', 'why', 'so', '?', 'ay', ',', 'that', 'way', 'goes', 'the', 'game', '.', 'Now', 'I', 'perceive', 'that', 'she', 'hath', 'made', 'compare', 'Between', 'our', 'statures', ';', 'she', 'hath', 'urged', 'her', 'height', ';', 'And', 'with', 'her', 'personage', ',', 'her', 'tall', 'personage', ',', 'Her', 'height', ',', 'forsooth', ',', 'she', 'hath', 'prevail', \"'\", 'd', 'with', 'him', '.', 'And', 'are', 'you', 'grown', 'so', 'high', 'in', 'his', 'esteem', ';', 'Because', 'I', 'am', 'so', 'dwarfish', 'and', 'so', 'low', '?', 'How', 'low', 'am', 'I', ',', 'thou', 'painted', 'maypole', '?', 'speak', ';', 'How', 'low', 'am', 'I', '?', 'I', 'am', 'not', 'yet', 'so', 'low', 'But', 'that', 'my', 'nails', 'can', 'reach', 'unto', 'thine', 'eyes', '.', 'HELENA', 'I', 'pray', 'you', ',', 'though', 'you', 'mock', 'me', ',', 'gentlemen', ',', 'Let', 'her', 'not', 'hurt', 'me', ':', 'I', 'was', 'never', 'curst', ';', 'I', 'have', 'no', 'gift', 'at', 'all', 'in', 'shrewishness', ';', 'I', 'am', 'a', 'right', 'maid', 'for', 'my', 'cowardice', ':', 'Let', 'her', 'not', 'strike', 'me', '.', 'You', 'perhaps', 'may', 'think', ',', 'Because', 'she', 'is', 'something', 'lower', 'than', 'myself', ',', 'That', 'I', 'can', 'match', 'her', '.', 'HERMIA', 'Lower', '!', 'hark', ',', 'again', '.', 'HELENA', 'Good', 'Hermia', ',', 'do', 'not', 'be', 'so', 'bitter', 'with', 'me', '.', 'I', 'evermore', 'did', 'love', 'you', ',', 'Hermia', ',', 'Did', 'ever', 'keep', 'your', 'counsels', ',', 'never', 'wrong', \"'\", 'd', 'you', ';', 'Save', 'that', ',', 'in', 'love', 'unto', 'Demetrius', ',', 'I', 'told', 'him', 'of', 'your', 'stealth', 'unto', 'this', 'wood', '.', 'He', 'follow', \"'\", 'd', 'you', ';', 'for', 'love', 'I', 'follow', \"'\", 'd', 'him', ';', 'But', 'he', 'hath', 'chid', 'me', 'hence', 'and', 'threaten', \"'\", 'd', 'me', 'To', 'strike', 'me', ',', 'spurn', 'me', ',', 'nay', ',', 'to', 'kill', 'me', 'too', ':', 'And', 'now', ',', 'so', 'you', 'will', 'let', 'me', 'quiet', 'go', ',', 'To', 'Athens', 'will', 'I', 'bear', 'my', 'folly', 'back', 'And', 'follow', 'you', 'no', 'further', ':', 'let', 'me', 'go', ':', 'You', 'see', 'how', 'simple', 'and', 'how', 'fond', 'I', 'am', '.', 'HERMIA', 'Why', ',', 'get', 'you', 'gone', ':', 'who', 'is', \"'\", 't', 'that', 'hinders', 'you', '?', 'HELENA', 'A', 'foolish', 'heart', ',', 'that', 'I', 'leave', 'here', 'behind', '.', 'HERMIA', 'What', ',', 'with', 'Lysander', '?', 'HELENA', 'With', 'Demetrius', '.', 'LYSANDER', 'Be', 'not', 'afraid', ';', 'she', 'shall', 'not', 'harm', 'thee', ',', 'Helena', '.', 'DEMETRIUS', 'No', ',', 'sir', ',', 'she', 'shall', 'not', ',', 'though', 'you', 'take', 'her', 'part', '.', 'HELENA', 'O', ',', 'when', 'she', \"'\", 's', 'angry', ',', 'she', 'is', 'keen', 'and', 'shrewd', '!', 'She', 'was', 'a', 'vixen', 'when', 'she', 'went', 'to', 'school', ';', 'And', 'though', 'she', 'be', 'but', 'little', ',', 'she', 'is', 'fierce', '.', 'HERMIA', \"'\", 'Little', \"'\", 'again', '!', 'nothing', 'but', \"'\", 'low', \"'\", 'and', \"'\", 'little', \"'!\", 'Why', 'will', 'you', 'suffer', 'her', 'to', 'flout', 'me', 'thus', '?', 'Let', 'me', 'come', 'to', 'her', '.', 'LYSANDER', 'Get', 'you', 'gone', ',', 'you', 'dwarf', ';', 'You', 'minimus', ',', 'of', 'hindering', 'knot', '-', 'grass', 'made', ';', 'You', 'bead', ',', 'you', 'acorn', '.', 'DEMETRIUS', 'You', 'are', 'too', 'officious', 'In', 'her', 'behalf', 'that', 'scorns', 'your', 'services', '.', 'Let', 'her', 'alone', ':', 'speak', 'not', 'of', 'Helena', ';', 'Take', 'not', 'her', 'part', ';', 'for', ',', 'if', 'thou', 'dost', 'intend', 'Never', 'so', 'little', 'show', 'of', 'love', 'to', 'her', ',', 'Thou', 'shalt', 'aby', 'it', '.', 'LYSANDER', 'Now', 'she', 'holds', 'me', 'not', ';', 'Now', 'follow', ',', 'if', 'thou', 'darest', ',', 'to', 'try', 'whose', 'right', ',', 'Of', 'thine', 'or', 'mine', ',', 'is', 'most', 'in', 'Helena', '.', 'DEMETRIUS', 'Follow', '!', 'nay', ',', 'I', \"'\", 'll', 'go', 'with', 'thee', ',', 'cheek', 'by', 'jole', '.', 'Exeunt', 'LYSANDER', 'and', 'DEMETRIUS', 'HERMIA', 'You', ',', 'mistress', ',', 'all', 'this', 'coil', 'is', \"'\", 'long', 'of', 'you', ':', 'Nay', ',', 'go', 'not', 'back', '.', 'HELENA', 'I', 'will', 'not', 'trust', 'you', ',', 'I', ',', 'Nor', 'longer', 'stay', 'in', 'your', 'curst', 'company', '.', 'Your', 'hands', 'than', 'mine', 'are', 'quicker', 'for', 'a', 'fray', ',', 'My', 'legs', 'are', 'longer', 'though', ',', 'to', 'run', 'away', '.', 'Exit', 'HERMIA', 'I', 'am', 'amazed', ',', 'and', 'know', 'not', 'what', 'to', 'say', '.', 'Exit', 'OBERON', 'This', 'is', 'thy', 'negligence', ':', 'still', 'thou', 'mistakest', ',', 'Or', 'else', 'committ', \"'\", 'st', 'thy', 'knaveries', 'wilfully', '.', 'PUCK', 'Believe', 'me', ',', 'king', 'of', 'shadows', ',', 'I', 'mistook', '.', 'Did', 'not', 'you', 'tell', 'me', 'I', 'should', 'know', 'the', 'man', 'By', 'the', 'Athenian', 'garment', 'be', 'had', 'on', '?', 'And', 'so', 'far', 'blameless', 'proves', 'my', 'enterprise', ',', 'That', 'I', 'have', \"'\", 'nointed', 'an', 'Athenian', \"'\", 's', 'eyes', ';', 'And', 'so', 'far', 'am', 'I', 'glad', 'it', 'so', 'did', 'sort', 'As', 'this', 'their', 'jangling', 'I', 'esteem', 'a', 'sport', '.', 'OBERON', 'Thou', 'see', \"'\", 'st', 'these', 'lovers', 'seek', 'a', 'place', 'to', 'fight', ':', 'Hie', 'therefore', ',', 'Robin', ',', 'overcast', 'the', 'night', ';', 'The', 'starry', 'welkin', 'cover', 'thou', 'anon', 'With', 'drooping', 'fog', 'as', 'black', 'as', 'Acheron', ',', 'And', 'lead', 'these', 'testy', 'rivals', 'so', 'astray', 'As', 'one', 'come', 'not', 'within', 'another', \"'\", 's', 'way', '.', 'Like', 'to', 'Lysander', 'sometime', 'frame', 'thy', 'tongue', ',', 'Then', 'stir', 'Demetrius', 'up', 'with', 'bitter', 'wrong', ';', 'And', 'sometime', 'rail', 'thou', 'like', 'Demetrius', ';', 'And', 'from', 'each', 'other', 'look', 'thou', 'lead', 'them', 'thus', ',', 'Till', 'o', \"'\", 'er', 'their', 'brows', 'death', '-', 'counterfeiting', 'sleep', 'With', 'leaden', 'legs', 'and', 'batty', 'wings', 'doth', 'creep', ':', 'Then', 'crush', 'this', 'herb', 'into', 'Lysander', \"'\", 's', 'eye', ';', 'Whose', 'liquor', 'hath', 'this', 'virtuous', 'property', ',', 'To', 'take', 'from', 'thence', 'all', 'error', 'with', 'his', 'might', ',', 'And', 'make', 'his', 'eyeballs', 'roll', 'with', 'wonted', 'sight', '.', 'When', 'they', 'next', 'wake', ',', 'all', 'this', 'derision', 'Shall', 'seem', 'a', 'dream', 'and', 'fruitless', 'vision', ',', 'And', 'back', 'to', 'Athens', 'shall', 'the', 'lovers', 'wend', ',', 'With', 'league', 'whose', 'date', 'till', 'death', 'shall', 'never', 'end', '.', 'Whiles', 'I', 'in', 'this', 'affair', 'do', 'thee', 'employ', ',', 'I', \"'\", 'll', 'to', 'my', 'queen', 'and', 'beg', 'her', 'Indian', 'boy', ';', 'And', 'then', 'I', 'will', 'her', 'charmed', 'eye', 'release', 'From', 'monster', \"'\", 's', 'view', ',', 'and', 'all', 'things', 'shall', 'be', 'peace', '.', 'PUCK', 'My', 'fairy', 'lord', ',', 'this', 'must', 'be', 'done', 'with', 'haste', ',', 'For', 'night', \"'\", 's', 'swift', 'dragons', 'cut', 'the', 'clouds', 'full', 'fast', ',', 'And', 'yonder', 'shines', 'Aurora', \"'\", 's', 'harbinger', ';', 'At', 'whose', 'approach', ',', 'ghosts', ',', 'wandering', 'here', 'and', 'there', ',', 'Troop', 'home', 'to', 'churchyards', ':', 'damned', 'spirits', 'all', ',', 'That', 'in', 'crossways', 'and', 'floods', 'have', 'burial', ',', 'Already', 'to', 'their', 'wormy', 'beds', 'are', 'gone', ';', 'For', 'fear', 'lest', 'day', 'should', 'look', 'their', 'shames', 'upon', ',', 'They', 'willfully', 'themselves', 'exile', 'from', 'light', 'And', 'must', 'for', 'aye', 'consort', 'with', 'black', '-', 'brow', \"'\", 'd', 'night', '.', 'OBERON', 'But', 'we', 'are', 'spirits', 'of', 'another', 'sort', ':', 'I', 'with', 'the', 'morning', \"'\", 's', 'love', 'have', 'oft', 'made', 'sport', ',', 'And', ',', 'like', 'a', 'forester', ',', 'the', 'groves', 'may', 'tread', ',', 'Even', 'till', 'the', 'eastern', 'gate', ',', 'all', 'fiery', '-', 'red', ',', 'Opening', 'on', 'Neptune', 'with', 'fair', 'blessed', 'beams', ',', 'Turns', 'into', 'yellow', 'gold', 'his', 'salt', 'green', 'streams', '.', 'But', ',', 'notwithstanding', ',', 'haste', ';', 'make', 'no', 'delay', ':', 'We', 'may', 'effect', 'this', 'business', 'yet', 'ere', 'day', '.', 'Exit', 'PUCK', 'Up', 'and', 'down', ',', 'up', 'and', 'down', ',', 'I', 'will', 'lead', 'them', 'up', 'and', 'down', ':', 'I', 'am', 'fear', \"'\", 'd', 'in', 'field', 'and', 'town', ':', 'Goblin', ',', 'lead', 'them', 'up', 'and', 'down', '.', 'Here', 'comes', 'one', '.', 'Re', '-', 'enter', 'LYSANDER', 'LYSANDER', 'Where', 'art', 'thou', ',', 'proud', 'Demetrius', '?', 'speak', 'thou', 'now', '.', 'PUCK', 'Here', ',', 'villain', ';', 'drawn', 'and', 'ready', '.', 'Where', 'art', 'thou', '?', 'LYSANDER', 'I', 'will', 'be', 'with', 'thee', 'straight', '.', 'PUCK', 'Follow', 'me', ',', 'then', ',', 'To', 'plainer', 'ground', '.', 'Exit', 'LYSANDER', ',', 'as', 'following', 'the', 'voice', 'Re', '-', 'enter', 'DEMETRIUS', 'DEMETRIUS', 'Lysander', '!', 'speak', 'again', ':', 'Thou', 'runaway', ',', 'thou', 'coward', ',', 'art', 'thou', 'fled', '?', 'Speak', '!', 'In', 'some', 'bush', '?', 'Where', 'dost', 'thou', 'hide', 'thy', 'head', '?', 'PUCK', 'Thou', 'coward', ',', 'art', 'thou', 'bragging', 'to', 'the', 'stars', ',', 'Telling', 'the', 'bushes', 'that', 'thou', 'look', \"'\", 'st', 'for', 'wars', ',', 'And', 'wilt', 'not', 'come', '?', 'Come', ',', 'recreant', ';', 'come', ',', 'thou', 'child', ';', 'I', \"'\", 'll', 'whip', 'thee', 'with', 'a', 'rod', ':', 'he', 'is', 'defiled', 'That', 'draws', 'a', 'sword', 'on', 'thee', '.', 'DEMETRIUS', 'Yea', ',', 'art', 'thou', 'there', '?', 'PUCK', 'Follow', 'my', 'voice', ':', 'we', \"'\", 'll', 'try', 'no', 'manhood', 'here', '.', 'Exeunt', 'Re', '-', 'enter', 'LYSANDER', 'LYSANDER', 'He', 'goes', 'before', 'me', 'and', 'still', 'dares', 'me', 'on', ':', 'When', 'I', 'come', 'where', 'he', 'calls', ',', 'then', 'he', 'is', 'gone', '.', 'The', 'villain', 'is', 'much', 'lighter', '-', 'heel', \"'\", 'd', 'than', 'I', ':', 'I', 'follow', \"'\", 'd', 'fast', ',', 'but', 'faster', 'he', 'did', 'fly', ';', 'That', 'fallen', 'am', 'I', 'in', 'dark', 'uneven', 'way', ',', 'And', 'here', 'will', 'rest', 'me', '.', 'Lies', 'down', 'Come', ',', 'thou', 'gentle', 'day', '!', 'For', 'if', 'but', 'once', 'thou', 'show', 'me', 'thy', 'grey', 'light', ',', 'I', \"'\", 'll', 'find', 'Demetrius', 'and', 'revenge', 'this', 'spite', '.', 'Sleeps', 'Re', '-', 'enter', 'PUCK', 'and', 'DEMETRIUS', 'PUCK', 'Ho', ',', 'ho', ',', 'ho', '!', 'Coward', ',', 'why', 'comest', 'thou', 'not', '?', 'DEMETRIUS', 'Abide', 'me', ',', 'if', 'thou', 'darest', ';', 'for', 'well', 'I', 'wot', 'Thou', 'runn', \"'\", 'st', 'before', 'me', ',', 'shifting', 'every', 'place', ',', 'And', 'darest', 'not', 'stand', ',', 'nor', 'look', 'me', 'in', 'the', 'face', '.', 'Where', 'art', 'thou', 'now', '?', 'PUCK', 'Come', 'hither', ':', 'I', 'am', 'here', '.', 'DEMETRIUS', 'Nay', ',', 'then', ',', 'thou', 'mock', \"'\", 'st', 'me', '.', 'Thou', 'shalt', 'buy', 'this', 'dear', ',', 'If', 'ever', 'I', 'thy', 'face', 'by', 'daylight', 'see', ':', 'Now', ',', 'go', 'thy', 'way', '.', 'Faintness', 'constraineth', 'me', 'To', 'measure', 'out', 'my', 'length', 'on', 'this', 'cold', 'bed', '.', 'By', 'day', \"'\", 's', 'approach', 'look', 'to', 'be', 'visited', '.', 'Lies', 'down', 'and', 'sleeps', 'Re', '-', 'enter', 'HELENA', 'HELENA', 'O', 'weary', 'night', ',', 'O', 'long', 'and', 'tedious', 'night', ',', 'Abate', 'thy', 'hour', '!', 'Shine', 'comforts', 'from', 'the', 'east', ',', 'That', 'I', 'may', 'back', 'to', 'Athens', 'by', 'daylight', ',', 'From', 'these', 'that', 'my', 'poor', 'company', 'detest', ':', 'And', 'sleep', ',', 'that', 'sometimes', 'shuts', 'up', 'sorrow', \"'\", 's', 'eye', ',', 'Steal', 'me', 'awhile', 'from', 'mine', 'own', 'company', '.', 'Lies', 'down', 'and', 'sleeps', 'PUCK', 'Yet', 'but', 'three', '?', 'Come', 'one', 'more', ';', 'Two', 'of', 'both', 'kinds', 'make', 'up', 'four', '.', 'Here', 'she', 'comes', ',', 'curst', 'and', 'sad', ':', 'Cupid', 'is', 'a', 'knavish', 'lad', ',', 'Thus', 'to', 'make', 'poor', 'females', 'mad', '.', 'Re', '-', 'enter', 'HERMIA', 'HERMIA', 'Never', 'so', 'weary', ',', 'never', 'so', 'in', 'woe', ',', 'Bedabbled', 'with', 'the', 'dew', 'and', 'torn', 'with', 'briers', ',', 'I', 'can', 'no', 'further', 'crawl', ',', 'no', 'further', 'go', ';', 'My', 'legs', 'can', 'keep', 'no', 'pace', 'with', 'my', 'desires', '.', 'Here', 'will', 'I', 'rest', 'me', 'till', 'the', 'break', 'of', 'day', '.', 'Heavens', 'shield', 'Lysander', ',', 'if', 'they', 'mean', 'a', 'fray', '!', 'Lies', 'down', 'and', 'sleeps', 'PUCK', 'On', 'the', 'ground', 'Sleep', 'sound', ':', 'I', \"'\", 'll', 'apply', 'To', 'your', 'eye', ',', 'Gentle', 'lover', ',', 'remedy', '.', 'Squeezing', 'the', 'juice', 'on', 'LYSANDER', \"'\", 's', 'eyes', 'When', 'thou', 'wakest', ',', 'Thou', 'takest', 'True', 'delight', 'In', 'the', 'sight', 'Of', 'thy', 'former', 'lady', \"'\", 's', 'eye', ':', 'And', 'the', 'country', 'proverb', 'known', ',', 'That', 'every', 'man', 'should', 'take', 'his', 'own', ',', 'In', 'your', 'waking', 'shall', 'be', 'shown', ':', 'Jack', 'shall', 'have', 'Jill', ';', 'Nought', 'shall', 'go', 'ill', ';', 'The', 'man', 'shall', 'have', 'his', 'mare', 'again', ',', 'and', 'all', 'shall', 'be', 'well', '.', 'Exit', 'ACT', 'IV', 'SCENE', 'I', '.', 'The', 'same', '.', 'LYSANDER', ',', 'DEMETRIUS', ',', 'HELENA', ',', 'and', 'HERMIA', 'lying', 'asleep', '.', 'Enter', 'TITANIA', 'and', 'BOTTOM', ';', 'PEASEBLOSSOM', ',', 'COBWEB', ',', 'MOTH', ',', 'MUSTARDSEED', ',', 'and', 'other', 'Fairies', 'attending', ';', 'OBERON', 'behind', 'unseen', 'TITANIA', 'Come', ',', 'sit', 'thee', 'down', 'upon', 'this', 'flowery', 'bed', ',', 'While', 'I', 'thy', 'amiable', 'cheeks', 'do', 'coy', ',', 'And', 'stick', 'musk', '-', 'roses', 'in', 'thy', 'sleek', 'smooth', 'head', ',', 'And', 'kiss', 'thy', 'fair', 'large', 'ears', ',', 'my', 'gentle', 'joy', '.', 'BOTTOM', 'Where', \"'\", 's', 'Peaseblossom', '?', 'PEASEBLOSSOM', 'Ready', '.', 'BOTTOM', 'Scratch', 'my', 'head', 'Peaseblossom', '.', 'Where', \"'\", 's', 'Mounsieur', 'Cobweb', '?', 'COBWEB', 'Ready', '.', 'BOTTOM', 'Mounsieur', 'Cobweb', ',', 'good', 'mounsieur', ',', 'get', 'you', 'your', 'weapons', 'in', 'your', 'hand', ',', 'and', 'kill', 'me', 'a', 'red', '-', 'hipped', 'humble', '-', 'bee', 'on', 'the', 'top', 'of', 'a', 'thistle', ';', 'and', ',', 'good', 'mounsieur', ',', 'bring', 'me', 'the', 'honey', '-', 'bag', '.', 'Do', 'not', 'fret', 'yourself', 'too', 'much', 'in', 'the', 'action', ',', 'mounsieur', ';', 'and', ',', 'good', 'mounsieur', ',', 'have', 'a', 'care', 'the', 'honey', '-', 'bag', 'break', 'not', ';', 'I', 'would', 'be', 'loath', 'to', 'have', 'you', 'overflown', 'with', 'a', 'honey', '-', 'bag', ',', 'signior', '.', 'Where', \"'\", 's', 'Mounsieur', 'Mustardseed', '?', 'MUSTARDSEED', 'Ready', '.', 'BOTTOM', 'Give', 'me', 'your', 'neaf', ',', 'Mounsieur', 'Mustardseed', '.', 'Pray', 'you', ',', 'leave', 'your', 'courtesy', ',', 'good', 'mounsieur', '.', 'MUSTARDSEED', 'What', \"'\", 's', 'your', 'Will', '?', 'BOTTOM', 'Nothing', ',', 'good', 'mounsieur', ',', 'but', 'to', 'help', 'Cavalery', 'Cobweb', 'to', 'scratch', '.', 'I', 'must', 'to', 'the', 'barber', \"'\", 's', ',', 'monsieur', ';', 'for', 'methinks', 'I', 'am', 'marvellous', 'hairy', 'about', 'the', 'face', ';', 'and', 'I', 'am', 'such', 'a', 'tender', 'ass', ',', 'if', 'my', 'hair', 'do', 'but', 'tickle', 'me', ',', 'I', 'must', 'scratch', '.', 'TITANIA', 'What', ',', 'wilt', 'thou', 'hear', 'some', 'music', ',', 'my', 'sweet', 'love', '?', 'BOTTOM', 'I', 'have', 'a', 'reasonable', 'good', 'ear', 'in', 'music', '.', 'Let', \"'\", 's', 'have', 'the', 'tongs', 'and', 'the', 'bones', '.', 'TITANIA', 'Or', 'say', ',', 'sweet', 'love', ',', 'what', 'thou', 'desirest', 'to', 'eat', '.', 'BOTTOM', 'Truly', ',', 'a', 'peck', 'of', 'provender', ':', 'I', 'could', 'munch', 'your', 'good', 'dry', 'oats', '.', 'Methinks', 'I', 'have', 'a', 'great', 'desire', 'to', 'a', 'bottle', 'of', 'hay', ':', 'good', 'hay', ',', 'sweet', 'hay', ',', 'hath', 'no', 'fellow', '.', 'TITANIA', 'I', 'have', 'a', 'venturous', 'fairy', 'that', 'shall', 'seek', 'The', 'squirrel', \"'\", 's', 'hoard', ',', 'and', 'fetch', 'thee', 'new', 'nuts', '.', 'BOTTOM', 'I', 'had', 'rather', 'have', 'a', 'handful', 'or', 'two', 'of', 'dried', 'peas', '.', 'But', ',', 'I', 'pray', 'you', ',', 'let', 'none', 'of', 'your', 'people', 'stir', 'me', ':', 'I', 'have', 'an', 'exposition', 'of', 'sleep', 'come', 'upon', 'me', '.', 'TITANIA', 'Sleep', 'thou', ',', 'and', 'I', 'will', 'wind', 'thee', 'in', 'my', 'arms', '.', 'Fairies', ',', 'begone', ',', 'and', 'be', 'all', 'ways', 'away', '.', 'Exeunt', 'fairies', 'So', 'doth', 'the', 'woodbine', 'the', 'sweet', 'honeysuckle', 'Gently', 'entwist', ';', 'the', 'female', 'ivy', 'so', 'Enrings', 'the', 'barky', 'fingers', 'of', 'the', 'elm', '.', 'O', ',', 'how', 'I', 'love', 'thee', '!', 'how', 'I', 'dote', 'on', 'thee', '!', 'They', 'sleep', 'Enter', 'PUCK', 'OBERON', 'Advancing', 'See', \"'\", 'st', 'thou', 'this', 'sweet', 'sight', '?', 'Her', 'dotage', 'now', 'I', 'do', 'begin', 'to', 'pity', ':', 'For', ',', 'meeting', 'her', 'of', 'late', 'behind', 'the', 'wood', ',', 'Seeking', 'sweet', 'favours', 'from', 'this', 'hateful', 'fool', ',', 'I', 'did', 'upbraid', 'her', 'and', 'fall', 'out', 'with', 'her', ';', 'For', 'she', 'his', 'hairy', 'temples', 'then', 'had', 'rounded', 'With', 'a', 'coronet', 'of', 'fresh', 'and', 'fragrant', 'flowers', ';', 'And', 'that', 'same', 'dew', ',', 'which', 'sometime', 'on', 'the', 'buds', 'Was', 'wont', 'to', 'swell', 'like', 'round', 'and', 'orient', 'pearls', ',', 'Stood', 'now', 'within', 'the', 'pretty', 'flowerets', \"'\", 'eyes', 'Like', 'tears', 'that', 'did', 'their', 'own', 'disgrace', 'bewail', '.', 'When', 'I', 'had', 'at', 'my', 'pleasure', 'taunted', 'her', 'And', 'she', 'in', 'mild', 'terms', 'begg', \"'\", 'd', 'my', 'patience', ',', 'I', 'then', 'did', 'ask', 'of', 'her', 'her', 'changeling', 'child', ';', 'Which', 'straight', 'she', 'gave', 'me', ',', 'and', 'her', 'fairy', 'sent', 'To', 'bear', 'him', 'to', 'my', 'bower', 'in', 'fairy', 'land', '.', 'And', 'now', 'I', 'have', 'the', 'boy', ',', 'I', 'will', 'undo', 'This', 'hateful', 'imperfection', 'of', 'her', 'eyes', ':', 'And', ',', 'gentle', 'Puck', ',', 'take', 'this', 'transformed', 'scalp', 'From', 'off', 'the', 'head', 'of', 'this', 'Athenian', 'swain', ';', 'That', ',', 'he', 'awaking', 'when', 'the', 'other', 'do', ',', 'May', 'all', 'to', 'Athens', 'back', 'again', 'repair', 'And', 'think', 'no', 'more', 'of', 'this', 'night', \"'\", 's', 'accidents', 'But', 'as', 'the', 'fierce', 'vexation', 'of', 'a', 'dream', '.', 'But', 'first', 'I', 'will', 'release', 'the', 'fairy', 'queen', '.', 'Be', 'as', 'thou', 'wast', 'wont', 'to', 'be', ';', 'See', 'as', 'thou', 'wast', 'wont', 'to', 'see', ':', 'Dian', \"'\", 's', 'bud', 'o', \"'\", 'er', 'Cupid', \"'\", 's', 'flower', 'Hath', 'such', 'force', 'and', 'blessed', 'power', '.', 'Now', ',', 'my', 'Titania', ';', 'wake', 'you', ',', 'my', 'sweet', 'queen', '.', 'TITANIA', 'My', 'Oberon', '!', 'what', 'visions', 'have', 'I', 'seen', '!', 'Methought', 'I', 'was', 'enamour', \"'\", 'd', 'of', 'an', 'ass', '.', 'OBERON', 'There', 'lies', 'your', 'love', '.', 'TITANIA', 'How', 'came', 'these', 'things', 'to', 'pass', '?', 'O', ',', 'how', 'mine', 'eyes', 'do', 'loathe', 'his', 'visage', 'now', '!', 'OBERON', 'Silence', 'awhile', '.', 'Robin', ',', 'take', 'off', 'this', 'head', '.', 'Titania', ',', 'music', 'call', ';', 'and', 'strike', 'more', 'dead', 'Than', 'common', 'sleep', 'of', 'all', 'these', 'five', 'the', 'sense', '.', 'TITANIA', 'Music', ',', 'ho', '!', 'music', ',', 'such', 'as', 'charmeth', 'sleep', '!', 'Music', ',', 'still', 'PUCK', 'Now', ',', 'when', 'thou', 'wakest', ',', 'with', 'thine', 'own', 'fool', \"'\", 's', 'eyes', 'peep', '.', 'OBERON', 'Sound', ',', 'music', '!', 'Come', ',', 'my', 'queen', ',', 'take', 'hands', 'with', 'me', ',', 'And', 'rock', 'the', 'ground', 'whereon', 'these', 'sleepers', 'be', '.', 'Now', 'thou', 'and', 'I', 'are', 'new', 'in', 'amity', ',', 'And', 'will', 'to', '-', 'morrow', 'midnight', 'solemnly', 'Dance', 'in', 'Duke', 'Theseus', \"'\", 'house', 'triumphantly', ',', 'And', 'bless', 'it', 'to', 'all', 'fair', 'prosperity', ':', 'There', 'shall', 'the', 'pairs', 'of', 'faithful', 'lovers', 'be', 'Wedded', ',', 'with', 'Theseus', ',', 'all', 'in', 'jollity', '.', 'PUCK', 'Fairy', 'king', ',', 'attend', ',', 'and', 'mark', ':', 'I', 'do', 'hear', 'the', 'morning', 'lark', '.', 'OBERON', 'Then', ',', 'my', 'queen', ',', 'in', 'silence', 'sad', ',', 'Trip', 'we', 'after', 'the', 'night', \"'\", 's', 'shade', ':', 'We', 'the', 'globe', 'can', 'compass', 'soon', ',', 'Swifter', 'than', 'the', 'wandering', 'moon', '.', 'TITANIA', 'Come', ',', 'my', 'lord', ',', 'and', 'in', 'our', 'flight', 'Tell', 'me', 'how', 'it', 'came', 'this', 'night', 'That', 'I', 'sleeping', 'here', 'was', 'found', 'With', 'these', 'mortals', 'on', 'the', 'ground', '.', 'Exeunt', 'Horns', 'winded', 'within', 'Enter', 'THESEUS', ',', 'HIPPOLYTA', ',', 'EGEUS', ',', 'and', 'train', 'THESEUS', 'Go', ',', 'one', 'of', 'you', ',', 'find', 'out', 'the', 'forester', ';', 'For', 'now', 'our', 'observation', 'is', 'perform', \"'\", 'd', ';', 'And', 'since', 'we', 'have', 'the', 'vaward', 'of', 'the', 'day', ',', 'My', 'love', 'shall', 'hear', 'the', 'music', 'of', 'my', 'hounds', '.', 'Uncouple', 'in', 'the', 'western', 'valley', ';', 'let', 'them', 'go', ':', 'Dispatch', ',', 'I', 'say', ',', 'and', 'find', 'the', 'forester', '.', 'Exit', 'an', 'Attendant', 'We', 'will', ',', 'fair', 'queen', ',', 'up', 'to', 'the', 'mountain', \"'\", 's', 'top', ',', 'And', 'mark', 'the', 'musical', 'confusion', 'Of', 'hounds', 'and', 'echo', 'in', 'conjunction', '.', 'HIPPOLYTA', 'I', 'was', 'with', 'Hercules', 'and', 'Cadmus', 'once', ',', 'When', 'in', 'a', 'wood', 'of', 'Crete', 'they', 'bay', \"'\", 'd', 'the', 'bear', 'With', 'hounds', 'of', 'Sparta', ':', 'never', 'did', 'I', 'hear', 'Such', 'gallant', 'chiding', ':', 'for', ',', 'besides', 'the', 'groves', ',', 'The', 'skies', ',', 'the', 'fountains', ',', 'every', 'region', 'near', 'Seem', \"'\", 'd', 'all', 'one', 'mutual', 'cry', ':', 'I', 'never', 'heard', 'So', 'musical', 'a', 'discord', ',', 'such', 'sweet', 'thunder', '.', 'THESEUS', 'My', 'hounds', 'are', 'bred', 'out', 'of', 'the', 'Spartan', 'kind', ',', 'So', 'flew', \"'\", 'd', ',', 'so', 'sanded', ',', 'and', 'their', 'heads', 'are', 'hung', 'With', 'ears', 'that', 'sweep', 'away', 'the', 'morning', 'dew', ';', 'Crook', '-', 'knee', \"'\", 'd', ',', 'and', 'dew', '-', 'lapp', \"'\", 'd', 'like', 'Thessalian', 'bulls', ';', 'Slow', 'in', 'pursuit', ',', 'but', 'match', \"'\", 'd', 'in', 'mouth', 'like', 'bells', ',', 'Each', 'under', 'each', '.', 'A', 'cry', 'more', 'tuneable', 'Was', 'never', 'holla', \"'\", 'd', 'to', ',', 'nor', 'cheer', \"'\", 'd', 'with', 'horn', ',', 'In', 'Crete', ',', 'in', 'Sparta', ',', 'nor', 'in', 'Thessaly', ':', 'Judge', 'when', 'you', 'hear', '.', 'But', ',', 'soft', '!', 'what', 'nymphs', 'are', 'these', '?', 'EGEUS', 'My', 'lord', ',', 'this', 'is', 'my', 'daughter', 'here', 'asleep', ';', 'And', 'this', ',', 'Lysander', ';', 'this', 'Demetrius', 'is', ';', 'This', 'Helena', ',', 'old', 'Nedar', \"'\", 's', 'Helena', ':', 'I', 'wonder', 'of', 'their', 'being', 'here', 'together', '.', 'THESEUS', 'No', 'doubt', 'they', 'rose', 'up', 'early', 'to', 'observe', 'The', 'rite', 'of', 'May', ',', 'and', 'hearing', 'our', 'intent', ',', 'Came', 'here', 'in', 'grace', 'our', 'solemnity', '.', 'But', 'speak', ',', 'Egeus', ';', 'is', 'not', 'this', 'the', 'day', 'That', 'Hermia', 'should', 'give', 'answer', 'of', 'her', 'choice', '?', 'EGEUS', 'It', 'is', ',', 'my', 'lord', '.', 'THESEUS', 'Go', ',', 'bid', 'the', 'huntsmen', 'wake', 'them', 'with', 'their', 'horns', '.', 'Horns', 'and', 'shout', 'within', '.', 'LYSANDER', ',', 'DEMETRIUS', ',', 'HELENA', ',', 'and', 'HERMIA', 'wake', 'and', 'start', 'up', 'Good', 'morrow', ',', 'friends', '.', 'Saint', 'Valentine', 'is', 'past', ':', 'Begin', 'these', 'wood', '-', 'birds', 'but', 'to', 'couple', 'now', '?', 'LYSANDER', 'Pardon', ',', 'my', 'lord', '.', 'THESEUS', 'I', 'pray', 'you', 'all', ',', 'stand', 'up', '.', 'I', 'know', 'you', 'two', 'are', 'rival', 'enemies', ':', 'How', 'comes', 'this', 'gentle', 'concord', 'in', 'the', 'world', ',', 'That', 'hatred', 'is', 'so', 'far', 'from', 'jealousy', ',', 'To', 'sleep', 'by', 'hate', ',', 'and', 'fear', 'no', 'enmity', '?', 'LYSANDER', 'My', 'lord', ',', 'I', 'shall', 'reply', 'amazedly', ',', 'Half', 'sleep', ',', 'half', 'waking', ':', 'but', 'as', 'yet', ',', 'I', 'swear', ',', 'I', 'cannot', 'truly', 'say', 'how', 'I', 'came', 'here', ';', 'But', ',', 'as', 'I', 'think', ',--', 'for', 'truly', 'would', 'I', 'speak', ',', 'And', 'now', 'do', 'I', 'bethink', 'me', ',', 'so', 'it', 'is', ',--', 'I', 'came', 'with', 'Hermia', 'hither', ':', 'our', 'intent', 'Was', 'to', 'be', 'gone', 'from', 'Athens', ',', 'where', 'we', 'might', ',', 'Without', 'the', 'peril', 'of', 'the', 'Athenian', 'law', '.', 'EGEUS', 'Enough', ',', 'enough', ',', 'my', 'lord', ';', 'you', 'have', 'enough', ':', 'I', 'beg', 'the', 'law', ',', 'the', 'law', ',', 'upon', 'his', 'head', '.', 'They', 'would', 'have', 'stolen', 'away', ';', 'they', 'would', ',', 'Demetrius', ',', 'Thereby', 'to', 'have', 'defeated', 'you', 'and', 'me', ',', 'You', 'of', 'your', 'wife', 'and', 'me', 'of', 'my', 'consent', ',', 'Of', 'my', 'consent', 'that', 'she', 'should', 'be', 'your', 'wife', '.', 'DEMETRIUS', 'My', 'lord', ',', 'fair', 'Helen', 'told', 'me', 'of', 'their', 'stealth', ',', 'Of', 'this', 'their', 'purpose', 'hither', 'to', 'this', 'wood', ';', 'And', 'I', 'in', 'fury', 'hither', 'follow', \"'\", 'd', 'them', ',', 'Fair', 'Helena', 'in', 'fancy', 'following', 'me', '.', 'But', ',', 'my', 'good', 'lord', ',', 'I', 'wot', 'not', 'by', 'what', 'power', ',--', 'But', 'by', 'some', 'power', 'it', 'is', ',--', 'my', 'love', 'to', 'Hermia', ',', 'Melted', 'as', 'the', 'snow', ',', 'seems', 'to', 'me', 'now', 'As', 'the', 'remembrance', 'of', 'an', 'idle', 'gaud', 'Which', 'in', 'my', 'childhood', 'I', 'did', 'dote', 'upon', ';', 'And', 'all', 'the', 'faith', ',', 'the', 'virtue', 'of', 'my', 'heart', ',', 'The', 'object', 'and', 'the', 'pleasure', 'of', 'mine', 'eye', ',', 'Is', 'only', 'Helena', '.', 'To', 'her', ',', 'my', 'lord', ',', 'Was', 'I', 'betroth', \"'\", 'd', 'ere', 'I', 'saw', 'Hermia', ':', 'But', ',', 'like', 'in', 'sickness', ',', 'did', 'I', 'loathe', 'this', 'food', ';', 'But', ',', 'as', 'in', 'health', ',', 'come', 'to', 'my', 'natural', 'taste', ',', 'Now', 'I', 'do', 'wish', 'it', ',', 'love', 'it', ',', 'long', 'for', 'it', ',', 'And', 'will', 'for', 'evermore', 'be', 'true', 'to', 'it', '.', 'THESEUS', 'Fair', 'lovers', ',', 'you', 'are', 'fortunately', 'met', ':', 'Of', 'this', 'discourse', 'we', 'more', 'will', 'hear', 'anon', '.', 'Egeus', ',', 'I', 'will', 'overbear', 'your', 'will', ';', 'For', 'in', 'the', 'temple', 'by', 'and', 'by', 'with', 'us', 'These', 'couples', 'shall', 'eternally', 'be', 'knit', ':', 'And', ',', 'for', 'the', 'morning', 'now', 'is', 'something', 'worn', ',', 'Our', 'purposed', 'hunting', 'shall', 'be', 'set', 'aside', '.', 'Away', 'with', 'us', 'to', 'Athens', ';', 'three', 'and', 'three', ',', 'We', \"'\", 'll', 'hold', 'a', 'feast', 'in', 'great', 'solemnity', '.', 'Come', ',', 'Hippolyta', '.', 'Exeunt', 'THESEUS', ',', 'HIPPOLYTA', ',', 'EGEUS', ',', 'and', 'train', 'DEMETRIUS', 'These', 'things', 'seem', 'small', 'and', 'undistinguishable', ',', 'HERMIA', 'Methinks', 'I', 'see', 'these', 'things', 'with', 'parted', 'eye', ',', 'When', 'every', 'thing', 'seems', 'double', '.', 'HELENA', 'So', 'methinks', ':', 'And', 'I', 'have', 'found', 'Demetrius', 'like', 'a', 'jewel', ',', 'Mine', 'own', ',', 'and', 'not', 'mine', 'own', '.', 'DEMETRIUS', 'Are', 'you', 'sure', 'That', 'we', 'are', 'awake', '?', 'It', 'seems', 'to', 'me', 'That', 'yet', 'we', 'sleep', ',', 'we', 'dream', '.', 'Do', 'not', 'you', 'think', 'The', 'duke', 'was', 'here', ',', 'and', 'bid', 'us', 'follow', 'him', '?', 'HERMIA', 'Yea', ';', 'and', 'my', 'father', '.', 'HELENA', 'And', 'Hippolyta', '.', 'LYSANDER', 'And', 'he', 'did', 'bid', 'us', 'follow', 'to', 'the', 'temple', '.', 'DEMETRIUS', 'Why', ',', 'then', ',', 'we', 'are', 'awake', ':', 'let', \"'\", 's', 'follow', 'him', 'And', 'by', 'the', 'way', 'let', 'us', 'recount', 'our', 'dreams', '.', 'Exeunt', 'BOTTOM', 'Awaking', 'answer', ':', 'my', 'next', 'is', ',', \"'\", 'Most', 'fair', 'Pyramus', \".'\", 'Heigh', '-', 'ho', '!', 'Peter', 'Quince', '!', 'Flute', ',', 'the', 'bellows', '-', 'mender', '!', 'Snout', ',', 'the', 'tinker', '!', 'Starveling', '!', 'God', \"'\", 's', 'my', 'life', ',', 'stolen', 'hence', ',', 'and', 'left', 'me', 'asleep', '!', 'I', 'have', 'had', 'a', 'most', 'rare', 'vision', '.', 'I', 'have', 'had', 'a', 'dream', ',', 'past', 'the', 'wit', 'of', 'man', 'to', 'say', 'what', 'dream', 'it', 'was', ':', 'man', 'is', 'but', 'an', 'ass', ',', 'if', 'he', 'go', 'about', 'to', 'expound', 'this', 'dream', '.', 'Methought', 'I', 'was', '--', 'there', 'is', 'no', 'man', 'can', 'tell', 'what', '.', 'Methought', 'I', 'was', ',--', 'and', 'methought', 'I', 'had', ',--', 'but', 'man', 'is', 'but', 'a', 'patched', 'fool', ',', 'if', 'he', 'will', 'offer', 'to', 'say', 'what', 'methought', 'I', 'had', '.', 'The', 'eye', 'of', 'man', 'hath', 'not', 'heard', ',', 'the', 'ear', 'of', 'man', 'hath', 'not', 'seen', ',', 'man', \"'\", 's', 'hand', 'is', 'not', 'able', 'to', 'taste', ',', 'his', 'tongue', 'to', 'conceive', ',', 'nor', 'his', 'heart', 'to', 'report', ',', 'what', 'my', 'dream', 'was', '.', 'I', 'will', 'get', 'Peter', 'Quince', 'to', 'write', 'a', 'ballad', 'of', 'this', 'dream', ':', 'it', 'shall', 'be', 'called', 'Bottom', \"'\", 's', 'Dream', ',', 'because', 'it', 'hath', 'no', 'bottom', ';', 'and', 'I', 'will', 'sing', 'it', 'in', 'the', 'latter', 'end', 'of', 'a', 'play', ',', 'before', 'the', 'duke', ':', 'peradventure', ',', 'to', 'make', 'it', 'the', 'more', 'gracious', ',', 'I', 'shall', 'sing', 'it', 'at', 'her', 'death', '.', 'Exit', 'SCENE', 'II', '.', 'Athens', '.', 'QUINCE', \"'\", 'S', 'house', '.', 'Enter', 'QUINCE', ',', 'FLUTE', ',', 'SNOUT', ',', 'and', 'STARVELING', 'QUINCE', 'Have', 'you', 'sent', 'to', 'Bottom', \"'\", 's', 'house', '?', 'is', 'he', 'come', 'home', 'yet', '?', 'STARVELING', 'He', 'cannot', 'be', 'heard', 'of', '.', 'Out', 'of', 'doubt', 'he', 'is', 'transported', '.', 'FLUTE', 'If', 'he', 'come', 'not', ',', 'then', 'the', 'play', 'is', 'marred', ':', 'it', 'goes', 'not', 'forward', ',', 'doth', 'it', '?', 'QUINCE', 'It', 'is', 'not', 'possible', ':', 'you', 'have', 'not', 'a', 'man', 'in', 'all', 'Athens', 'able', 'to', 'discharge', 'Pyramus', 'but', 'he', '.', 'FLUTE', 'No', ',', 'he', 'hath', 'simply', 'the', 'best', 'wit', 'of', 'any', 'handicraft', 'man', 'in', 'Athens', '.', 'QUINCE', 'Yea', 'and', 'the', 'best', 'person', 'too', ';', 'and', 'he', 'is', 'a', 'very', 'paramour', 'for', 'a', 'sweet', 'voice', '.', 'FLUTE', 'You', 'must', 'say', \"'\", 'paragon', \":'\", 'a', 'paramour', 'is', ',', 'God', 'bless', 'us', ',', 'a', 'thing', 'of', 'naught', '.', 'Enter', 'SNUG', 'SNUG', 'Masters', ',', 'the', 'duke', 'is', 'coming', 'from', 'the', 'temple', ',', 'and', 'there', 'is', 'two', 'or', 'three', 'lords', 'and', 'ladies', 'more', 'married', ':', 'if', 'our', 'sport', 'had', 'gone', 'forward', ',', 'we', 'had', 'all', 'been', 'made', 'men', '.', 'FLUTE', 'O', 'sweet', 'bully', 'Bottom', '!', 'Thus', 'hath', 'he', 'lost', 'sixpence', 'a', 'day', 'during', 'his', 'life', ';', 'he', 'could', 'not', 'have', \"'\", 'scaped', 'sixpence', 'a', 'day', ':', 'an', 'the', 'duke', 'had', 'not', 'given', 'him', 'sixpence', 'a', 'day', 'for', 'playing', 'Pyramus', ',', 'I', \"'\", 'll', 'be', 'hanged', ';', 'he', 'would', 'have', 'deserved', 'it', ':', 'sixpence', 'a', 'day', 'in', 'Pyramus', ',', 'or', 'nothing', '.', 'Enter', 'BOTTOM', 'BOTTOM', 'Where', 'are', 'these', 'lads', '?', 'where', 'are', 'these', 'hearts', '?', 'QUINCE', 'Bottom', '!', 'O', 'most', 'courageous', 'day', '!', 'O', 'most', 'happy', 'hour', '!', 'BOTTOM', 'Masters', ',', 'I', 'am', 'to', 'discourse', 'wonders', ':', 'but', 'ask', 'me', 'not', 'what', ';', 'for', 'if', 'I', 'tell', 'you', ',', 'I', 'am', 'no', 'true', 'Athenian', '.', 'I', 'will', 'tell', 'you', 'every', 'thing', ',', 'right', 'as', 'it', 'fell', 'out', '.', 'QUINCE', 'Let', 'us', 'hear', ',', 'sweet', 'Bottom', '.', 'BOTTOM', 'Not', 'a', 'word', 'of', 'me', '.', 'All', 'that', 'I', 'will', 'tell', 'you', 'is', ',', 'that', 'the', 'duke', 'hath', 'dined', '.', 'Get', 'your', 'apparel', 'together', ',', 'good', 'strings', 'to', 'your', 'beards', ',', 'new', 'ribbons', 'to', 'your', 'pumps', ';', 'meet', 'presently', 'at', 'the', 'palace', ';', 'every', 'man', 'look', 'o', \"'\", 'er', 'his', 'part', ';', 'for', 'the', 'short', 'and', 'the', 'long', 'is', ',', 'our', 'play', 'is', 'preferred', '.', 'In', 'any', 'case', ',', 'let', 'Thisby', 'have', 'clean', 'linen', ';', 'and', 'let', 'not', 'him', 'that', 'plays', 'the', 'lion', 'pair', 'his', 'nails', ',', 'for', 'they', 'shall', 'hang', 'out', 'for', 'the', 'lion', \"'\", 's', 'claws', '.', 'And', ',', 'most', 'dear', 'actors', ',', 'eat', 'no', 'onions', 'nor', 'garlic', ',', 'for', 'we', 'are', 'to', 'utter', 'sweet', 'breath', ';', 'and', 'I', 'do', 'not', 'doubt', 'but', 'to', 'hear', 'them', 'say', ',', 'it', 'is', 'a', 'sweet', 'comedy', '.', 'No', 'more', 'words', ':', 'away', '!', 'go', ',', 'away', '!', 'Exeunt', 'ACT', 'V', 'SCENE', 'I', '.', 'Athens', '.', 'The', 'palace', 'of', 'THESEUS', '.', 'Enter', 'THESEUS', ',', 'HIPPOLYTA', ',', 'PHILOSTRATE', ',', 'Lords', 'and', 'Attendants', 'HIPPOLYTA', \"'\", 'Tis', 'strange', 'my', 'Theseus', ',', 'that', 'these', 'lovers', 'speak', 'of', '.', 'THESEUS', 'More', 'strange', 'than', 'true', ':', 'I', 'never', 'may', 'believe', 'These', 'antique', 'fables', ',', 'nor', 'these', 'fairy', 'toys', '.', 'Lovers', 'and', 'madmen', 'have', 'such', 'seething', 'brains', ',', 'Such', 'shaping', 'fantasies', ',', 'that', 'apprehend', 'More', 'than', 'cool', 'reason', 'ever', 'comprehends', '.', 'The', 'lunatic', ',', 'the', 'lover', 'and', 'the', 'poet', 'Are', 'of', 'imagination', 'all', 'compact', ':', 'One', 'sees', 'more', 'devils', 'than', 'vast', 'hell', 'can', 'hold', ',', 'That', 'is', ',', 'the', 'madman', ':', 'the', 'lover', ',', 'all', 'as', 'frantic', ',', 'Sees', 'Helen', \"'\", 's', 'beauty', 'in', 'a', 'brow', 'of', 'Egypt', ':', 'The', 'poet', \"'\", 's', 'eye', ',', 'in', 'fine', 'frenzy', 'rolling', ',', 'Doth', 'glance', 'from', 'heaven', 'to', 'earth', ',', 'from', 'earth', 'to', 'heaven', ';', 'And', 'as', 'imagination', 'bodies', 'forth', 'The', 'forms', 'of', 'things', 'unknown', ',', 'the', 'poet', \"'\", 's', 'pen', 'Turns', 'them', 'to', 'shapes', 'and', 'gives', 'to', 'airy', 'nothing', 'A', 'local', 'habitation', 'and', 'a', 'name', '.', 'Such', 'tricks', 'hath', 'strong', 'imagination', ',', 'That', 'if', 'it', 'would', 'but', 'apprehend', 'some', 'joy', ',', 'It', 'comprehends', 'some', 'bringer', 'of', 'that', 'joy', ';', 'Or', 'in', 'the', 'night', ',', 'imagining', 'some', 'fear', ',', 'How', 'easy', 'is', 'a', 'bush', 'supposed', 'a', 'bear', '!', 'HIPPOLYTA', 'But', 'all', 'the', 'story', 'of', 'the', 'night', 'told', 'over', ',', 'And', 'all', 'their', 'minds', 'transfigured', 'so', 'together', ',', 'More', 'witnesseth', 'than', 'fancy', \"'\", 's', 'images', 'And', 'grows', 'to', 'something', 'of', 'great', 'constancy', ';', 'But', ',', 'howsoever', ',', 'strange', 'and', 'admirable', '.', 'THESEUS', 'Here', 'come', 'the', 'lovers', ',', 'full', 'of', 'joy', 'and', 'mirth', '.', 'Enter', 'LYSANDER', ',', 'DEMETRIUS', ',', 'HERMIA', ',', 'and', 'HELENA', 'Joy', ',', 'gentle', 'friends', '!', 'joy', 'and', 'fresh', 'days', 'of', 'love', 'Accompany', 'your', 'hearts', '!', 'LYSANDER', 'More', 'than', 'to', 'us', 'Wait', 'in', 'your', 'royal', 'walks', ',', 'your', 'board', ',', 'your', 'bed', '!', 'THESEUS', 'Come', 'now', ';', 'what', 'masques', ',', 'what', 'dances', 'shall', 'we', 'have', ',', 'To', 'wear', 'away', 'this', 'long', 'age', 'of', 'three', 'hours', 'Between', 'our', 'after', '-', 'supper', 'and', 'bed', '-', 'time', '?', 'Where', 'is', 'our', 'usual', 'manager', 'of', 'mirth', '?', 'What', 'revels', 'are', 'in', 'hand', '?', 'Is', 'there', 'no', 'play', ',', 'To', 'ease', 'the', 'anguish', 'of', 'a', 'torturing', 'hour', '?', 'Call', 'Philostrate', '.', 'PHILOSTRATE', 'Here', ',', 'mighty', 'Theseus', '.', 'THESEUS', 'Say', ',', 'what', 'abridgement', 'have', 'you', 'for', 'this', 'evening', '?', 'What', 'masque', '?', 'what', 'music', '?', 'How', 'shall', 'we', 'beguile', 'The', 'lazy', 'time', ',', 'if', 'not', 'with', 'some', 'delight', '?', 'PHILOSTRATE', 'There', 'is', 'a', 'brief', 'how', 'many', 'sports', 'are', 'ripe', ':', 'Make', 'choice', 'of', 'which', 'your', 'highness', 'will', 'see', 'first', '.', 'Giving', 'a', 'paper', 'THESEUS', 'Reads', 'By', 'an', 'Athenian', 'eunuch', 'to', 'the', 'harp', \".'\", 'We', \"'\", 'll', 'none', 'of', 'that', ':', 'that', 'have', 'I', 'told', 'my', 'love', ',', 'In', 'glory', 'of', 'my', 'kinsman', 'Hercules', '.', 'Reads', \"'\", 'The', 'riot', 'of', 'the', 'tipsy', 'Bacchanals', ',', 'Tearing', 'the', 'Thracian', 'singer', 'in', 'their', 'rage', \".'\", 'That', 'is', 'an', 'old', 'device', ';', 'and', 'it', 'was', 'play', \"'\", 'd', 'When', 'I', 'from', 'Thebes', 'came', 'last', 'a', 'conqueror', '.', 'Reads', \"'\", 'The', 'thrice', 'three', 'Muses', 'mourning', 'for', 'the', 'death', 'Of', 'Learning', ',', 'late', 'deceased', 'in', 'beggary', \".'\", 'That', 'is', 'some', 'satire', ',', 'keen', 'and', 'critical', ',', 'Not', 'sorting', 'with', 'a', 'nuptial', 'ceremony', '.', 'Reads', \"'\", 'A', 'tedious', 'brief', 'scene', 'of', 'young', 'Pyramus', 'And', 'his', 'love', 'Thisbe', ';', 'very', 'tragical', 'mirth', \".'\", 'Merry', 'and', 'tragical', '!', 'tedious', 'and', 'brief', '!', 'That', 'is', ',', 'hot', 'ice', 'and', 'wondrous', 'strange', 'snow', '.', 'How', 'shall', 'we', 'find', 'the', 'concord', 'of', 'this', 'discord', '?', 'PHILOSTRATE', 'A', 'play', 'there', 'is', ',', 'my', 'lord', ',', 'some', 'ten', 'words', 'long', ',', 'Which', 'is', 'as', 'brief', 'as', 'I', 'have', 'known', 'a', 'play', ';', 'But', 'by', 'ten', 'words', ',', 'my', 'lord', ',', 'it', 'is', 'too', 'long', ',', 'Which', 'makes', 'it', 'tedious', ';', 'for', 'in', 'all', 'the', 'play', 'There', 'is', 'not', 'one', 'word', 'apt', ',', 'one', 'player', 'fitted', ':', 'And', 'tragical', ',', 'my', 'noble', 'lord', ',', 'it', 'is', ';', 'For', 'Pyramus', 'therein', 'doth', 'kill', 'himself', '.', 'Which', ',', 'when', 'I', 'saw', 'rehearsed', ',', 'I', 'must', 'confess', ',', 'Made', 'mine', 'eyes', 'water', ';', 'but', 'more', 'merry', 'tears', 'The', 'passion', 'of', 'loud', 'laughter', 'never', 'shed', '.', 'THESEUS', 'What', 'are', 'they', 'that', 'do', 'play', 'it', '?', 'PHILOSTRATE', 'Hard', '-', 'handed', 'men', 'that', 'work', 'in', 'Athens', 'here', ',', 'Which', 'never', 'labour', \"'\", 'd', 'in', 'their', 'minds', 'till', 'now', ',', 'And', 'now', 'have', 'toil', \"'\", 'd', 'their', 'unbreathed', 'memories', 'With', 'this', 'same', 'play', ',', 'against', 'your', 'nuptial', '.', 'THESEUS', 'And', 'we', 'will', 'hear', 'it', '.', 'PHILOSTRATE', 'No', ',', 'my', 'noble', 'lord', ';', 'It', 'is', 'not', 'for', 'you', ':', 'I', 'have', 'heard', 'it', 'over', ',', 'And', 'it', 'is', 'nothing', ',', 'nothing', 'in', 'the', 'world', ';', 'Unless', 'you', 'can', 'find', 'sport', 'in', 'their', 'intents', ',', 'Extremely', 'stretch', \"'\", 'd', 'and', 'conn', \"'\", 'd', 'with', 'cruel', 'pain', ',', 'To', 'do', 'you', 'service', '.', 'THESEUS', 'I', 'will', 'hear', 'that', 'play', ';', 'For', 'never', 'anything', 'can', 'be', 'amiss', ',', 'When', 'simpleness', 'and', 'duty', 'tender', 'it', '.', 'Go', ',', 'bring', 'them', 'in', ':', 'and', 'take', 'your', 'places', ',', 'ladies', '.', 'Exit', 'PHILOSTRATE', 'HIPPOLYTA', 'I', 'love', 'not', 'to', 'see', 'wretchedness', 'o', \"'\", 'er', 'charged', 'And', 'duty', 'in', 'his', 'service', 'perishing', '.', 'THESEUS', 'Why', ',', 'gentle', 'sweet', ',', 'you', 'shall', 'see', 'no', 'such', 'thing', '.', 'HIPPOLYTA', 'He', 'says', 'they', 'can', 'do', 'nothing', 'in', 'this', 'kind', '.', 'THESEUS', 'The', 'kinder', 'we', ',', 'to', 'give', 'them', 'thanks', 'for', 'nothing', '.', 'Our', 'sport', 'shall', 'be', 'to', 'take', 'what', 'they', 'mistake', ':', 'And', 'what', 'poor', 'duty', 'cannot', 'do', ',', 'noble', 'respect', 'Takes', 'it', 'in', 'might', ',', 'not', 'merit', '.', 'Where', 'I', 'have', 'come', ',', 'great', 'clerks', 'have', 'purposed', 'To', 'greet', 'me', 'with', 'premeditated', 'welcomes', ';', 'Where', 'I', 'have', 'seen', 'them', 'shiver', 'and', 'look', 'pale', ',', 'Make', 'periods', 'in', 'the', 'midst', 'of', 'sentences', ',', 'Throttle', 'their', 'practised', 'accent', 'in', 'their', 'fears', 'And', 'in', 'conclusion', 'dumbly', 'have', 'broke', 'off', ',', 'Not', 'paying', 'me', 'a', 'welcome', '.', 'Trust', 'me', ',', 'sweet', ',', 'Out', 'of', 'this', 'silence', 'yet', 'I', 'pick', \"'\", 'd', 'a', 'welcome', ';', 'And', 'in', 'the', 'modesty', 'of', 'fearful', 'duty', 'I', 'read', 'as', 'much', 'as', 'from', 'the', 'rattling', 'tongue', 'Of', 'saucy', 'and', 'audacious', 'eloquence', '.', 'Love', ',', 'therefore', ',', 'and', 'tongue', '-', 'tied', 'simplicity', 'In', 'least', 'speak', 'most', ',', 'to', 'my', 'capacity', '.', 'Re', '-', 'enter', 'PHILOSTRATE', 'PHILOSTRATE', 'So', 'please', 'your', 'grace', ',', 'the', 'Prologue', 'is', 'address', \"'\", 'd', '.', 'THESEUS', 'Let', 'him', 'approach', '.', 'Flourish', 'of', 'trumpets', 'Enter', 'QUINCE', 'for', 'the', 'Prologue', 'Prologue', 'If', 'we', 'offend', ',', 'it', 'is', 'with', 'our', 'good', 'will', '.', 'That', 'you', 'should', 'think', ',', 'we', 'come', 'not', 'to', 'offend', ',', 'But', 'with', 'good', 'will', '.', 'To', 'show', 'our', 'simple', 'skill', ',', 'That', 'is', 'the', 'true', 'beginning', 'of', 'our', 'end', '.', 'Consider', 'then', 'we', 'come', 'but', 'in', 'despite', '.', 'We', 'do', 'not', 'come', 'as', 'minding', 'to', 'contest', 'you', ',', 'Our', 'true', 'intent', 'is', '.', 'All', 'for', 'your', 'delight', 'We', 'are', 'not', 'here', '.', 'That', 'you', 'should', 'here', 'repent', 'you', ',', 'The', 'actors', 'are', 'at', 'hand', 'and', 'by', 'their', 'show', 'You', 'shall', 'know', 'all', 'that', 'you', 'are', 'like', 'to', 'know', '.', 'THESEUS', 'This', 'fellow', 'doth', 'not', 'stand', 'upon', 'points', '.', 'LYSANDER', 'He', 'hath', 'rid', 'his', 'prologue', 'like', 'a', 'rough', 'colt', ';', 'he', 'knows', 'not', 'the', 'stop', '.', 'A', 'good', 'moral', ',', 'my', 'lord', ':', 'it', 'is', 'not', 'enough', 'to', 'speak', ',', 'but', 'to', 'speak', 'true', '.', 'HIPPOLYTA', 'Indeed', 'he', 'hath', 'played', 'on', 'his', 'prologue', 'like', 'a', 'child', 'on', 'a', 'recorder', ';', 'a', 'sound', ',', 'but', 'not', 'in', 'government', '.', 'THESEUS', 'His', 'speech', ',', 'was', 'like', 'a', 'tangled', 'chain', ';', 'nothing', 'impaired', ',', 'but', 'all', 'disordered', '.', 'Who', 'is', 'next', '?', 'Enter', 'Pyramus', 'and', 'Thisbe', ',', 'Wall', ',', 'Moonshine', ',', 'and', 'Lion', 'Prologue', 'Gentles', ',', 'perchance', 'you', 'wonder', 'at', 'this', 'show', ';', 'But', 'wonder', 'on', ',', 'till', 'truth', 'make', 'all', 'things', 'plain', '.', 'This', 'man', 'is', 'Pyramus', ',', 'if', 'you', 'would', 'know', ';', 'This', 'beauteous', 'lady', 'Thisby', 'is', 'certain', '.', 'This', 'man', ',', 'with', 'lime', 'and', 'rough', '-', 'cast', ',', 'doth', 'present', 'Wall', ',', 'that', 'vile', 'Wall', 'which', 'did', 'these', 'lovers', 'sunder', ';', 'And', 'through', 'Wall', \"'\", 's', 'chink', ',', 'poor', 'souls', ',', 'they', 'are', 'content', 'To', 'whisper', '.', 'At', 'the', 'which', 'let', 'no', 'man', 'wonder', '.', 'This', 'man', ',', 'with', 'lanthorn', ',', 'dog', ',', 'and', 'bush', 'of', 'thorn', ',', 'Presenteth', 'Moonshine', ';', 'for', ',', 'if', 'you', 'will', 'know', ',', 'By', 'moonshine', 'did', 'these', 'lovers', 'think', 'no', 'scorn', 'To', 'meet', 'at', 'Ninus', \"'\", 'tomb', ',', 'there', ',', 'there', 'to', 'woo', '.', 'This', 'grisly', 'beast', ',', 'which', 'Lion', 'hight', 'by', 'name', ',', 'The', 'trusty', 'Thisby', ',', 'coming', 'first', 'by', 'night', ',', 'Did', 'scare', 'away', ',', 'or', 'rather', 'did', 'affright', ';', 'And', ',', 'as', 'she', 'fled', ',', 'her', 'mantle', 'she', 'did', 'fall', ',', 'Which', 'Lion', 'vile', 'with', 'bloody', 'mouth', 'did', 'stain', '.', 'Anon', 'comes', 'Pyramus', ',', 'sweet', 'youth', 'and', 'tall', ',', 'And', 'finds', 'his', 'trusty', 'Thisby', \"'\", 's', 'mantle', 'slain', ':', 'Whereat', ',', 'with', 'blade', ',', 'with', 'bloody', 'blameful', 'blade', ',', 'He', 'bravely', 'broach', \"'\", 'd', 'is', 'boiling', 'bloody', 'breast', ';', 'And', 'Thisby', ',', 'tarrying', 'in', 'mulberry', 'shade', ',', 'His', 'dagger', 'drew', ',', 'and', 'died', '.', 'For', 'all', 'the', 'rest', ',', 'Let', 'Lion', ',', 'Moonshine', ',', 'Wall', ',', 'and', 'lovers', 'twain', 'At', 'large', 'discourse', ',', 'while', 'here', 'they', 'do', 'remain', '.', 'Exeunt', 'Prologue', ',', 'Thisbe', ',', 'Lion', ',', 'and', 'Moonshine', 'THESEUS', 'I', 'wonder', 'if', 'the', 'lion', 'be', 'to', 'speak', '.', 'DEMETRIUS', 'No', 'wonder', ',', 'my', 'lord', ':', 'one', 'lion', 'may', ',', 'when', 'many', 'asses', 'do', '.', 'Wall', 'In', 'this', 'same', 'interlude', 'it', 'doth', 'befall', 'That', 'I', ',', 'one', 'Snout', 'by', 'name', ',', 'present', 'a', 'wall', ';', 'And', 'such', 'a', 'wall', ',', 'as', 'I', 'would', 'have', 'you', 'think', ',', 'That', 'had', 'in', 'it', 'a', 'crannied', 'hole', 'or', 'chink', ',', 'Through', 'which', 'the', 'lovers', ',', 'Pyramus', 'and', 'Thisby', ',', 'Did', 'whisper', 'often', 'very', 'secretly', '.', 'This', 'loam', ',', 'this', 'rough', '-', 'cast', 'and', 'this', 'stone', 'doth', 'show', 'That', 'I', 'am', 'that', 'same', 'wall', ';', 'the', 'truth', 'is', 'so', ':', 'And', 'this', 'the', 'cranny', 'is', ',', 'right', 'and', 'sinister', ',', 'Through', 'which', 'the', 'fearful', 'lovers', 'are', 'to', 'whisper', '.', 'THESEUS', 'Would', 'you', 'desire', 'lime', 'and', 'hair', 'to', 'speak', 'better', '?', 'DEMETRIUS', 'It', 'is', 'the', 'wittiest', 'partition', 'that', 'ever', 'I', 'heard', 'discourse', ',', 'my', 'lord', '.', 'Enter', 'Pyramus', 'THESEUS', 'Pyramus', 'draws', 'near', 'the', 'wall', ':', 'silence', '!', 'Pyramus', 'O', 'grim', '-', 'look', \"'\", 'd', 'night', '!', 'O', 'night', 'with', 'hue', 'so', 'black', '!', 'O', 'night', ',', 'which', 'ever', 'art', 'when', 'day', 'is', 'not', '!', 'O', 'night', ',', 'O', 'night', '!', 'alack', ',', 'alack', ',', 'alack', ',', 'I', 'fear', 'my', 'Thisby', \"'\", 's', 'promise', 'is', 'forgot', '!', 'And', 'thou', ',', 'O', 'wall', ',', 'O', 'sweet', ',', 'O', 'lovely', 'wall', ',', 'That', 'stand', \"'\", 'st', 'between', 'her', 'father', \"'\", 's', 'ground', 'and', 'mine', '!', 'Thou', 'wall', ',', 'O', 'wall', ',', 'O', 'sweet', 'and', 'lovely', 'wall', ',', 'Show', 'me', 'thy', 'chink', ',', 'to', 'blink', 'through', 'with', 'mine', 'eyne', '!', 'Wall', 'holds', 'up', 'his', 'fingers', 'Thanks', ',', 'courteous', 'wall', ':', 'Jove', 'shield', 'thee', 'well', 'for', 'this', '!', 'But', 'what', 'see', 'I', '?', 'No', 'Thisby', 'do', 'I', 'see', '.', 'O', 'wicked', 'wall', ',', 'through', 'whom', 'I', 'see', 'no', 'bliss', '!', 'Cursed', 'be', 'thy', 'stones', 'for', 'thus', 'deceiving', 'me', '!', 'THESEUS', 'The', 'wall', ',', 'methinks', ',', 'being', 'sensible', ',', 'should', 'curse', 'again', '.', 'Pyramus', 'No', ',', 'in', 'truth', ',', 'sir', ',', 'he', 'should', 'not', '.', \"'\", 'Deceiving', 'me', \"'\", 'is', 'Thisby', \"'\", 's', 'cue', ':', 'she', 'is', 'to', 'enter', 'now', ',', 'and', 'I', 'am', 'to', 'spy', 'her', 'through', 'the', 'wall', '.', 'You', 'shall', 'see', ',', 'it', 'will', 'fall', 'pat', 'as', 'I', 'told', 'you', '.', 'Yonder', 'she', 'comes', '.', 'Enter', 'Thisbe', 'Thisbe', 'O', 'wall', ',', 'full', 'often', 'hast', 'thou', 'heard', 'my', 'moans', ',', 'For', 'parting', 'my', 'fair', 'Pyramus', 'and', 'me', '!', 'My', 'cherry', 'lips', 'have', 'often', 'kiss', \"'\", 'd', 'thy', 'stones', ',', 'Thy', 'stones', 'with', 'lime', 'and', 'hair', 'knit', 'up', 'in', 'thee', '.', 'Pyramus', 'I', 'see', 'a', 'voice', ':', 'now', 'will', 'I', 'to', 'the', 'chink', ',', 'To', 'spy', 'an', 'I', 'can', 'hear', 'my', 'Thisby', \"'\", 's', 'face', '.', 'Thisby', '!', 'Thisbe', 'My', 'love', 'thou', 'art', ',', 'my', 'love', 'I', 'think', '.', 'Pyramus', 'Think', 'what', 'thou', 'wilt', ',', 'I', 'am', 'thy', 'lover', \"'\", 's', 'grace', ';', 'And', ',', 'like', 'Limander', ',', 'am', 'I', 'trusty', 'still', '.', 'Thisbe', 'And', 'I', 'like', 'Helen', ',', 'till', 'the', 'Fates', 'me', 'kill', '.', 'Pyramus', 'Not', 'Shafalus', 'to', 'Procrus', 'was', 'so', 'true', '.', 'Thisbe', 'As', 'Shafalus', 'to', 'Procrus', ',', 'I', 'to', 'you', '.', 'Pyramus', 'O', 'kiss', 'me', 'through', 'the', 'hole', 'of', 'this', 'vile', 'wall', '!', 'Thisbe', 'I', 'kiss', 'the', 'wall', \"'\", 's', 'hole', ',', 'not', 'your', 'lips', 'at', 'all', '.', 'Pyramus', 'Wilt', 'thou', 'at', 'Ninny', \"'\", 's', 'tomb', 'meet', 'me', 'straightway', '?', 'Thisbe', \"'\", 'Tide', 'life', ',', \"'\", 'tide', 'death', ',', 'I', 'come', 'without', 'delay', '.', 'Exeunt', 'Pyramus', 'and', 'Thisbe', 'Wall', 'Thus', 'have', 'I', ',', 'Wall', ',', 'my', 'part', 'discharged', 'so', ';', 'And', ',', 'being', 'done', ',', 'thus', 'Wall', 'away', 'doth', 'go', '.', 'Exit', 'THESEUS', 'Now', 'is', 'the', 'mural', 'down', 'between', 'the', 'two', 'neighbours', '.', 'DEMETRIUS', 'No', 'remedy', ',', 'my', 'lord', ',', 'when', 'walls', 'are', 'so', 'wilful', 'to', 'hear', 'without', 'warning', '.', 'HIPPOLYTA', 'This', 'is', 'the', 'silliest', 'stuff', 'that', 'ever', 'I', 'heard', '.', 'THESEUS', 'The', 'best', 'in', 'this', 'kind', 'are', 'but', 'shadows', ';', 'and', 'the', 'worst', 'are', 'no', 'worse', ',', 'if', 'imagination', 'amend', 'them', '.', 'HIPPOLYTA', 'It', 'must', 'be', 'your', 'imagination', 'then', ',', 'and', 'not', 'theirs', '.', 'THESEUS', 'If', 'we', 'imagine', 'no', 'worse', 'of', 'them', 'than', 'they', 'of', 'themselves', ',', 'they', 'may', 'pass', 'for', 'excellent', 'men', '.', 'Here', 'come', 'two', 'noble', 'beasts', 'in', ',', 'a', 'man', 'and', 'a', 'lion', '.', 'Enter', 'Lion', 'and', 'Moonshine', 'Lion', 'You', ',', 'ladies', ',', 'you', ',', 'whose', 'gentle', 'hearts', 'do', 'fear', 'The', 'smallest', 'monstrous', 'mouse', 'that', 'creeps', 'on', 'floor', ',', 'May', 'now', 'perchance', 'both', 'quake', 'and', 'tremble', 'here', ',', 'When', 'lion', 'rough', 'in', 'wildest', 'rage', 'doth', 'roar', '.', 'Then', 'know', 'that', 'I', ',', 'one', 'Snug', 'the', 'joiner', ',', 'am', 'A', 'lion', '-', 'fell', ',', 'nor', 'else', 'no', 'lion', \"'\", 's', 'dam', ';', 'For', ',', 'if', 'I', 'should', 'as', 'lion', 'come', 'in', 'strife', 'Into', 'this', 'place', ',', \"'\", 'twere', 'pity', 'on', 'my', 'life', '.', 'THESEUS', 'A', 'very', 'gentle', 'beast', ',', 'of', 'a', 'good', 'conscience', '.', 'DEMETRIUS', 'The', 'very', 'best', 'at', 'a', 'beast', ',', 'my', 'lord', ',', 'that', 'e', \"'\", 'er', 'I', 'saw', '.', 'LYSANDER', 'This', 'lion', 'is', 'a', 'very', 'fox', 'for', 'his', 'valour', '.', 'THESEUS', 'True', ';', 'and', 'a', 'goose', 'for', 'his', 'discretion', '.', 'DEMETRIUS', 'Not', 'so', ',', 'my', 'lord', ';', 'for', 'his', 'valour', 'cannot', 'carry', 'his', 'discretion', ';', 'and', 'the', 'fox', 'carries', 'the', 'goose', '.', 'THESEUS', 'His', 'discretion', ',', 'I', 'am', 'sure', ',', 'cannot', 'carry', 'his', 'valour', ';', 'for', 'the', 'goose', 'carries', 'not', 'the', 'fox', '.', 'It', 'is', 'well', ':', 'leave', 'it', 'to', 'his', 'discretion', ',', 'and', 'let', 'us', 'listen', 'to', 'the', 'moon', '.', 'Moonshine', 'This', 'lanthorn', 'doth', 'the', 'horned', 'moon', 'present', ';--', 'DEMETRIUS', 'He', 'should', 'have', 'worn', 'the', 'horns', 'on', 'his', 'head', '.', 'THESEUS', 'He', 'is', 'no', 'crescent', ',', 'and', 'his', 'horns', 'are', 'invisible', 'within', 'the', 'circumference', '.', 'Moonshine', 'This', 'lanthorn', 'doth', 'the', 'horned', 'moon', 'present', ';', 'Myself', 'the', 'man', 'i', \"'\", 'the', 'moon', 'do', 'seem', 'to', 'be', '.', 'THESEUS', 'This', 'is', 'the', 'greatest', 'error', 'of', 'all', 'the', 'rest', ':', 'the', 'man', 'should', 'be', 'put', 'into', 'the', 'lanthorn', '.', 'How', 'is', 'it', 'else', 'the', 'man', 'i', \"'\", 'the', 'moon', '?', 'DEMETRIUS', 'He', 'dares', 'not', 'come', 'there', 'for', 'the', 'candle', ';', 'for', ',', 'you', 'see', ',', 'it', 'is', 'already', 'in', 'snuff', '.', 'HIPPOLYTA', 'I', 'am', 'aweary', 'of', 'this', 'moon', ':', 'would', 'he', 'would', 'change', '!', 'THESEUS', 'It', 'appears', ',', 'by', 'his', 'small', 'light', 'of', 'discretion', ',', 'that', 'he', 'is', 'in', 'the', 'wane', ';', 'but', 'yet', ',', 'in', 'courtesy', ',', 'in', 'all', 'reason', ',', 'we', 'must', 'stay', 'the', 'time', '.', 'LYSANDER', 'Proceed', ',', 'Moon', '.', 'Moonshine', 'All', 'that', 'I', 'have', 'to', 'say', ',', 'is', ',', 'to', 'tell', 'you', 'that', 'the', 'lanthorn', 'is', 'the', 'moon', ';', 'I', ',', 'the', 'man', 'in', 'the', 'moon', ';', 'this', 'thorn', '-', 'bush', ',', 'my', 'thorn', '-', 'bush', ';', 'and', 'this', 'dog', ',', 'my', 'dog', '.', 'DEMETRIUS', 'Why', ',', 'all', 'these', 'should', 'be', 'in', 'the', 'lanthorn', ';', 'for', 'all', 'these', 'are', 'in', 'the', 'moon', '.', 'But', ',', 'silence', '!', 'here', 'comes', 'Thisbe', '.', 'Enter', 'Thisbe', 'Thisbe', 'This', 'is', 'old', 'Ninny', \"'\", 's', 'tomb', '.', 'Where', 'is', 'my', 'love', '?', 'Lion', 'Roaring', 'Thisbe', 'runs', 'off', 'DEMETRIUS', 'Well', 'roared', ',', 'Lion', '.', 'THESEUS', 'Well', 'run', ',', 'Thisbe', '.', 'HIPPOLYTA', 'Well', 'shone', ',', 'Moon', '.', 'Truly', ',', 'the', 'moon', 'shines', 'with', 'a', 'good', 'grace', '.', 'The', 'Lion', 'shakes', 'Thisbe', \"'\", 's', 'mantle', ',', 'and', 'exit', 'THESEUS', 'Well', 'moused', ',', 'Lion', '.', 'LYSANDER', 'And', 'so', 'the', 'lion', 'vanished', '.', 'DEMETRIUS', 'And', 'then', 'came', 'Pyramus', '.', 'Enter', 'Pyramus', 'Pyramus', 'Sweet', 'Moon', ',', 'I', 'thank', 'thee', 'for', 'thy', 'sunny', 'beams', ';', 'I', 'thank', 'thee', ',', 'Moon', ',', 'for', 'shining', 'now', 'so', 'bright', ';', 'For', ',', 'by', 'thy', 'gracious', ',', 'golden', ',', 'glittering', 'gleams', ',', 'I', 'trust', 'to', 'take', 'of', 'truest', 'Thisby', 'sight', '.', 'But', 'stay', ',', 'O', 'spite', '!', 'But', 'mark', ',', 'poor', 'knight', ',', 'What', 'dreadful', 'dole', 'is', 'here', '!', 'Eyes', ',', 'do', 'you', 'see', '?', 'How', 'can', 'it', 'be', '?', 'O', 'dainty', 'duck', '!', 'O', 'dear', '!', 'Thy', 'mantle', 'good', ',', 'What', ',', 'stain', \"'\", 'd', 'with', 'blood', '!', 'Approach', ',', 'ye', 'Furies', 'fell', '!', 'O', 'Fates', ',', 'come', ',', 'come', ',', 'Cut', 'thread', 'and', 'thrum', ';', 'Quail', ',', 'crush', ',', 'conclude', ',', 'and', 'quell', '!', 'THESEUS', 'This', 'passion', ',', 'and', 'the', 'death', 'of', 'a', 'dear', 'friend', ',', 'would', 'go', 'near', 'to', 'make', 'a', 'man', 'look', 'sad', '.', 'HIPPOLYTA', 'Beshrew', 'my', 'heart', ',', 'but', 'I', 'pity', 'the', 'man', '.', 'Pyramus', 'O', 'wherefore', ',', 'Nature', ',', 'didst', 'thou', 'lions', 'frame', '?', 'Since', 'lion', 'vile', 'hath', 'here', 'deflower', \"'\", 'd', 'my', 'dear', ':', 'Which', 'is', '--', 'no', ',', 'no', '--', 'which', 'was', 'the', 'fairest', 'dame', 'That', 'lived', ',', 'that', 'loved', ',', 'that', 'liked', ',', 'that', 'look', \"'\", 'd', 'with', 'cheer', '.', 'Come', ',', 'tears', ',', 'confound', ';', 'Out', ',', 'sword', ',', 'and', 'wound', 'The', 'pap', 'of', 'Pyramus', ';', 'Ay', ',', 'that', 'left', 'pap', ',', 'Where', 'heart', 'doth', 'hop', ':', 'Stabs', 'himself', 'Thus', 'die', 'I', ',', 'thus', ',', 'thus', ',', 'thus', '.', 'Now', 'am', 'I', 'dead', ',', 'Now', 'am', 'I', 'fled', ';', 'My', 'soul', 'is', 'in', 'the', 'sky', ':', 'Tongue', ',', 'lose', 'thy', 'light', ';', 'Moon', 'take', 'thy', 'flight', ':', 'Exit', 'Moonshine', 'Now', 'die', ',', 'die', ',', 'die', ',', 'die', ',', 'die', '.', 'Dies', 'DEMETRIUS', 'No', 'die', ',', 'but', 'an', 'ace', ',', 'for', 'him', ';', 'for', 'he', 'is', 'but', 'one', '.', 'LYSANDER', 'Less', 'than', 'an', 'ace', ',', 'man', ';', 'for', 'he', 'is', 'dead', ';', 'he', 'is', 'nothing', '.', 'THESEUS', 'With', 'the', 'help', 'of', 'a', 'surgeon', 'he', 'might', 'yet', 'recover', ',', 'and', 'prove', 'an', 'ass', '.', 'HIPPOLYTA', 'How', 'chance', 'Moonshine', 'is', 'gone', 'before', 'Thisbe', 'comes', 'back', 'and', 'finds', 'her', 'lover', '?', 'THESEUS', 'She', 'will', 'find', 'him', 'by', 'starlight', '.', 'Here', 'she', 'comes', ';', 'and', 'her', 'passion', 'ends', 'the', 'play', '.', 'Re', '-', 'enter', 'Thisbe', 'HIPPOLYTA', 'Methinks', 'she', 'should', 'not', 'use', 'a', 'long', 'one', 'for', 'such', 'a', 'Pyramus', ':', 'I', 'hope', 'she', 'will', 'be', 'brief', '.', 'DEMETRIUS', 'A', 'mote', 'will', 'turn', 'the', 'balance', ',', 'which', 'Pyramus', ',', 'which', 'Thisbe', ',', 'is', 'the', 'better', ';', 'he', 'for', 'a', 'man', ',', 'God', 'warrant', 'us', ';', 'she', 'for', 'a', 'woman', ',', 'God', 'bless', 'us', '.', 'LYSANDER', 'She', 'hath', 'spied', 'him', 'already', 'with', 'those', 'sweet', 'eyes', '.', 'DEMETRIUS', 'And', 'thus', 'she', 'means', ',', 'videlicet', ':--', 'Thisbe', 'Asleep', ',', 'my', 'love', '?', 'What', ',', 'dead', ',', 'my', 'dove', '?', 'O', 'Pyramus', ',', 'arise', '!', 'Speak', ',', 'speak', '.', 'Quite', 'dumb', '?', 'Dead', ',', 'dead', '?', 'A', 'tomb', 'Must', 'cover', 'thy', 'sweet', 'eyes', '.', 'These', 'My', 'lips', ',', 'This', 'cherry', 'nose', ',', 'These', 'yellow', 'cowslip', 'cheeks', ',', 'Are', 'gone', ',', 'are', 'gone', ':', 'Lovers', ',', 'make', 'moan', ':', 'His', 'eyes', 'were', 'green', 'as', 'leeks', '.', 'O', 'Sisters', 'Three', ',', 'Come', ',', 'come', 'to', 'me', ',', 'With', 'hands', 'as', 'pale', 'as', 'milk', ';', 'Lay', 'them', 'in', 'gore', ',', 'Since', 'you', 'have', 'shore', 'With', 'shears', 'his', 'thread', 'of', 'silk', '.', 'Tongue', ',', 'not', 'a', 'word', ':', 'Come', ',', 'trusty', 'sword', ';', 'Come', ',', 'blade', ',', 'my', 'breast', 'imbrue', ':', 'Stabs', 'herself', 'And', ',', 'farewell', ',', 'friends', ';', 'Thus', 'Thisby', 'ends', ':', 'Adieu', ',', 'adieu', ',', 'adieu', '.', 'Dies', 'THESEUS', 'Moonshine', 'and', 'Lion', 'are', 'left', 'to', 'bury', 'the', 'dead', '.', 'DEMETRIUS', 'Ay', ',', 'and', 'Wall', 'too', '.', 'BOTTOM', 'Starting', 'up', 'parted', 'their', 'fathers', '.', 'Will', 'it', 'please', 'you', 'to', 'see', 'the', 'epilogue', ',', 'or', 'to', 'hear', 'a', 'Bergomask', 'dance', 'between', 'two', 'of', 'our', 'company', '?', 'THESEUS', 'No', 'epilogue', ',', 'I', 'pray', 'you', ';', 'for', 'your', 'play', 'needs', 'no', 'excuse', '.', 'Never', 'excuse', ';', 'for', 'when', 'the', 'players', 'are', 'all', 'dead', ',', 'there', 'needs', 'none', 'to', 'be', 'blamed', '.', 'Marry', ',', 'if', 'he', 'that', 'writ', 'it', 'had', 'played', 'Pyramus', 'and', 'hanged', 'himself', 'in', 'Thisbe', \"'\", 's', 'garter', ',', 'it', 'would', 'have', 'been', 'a', 'fine', 'tragedy', ':', 'and', 'so', 'it', 'is', ',', 'truly', ';', 'and', 'very', 'notably', 'discharged', '.', 'But', 'come', ',', 'your', 'Bergomask', ':', 'let', 'your', 'epilogue', 'alone', '.', 'A', 'dance', 'The', 'iron', 'tongue', 'of', 'midnight', 'hath', 'told', 'twelve', ':', 'Lovers', ',', 'to', 'bed', ';', \"'\", 'tis', 'almost', 'fairy', 'time', '.', 'I', 'fear', 'we', 'shall', 'out', '-', 'sleep', 'the', 'coming', 'morn', 'As', 'much', 'as', 'we', 'this', 'night', 'have', 'overwatch', \"'\", 'd', '.', 'This', 'palpable', '-', 'gross', 'play', 'hath', 'well', 'beguiled', 'The', 'heavy', 'gait', 'of', 'night', '.', 'Sweet', 'friends', ',', 'to', 'bed', '.', 'A', 'fortnight', 'hold', 'we', 'this', 'solemnity', ',', 'In', 'nightly', 'revels', 'and', 'new', 'jollity', '.', 'Exeunt', 'Enter', 'PUCK', 'PUCK', 'Now', 'the', 'hungry', 'lion', 'roars', ',', 'And', 'the', 'wolf', 'behowls', 'the', 'moon', ';', 'Whilst', 'the', 'heavy', 'ploughman', 'snores', ',', 'All', 'with', 'weary', 'task', 'fordone', '.', 'Now', 'the', 'wasted', 'brands', 'do', 'glow', ',', 'Whilst', 'the', 'screech', '-', 'owl', ',', 'screeching', 'loud', ',', 'Puts', 'the', 'wretch', 'that', 'lies', 'in', 'woe', 'In', 'remembrance', 'of', 'a', 'shroud', '.', 'Now', 'it', 'is', 'the', 'time', 'of', 'night', 'That', 'the', 'graves', 'all', 'gaping', 'wide', ',', 'Every', 'one', 'lets', 'forth', 'his', 'sprite', ',', 'In', 'the', 'church', '-', 'way', 'paths', 'to', 'glide', ':', 'And', 'we', 'fairies', ',', 'that', 'do', 'run', 'By', 'the', 'triple', 'Hecate', \"'\", 's', 'team', ',', 'From', 'the', 'presence', 'of', 'the', 'sun', ',', 'Following', 'darkness', 'like', 'a', 'dream', ',', 'Now', 'are', 'frolic', ':', 'not', 'a', 'mouse', 'Shall', 'disturb', 'this', 'hallow', \"'\", 'd', 'house', ':', 'I', 'am', 'sent', 'with', 'broom', 'before', ',', 'To', 'sweep', 'the', 'dust', 'behind', 'the', 'door', '.', 'Enter', 'OBERON', 'and', 'TITANIA', 'with', 'their', 'train', 'OBERON', 'Through', 'the', 'house', 'give', 'gathering', 'light', ',', 'By', 'the', 'dead', 'and', 'drowsy', 'fire', ':', 'Every', 'elf', 'and', 'fairy', 'sprite', 'Hop', 'as', 'light', 'as', 'bird', 'from', 'brier', ';', 'And', 'this', 'ditty', ',', 'after', 'me', ',', 'Sing', ',', 'and', 'dance', 'it', 'trippingly', '.', 'TITANIA', 'First', ',', 'rehearse', 'your', 'song', 'by', 'rote', 'To', 'each', 'word', 'a', 'warbling', 'note', ':', 'Hand', 'in', 'hand', ',', 'with', 'fairy', 'grace', ',', 'Will', 'we', 'sing', ',', 'and', 'bless', 'this', 'place', '.', 'Song', 'and', 'dance', 'OBERON', 'Now', ',', 'until', 'the', 'break', 'of', 'day', ',', 'Through', 'this', 'house', 'each', 'fairy', 'stray', '.', 'To', 'the', 'best', 'bride', '-', 'bed', 'will', 'we', ',', 'Which', 'by', 'us', 'shall', 'blessed', 'be', ';', 'And', 'the', 'issue', 'there', 'create', 'Ever', 'shall', 'be', 'fortunate', '.', 'So', 'shall', 'all', 'the', 'couples', 'three', 'Ever', 'true', 'in', 'loving', 'be', ';', 'And', 'the', 'blots', 'of', 'Nature', \"'\", 's', 'hand', 'Shall', 'not', 'in', 'their', 'issue', 'stand', ';', 'Never', 'mole', ',', 'hare', 'lip', ',', 'nor', 'scar', ',', 'Nor', 'mark', 'prodigious', ',', 'such', 'as', 'are', 'Despised', 'in', 'nativity', ',', 'Shall', 'upon', 'their', 'children', 'be', '.', 'With', 'this', 'field', '-', 'dew', 'consecrate', ',', 'Every', 'fairy', 'take', 'his', 'gait', ';', 'And', 'each', 'several', 'chamber', 'bless', ',', 'Through', 'this', 'palace', ',', 'with', 'sweet', 'peace', ';', 'And', 'the', 'owner', 'of', 'it', 'blest', 'Ever', 'shall', 'in', 'safety', 'rest', '.', 'Trip', 'away', ';', 'make', 'no', 'stay', ';', 'Meet', 'me', 'all', 'by', 'break', 'of', 'day', '.', 'Exeunt', 'OBERON', ',', 'TITANIA', ',', 'and', 'train', 'PUCK', 'If', 'we', 'shadows', 'have', 'offended', ',', 'Think', 'but', 'this', ',', 'and', 'all', 'is', 'mended', ',', 'That', 'you', 'have', 'but', 'slumber', \"'\", 'd', 'here', 'While', 'these', 'visions', 'did', 'appear', '.', 'And', 'this', 'weak', 'and', 'idle', 'theme', ',', 'No', 'more', 'yielding', 'but', 'a', 'dream', ',', 'Gentles', ',', 'do', 'not', 'reprehend', ':', 'if', 'you', 'pardon', ',', 'we', 'will', 'mend', ':', 'And', ',', 'as', 'I', 'am', 'an', 'honest', 'Puck', ',', 'If', 'we', 'have', 'unearned', 'luck', 'Now', 'to', \"'\", 'scape', 'the', 'serpent', \"'\", 's', 'tongue', ',', 'We', 'will', 'make', 'amends', 'ere', 'long', ';', 'Else', 'the', 'Puck', 'a', 'liar', 'call', ';', 'So', ',', 'good', 'night', 'unto', 'you', 'all', '.', 'Give', 'me', 'your', 'hands', ',', 'if', 'we', 'be', 'friends', ',', 'And', 'Robin', 'shall', 'restore', 'amends', '.']\n"
     ]
    }
   ],
   "source": [
    "li = nltk.corpus.shakespeare.words('dream.xml')\n",
    "print(li)"
   ]
  },
  {
   "cell_type": "markdown",
   "metadata": {},
   "source": [
    "#### Load the State of the Union corpus"
   ]
  },
  {
   "cell_type": "code",
   "execution_count": 2,
   "metadata": {},
   "outputs": [],
   "source": [
    "words = [w for w in nltk.corpus.state_union.words() if w.isalpha()]       # include only the words that are made up of letters"
   ]
  },
  {
   "cell_type": "code",
   "execution_count": 3,
   "metadata": {},
   "outputs": [
    {
     "name": "stdout",
     "output_type": "stream",
     "text": [
      "['PRESIDENT', 'HARRY', 'S', 'TRUMAN', 'S', 'ADDRESS', 'BEFORE', 'A', 'JOINT', 'SESSION', 'OF', 'THE', 'CONGRESS', 'April', 'Mr', 'Speaker', 'Mr', 'President', 'Members', 'of', 'the', 'Congress', 'It', 'is', 'with', 'a', 'heavy', 'heart', 'that', 'I', 'stand', 'before', 'you', 'my', 'friends', 'and', 'colleagues', 'in', 'the', 'Congress', 'of', 'the', 'United', 'States', 'Only', 'yesterday', 'we', 'laid', 'to', 'rest', 'the', 'mortal', 'remains', 'of', 'our', 'beloved', 'President', 'Franklin', 'Delano', 'Roosevelt', 'At', 'a', 'time', 'like', 'this', 'words', 'are', 'inadequate', 'The', 'most', 'eloquent', 'tribute', 'would', 'be', 'a', 'reverent', 'silence', 'Yet', 'in', 'this', 'decisive', 'hour', 'when', 'world', 'events', 'are', 'moving', 'so', 'rapidly', 'our', 'silence', 'might', 'be', 'misunderstood', 'and', 'might', 'give', 'comfort', 'to', 'our']\n"
     ]
    }
   ],
   "source": [
    "print(words[:100])"
   ]
  },
  {
   "cell_type": "markdown",
   "metadata": {},
   "source": [
    "#### Remove stop words from your original word list"
   ]
  },
  {
   "cell_type": "code",
   "execution_count": 4,
   "metadata": {},
   "outputs": [],
   "source": [
    "stopwords = nltk.corpus.stopwords.words(\"english\")"
   ]
  },
  {
   "cell_type": "code",
   "execution_count": 5,
   "metadata": {
    "collapsed": true
   },
   "outputs": [
    {
     "name": "stdout",
     "output_type": "stream",
     "text": [
      "['i', 'me', 'my', 'myself', 'we', 'our', 'ours', 'ourselves', 'you', \"you're\", \"you've\", \"you'll\", \"you'd\", 'your', 'yours', 'yourself', 'yourselves', 'he', 'him', 'his', 'himself', 'she', \"she's\", 'her', 'hers', 'herself', 'it', \"it's\", 'its', 'itself', 'they', 'them', 'their', 'theirs', 'themselves', 'what', 'which', 'who', 'whom', 'this', 'that', \"that'll\", 'these', 'those', 'am', 'is', 'are', 'was', 'were', 'be', 'been', 'being', 'have', 'has', 'had', 'having', 'do', 'does', 'did', 'doing', 'a', 'an', 'the', 'and', 'but', 'if', 'or', 'because', 'as', 'until', 'while', 'of', 'at', 'by', 'for', 'with', 'about', 'against', 'between', 'into', 'through', 'during', 'before', 'after', 'above', 'below', 'to', 'from', 'up', 'down', 'in', 'out', 'on', 'off', 'over', 'under', 'again', 'further', 'then', 'once', 'here', 'there', 'when', 'where', 'why', 'how', 'all', 'any', 'both', 'each', 'few', 'more', 'most', 'other', 'some', 'such', 'no', 'nor', 'not', 'only', 'own', 'same', 'so', 'than', 'too', 'very', 's', 't', 'can', 'will', 'just', 'don', \"don't\", 'should', \"should've\", 'now', 'd', 'll', 'm', 'o', 're', 've', 'y', 'ain', 'aren', \"aren't\", 'couldn', \"couldn't\", 'didn', \"didn't\", 'doesn', \"doesn't\", 'hadn', \"hadn't\", 'hasn', \"hasn't\", 'haven', \"haven't\", 'isn', \"isn't\", 'ma', 'mightn', \"mightn't\", 'mustn', \"mustn't\", 'needn', \"needn't\", 'shan', \"shan't\", 'shouldn', \"shouldn't\", 'wasn', \"wasn't\", 'weren', \"weren't\", 'won', \"won't\", 'wouldn', \"wouldn't\"]\n"
     ]
    }
   ],
   "source": [
    "print(stopwords)"
   ]
  },
  {
   "cell_type": "code",
   "execution_count": 6,
   "metadata": {},
   "outputs": [],
   "source": [
    "words = [w for w in words if w.lower() not in stopwords]"
   ]
  },
  {
   "cell_type": "code",
   "execution_count": 6,
   "metadata": {
    "collapsed": true
   },
   "outputs": [
    {
     "name": "stdout",
     "output_type": "stream",
     "text": [
      "['PRESIDENT', 'HARRY', 'TRUMAN', 'ADDRESS', 'JOINT', 'SESSION', 'CONGRESS', 'April', 'Mr', 'Speaker', 'Mr', 'President', 'Members', 'Congress', 'heavy', 'heart', 'stand', 'friends', 'colleagues', 'Congress', 'United', 'States', 'yesterday', 'laid', 'rest', 'mortal', 'remains', 'beloved', 'President', 'Franklin', 'Delano', 'Roosevelt', 'time', 'like', 'words', 'inadequate', 'eloquent', 'tribute', 'would', 'reverent', 'silence', 'Yet', 'decisive', 'hour', 'world', 'events', 'moving', 'rapidly', 'silence', 'might', 'misunderstood', 'might', 'give', 'comfort', 'enemies', 'infinite', 'wisdom', 'Almighty', 'God', 'seen', 'fit', 'take', 'us', 'great', 'man', 'loved', 'beloved', 'humanity', 'man', 'could', 'possibly', 'fill', 'tremendous', 'void', 'left', 'passing', 'noble', 'soul', 'words', 'ease', 'aching', 'hearts', 'untold', 'millions', 'every', 'race', 'creed', 'color', 'world', 'knows', 'lost', 'heroic', 'champion', 'justice', 'freedom', 'Tragic', 'fate', 'thrust', 'upon', 'us', 'grave', 'responsibilities', 'must', 'carry', 'departed', 'leader', 'never', 'looked', 'backward', 'looked', 'forward', 'moved', 'forward', 'would', 'want', 'us', 'America', 'much', 'blood', 'already', 'shed', 'ideals', 'cherish', 'Franklin', 'Delano', 'Roosevelt', 'lived', 'died', 'dare', 'permit', 'even', 'momentary', 'pause', 'hard', 'fight', 'victory', 'Today', 'entire', 'world', 'looking', 'America', 'enlightened', 'leadership', 'peace', 'progress', 'leadership', 'requires', 'vision', 'courage', 'tolerance', 'provided', 'united', 'nation', 'deeply', 'devoted', 'highest', 'ideals', 'great', 'humility', 'call', 'upon', 'Americans', 'help', 'keep', 'nation', 'united', 'defense', 'ideals', 'eloquently', 'proclaimed', 'Franklin', 'Roosevelt', 'want', 'turn', 'assure', 'fellow', 'Americans', 'love', 'peace', 'liberty', 'throughout', 'world', 'support', 'defend', 'ideals', 'strength', 'heart', 'duty', 'shall', 'shirk', 'possible', 'misunderstanding', 'Germany', 'Japan', 'certain', 'beyond', 'shadow', 'doubt', 'America', 'continue']\n"
     ]
    }
   ],
   "source": [
    "print(words[:200])"
   ]
  },
  {
   "cell_type": "markdown",
   "metadata": {},
   "source": [
    "#### Word tokenization"
   ]
  },
  {
   "cell_type": "code",
   "execution_count": 7,
   "metadata": {},
   "outputs": [],
   "source": [
    "from pprint import pprint"
   ]
  },
  {
   "cell_type": "code",
   "execution_count": 8,
   "metadata": {},
   "outputs": [
    {
     "name": "stdout",
     "output_type": "stream",
     "text": [
      "['For', 'some', 'quick', 'analysis', ',', 'creating', 'a', 'corpus', 'could', 'be', 'overkill', '.', 'If', 'all', 'you', 'need', 'is', 'a', 'word', 'list', ',', 'there', 'are', 'simpler', 'ways', 'to', 'achieve', 'that', 'goal', '.']\n"
     ]
    }
   ],
   "source": [
    "text = \"\"\"\n",
    "For some quick analysis, creating a corpus could be overkill.\n",
    "If all you need is a word list,\n",
    "there are simpler ways to achieve that goal.\"\"\"\n",
    "print(nltk.word_tokenize(text))"
   ]
  },
  {
   "cell_type": "code",
   "execution_count": 9,
   "metadata": {},
   "outputs": [
    {
     "name": "stdout",
     "output_type": "stream",
     "text": [
      "['For', 'some', 'quick', 'analysis', ',', 'creating', 'a', 'corpus', 'could', 'be',\n",
      " 'overkill', '.', 'If', 'all', 'you', 'need', 'is', 'a', 'word', 'list', ',', 'there',\n",
      " 'are', 'simpler', 'ways', 'to', 'achieve', 'that', 'goal', '.']\n"
     ]
    }
   ],
   "source": [
    "pprint(nltk.word_tokenize(text), width=89, compact=True)"
   ]
  },
  {
   "cell_type": "markdown",
   "metadata": {},
   "source": [
    "#### To build a frequency distribution with NLTK, construct the nltk.FreqDist class with a word list"
   ]
  },
  {
   "cell_type": "code",
   "execution_count": 10,
   "metadata": {},
   "outputs": [],
   "source": [
    "words_text = nltk.word_tokenize(text)\n",
    "fd = nltk.FreqDist(words)"
   ]
  },
  {
   "cell_type": "code",
   "execution_count": 11,
   "metadata": {},
   "outputs": [
    {
     "data": {
      "text/plain": [
       "[('must', 1568), ('people', 1291), ('world', 1128)]"
      ]
     },
     "execution_count": 11,
     "metadata": {},
     "output_type": "execute_result"
    }
   ],
   "source": [
    "fd.most_common(3)"
   ]
  },
  {
   "cell_type": "code",
   "execution_count": 12,
   "metadata": {},
   "outputs": [
    {
     "name": "stdout",
     "output_type": "stream",
     "text": [
      "  must people  world \n",
      "  1568   1291   1128 \n"
     ]
    }
   ],
   "source": [
    "fd.tabulate(3)"
   ]
  },
  {
   "cell_type": "markdown",
   "metadata": {},
   "source": [
    "#### Can use frequency distributions to query particular words"
   ]
  },
  {
   "cell_type": "code",
   "execution_count": 15,
   "metadata": {},
   "outputs": [
    {
     "name": "stdout",
     "output_type": "stream",
     "text": [
      "1076\n",
      "0\n",
      "3\n"
     ]
    }
   ],
   "source": [
    "print(fd[\"America\"])\n",
    "print(fd[\"america\"])\n",
    "print(fd[\"AMERICA\"])      # number of times each word occurs exactly as given."
   ]
  },
  {
   "cell_type": "markdown",
   "metadata": {},
   "source": [
    "#### Can also use them as iterators to perform some custom analysis on word properties."
   ]
  },
  {
   "cell_type": "code",
   "execution_count": 13,
   "metadata": {},
   "outputs": [],
   "source": [
    "# creating a new frequency distribution that’s based on the initial one but normalizes all words to lowercase\n",
    "lower_fd = nltk.FreqDist([w.lower() for w in words])"
   ]
  },
  {
   "cell_type": "code",
   "execution_count": 14,
   "metadata": {},
   "outputs": [
    {
     "data": {
      "text/plain": [
       "[('must', 1569), ('people', 1313), ('world', 1213)]"
      ]
     },
     "execution_count": 14,
     "metadata": {},
     "output_type": "execute_result"
    }
   ],
   "source": [
    "lower_fd.most_common(3)"
   ]
  },
  {
   "cell_type": "code",
   "execution_count": 15,
   "metadata": {},
   "outputs": [],
   "source": [
    "lower_from_fd = nltk.FreqDist([w.lower() for w in fd])"
   ]
  },
  {
   "cell_type": "code",
   "execution_count": 16,
   "metadata": {},
   "outputs": [
    {
     "data": {
      "text/plain": [
       "[('world', 3), ('year', 3), ('new', 3)]"
      ]
     },
     "execution_count": 16,
     "metadata": {},
     "output_type": "execute_result"
    }
   ],
   "source": [
    "lower_from_fd.most_common(3)"
   ]
  },
  {
   "cell_type": "markdown",
   "metadata": {},
   "source": [
    "#### Extracting Concordance and Collocations"
   ]
  },
  {
   "cell_type": "markdown",
   "metadata": {
    "collapsed": true
   },
   "source": [
    "In the context of NLP, a concordance is a collection of word locations along with their context. You can use concordances to find:\n",
    "1. How many times a word appears\n",
    "2. Where each occurrence appears\n",
    "3. What words surround each occurrence\n",
    "  \n",
    "  \n",
    "In NLTK, you can do this by calling .concordance(). To use it, you need an instance of the nltk.Text class, which can also be constructed with a word list."
   ]
  },
  {
   "cell_type": "code",
   "execution_count": 17,
   "metadata": {},
   "outputs": [],
   "source": [
    "text = nltk.Text(nltk.corpus.state_union.words())"
   ]
  },
  {
   "cell_type": "code",
   "execution_count": 18,
   "metadata": {},
   "outputs": [
    {
     "name": "stdout",
     "output_type": "stream",
     "text": [
      "Displaying 5 of 1079 matches:\n",
      " would want us to do . That is what America will do . So much blood has already\n",
      "ay , the entire world is looking to America for enlightened leadership to peace\n",
      "beyond any shadow of a doubt , that America will continue the fight for freedom\n",
      " to make complete victory certain , America will never become a party to any pl\n",
      "nly in law and in justice . Here in America , we have labored long and hard to \n"
     ]
    }
   ],
   "source": [
    "text.concordance('america', lines=5)                      # ignores case of words"
   ]
  },
  {
   "cell_type": "code",
   "execution_count": 19,
   "metadata": {},
   "outputs": [],
   "source": [
    "concordance_list = text.concordance_list('america', lines=3)"
   ]
  },
  {
   "cell_type": "code",
   "execution_count": 20,
   "metadata": {},
   "outputs": [
    {
     "name": "stdout",
     "output_type": "stream",
     "text": [
      " would want us to do . That is what America will do . So much blood has already\n",
      "ay , the entire world is looking to America for enlightened leadership to peace\n",
      "beyond any shadow of a doubt , that America will continue the fight for freedom\n"
     ]
    }
   ],
   "source": [
    "for entry in concordance_list:\n",
    "    print(entry.line)"
   ]
  },
  {
   "cell_type": "markdown",
   "metadata": {},
   "source": [
    ".concordance_list() gives you a list of ConcordanceLine objects, which contain information about where each word occurs as well as a few more properties worth exploring. The list is also sorted in order of appearance.\n",
    "  \n",
    "  \n",
    "The nltk.Text class itself has a few other interesting features. One of them is .vocab(), which is worth mentioning because it creates a frequency distribution for a given text."
   ]
  },
  {
   "cell_type": "markdown",
   "metadata": {},
   "source": [
    "Check out how quickly you can create a custom nltk.Text instance and an accompanying frequency distribution:"
   ]
  },
  {
   "cell_type": "code",
   "execution_count": 21,
   "metadata": {},
   "outputs": [],
   "source": [
    "words = nltk.word_tokenize(\n",
    "    \"\"\"Beautiful is better than ugly.\n",
    "    Explicit is better than implicit.\n",
    "    Simple is better than complex.\"\"\"\n",
    ")\n",
    "text = nltk.Text(words)\n",
    "fd = text.vocab()"
   ]
  },
  {
   "cell_type": "code",
   "execution_count": 22,
   "metadata": {},
   "outputs": [
    {
     "data": {
      "text/plain": [
       "[('is', 3), ('better', 3), ('than', 3), ('.', 3)]"
      ]
     },
     "execution_count": 22,
     "metadata": {},
     "output_type": "execute_result"
    }
   ],
   "source": [
    "fd.most_common(4)"
   ]
  },
  {
   "cell_type": "code",
   "execution_count": 23,
   "metadata": {},
   "outputs": [
    {
     "name": "stdout",
     "output_type": "stream",
     "text": [
      "       is    better      than         . Beautiful      ugly  Explicit  implicit    Simple   complex \n",
      "        3         3         3         3         1         1         1         1         1         1 \n"
     ]
    }
   ],
   "source": [
    "fd.tabulate(11)"
   ]
  },
  {
   "cell_type": "markdown",
   "metadata": {},
   "source": [
    ".vocab() is essentially a shortcut to create a frequency distribution from an instance of nltk.Text. That way, you don’t have to make a separate call to instantiate a new nltk.FreqDist object."
   ]
  },
  {
   "cell_type": "markdown",
   "metadata": {},
   "source": [
    "#### Collocations\n",
    "Collocations are series of words that frequently appear together in a given text. In the State of the Union corpus, for example, you’d expect to find the words United and States appearing next to each other very often. Those two words appearing together is a collocation.\n",
    "\n",
    "Collocations can be made up of two or more words. NLTK provides classes to handle several types of collocations:\n",
    "\n",
    "- Bigrams: Frequent two-word combinations\n",
    "- Trigrams: Frequent three-word combinations\n",
    "- Quadgrams: Frequent four-word combinations"
   ]
  },
  {
   "cell_type": "code",
   "execution_count": 23,
   "metadata": {},
   "outputs": [],
   "source": [
    "words = [w for w in nltk.corpus.state_union.words() if w.isalpha()]"
   ]
  },
  {
   "cell_type": "code",
   "execution_count": 24,
   "metadata": {},
   "outputs": [],
   "source": [
    "tri_collocations = nltk.collocations.TrigramCollocationFinder.from_words(words)"
   ]
  },
  {
   "cell_type": "markdown",
   "metadata": {},
   "source": [
    "One of their most useful tools is the ngram_fd property. This property holds a frequency distribution that is built for each collocation rather than for individual words."
   ]
  },
  {
   "cell_type": "code",
   "execution_count": 25,
   "metadata": {},
   "outputs": [
    {
     "data": {
      "text/plain": [
       "[(('the', 'United', 'States'), 294),\n",
       " (('the', 'American', 'people'), 185),\n",
       " (('of', 'the', 'world'), 154),\n",
       " (('of', 'the', 'United'), 145)]"
      ]
     },
     "execution_count": 25,
     "metadata": {},
     "output_type": "execute_result"
    }
   ],
   "source": [
    "tri_collocations.ngram_fd.most_common(4)"
   ]
  },
  {
   "cell_type": "code",
   "execution_count": 26,
   "metadata": {},
   "outputs": [
    {
     "data": {
      "text/plain": [
       "[(('the', 'united', 'states'), 327),\n",
       " (('the', 'american', 'people'), 208),\n",
       " (('the', 'state', 'of'), 171),\n",
       " (('to', 'the', 'congress'), 164)]"
      ]
     },
     "execution_count": 26,
     "metadata": {},
     "output_type": "execute_result"
    }
   ],
   "source": [
    "words_lower = [w.lower() for w in nltk.corpus.state_union.words() if w.isalpha()]\n",
    "tri_collocations_lower = nltk.collocations.TrigramCollocationFinder.from_words(words_lower)\n",
    "tri_collocations_lower.ngram_fd.most_common(4)"
   ]
  },
  {
   "cell_type": "markdown",
   "metadata": {},
   "source": [
    "---"
   ]
  },
  {
   "cell_type": "markdown",
   "metadata": {},
   "source": [
    "### 2. Using NLTK’s Pre-Trained Sentiment Analyzer"
   ]
  },
  {
   "cell_type": "markdown",
   "metadata": {},
   "source": [
    "NLTK already has a built-in, pretrained sentiment analyzer called VADER (Valence Aware Dictionary and sEntiment Reasoner)."
   ]
  },
  {
   "cell_type": "markdown",
   "metadata": {},
   "source": [
    "Since VADER is pretrained, you can get results more quickly than with many other analyzers. However, VADER is best suited for language used in social media, like short sentences with some slang and abbreviations. It’s less accurate when rating longer, structured sentences, but it’s often a good launching point."
   ]
  },
  {
   "cell_type": "code",
   "execution_count": 27,
   "metadata": {},
   "outputs": [],
   "source": [
    "from nltk.sentiment import SentimentIntensityAnalyzer\n",
    "sia = SentimentIntensityAnalyzer()\n",
    "score = sia.polarity_scores(\"Wow! NLTK is really hulk\")"
   ]
  },
  {
   "cell_type": "markdown",
   "metadata": {},
   "source": [
    "The negative, neutral, and positive scores are related: They all add up to 1 and can’t be negative. The compound score is calculated differently. It’s not just an average, and it can range from -1 to 1."
   ]
  },
  {
   "cell_type": "code",
   "execution_count": 28,
   "metadata": {},
   "outputs": [
    {
     "name": "stdout",
     "output_type": "stream",
     "text": [
      "{'neg': 0.0, 'neu': 0.494, 'pos': 0.506, 'compound': 0.6239}\n",
      "<class 'dict'>\n",
      "0.506\n"
     ]
    }
   ],
   "source": [
    "print(score)\n",
    "print(type(score))\n",
    "print(score['pos'])"
   ]
  },
  {
   "cell_type": "markdown",
   "metadata": {},
   "source": [
    "Put it to the test against real data using two different corpora"
   ]
  },
  {
   "cell_type": "code",
   "execution_count": 29,
   "metadata": {},
   "outputs": [],
   "source": [
    "twitter_samples = nltk.corpus.twitter_samples.strings()"
   ]
  },
  {
   "cell_type": "code",
   "execution_count": 30,
   "metadata": {},
   "outputs": [
    {
     "data": {
      "text/plain": [
       "list"
      ]
     },
     "execution_count": 30,
     "metadata": {},
     "output_type": "execute_result"
    }
   ],
   "source": [
    "type(twitter_samples)"
   ]
  },
  {
   "cell_type": "code",
   "execution_count": 31,
   "metadata": {},
   "outputs": [
    {
     "data": {
      "text/plain": [
       "[\"oh god, my babies' faces :( https://t.co/9fcwGvaki0\",\n",
       " '@RileyMcDonough make me smile :((',\n",
       " '@f0ggstar @stuartthull work neighbour on motors. Asked why and he said hates the updates on search :( http://t.co/XvmTUikWln']"
      ]
     },
     "execution_count": 31,
     "metadata": {},
     "output_type": "execute_result"
    }
   ],
   "source": [
    "twitter_samples[5:8]"
   ]
  },
  {
   "cell_type": "code",
   "execution_count": 30,
   "metadata": {},
   "outputs": [],
   "source": [
    "tweets = [t.replace('://', '//') for t in nltk.corpus.twitter_samples.strings()]"
   ]
  },
  {
   "cell_type": "code",
   "execution_count": 31,
   "metadata": {},
   "outputs": [
    {
     "data": {
      "text/plain": [
       "[\"oh god, my babies' faces :( https//t.co/9fcwGvaki0\",\n",
       " '@RileyMcDonough make me smile :((',\n",
       " '@f0ggstar @stuartthull work neighbour on motors. Asked why and he said hates the updates on search :( http//t.co/XvmTUikWln']"
      ]
     },
     "execution_count": 31,
     "metadata": {},
     "output_type": "execute_result"
    }
   ],
   "source": [
    "tweets[5:8]"
   ]
  },
  {
   "cell_type": "markdown",
   "metadata": {},
   "source": [
    "Notice that you use a different corpus method, .strings(), instead of .words(). This gives you a list of raw tweets as strings.\n",
    "  \n",
    "  \n",
    "Now use the .polarity_scores() function of your SentimentIntensityAnalyzer instance to classify tweets:"
   ]
  },
  {
   "cell_type": "code",
   "execution_count": 32,
   "metadata": {},
   "outputs": [],
   "source": [
    "def is_positive(tweet):\n",
    "    \"\"\"Returns True if the compound score is > 0, else returns False\"\"\"\n",
    "    return sia.polarity_scores(tweet)['compound'] > 0"
   ]
  },
  {
   "cell_type": "code",
   "execution_count": 35,
   "metadata": {},
   "outputs": [
    {
     "data": {
      "text/plain": [
       "['RT @NicolaSturgeon: If Miliband is going to let Tories in rather than work with SNP, we will definitely need lots of SNP MPs to protect Sco…',\n",
       " 'An Asian man is wearing tweed. Farage is confused. Frightened. Faints.\\n#AskFarage',\n",
       " \"@iamsrk Lol. That look's like a scary room! Ghost story or murder mystery? Either way, just try it and get done asap :p\"]"
      ]
     },
     "execution_count": 35,
     "metadata": {},
     "output_type": "execute_result"
    }
   ],
   "source": [
    "from random import shuffle\n",
    "\n",
    "shuffle(tweets)\n",
    "tweets[0:3]"
   ]
  },
  {
   "cell_type": "code",
   "execution_count": 36,
   "metadata": {},
   "outputs": [
    {
     "name": "stdout",
     "output_type": "stream",
     "text": [
      "> True\n",
      "> True\n",
      "> True\n",
      "> False\n",
      "> True\n"
     ]
    },
    {
     "data": {
      "text/plain": [
       "[\"@_Ms_R lol. it's 10:16 right now. when you just wrote. :D\",\n",
       " 'My Google+ account. :) http//t.co/R8jyDxlQyo',\n",
       " '@KaReeMLSheNawY it is not even a real word :D',\n",
       " 'Watch: Ed Miliband stumbles off stage @KateBaldwin18 https//t.co/uM1h8Q70Vg #bbcqt #GE2015',\n",
       " 'RT @BBCJamesCook: Ed Miliband says he\\'d rather not have a Labour government than do a \"confidence and supply\" deal with the SNP. #GE2015']"
      ]
     },
     "execution_count": 36,
     "metadata": {},
     "output_type": "execute_result"
    }
   ],
   "source": [
    "shuffle(tweets)\n",
    "for tweet in tweets[:5]:\n",
    "    print('>', is_positive(tweet))\n",
    "tweets[:5]"
   ]
  },
  {
   "cell_type": "markdown",
   "metadata": {},
   "source": [
    "In this case, is_positive() uses only the positivity of the compound score to make the call. You can choose any combination of VADER scores to tweak the classification to your needs."
   ]
  },
  {
   "cell_type": "markdown",
   "metadata": {},
   "source": [
    "Second corpus, movie_reviews. The special thing about this corpus is that it’s already been classified. Therefore, you can use it to judge the accuracy of the algorithms you choose when rating similar texts.\n",
    "  \n",
    "  \n",
    "Keep in mind that VADER is likely better at rating tweets than it is at rating long movie reviews. To get better results, you’ll set up VADER to rate individual sentences within the review rather than the entire text.\n",
    "  \n",
    "  \n",
    "Since VADER needs raw strings for its rating, you can’t use .words() like you did earlier. Instead, make a list of the file IDs that the corpus uses, which you can use later to reference individual reviews:"
   ]
  },
  {
   "cell_type": "code",
   "execution_count": 33,
   "metadata": {},
   "outputs": [
    {
     "data": {
      "text/plain": [
       "list"
      ]
     },
     "execution_count": 33,
     "metadata": {},
     "output_type": "execute_result"
    }
   ],
   "source": [
    "type(nltk.corpus.movie_reviews.fileids())"
   ]
  },
  {
   "cell_type": "code",
   "execution_count": 34,
   "metadata": {},
   "outputs": [
    {
     "data": {
      "text/plain": [
       "['neg/cv000_29416.txt',\n",
       " 'neg/cv001_19502.txt',\n",
       " 'neg/cv002_17424.txt',\n",
       " 'neg/cv003_12683.txt',\n",
       " 'neg/cv004_12641.txt']"
      ]
     },
     "execution_count": 34,
     "metadata": {},
     "output_type": "execute_result"
    }
   ],
   "source": [
    "nltk.corpus.movie_reviews.fileids()[0:5]"
   ]
  },
  {
   "cell_type": "code",
   "execution_count": 35,
   "metadata": {
    "collapsed": true
   },
   "outputs": [
    {
     "data": {
      "text/plain": [
       "'plot : two teen couples go to a church party , drink and then drive . \\nthey get into an accident . \\none of the guys dies , but his girlfriend continues to see him in her life , and has nightmares . \\nwhat\\'s the deal ? \\nwatch the movie and \" sorta \" find out . . . \\ncritique : a mind-fuck movie for the teen generation that touches on a very cool idea , but presents it in a very bad package . \\nwhich is what makes this review an even harder one to write , since i generally applaud films which attempt to break the mold , mess with your head and such ( lost highway & memento ) , but there are good and bad ways of making all types of films , and these folks just didn\\'t snag this one correctly . \\nthey seem to have taken this pretty neat concept , but executed it terribly . \\nso what are the problems with the movie ? \\nwell , its main problem is that it\\'s simply too jumbled . \\nit starts off \" normal \" but then downshifts into this \" fantasy \" world in which you , as an audience member , have no idea what\\'s going on . \\nthere are dreams , there are characters coming back from the dead , there are others who look like the dead , there are strange apparitions , there are disappearances , there are a looooot of chase scenes , there are tons of weird things that happen , and most of it is simply not explained . \\nnow i personally don\\'t mind trying to unravel a film every now and then , but when all it does is give me the same clue over and over again , i get kind of fed up after a while , which is this film\\'s biggest problem . \\nit\\'s obviously got this big secret to hide , but it seems to want to hide it completely until its final five minutes . \\nand do they make things entertaining , thrilling or even engaging , in the meantime ? \\nnot really . \\nthe sad part is that the arrow and i both dig on flicks like this , so we actually figured most of it out by the half-way point , so all of the strangeness after that did start to make a little bit of sense , but it still didn\\'t the make the film all that more entertaining . \\ni guess the bottom line with movies like this is that you should always make sure that the audience is \" into it \" even before they are given the secret password to enter your world of understanding . \\ni mean , showing melissa sagemiller running away from visions for about 20 minutes throughout the movie is just plain lazy ! ! \\nokay , we get it . . . there \\nare people chasing her and we don\\'t know who they are . \\ndo we really need to see it over and over again ? \\nhow about giving us different scenes offering further insight into all of the strangeness going down in the movie ? \\napparently , the studio took this film away from its director and chopped it up themselves , and it shows . \\nthere might\\'ve been a pretty decent teen mind-fuck movie in here somewhere , but i guess \" the suits \" decided that turning it into a music video with little edge , would make more sense . \\nthe actors are pretty good for the most part , although wes bentley just seemed to be playing the exact same character that he did in american beauty , only in a new neighborhood . \\nbut my biggest kudos go out to sagemiller , who holds her own throughout the entire film , and actually has you feeling her character\\'s unraveling . \\noverall , the film doesn\\'t stick because it doesn\\'t entertain , it\\'s confusing , it rarely excites and it feels pretty redundant for most of its runtime , despite a pretty cool ending and explanation to all of the craziness that came before it . \\noh , and by the way , this is not a horror or teen slasher flick . . . it\\'s \\njust packaged to look that way because someone is apparently assuming that the genre is still hot with the kids . \\nit also wrapped production two years ago and has been sitting on the shelves ever since . \\nwhatever . . . skip \\nit ! \\nwhere\\'s joblo coming from ? \\na nightmare of elm street 3 ( 7/10 ) - blair witch 2 ( 7/10 ) - the crow ( 9/10 ) - the crow : salvation ( 4/10 ) - lost highway ( 10/10 ) - memento ( 10/10 ) - the others ( 9/10 ) - stir of echoes ( 8/10 ) \\n'"
      ]
     },
     "execution_count": 35,
     "metadata": {},
     "output_type": "execute_result"
    }
   ],
   "source": [
    "nltk.corpus.movie_reviews.raw('neg/cv000_29416.txt')"
   ]
  },
  {
   "cell_type": "code",
   "execution_count": 36,
   "metadata": {},
   "outputs": [],
   "source": [
    "positive_movie_reviews = nltk.corpus.movie_reviews.fileids(categories = ['pos'])"
   ]
  },
  {
   "cell_type": "markdown",
   "metadata": {},
   "source": [
    ".fileids() exists in most, if not all, corpora. In the case of movie_reviews, each file corresponds to a single review. Note also that you’re able to filter the list of file IDs by specifying categories. This categorization is a feature specific to this corpus and others of the same type."
   ]
  },
  {
   "cell_type": "code",
   "execution_count": 37,
   "metadata": {},
   "outputs": [
    {
     "data": {
      "text/plain": [
       "list"
      ]
     },
     "execution_count": 37,
     "metadata": {},
     "output_type": "execute_result"
    }
   ],
   "source": [
    "type(positive_movie_reviews)"
   ]
  },
  {
   "cell_type": "code",
   "execution_count": 38,
   "metadata": {},
   "outputs": [
    {
     "data": {
      "text/plain": [
       "['pos/cv000_29590.txt',\n",
       " 'pos/cv001_18431.txt',\n",
       " 'pos/cv002_15918.txt',\n",
       " 'pos/cv003_11664.txt',\n",
       " 'pos/cv004_11636.txt']"
      ]
     },
     "execution_count": 38,
     "metadata": {},
     "output_type": "execute_result"
    }
   ],
   "source": [
    "positive_movie_reviews[0:5]"
   ]
  },
  {
   "cell_type": "code",
   "execution_count": 39,
   "metadata": {},
   "outputs": [],
   "source": [
    "negative_movie_reviews = nltk.corpus.movie_reviews.fileids(categories=['neg'])\n",
    "all_review_ids = positive_movie_reviews + negative_movie_reviews"
   ]
  },
  {
   "cell_type": "code",
   "execution_count": 40,
   "metadata": {},
   "outputs": [],
   "source": [
    "from statistics import mean\n",
    "\n",
    "def is_positive(review_id):\n",
    "    \"\"\"True if the average of all sentence compound scores is positive.\"\"\"\n",
    "    text = nltk.corpus.movie_reviews.raw(review_id)\n",
    "    scores = [sia.polarity_scores(sent)['compound'] for sent in nltk.sent_tokenize(text)]\n",
    "    return mean(scores) > 0"
   ]
  },
  {
   "cell_type": "markdown",
   "metadata": {},
   "source": [
    ".raw() is another method that exists in most corpora. By specifying a file ID or a list of file IDs, you can obtain specific data from the corpus."
   ]
  },
  {
   "cell_type": "code",
   "execution_count": 42,
   "metadata": {},
   "outputs": [
    {
     "name": "stdout",
     "output_type": "stream",
     "text": [
      "64.00% correct\n"
     ]
    }
   ],
   "source": [
    "from random import shuffle\n",
    "shuffle(all_review_ids)\n",
    "\n",
    "correct = 0\n",
    "for review_id in all_review_ids:\n",
    "    if is_positive(review_id):\n",
    "        if review_id in positive_movie_reviews:\n",
    "            correct += 1\n",
    "    else:\n",
    "        if review_id in negative_movie_reviews:\n",
    "            correct += 1\n",
    "\n",
    "print(F\"{correct / len(all_review_ids):.2%} correct\")"
   ]
  },
  {
   "cell_type": "markdown",
   "metadata": {},
   "source": [
    "After rating all reviews, only 64 percent were correctly classified by VADER using the logic defined in is_positive().\n",
    "  \n",
    "  \n",
    "A 64 percent accuracy rating isn’t great, but it’s a start. Have a little fun tweaking is_positive() to see if you can increase the accuracy.\n",
    "  \n",
    "  \n",
    "In the next section, you’ll build a custom classifier that allows you to use additional features for classification and eventually increase its accuracy to an acceptable level."
   ]
  },
  {
   "cell_type": "markdown",
   "metadata": {},
   "source": [
    "---"
   ]
  },
  {
   "cell_type": "markdown",
   "metadata": {},
   "source": [
    "### 3. Customizing NLTK’s Sentiment Analysis"
   ]
  },
  {
   "cell_type": "markdown",
   "metadata": {},
   "source": [
    "NLTK offers a few built-in classifiers that are suitable for various types of analyses, including sentiment analysis. The trick is to figure out which properties of your dataset are useful in classifying each piece of data into your desired categories.\n",
    "  \n",
    "  \n",
    "In the world of machine learning, these data properties are known as features, which you must reveal and select as you work with your data."
   ]
  },
  {
   "cell_type": "markdown",
   "metadata": {},
   "source": [
    "#### Selecting Useful Features"
   ]
  },
  {
   "cell_type": "markdown",
   "metadata": {},
   "source": [
    "Since you’ve learned how to use frequency distributions, why not use them as a launching point for an additional feature?\n",
    "   \n",
    "   \n",
    "By using the predefined categories in the movie_reviews corpus, you can create sets of positive and negative words, then determine which ones occur most frequently across each set. Begin by excluding unwanted words and building the initial category groups:"
   ]
  },
  {
   "cell_type": "code",
   "execution_count": 45,
   "metadata": {
    "collapsed": true
   },
   "outputs": [
    {
     "name": "stdout",
     "output_type": "stream",
     "text": [
      "['i', 'me', 'my', 'myself', 'we', 'our', 'ours', 'ourselves', 'you', \"you're\", \"you've\", \"you'll\", \"you'd\", 'your', 'yours', 'yourself', 'yourselves', 'he', 'him', 'his', 'himself', 'she', \"she's\", 'her', 'hers', 'herself', 'it', \"it's\", 'its', 'itself', 'they', 'them', 'their', 'theirs', 'themselves', 'what', 'which', 'who', 'whom', 'this', 'that', \"that'll\", 'these', 'those', 'am', 'is', 'are', 'was', 'were', 'be', 'been', 'being', 'have', 'has', 'had', 'having', 'do', 'does', 'did', 'doing', 'a', 'an', 'the', 'and', 'but', 'if', 'or', 'because', 'as', 'until', 'while', 'of', 'at', 'by', 'for', 'with', 'about', 'against', 'between', 'into', 'through', 'during', 'before', 'after', 'above', 'below', 'to', 'from', 'up', 'down', 'in', 'out', 'on', 'off', 'over', 'under', 'again', 'further', 'then', 'once', 'here', 'there', 'when', 'where', 'why', 'how', 'all', 'any', 'both', 'each', 'few', 'more', 'most', 'other', 'some', 'such', 'no', 'nor', 'not', 'only', 'own', 'same', 'so', 'than', 'too', 'very', 's', 't', 'can', 'will', 'just', 'don', \"don't\", 'should', \"should've\", 'now', 'd', 'll', 'm', 'o', 're', 've', 'y', 'ain', 'aren', \"aren't\", 'couldn', \"couldn't\", 'didn', \"didn't\", 'doesn', \"doesn't\", 'hadn', \"hadn't\", 'hasn', \"hasn't\", 'haven', \"haven't\", 'isn', \"isn't\", 'ma', 'mightn', \"mightn't\", 'mustn', \"mustn't\", 'needn', \"needn't\", 'shan', \"shan't\", 'shouldn', \"shouldn't\", 'wasn', \"wasn't\", 'weren', \"weren't\", 'won', \"won't\", 'wouldn', \"wouldn't\", 'abagael', 'abagail', 'abbe', 'abbey', 'abbi', 'abbie', 'abby', 'abigael', 'abigail', 'abigale', 'abra', 'acacia', 'ada', 'adah', 'adaline', 'adara', 'addie', 'addis', 'adel', 'adela', 'adelaide', 'adele', 'adelice', 'adelina', 'adelind', 'adeline', 'adella', 'adelle', 'adena', 'adey', 'adi', 'adiana', 'adina', 'adora', 'adore', 'adoree', 'adorne', 'adrea', 'adria', 'adriaens', 'adrian', 'adriana', 'adriane', 'adrianna', 'adrianne', 'adrien', 'adriena', 'adrienne', 'aeriel', 'aeriela', 'aeriell', 'ag', 'agace', 'agata', 'agatha', 'agathe', 'aggi', 'aggie', 'aggy', 'agna', 'agnella', 'agnes', 'agnese', 'agnesse', 'agneta', 'agnola', 'agretha', 'aida', 'aidan', 'aigneis', 'aila', 'aile', 'ailee', 'aileen', 'ailene', 'ailey', 'aili', 'ailina', 'ailyn', 'aime', 'aimee', 'aimil', 'aina', 'aindrea', 'ainslee', 'ainsley', 'ainslie', 'ajay', 'alaine', 'alameda', 'alana', 'alanah', 'alane', 'alanna', 'alayne', 'alberta', 'albertina', 'albertine', 'albina', 'alecia', 'aleda', 'aleece', 'aleecia', 'aleen', 'alejandra', 'alejandrina', 'alena', 'alene', 'alessandra', 'aleta', 'alethea', 'alex', 'alexa', 'alexandra', 'alexandrina', 'alexi', 'alexia', 'alexina', 'alexine', 'alexis', 'alfie', 'alfreda', 'ali', 'alia', 'alica', 'alice', 'alicea', 'alicia', 'alida', 'alidia', 'alina', 'aline', 'alis', 'alisa', 'alisha', 'alison', 'alissa', 'alisun', 'alix', 'aliza', 'alla', 'alleen', 'allegra', 'allene', 'alli', 'allianora', 'allie', 'allina', 'allis', 'allison', 'allissa', 'allsun', 'ally', 'allyce', 'allyn', 'allys', 'allyson', 'alma', 'almeda', 'almeria', 'almeta', 'almira', 'almire', 'aloise', 'aloisia', 'aloysia', 'alpa', 'alta', 'althea', 'alvera', 'alvina', 'alvinia', 'alvira', 'alyce', 'alyda', 'alys', 'alysa', 'alyse', 'alysia', 'alyson', 'alyss', 'alyssa', 'amabel', 'amabelle', 'amalea', 'amalee', 'amaleta', 'amalia', 'amalie', 'amalita', 'amalle', 'amanda', 'amandi', 'amandie', 'amandy', 'amara', 'amargo', 'amata', 'amber', 'amberly', 'ambrosia', 'ambur', 'ame', 'amelia', 'amelie', 'amelina', 'ameline', 'amelita', 'ami', 'amie', 'amity', 'ammamaria', 'amy', 'ana', 'anabel', 'anabella', 'anabelle', 'anais', 'analiese', 'analise', 'anallese', 'anallise', 'anastasia', 'anastasie', 'anastassia', 'anatola', 'andee', 'andi', 'andie', 'andra', 'andrea', 'andreana', 'andree', 'andrei', 'andria', 'andriana', 'andriette', 'andromache', 'andromeda', 'andy', 'anestassia', 'anet', 'anett', 'anetta', 'anette', 'ange', 'angel', 'angela', 'angele', 'angelia', 'angelica', 'angelika', 'angelina', 'angeline', 'angelique', 'angelita', 'angelle', 'angie', 'angil', 'angy', 'ania', 'anica', 'anissa', 'anita', 'anitra', 'anja', 'anjanette', 'anjela', 'ann', 'ann-mari', 'ann-marie', 'anna', 'anna-diana', 'anna-diane', 'anna-maria', 'annabal', 'annabel', 'annabela', 'annabell', 'annabella', 'annabelle', 'annadiana', 'annadiane', 'annalee', 'annalena', 'annaliese', 'annalisa', 'annalise', 'annalyse', 'annamari', 'annamaria', 'annamarie', 'anne', 'anne-corinne', 'anne-mar', 'anne-marie', 'annecorinne', 'anneliese', 'annelise', 'annemarie', 'annetta', 'annette', 'anni', 'annice', 'annie', 'annissa', 'annmaria', 'annmarie', 'annnora', 'annora', 'anny', 'anselma', 'ansley', 'anstice', 'anthe', 'anthea', 'anthia', 'antoinette', 'antonella', 'antonetta', 'antonia', 'antonie', 'antonietta', 'antonina', 'anya', 'aphrodite', 'appolonia', 'april', 'aprilette', 'ara', 'arabel', 'arabela', 'arabele', 'arabella', 'arabelle', 'arda', 'ardath', 'ardeen', 'ardelia', 'ardelis', 'ardella', 'ardelle', 'arden', 'ardene', 'ardenia', 'ardine', 'ardis', 'ardith', 'ardra', 'ardyce', 'ardys', 'ardyth', 'aretha', 'ariadne', 'ariana', 'arianne', 'aridatha', 'ariel', 'ariela', 'ariella', 'arielle', 'arlana', 'arlee', 'arleen', 'arlen', 'arlena', 'arlene', 'arleta', 'arlette', 'arleyne', 'arlie', 'arliene', 'arlina', 'arlinda', 'arline', 'arly', 'arlyn', 'arlyne', 'aryn', 'ashely', 'ashlee', 'ashleigh', 'ashlen', 'ashley', 'ashli', 'ashlie', 'ashly', 'asia', 'astra', 'astrid', 'astrix', 'atalanta', 'athena', 'athene', 'atlanta', 'atlante', 'auberta', 'aubine', 'aubree', 'aubrette', 'aubrey', 'aubrie', 'aubry', 'audi', 'audie', 'audra', 'audre', 'audrey', 'audrie', 'audry', 'audrye', 'audy', 'augusta', 'auguste', 'augustina', 'augustine', 'aura', 'aurea', 'aurel', 'aurelea', 'aurelia', 'aurelie', 'auria', 'aurie', 'aurilia', 'aurlie', 'auroora', 'aurora', 'aurore', 'austin', 'austina', 'austine', 'ava', 'aveline', 'averil', 'averyl', 'avie', 'avis', 'aviva', 'avivah', 'avril', 'avrit', 'ayn', 'bab', 'babara', 'babette', 'babita', 'babs', 'bambi', 'bambie', 'bamby', 'barb', 'barbabra', 'barbara', 'barbara-anne', 'barbaraanne', 'barbe', 'barbee', 'barbette', 'barbey', 'barbi', 'barbie', 'barbra', 'barby', 'bari', 'barrie', 'barry', 'basia', 'bathsheba', 'batsheva', 'bea', 'beatrice', 'beatrisa', 'beatrix', 'beatriz', 'beau', 'bebe', 'becca', 'becka', 'becki', 'beckie', 'becky', 'bee', 'beilul', 'beitris', 'bekki', 'bel', 'belia', 'belicia', 'belinda', 'belita', 'bell', 'bella', 'bellamy', 'bellanca', 'belle', 'bellina', 'belva', 'belvia', 'bendite', 'benedetta', 'benedicta', 'benedikta', 'benetta', 'benita', 'benni', 'bennie', 'benny', 'benoite', 'berenice', 'beret', 'berget', 'berna', 'bernadene', 'bernadette', 'bernadina', 'bernadine', 'bernardina', 'bernardine', 'bernelle', 'bernete', 'bernetta', 'bernette', 'berni', 'bernice', 'bernie', 'bernita', 'berny', 'berri', 'berrie', 'berry', 'bert', 'berta', 'berte', 'bertha', 'berthe', 'berti', 'bertie', 'bertina', 'bertine', 'berty', 'beryl', 'beryle', 'bess', 'bessie', 'bessy', 'beth', 'bethanne', 'bethany', 'bethena', 'bethina', 'betsey', 'betsy', 'betta', 'bette', 'bette-ann', 'betteann', 'betteanne', 'betti', 'bettie', 'bettina', 'bettine', 'betty', 'bettye', 'beulah', 'bev', 'beverie', 'beverlee', 'beverlie', 'beverly', 'bevvy', 'bianca', 'bianka', 'biddy', 'bidget', 'bill', 'billi', 'billie', 'billy', 'binni', 'binnie', 'binny', 'bird', 'birdie', 'birgit', 'birgitta', 'blair', 'blaire', 'blake', 'blakelee', 'blakeley', 'blanca', 'blanch', 'blancha', 'blanche', 'blinni', 'blinnie', 'blinny', 'bliss', 'blisse', 'blithe', 'blondell', 'blondelle', 'blondie', 'blondy', 'blythe', 'bo', 'bobbette', 'bobbi', 'bobbie', 'bobby', 'bobette', 'bobina', 'bobine', 'bobinette', 'bonita', 'bonnee', 'bonni', 'bonnie', 'bonny', 'brana', 'brandais', 'brande', 'brandea', 'brandi', 'brandice', 'brandie', 'brandise', 'brandy', 'brea', 'breanne', 'brear', 'bree', 'breena', 'bren', 'brena', 'brenda', 'brenn', 'brenna', 'brett', 'bria', 'briana', 'brianna', 'brianne', 'bride', 'bridget', 'bridgett', 'bridgette', 'bridie', 'brier', 'brietta', 'brigid', 'brigida', 'brigit', 'brigitta', 'brigitte', 'brina', 'briney', 'briny', 'brit', 'brita', 'britaney', 'britani', 'briteny', 'britney', 'britni', 'britt', 'britta', 'brittan', 'brittany', 'britte', 'brittney', 'brook', 'brooke', 'brooks', 'brunella', 'brunhilda', 'brunhilde', 'bryana', 'bryn', 'bryna', 'brynn', 'brynna', 'brynne', 'buffy', 'bunni', 'bunnie', 'bunny', 'burta', 'cabrina', 'cacilia', 'cacilie', 'caitlin', 'caitrin', 'cal', 'calida', 'calla', 'calley', 'calli', 'callida', 'callie', 'cally', 'calypso', 'cam', 'camala', 'camel', 'camella', 'camellia', 'cameo', 'cami', 'camila', 'camile', 'camilla', 'camille', 'cammi', 'cammie', 'cammy', 'canada', 'candace', 'candi', 'candice', 'candida', 'candide', 'candie', 'candis', 'candra', 'candy', 'cappella', 'caprice', 'cara', 'caralie', 'caren', 'carena', 'caresa', 'caressa', 'caresse', 'carey', 'cari', 'caria', 'carie', 'caril', 'carilyn', 'carin', 'carina', 'carine', 'cariotta', 'carissa', 'carita', 'caritta', 'carla', 'carlee', 'carleen', 'carlen', 'carlena', 'carlene', 'carley', 'carli', 'carlie', 'carlin', 'carlina', 'carline', 'carlisle', 'carlita', 'carlota', 'carlotta', 'carly', 'carlye', 'carlyn', 'carlynn', 'carlynne', 'carma', 'carmel', 'carmela', 'carmelia', 'carmelina', 'carmelita', 'carmella', 'carmelle', 'carmen', 'carmina', 'carmine', 'carmita', 'carmon', 'caro', 'carol', 'carol-jean', 'carola', 'carolan', 'carolann', 'carole', 'carolee', 'caroleen', 'carolie', 'carolin', 'carolina', 'caroline', 'caroljean', 'carolyn', 'carolyne', 'carolynn', 'caron', 'carree', 'carri', 'carrie', 'carrissa', 'carrol', 'carroll', 'carry', 'cary', 'caryl', 'caryn', 'casandra', 'casey', 'casi', 'casia', 'casie', 'cass', 'cassandra', 'cassandre', 'cassandry', 'cassaundra', 'cassey', 'cassi', 'cassie', 'cassondra', 'cassy', 'cat', 'catarina', 'cate', 'caterina', 'catha', 'catharina', 'catharine', 'cathe', 'cathee', 'catherin', 'catherina', 'catherine', 'cathi', 'cathie', 'cathleen', 'cathlene', 'cathrin', 'cathrine', 'cathryn', 'cathy', 'cathyleen', 'cati', 'catie', 'catina', 'catlaina', 'catlee', 'catlin', 'catrina', 'catriona', 'caty', 'cayla', 'cecelia', 'cecil', 'cecile', 'ceciley', 'cecilia', 'cecilla', 'cecily', 'ceil', 'cele', 'celene', 'celesta', 'celeste', 'celestia', 'celestina', 'celestine', 'celestyn', 'celestyna', 'celia', 'celie', 'celina', 'celinda', 'celine', 'celinka', 'celisse', 'celle', 'cesya', 'chad', 'chanda', 'chandal', 'chandra', 'channa', 'chantal', 'chantalle', 'charil', 'charin', 'charis', 'charissa', 'charisse', 'charita', 'charity', 'charla', 'charlean', 'charleen', 'charlena', 'charlene', 'charline', 'charlot', 'charlott', 'charlotta', 'charlotte', 'charmain', 'charmaine', 'charmane', 'charmian', 'charmine', 'charmion', 'charo', 'charyl', 'chastity', 'chelsae', 'chelsea', 'chelsey', 'chelsie', 'chelsy', 'cher', 'chere', 'cherey', 'cheri', 'cherianne', 'cherice', 'cherida', 'cherie', 'cherilyn', 'cherilynn', 'cherin', 'cherise', 'cherish', 'cherlyn', 'cherri', 'cherrita', 'cherry', 'chery', 'cherye', 'cheryl', 'cheslie', 'chiarra', 'chickie', 'chicky', 'chiquita', 'chloe', 'chloette', 'chloris', 'chris', 'chriss', 'chrissa', 'chrissie', 'chrissy', 'christa', 'christabel', 'christabella', 'christabelle', 'christal', 'christalle', 'christan', 'christean', 'christel', 'christen', 'christi', 'christian', 'christiana', 'christiane', 'christie', 'christin', 'christina', 'christine', 'christy', 'christyna', 'chrysa', 'chrysler', 'chrystal', 'chryste', 'chrystel', 'ciara', 'cicely', 'cicily', 'ciel', 'cilka', 'cinda', 'cindee', 'cindelyn', 'cinderella', 'cindi', 'cindie', 'cindra', 'cindy', 'cinnamon', 'cissie', 'cissy', 'clair', 'claire', 'clara', 'clarabelle', 'clare', 'claresta', 'clareta', 'claretta', 'clarette', 'clarey', 'clari', 'claribel', 'clarice', 'clarie', 'clarinda', 'clarine', 'clarisa', 'clarissa', 'clarisse', 'clarita', 'clary', 'claude', 'claudelle', 'claudetta', 'claudette', 'claudia', 'claudie', 'claudina', 'claudine', 'clea', 'clem', 'clemence', 'clementia', 'clementina', 'clementine', 'clemmie', 'clemmy', 'cleo', 'cleopatra', 'clerissa', 'cleva', 'clio', 'clo', 'cloe', 'cloris', 'clotilda', 'clovis', 'codee', 'codi', 'codie', 'cody', 'coleen', 'colene', 'coletta', 'colette', 'colleen', 'collete', 'collette', 'collie', 'colline', 'colly', 'con', 'concettina', 'conchita', 'concordia', 'conney', 'conni', 'connie', 'conny', 'consolata', 'constance', 'constancia', 'constancy', 'constanta', 'constantia', 'constantina', 'constantine', 'consuela', 'consuelo', 'cookie', 'cora', 'corabel', 'corabella', 'corabelle', 'coral', 'coralie', 'coraline', 'coralyn', 'cordelia', 'cordelie', 'cordey', 'cordie', 'cordula', 'cordy', 'coreen', 'corella', 'corena', 'corenda', 'corene', 'coretta', 'corette', 'corey', 'cori', 'corie', 'corilla', 'corina', 'corine', 'corinna', 'corinne', 'coriss', 'corissa', 'corliss', 'corly', 'cornela', 'cornelia', 'cornelle', 'cornie', 'corny', 'correna', 'correy', 'corri', 'corrianne', 'corrie', 'corrina', 'corrine', 'corrinne', 'corry', 'cortney', 'cory', 'cosetta', 'cosette', 'courtenay', 'courtney', 'cresa', 'cris', 'crissie', 'crissy', 'crista', 'cristabel', 'cristal', 'cristen', 'cristi', 'cristie', 'cristin', 'cristina', 'cristine', 'cristionna', 'cristy', 'crysta', 'crystal', 'crystie', 'cyb', 'cybal', 'cybel', 'cybelle', 'cybil', 'cybill', 'cyndi', 'cyndy', 'cynthea', 'cynthia', 'cynthie', 'cynthy', 'dacey', 'dacia', 'dacie', 'dacy', 'dael', 'daffi', 'daffie', 'daffy', 'dafna', 'dagmar', 'dahlia', 'daile', 'daisey', 'daisi', 'daisie', 'daisy', 'dale', 'dalenna', 'dalia', 'dalila', 'dallas', 'daloris', 'damara', 'damaris', 'damita', 'dana', 'danell', 'danella', 'danelle', 'danette', 'dani', 'dania', 'danica', 'danice', 'daniel', 'daniela', 'daniele', 'daniella', 'danielle', 'danika', 'danila', 'danit', 'danita', 'danna', 'danni', 'dannie', 'danny', 'dannye', 'danya', 'danyelle', 'danyette', 'daphene', 'daphna', 'daphne', 'dara', 'darb', 'darbie', 'darby', 'darcee', 'darcey', 'darci', 'darcie', 'darcy', 'darda', 'dareen', 'darell', 'darelle', 'dari', 'daria', 'darice', 'darla', 'darleen', 'darlene', 'darline', 'darryl', 'darsey', 'darsie', 'darya', 'daryl', 'daryn', 'dasha', 'dasi', 'dasie', 'dasya', 'datha', 'daune', 'daveen', 'daveta', 'davida', 'davina', 'davine', 'davita', 'dawn', 'dawna', 'dayle', 'dayna', 'dea', 'deana', 'deane', 'deanna', 'deanne', 'deb', 'debbi', 'debbie', 'debbra', 'debby', 'debee', 'debera', 'debi', 'debor', 'debora', 'deborah', 'debra', 'dede', 'dedie', 'dedra', 'dee', 'dee dee', 'deeann', 'deeanne', 'deedee', 'deena', 'deerdre', 'dehlia', 'deidre', 'deina', 'deirdre', 'del', 'dela', 'delaney', 'delcina', 'delcine', 'delia', 'delila', 'delilah', 'delinda', 'dell', 'della', 'delly', 'delora', 'delores', 'deloria', 'deloris', 'delphina', 'delphine', 'delphinia', 'demeter', 'demetra', 'demetria', 'demetris', 'dena', 'deni', 'denice', 'denise', 'denna', 'denni', 'dennie', 'denny', 'deny', 'denys', 'denyse', 'deonne', 'desaree', 'desdemona', 'desirae', 'desiree', 'desiri', 'deva', 'devan', 'devi', 'devin', 'devina', 'devinne', 'devon', 'devondra', 'devonna', 'devonne', 'devora', 'dew', 'di', 'diahann', 'diamond', 'dian', 'diana', 'diandra', 'diane', 'diane-marie', 'dianemarie', 'diann', 'dianna', 'dianne', 'diannne', 'didi', 'dido', 'diena', 'dierdre', 'dina', 'dinah', 'dinnie', 'dinny', 'dion', 'dione', 'dionis', 'dionne', 'dita', 'dix', 'dixie', 'dode', 'dodi', 'dodie', 'dody', 'doe', 'doll', 'dolley', 'dolli', 'dollie', 'dolly', 'dolora', 'dolores', 'dolorita', 'doloritas', 'dominica', 'dominique', 'dona', 'donella', 'donelle', 'donetta', 'donia', 'donica', 'donielle', 'donna', 'donnajean', 'donnamarie', 'donni', 'donnie', 'donny', 'dora', 'doralia', 'doralin', 'doralyn', 'doralynn', 'doralynne', 'dorcas', 'dore', 'doreen', 'dorelia', 'dorella', 'dorelle', 'dorena', 'dorene', 'doretta', 'dorette', 'dorey', 'dori', 'doria', 'dorian', 'dorice', 'dorie', 'dorine', 'doris', 'dorisa', 'dorise', 'dorit', 'dorita', 'doro', 'dorolice', 'dorolisa', 'dorotea', 'doroteya', 'dorothea', 'dorothee', 'dorothy', 'dorree', 'dorri', 'dorrie', 'dorris', 'dorry', 'dorthea', 'dorthy', 'dory', 'dosi', 'dot', 'doti', 'dotti', 'dottie', 'dotty', 'dove', 'drea', 'drew', 'dulce', 'dulcea', 'dulci', 'dulcia', 'dulciana', 'dulcie', 'dulcine', 'dulcinea', 'dulcy', 'dulsea', 'dusty', 'dyan', 'dyana', 'dyane', 'dyann', 'dyanna', 'dyanne', 'dyna', 'dynah', \"e'lane\", 'eada', 'eadie', 'eadith', 'ealasaid', 'eartha', 'easter', 'eba', 'ebba', 'ebonee', 'ebony', 'eda', 'eddi', 'eddie', 'eddy', 'ede', 'edee', 'edeline', 'eden', 'edi', 'edie', 'edin', 'edita', 'edith', 'editha', 'edithe', 'ediva', 'edna', 'edwina', 'edy', 'edyth', 'edythe', 'effie', 'eileen', 'eilis', 'eimile', 'eirena', 'ekaterina', 'elaina', 'elaine', 'elana', 'elane', 'elayne', 'elberta', 'elbertina', 'elbertine', 'eleanor', 'eleanora', 'eleanore', 'electra', 'elena', 'elene', 'eleni', 'elenore', 'eleonora', 'eleonore', 'elfie', 'elfreda', 'elfrida', 'elfrieda', 'elga', 'elianora', 'elianore', 'elicia', 'elie', 'elinor', 'elinore', 'elisa', 'elisabet', 'elisabeth', 'elisabetta', 'elise', 'elisha', 'elissa', 'elita', 'eliza', 'elizabet', 'elizabeth', 'elka', 'elke', 'ella', 'elladine', 'elle', 'ellen', 'ellene', 'ellette', 'elli', 'ellie', 'ellissa', 'elly', 'ellyn', 'ellynn', 'elmira', 'elna', 'elnora', 'elnore', 'eloisa', 'eloise', 'elonore', 'elora', 'elsa', 'elsbeth', 'else', 'elsey', 'elsi', 'elsie', 'elsinore', 'elspeth', 'elsy', 'elva', 'elvera', 'elvina', 'elvira', 'elwina', 'elwira', 'elyn', 'elyse', 'elysee', 'elysha', 'elysia', 'elyssa', 'em', 'ema', 'emalee', 'emalia', 'emanuela', 'emelda', 'emelia', 'emelina', 'emeline', 'emelita', 'emelyne', 'emera', 'emilee', 'emili', 'emilia', 'emilie', 'emiline', 'emily', 'emlyn', 'emlynn', 'emlynne', 'emma', 'emmalee', 'emmaline', 'emmalyn', 'emmalynn', 'emmalynne', 'emmeline', 'emmey', 'emmi', 'emmie', 'emmy', 'emmye', 'emogene', 'emyle', 'emylee', 'endora', 'engracia', 'enid', 'enrica', 'enrichetta', 'enrika', 'enriqueta', 'enya', 'eolanda', 'eolande', 'eran', 'erda', 'erena', 'erica', 'ericha', 'ericka', 'erika', 'erin', 'erina', 'erinn', 'erinna', 'erma', 'ermengarde', 'ermentrude', 'ermina', 'erminia', 'erminie', 'erna', 'ernaline', 'ernesta', 'ernestine', 'ertha', 'eryn', 'esma', 'esmaria', 'esme', 'esmeralda', 'esmerelda', 'essa', 'essie', 'essy', 'esta', 'estel', 'estele', 'estell', 'estella', 'estelle', 'ester', 'esther', 'estrella', 'estrellita', 'ethel', 'ethelda', 'ethelin', 'ethelind', 'etheline', 'ethelyn', 'ethyl', 'etta', 'etti', 'ettie', 'etty', 'eudora', 'eugenia', 'eugenie', 'eugine', 'eula', 'eulalie', 'eunice', 'euphemia', 'eustacia', 'eva', 'evaleen', 'evangelia', 'evangelin', 'evangelina', 'evangeline', 'evania', 'evanne', 'eve', 'eveleen', 'evelina', 'eveline', 'evelyn', 'evette', 'evey', 'evie', 'evita', 'evonne', 'evvie', 'evvy', 'evy', 'eyde', 'eydie', 'fabrianne', 'fabrice', 'fae', 'faina', 'faith', 'fallon', 'fan', 'fanchette', 'fanchon', 'fancie', 'fancy', 'fanechka', 'fania', 'fanni', 'fannie', 'fanny', 'fanya', 'fara', 'farah', 'farand', 'farica', 'farra', 'farrah', 'farrand', 'fatima', 'faun', 'faunie', 'faustina', 'faustine', 'fawn', 'fawna', 'fawne', 'fawnia', 'fay', 'faydra', 'faye', 'fayette', 'fayina', 'fayre', 'fayth', 'faythe', 'federica', 'fedora', 'felecia', 'felicdad', 'felice', 'felicia', 'felicity', 'felicle', 'felipa', 'felisha', 'felita', 'feliza', 'fenelia', 'feodora', 'ferdinanda', 'ferdinande', 'fern', 'fernanda', 'fernande', 'fernandina', 'ferne', 'fey', 'fiann', 'fianna', 'fidela', 'fidelia', 'fidelity', 'fifi', 'fifine', 'filia', 'filide', 'filippa', 'fina', 'fiona', 'fionna', 'fionnula', 'fiorenze', 'fleur', 'fleurette', 'flo', 'flor', 'flora', 'florance', 'flore', 'florella', 'florence', 'florencia', 'florentia', 'florenza', 'florette', 'flori', 'floria', 'florice', 'florida', 'florie', 'florina', 'florinda', 'floris', 'florri', 'florrie', 'florry', 'flory', 'flossi', 'flossie', 'flossy', 'flower', 'fortuna', 'fortune', 'fran', 'france', 'francene', 'frances', 'francesca', 'francesmary', 'francine', 'francis', 'francisca', 'franciska', 'francoise', 'francyne', 'frank', 'frankie', 'franky', 'franni', 'frannie', 'franny', 'frayda', 'fred', 'freda', 'freddi', 'freddie', 'freddy', 'fredelia', 'frederica', 'fredericka', 'fredi', 'fredia', 'fredra', 'fredrika', 'freida', 'frieda', 'friederike', 'fulvia', 'gabbey', 'gabbi', 'gabbie', 'gabey', 'gabi', 'gabie', 'gabriel', 'gabriela', 'gabriell', 'gabriella', 'gabrielle', 'gabriellia', 'gabrila', 'gaby', 'gae', 'gael', 'gail', 'gale', 'gale ', 'galina', 'garland', 'garnet', 'garnette', 'gates', 'gavra', 'gavrielle', 'gay', 'gayla', 'gayle', 'gayleen', 'gaylene', 'gaynor', 'geeta', 'gelya', 'gen', 'gena', 'gene', 'geneva', 'genevieve', 'genevra', 'genia', 'genna', 'genni', 'gennie', 'gennifer', 'genny', 'genovera', 'genvieve', 'george', 'georgeanna', 'georgeanne', 'georgena', 'georgeta', 'georgetta', 'georgette', 'georgia', 'georgiamay', 'georgiana', 'georgianna', 'georgianne', 'georgie', 'georgina', 'georgine', 'gera', 'geralda', 'geraldina', 'geraldine', 'gerda', 'gerhardine', 'geri', 'gerianna', 'gerianne', 'gerladina', 'germain', 'germaine', 'germana', 'gerri', 'gerrie', 'gerrilee', 'gerry', 'gert', 'gerta', 'gerti', 'gertie', 'gertrud', 'gertruda', 'gertrude', 'gertrudis', 'gerty', 'giacinta', 'giana', 'gianina', 'gianna', 'gigi', 'gilberta', 'gilberte', 'gilbertina', 'gilbertine', 'gilda', 'gill', 'gillan', 'gilli', 'gillian', 'gillie', 'gilligan', 'gilly', 'gina', 'ginelle', 'ginevra', 'ginger', 'ginni', 'ginnie', 'ginnifer', 'ginny', 'giorgia', 'giovanna', 'gipsy', 'giralda', 'gisela', 'gisele', 'gisella', 'giselle', 'gita', 'gizela', 'glad', 'gladi', 'gladis', 'gladys', 'gleda', 'glen', 'glenda', 'glenine', 'glenn', 'glenna', 'glennie', 'glennis', 'glori', 'gloria', 'gloriana', 'gloriane', 'glorianna', 'glory', 'glyn', 'glynda', 'glynis', 'glynnis', 'godiva', 'golda', 'goldarina', 'goldi', 'goldia', 'goldie', 'goldina', 'goldy', 'grace', 'gracia', 'gracie', 'grata', 'gratia', 'gratiana', 'gray', 'grayce', 'grazia', 'gredel', 'greer', 'greta', 'gretal', 'gretchen', 'grete', 'gretel', 'grethel', 'gretna', 'gretta', 'grier', 'griselda', 'grissel', 'guendolen', 'guenevere', 'guenna', 'guglielma', 'gui', 'guillema', 'guillemette', 'guinevere', 'guinna', 'gunilla', 'gunvor', 'gus', 'gusella', 'gussi', 'gussie', 'gussy', 'gusta', 'gusti', 'gustie', 'gusty', 'gwen', 'gwendolen', 'gwendolin', 'gwendolyn', 'gweneth', 'gwenette', 'gwenn', 'gwenneth', 'gwenni', 'gwennie', 'gwenny', 'gwenora', 'gwenore', 'gwyn', 'gwyneth', 'gwynne', 'gypsy', 'hadria', 'hailee', 'haily', 'haleigh', 'halette', 'haley', 'hali', 'halie', 'halimeda', 'halley', 'halli', 'hallie', 'hally', 'hana', 'hanna', 'hannah', 'hanni', 'hannibal', 'hannie', 'hannis', 'hanny', 'happy', 'harlene', 'harley', 'harli', 'harlie', 'harmonia', 'harmonie', 'harmony', 'harri', 'harrie', 'harriet', 'harriett', 'harrietta', 'harriette', 'harriot', 'harriott', 'hatti', 'hattie', 'hatty', 'havivah', 'hayley', 'hazel', 'heath', 'heather', 'heda', 'hedda', 'heddi', 'heddie', 'hedi', 'hedvig', 'hedwig', 'hedy', 'heida', 'heide', 'heidi', 'heidie', 'helaina', 'helaine', 'helen', 'helen-elizabeth', 'helena', 'helene', 'helga', 'helge', 'helise', 'hellene', 'helli', 'heloise', 'helsa', 'helyn', 'hendrika', 'henka', 'henrie', 'henrieta', 'henrietta', 'henriette', 'henryetta', 'hephzibah', 'hermia', 'hermina', 'hermine', 'herminia', 'hermione', 'herta', 'hertha', 'hester', 'hesther', 'hestia', 'hetti', 'hettie', 'hetty', 'hilarie', 'hilary', 'hilda', 'hildagard', 'hildagarde', 'hilde', 'hildegaard', 'hildegarde', 'hildy', 'hillary', 'hilliary', 'hinda', 'holley', 'holli', 'hollie', 'holly', 'holly-anne', 'hollyanne', 'honey', 'honor', 'honoria', 'hope', 'horatia', 'hortense', 'hortensia', 'hulda', 'hyacinth', 'hyacintha', 'hyacinthe', 'hyacinthia', 'hyacinthie', 'hynda', 'ianthe', 'ibbie', 'ibby', 'ida', 'idalia', 'idalina', 'idaline', 'idell', 'idelle', 'idette', 'ike', 'ikey', 'ilana', 'ileana', 'ileane', 'ilene', 'ilise', 'ilka', 'illa', 'ilona', 'ilsa', 'ilse', 'ilysa', 'ilyse', 'ilyssa', 'imelda', 'imogen', 'imogene', 'imojean', 'ina', 'inci', 'indira', 'ines', 'inesita', 'inessa', 'inez', 'inga', 'ingaberg', 'ingaborg', 'inge', 'ingeberg', 'ingeborg', 'inger', 'ingrid', 'ingunna', 'inna', 'ioana', 'iolande', 'iolanthe', 'iona', 'iormina', 'ira', 'irena', 'irene', 'irina', 'iris', 'irita', 'irma', 'isa', 'isabeau', 'isabel', 'isabelita', 'isabella', 'isabelle', 'isador', 'isadora', 'isadore', 'isahella', 'iseabal', 'isidora', 'isis', 'isobel', 'issi', 'issie', 'issy', 'ivett', 'ivette', 'ivie', 'ivonne', 'ivory', 'ivy', 'izabel', 'izzi', 'jacenta', 'jacinda', 'jacinta', 'jacintha', 'jacinthe', 'jackelyn', 'jacki', 'jackie', 'jacklin', 'jacklyn', 'jackquelin', 'jackqueline', 'jacky', 'jaclin', 'jaclyn', 'jacquelin', 'jacqueline', 'jacquelyn', 'jacquelynn', 'jacquenetta', 'jacquenette', 'jacquetta', 'jacquette', 'jacqui', 'jacquie', 'jacynth', 'jada', 'jade', 'jaime', 'jaimie', 'jaine', 'jaleh', 'jami', 'jamie', 'jamima', 'jammie', 'jan', 'jana', 'janaya', 'janaye', 'jandy', 'jane', 'janean', 'janeczka', 'janeen', 'janel', 'janela', 'janella', 'janelle', 'janene', 'janenna', 'janessa', 'janet', 'janeta', 'janetta', 'janette', 'janeva', 'janey', 'jania', 'janice', 'janie', 'janifer', 'janina', 'janine', 'janis', 'janith', 'janka', 'janna', 'jannel', 'jannelle', 'janot', 'jany', 'jaquelin', 'jaquelyn', 'jaquenetta', 'jaquenette', 'jaquith', 'jasmin', 'jasmina', 'jasmine', 'jayme', 'jaymee', 'jayne', 'jaynell', 'jazmin', 'jean', 'jeana', 'jeane', 'jeanelle', 'jeanette', 'jeanie', 'jeanine', 'jeanna', 'jeanne', 'jeannette', 'jeannie', 'jeannine', 'jehanna', 'jelene', 'jemie', 'jemima', 'jemimah', 'jemmie', 'jemmy', 'jen', 'jena', 'jenda', 'jenelle', 'jenette', 'jeni', 'jenica', 'jeniece', 'jenifer', 'jeniffer', 'jenilee', 'jenine', 'jenn', 'jenna', 'jennee', 'jennette', 'jenni', 'jennica', 'jennie', 'jennifer', 'jennilee', 'jennine', 'jenny', 'jeraldine', 'jeralee', 'jere', 'jeri', 'jermaine', 'jerrie', 'jerrilee', 'jerrilyn', 'jerrine', 'jerry', 'jerrylee', 'jess', 'jessa', 'jessalin', 'jessalyn', 'jessamine', 'jessamyn', 'jesse', 'jesselyn', 'jessi', 'jessica', 'jessie', 'jessika', 'jessy', 'jewel', 'jewell', 'jewelle', 'jill', 'jillana', 'jillane', 'jillayne', 'jilleen', 'jillene', 'jilli', 'jillian', 'jillie', 'jilly', 'jinny', 'jo', 'jo ann', 'jo-ann', 'joann', 'jo-anne', 'joanne', 'joan', 'joana', 'joane', 'joanie', 'joann', 'joanna', 'joanne', 'joannes', 'jobey', 'jobi', 'jobie', 'jobina', 'joby', 'jobye', 'jobyna', 'jocelin', 'joceline', 'jocelyn', 'jocelyne', 'jodee', 'jodi', 'jodie', 'jody', 'joela', 'joelie', 'joell', 'joella', 'joelle', 'joellen', 'joelly', 'joellyn', 'joelynn', 'joete', 'joey', 'johanna', 'johannah', 'johnette', 'johnna', 'joice', 'jojo', 'jolee', 'joleen', 'jolene', 'joletta', 'joli', 'jolie', 'joline', 'joly', 'jolyn', 'jolynn', 'jonell', 'joni', 'jonie', 'jonis', 'jordain', 'jordan', 'jordana', 'jordanna', 'jorey', 'jori', 'jorie', 'jorrie', 'jorry', 'joscelin', 'josee', 'josefa', 'josefina', 'joselyn', 'josepha', 'josephina', 'josephine', 'josey', 'josi', 'josie', 'joslyn', 'josselyn', 'josy', 'jourdan', 'joy', 'joya', 'joyan', 'joyann', 'joyce', 'joycelin', 'joye', 'joyous', 'juana', 'juanita', 'jude', 'judi', 'judie', 'judith', 'juditha', 'judy', 'judye', 'julee', 'juli', 'julia', 'juliana', 'juliane', 'juliann', 'julianna', 'julianne', 'julie', 'julienne', 'juliet', 'julieta', 'julietta', 'juliette', 'julina', 'juline', 'julissa', 'julita', 'june', 'junette', 'junia', 'junie', 'junina', 'justin', 'justina', 'justine', 'jyoti', 'kaari', 'kacey', 'kacie', 'kacy', 'kai', 'kaia', 'kaila', 'kaile', 'kailey', 'kaitlin', 'kaitlyn', 'kaitlynn', 'kaja', 'kakalina', 'kala', 'kaleena', 'kali', 'kalie', 'kalila', 'kalina', 'kalinda', 'kalindi', 'kalli', 'kally', 'kameko', 'kamila', 'kamilah', 'kamillah', 'kandace', 'kandy', 'kania', 'kanya', 'kara', 'kara-lynn', 'karalee', 'karalynn', 'kare', 'karee', 'karel', 'karen', 'karena', 'kari', 'karia', 'karie', 'karil', 'karilynn', 'karin', 'karina', 'karine', 'kariotta', 'karisa', 'karissa', 'karita', 'karla', 'karlee', 'karleen', 'karlen', 'karlene', 'karlie', 'karlotta', 'karlotte', 'karly', 'karlyn', 'karmen', 'karna', 'karol', 'karola', 'karole', 'karolina', 'karoline', 'karoly', 'karon', 'karrah', 'karrie', 'karry', 'kary', 'karyl', 'karylin', 'karyn', 'kasey', 'kass', 'kassandra', 'kassey', 'kassi', 'kassia', 'kassie', 'kaster', 'kat', 'kata', 'katalin', 'kate', 'katee', 'katerina', 'katerine', 'katey', 'kath', 'katha', 'katharina', 'katharine', 'katharyn', 'kathe', 'katheleen', 'katherina', 'katherine', 'katheryn', 'kathi', 'kathie', 'kathleen', 'kathlene', 'kathlin', 'kathrine', 'kathryn', 'kathryne', 'kathy', 'kathye', 'kati', 'katie', 'katina', 'katine', 'katinka', 'katleen', 'katlin', 'katrina', 'katrine', 'katrinka', 'katti', 'kattie', 'katuscha', 'katusha', 'katy', 'katya', 'kay', 'kaycee', 'kaye', 'kayla', 'kayle', 'kaylee', 'kayley', 'kaylil', 'kaylyn', 'kee', 'keeley', 'keelia', 'keely', 'kelcey', 'kelci', 'kelcie', 'kelcy', 'kelila', 'kellen', 'kelley', 'kelli', 'kellia', 'kellie', 'kellina', 'kellsie', 'kelly', 'kellyann', 'kelsey', 'kelsi', 'kelsy', 'kendra', 'kendre', 'kenna', 'keren', 'keri', 'keriann', 'kerianne', 'kerri', 'kerrie', 'kerrill', 'kerrin', 'kerry', 'kerstin', 'kesley', 'keslie', 'kessia', 'kessiah', 'ketti', 'kettie', 'ketty', 'kevina', 'kevyn', 'ki', 'kia', 'kiah', 'kial', 'kiele', 'kiersten', 'kikelia', 'kiley', 'kim', 'kimberlee', 'kimberley', 'kimberli', 'kimberly', 'kimberlyn', 'kimbra', 'kimmi', 'kimmie', 'kimmy', 'kinna', 'kip', 'kipp', 'kippie', 'kippy', 'kira', 'kirbee', 'kirbie', 'kirby', 'kiri', 'kirsten', 'kirsteni', 'kirsti', 'kirstie', 'kirstin', 'kirstyn', 'kissee', 'kissiah', 'kissie', 'kit', 'kitti', 'kittie', 'kitty', 'kizzee', 'kizzie', 'klara', 'klarika', 'klarrisa', 'konstance', 'konstanze', 'koo', 'kora', 'koral', 'koralle', 'kordula', 'kore', 'korella', 'koren', 'koressa', 'kori', 'korie', 'korney', 'korrie', 'korry', 'kourtney', 'kris', 'krissie', 'krissy', 'krista', 'kristal', 'kristan', 'kriste', 'kristel', 'kristen', 'kristi', 'kristien', 'kristin', 'kristina', 'kristine', 'kristy', 'kristyn', 'krysta', 'krystal', 'krystalle', 'krystle', 'krystyna', 'kyla', 'kyle', 'kylen', 'kylie', 'kylila', 'kylynn', 'kym', 'kynthia', 'kyrstin', 'la', 'lacee', 'lacey', 'lacie', 'lacy', 'ladonna', 'laetitia', 'laila', 'laina', 'lainey', 'lamb', 'lana', 'lane', 'lanette', 'laney', 'lani', 'lanie', 'lanita', 'lanna', 'lanni', 'lanny', 'lara', 'laraine', 'lari', 'larina', 'larine', 'larisa', 'larissa', 'lark', 'laryssa', 'latashia', 'latia', 'latisha', 'latrena', 'latrina', 'laura', 'lauraine', 'laural', 'lauralee', 'laure', 'lauree', 'laureen', 'laurel', 'laurella', 'lauren', 'laurena', 'laurene', 'lauretta', 'laurette', 'lauri', 'laurianne', 'laurice', 'laurie', 'lauryn', 'lavena', 'laverna', 'laverne', 'lavina', 'lavinia', 'lavinie', 'layla', 'layne', 'layney', 'lea', 'leah', 'leandra', 'leann', 'leanna', 'leanne', 'leanor', 'leanora', 'lebbie', 'leda', 'lee', 'leeann', 'leeann', 'leeanne', 'leela', 'leelah', 'leena', 'leesa', 'leese', 'legra', 'leia', 'leiah', 'leigh', 'leigha', 'leila', 'leilah', 'leisha', 'lela', 'lelah', 'leland', 'lelia', 'lena', 'lenee', 'lenette', 'lenka', 'lenna', 'lenora', 'lenore', 'leodora', 'leoine', 'leola', 'leoline', 'leona', 'leonanie', 'leone', 'leonelle', 'leonie', 'leonora', 'leonore', 'leontine', 'leontyne', 'leora', 'leorah', 'leshia', 'lesley', 'lesli', 'leslie', 'lesly', 'lesya', 'leta', 'lethia', 'leticia', 'letisha', 'letitia', 'letta', 'letti', 'lettie', 'letty', 'leyla', 'lezlie', 'lia', 'lian', 'liana', 'liane', 'lianna', 'lianne', 'lib', 'libbey', 'libbi', 'libbie', 'libby', 'licha', 'lida', 'lidia', 'lil', 'lila', 'lilah', 'lilas', 'lilia', 'lilian', 'liliane', 'lilias', 'lilith', 'lilla', 'lilli', 'lillian', 'lillis', 'lilllie', 'lilly', 'lily', 'lilyan', 'lin', 'lina', 'lind', 'linda', 'lindi', 'lindie', 'lindsay', 'lindsey', 'lindsy', 'lindy', 'linea', 'linell', 'linet', 'linette', 'linn', 'linnea', 'linnell', 'linnet', 'linnie', 'linzy', 'liora', 'liorah', 'lira', 'lisa', 'lisabeth', 'lisandra', 'lisbeth', 'lise', 'lisetta', 'lisette', 'lisha', 'lishe', 'lissa', 'lissi', 'lissie', 'lissy', 'lita', 'liuka', 'livia', 'liz', 'liza', 'lizabeth', 'lizbeth', 'lizette', 'lizzie', 'lizzy', 'loella', 'lois', 'loise', 'lola', 'lolande', 'loleta', 'lolita', 'lolly', 'lona', 'lonee', 'loni', 'lonna', 'lonni', 'lonnie', 'lora', 'lorain', 'loraine', 'loralee', 'loralie', 'loralyn', 'loree', 'loreen', 'lorelei', 'lorelle', 'loren', 'lorena', 'lorene', 'lorenza', 'loretta', 'lorettalorna', 'lorette', 'lori', 'loria', 'lorianna', 'lorianne', 'lorie', 'lorilee', 'lorilyn', 'lorinda', 'lorine', 'lorita', 'lorna', 'lorne', 'lorraine', 'lorrayne', 'lorri', 'lorrie', 'lorrin', 'lorry', 'lory', 'lotta', 'lotte', 'lotti', 'lottie', 'lotty', 'lou', 'louella', 'louisa', 'louise', 'louisette', 'love', 'luana', 'luanna', 'luce', 'luci', 'lucia', 'luciana', 'lucie', 'lucienne', 'lucila', 'lucilia', 'lucille', 'lucina', 'lucinda', 'lucine', 'lucita', 'lucky', 'lucretia', 'lucy', 'luella', 'luelle', 'luisa', 'luise', 'lula', 'lulita', 'lulu', 'luna', 'lura', 'lurette', 'lurleen', 'lurlene', 'lurline', 'lusa', 'lust', 'lyda', 'lydia', 'lydie', 'lyn', 'lynda', 'lynde', 'lyndel', 'lyndell', 'lyndsay', 'lyndsey', 'lyndsie', 'lyndy', 'lynea', 'lynelle', 'lynett', 'lynette', 'lynn', 'lynna', 'lynne', 'lynnea', 'lynnell', 'lynnelle', 'lynnet', 'lynnett', 'lynnette', 'lynsey', 'lysandra', 'lyssa', 'mab', 'mabel', 'mabelle', 'mable', 'mada', 'madalena', 'madalyn', 'maddalena', 'maddi', 'maddie', 'maddy', 'madel', 'madelaine', 'madeleine', 'madelena', 'madelene', 'madelin', 'madelina', 'madeline', 'madella', 'madelle', 'madelon', 'madelyn', 'madge', 'madlen', 'madlin', 'madona', 'madonna', 'mady', 'mae', 'maegan', 'mag', 'magda', 'magdaia', 'magdalen', 'magdalena', 'magdalene', 'maggee', 'maggi', 'maggie', 'maggy', 'magna', 'mahala', 'mahalia', 'maia', 'maible', 'maiga', 'mair', 'maire', 'mairead', 'maisey', 'maisie', 'mala', 'malanie', 'malcah', 'malena', 'malia', 'malina', 'malinda', 'malinde', 'malissa', 'malissia', 'malka', 'malkah', 'mallissa', 'mallorie', 'mallory', 'malorie', 'malory', 'malva', 'malvina', 'malynda', 'mame', 'mamie', 'manda', 'mandi', 'mandie', 'mandy', 'manon', 'manya', 'mara', 'marabel', 'marcela', 'marcelia', 'marcella', 'marcelle', 'marcellina', 'marcelline', 'marchelle', 'marci', 'marcia', 'marcie', 'marcile', 'marcille', 'marcy', 'mareah', 'maren', 'marena', 'maressa', 'marga', 'margalit', 'margalo', 'margaret', 'margareta', 'margarete', 'margaretha', 'margarethe', 'margaretta', 'margarette', 'margarita', 'margaux', 'marge', 'margeaux', 'margery', 'marget', 'margette', 'margi', 'margie', 'margit', 'marglerite', 'margo', 'margot', 'margret', 'marguerite', 'margurite', 'margy', 'mari', 'maria', 'mariam', 'marian', 'mariana', 'mariann', 'marianna', 'marianne', 'maribel', 'maribelle', 'maribeth', 'marice', 'maridel', 'marie', 'marie-ann', 'marie-jeanne', 'marieann', 'mariejeanne', 'mariel', 'mariele', 'marielle', 'mariellen', 'marietta', 'mariette', 'marigold', 'marijo', 'marika', 'marilee', 'marilin', 'marillin', 'marilyn', 'marin', 'marina', 'marinna', 'marion', 'mariquilla', 'maris', 'marisa', 'mariska', 'marissa', 'marit', 'marita', 'maritsa', 'mariya', 'marj', 'marja', 'marje', 'marji', 'marjie', 'marjorie', 'marjory', 'marjy', 'marketa', 'marla', 'marlane', 'marleah', 'marlee', 'marleen', 'marlena', 'marlene', 'marley', 'marlie', 'marline', 'marlo', 'marlyn', 'marna', 'marne', 'marney', 'marni', 'marnia', 'marnie', 'marquita', 'marrilee', 'marris', 'marrissa', 'marry', 'marsha', 'marsiella', 'marta', 'martelle', 'martguerita', 'martha', 'marthe', 'marthena', 'marti', 'martica', 'martie', 'martina', 'martita', 'marty', 'martynne', 'mary', 'marya', 'maryangelyn', 'maryann', 'maryanna', 'maryanne', 'marybelle', 'marybeth', 'maryellen', 'maryjane', 'maryjo', 'maryl', 'marylee', 'marylin', 'marylinda', 'marylou', 'marylynne', 'maryrose', 'marys', 'marysa', 'masha', 'matelda', 'mathilda', 'mathilde', 'matilda', 'matilde', 'matti', 'mattie', 'matty', 'maud', 'maude', 'maudie', 'maura', 'maure', 'maureen', 'maureene', 'maurene', 'maurine', 'maurise', 'maurita', 'mavis', 'mavra', 'max', 'maxi', 'maxie', 'maxine', 'maxy', 'may', 'maya', 'maybelle', 'mayda', 'maye', 'mead', 'meade', 'meagan', 'meaghan', 'meara', 'mechelle', 'meg', 'megan', 'megen', 'meggan', 'meggi', 'meggie', 'meggy', 'meghan', 'meghann', 'mehetabel', 'mei', 'meira', 'mel', 'mela', 'melamie', 'melania', 'melanie', 'melantha', 'melany', 'melba', 'melesa', 'melessa', 'melicent', 'melina', 'melinda', 'melinde', 'melisa', 'melisande', 'melisandra', 'melisenda', 'melisent', 'melissa', 'melisse', 'melita', 'melitta', 'mella', 'melli', 'mellicent', 'mellie', 'mellisa', 'mellisent', 'mellissa', 'melloney', 'melly', 'melodee', 'melodie', 'melody', 'melonie', 'melony', 'melosa', 'melva', 'mercedes', 'merci', 'mercie', 'mercy', 'meredith', 'meredithe', 'meridel', 'meridith', 'meriel', 'merilee', 'merilyn', 'meris', 'merissa', 'merl', 'merla', 'merle', 'merlina', 'merline', 'merna', 'merola', 'merralee', 'merridie', 'merrie', 'merrielle', 'merrile', 'merrilee', 'merrili', 'merrill', 'merrily', 'merry', 'mersey', 'meryl', 'meta', 'mia', 'micaela', 'michaela', 'michaelina', 'michaeline', 'michaella', 'michal', 'michel', 'michele', 'michelina', 'micheline', 'michell', 'michelle', 'micki', 'mickie', 'micky', 'midge', 'mignon', 'mignonne', 'miguela', 'miguelita', 'mikako', 'mildred', 'mildrid', 'milena', 'milicent', 'milissent', 'milka', 'milli', 'millicent', 'millie', 'millisent', 'milly', 'milzie', 'mimi', 'min', 'mina', 'minda', 'mindy', 'minerva', 'minetta', 'minette', 'minna', 'minni', 'minnie', 'minny', 'minta', 'miquela', 'mira', 'mirabel', 'mirabella', 'mirabelle', 'miran', 'miranda', 'mireielle', 'mireille', 'mirella', 'mirelle', 'miriam', 'mirilla', 'mirna', 'misha', 'missie', 'missy', 'misti', 'misty', 'mitra', 'mitzi', 'mmarianne', 'modesta', 'modestia', 'modestine', 'modesty', 'moina', 'moira', 'moll', 'mollee', 'molli', 'mollie', 'molly', 'mommy', 'mona', 'monah', 'monica', 'monika', 'monique', 'mora', 'moreen', 'morena', 'morgan', 'morgana', 'morganica', 'morganne', 'morgen', 'moria', 'morissa', 'morlee', 'morna', 'moselle', 'moya', 'moyna', 'moyra', 'mozelle', 'muffin', 'mufi', 'mufinella', 'muire', 'mureil', 'murial', 'muriel', 'murielle', 'myna', 'myra', 'myrah', 'myranda', 'myriam', 'myrilla', 'myrle', 'myrlene', 'myrna', 'myrta', 'myrtia', 'myrtice', 'myrtie', 'myrtle', 'nada', 'nadean', 'nadeen', 'nadia', 'nadine', 'nadiya', 'nady', 'nadya', 'nalani', 'nan', 'nana', 'nananne', 'nance', 'nancee', 'nancey', 'nanci', 'nancie', 'nancy', 'nanete', 'nanette', 'nani', 'nanice', 'nanine', 'nannette', 'nanni', 'nannie', 'nanny', 'nanon', 'naoma', 'naomi', 'nara', 'nari', 'nariko', 'nat', 'nata', 'natala', 'natalee', 'natalia', 'natalie', 'natalina', 'nataline', 'natalya', 'natasha', 'natassia', 'nathalia', 'nathalie', 'natka', 'natty', 'neala', 'neda', 'nedda', 'nedi', 'neely', 'neila', 'neile', 'neilla', 'neille', 'nela', 'nelia', 'nelie', 'nell', 'nelle', 'nelli', 'nellie', 'nelly', 'nena', 'nerissa', 'nerita', 'nert', 'nerta', 'nerte', 'nerti', 'nertie', 'nerty', 'nessa', 'nessi', 'nessie', 'nessy', 'nesta', 'netta', 'netti', 'nettie', 'nettle', 'netty', 'nevsa', 'neysa', 'nichol', 'nichole', 'nicholle', 'nicki', 'nickie', 'nicky', 'nicol', 'nicola', 'nicole', 'nicolea', 'nicolette', 'nicoli', 'nicolina', 'nicoline', 'nicolle', 'nidia', 'nike', 'niki', 'nikki', 'nikkie', 'nikoletta', 'nikolia', 'nil', 'nina', 'ninetta', 'ninette', 'ninnetta', 'ninnette', 'ninon', 'nisa', 'nissa', 'nisse', 'nissie', 'nissy', 'nita', 'nitin', 'nixie', 'noami', 'noel', 'noelani', 'noell', 'noella', 'noelle', 'noellyn', 'noelyn', 'noemi', 'nola', 'nolana', 'nolie', 'nollie', 'nomi', 'nona', 'nonah', 'noni', 'nonie', 'nonna', 'nonnah', 'nora', 'norah', 'norean', 'noreen', 'norene', 'norina', 'norine', 'norma', 'norri', 'norrie', 'norry', 'nova', 'novelia', 'nydia', 'nyssa', 'octavia', 'odele', 'odelia', 'odelinda', 'odella', 'odelle', 'odessa', 'odetta', 'odette', 'odilia', 'odille', 'ofelia', 'ofella', 'ofilia', 'ola', 'olenka', 'olga', 'olia', 'olimpia', 'olive', 'olivette', 'olivia', 'olivie', 'oliy', 'ollie', 'olly', 'olva', 'olwen', 'olympe', 'olympia', 'olympie', 'ondrea', 'oneida', 'onida', 'onlea', 'oona', 'opal', 'opalina', 'opaline', 'ophelia', 'ophelie', 'oprah', 'ora', 'oralee', 'oralia', 'oralie', 'oralla', 'oralle', 'orel', 'orelee', 'orelia', 'orelie', 'orella', 'orelle', 'oreste', 'oriana', 'orly', 'orsa', 'orsola', 'ortensia', 'otha', 'othelia', 'othella', 'othilia', 'othilie', 'ottilie', 'pacifica', 'page', 'paige', 'paloma', 'pam', 'pamela', 'pamelina', 'pamella', 'pammi', 'pammie', 'pammy', 'pandora', 'pansie', 'pansy', 'paola', 'paolina', 'parwane', 'pat', 'patience', 'patrica', 'patrice', 'patricia', 'patrizia', 'patsy', 'patti', 'pattie', 'patty', 'paula', 'paula-grace', 'paule', 'pauletta', 'paulette', 'pauli', 'paulie', 'paulina', 'pauline', 'paulita', 'pauly', 'pavia', 'pavla', 'pearl', 'pearla', 'pearle', 'pearline', 'peg', 'pegeen', 'peggi', 'peggie', 'peggy', 'pen', 'penelopa', 'penelope', 'penni', 'pennie', 'penny', 'pepi', 'pepita', 'peri', 'peria', 'perl', 'perla', 'perle', 'perri', 'perrine', 'perry', 'persis', 'pet', 'peta', 'petra', 'petrina', 'petronella', 'petronia', 'petronilla', 'petronille', 'petunia', 'phaedra', 'phaidra', 'phebe', 'phedra', 'phelia', 'phil', 'philipa', 'philippa', 'philippe', 'philippine', 'philis', 'phillida', 'phillie', 'phillis', 'philly', 'philomena', 'phoebe', 'phylis', 'phyllida', 'phyllis', 'phyllys', 'phylys', 'pia', 'pier', 'pierette', 'pierrette', 'pietra', 'piper', 'pippa', 'pippy', 'polly', 'pollyanna', 'pooh', 'poppy', 'portia', 'pris', 'prisca', 'priscella', 'priscilla', 'prissie', 'pru', 'prudence', 'prudi', 'prudy', 'prue', 'prunella', 'queada', 'queenie', 'quentin', 'querida', 'quinn', 'quinta', 'quintana', 'quintilla', 'quintina', 'rachael', 'rachel', 'rachele', 'rachelle', 'rae', 'raf', 'rafa', 'rafaela', 'rafaelia', 'rafaelita', 'ragnhild', 'rahal', 'rahel', 'raina', 'raine', 'rakel', 'ralina', 'ramona', 'ramonda', 'rana', 'randa', 'randee', 'randene', 'randi', 'randie', 'randy', 'ranee', 'rani', 'rania', 'ranice', 'ranique', 'ranna', 'raphaela', 'raquel', 'raquela', 'rasia', 'rasla', 'raven', 'ray', 'raychel', 'raye', 'rayna', 'raynell', 'rayshell', 'rea', 'reba', 'rebbecca', 'rebe', 'rebeca', 'rebecca', 'rebecka', 'rebeka', 'rebekah', 'rebekkah', 'ree', 'reeba', 'reena', 'reeta', 'reeva', 'regan', 'reggi', 'reggie', 'regina', 'regine', 'reiko', 'reina', 'reine', 'remy', 'rena', 'renae', 'renata', 'renate', 'rene', 'renee', 'renel', 'renell', 'renelle', 'renie', 'rennie', 'reta', 'retha', 'revkah', 'rey', 'reyna', 'rhea', 'rheba', 'rheta', 'rhetta', 'rhiamon', 'rhianna', 'rhianon', 'rhoda', 'rhodia', 'rhodie', 'rhody', 'rhona', 'rhonda', 'riane', 'riannon', 'rianon', 'rica', 'ricca', 'rici', 'ricki', 'rickie', 'ricky', 'riki', 'rikki', 'rina', 'risa', 'rissa', 'rita', 'riva', 'rivalee', 'rivi', 'rivkah', 'rivy', 'roana', 'roanna', 'roanne', 'robbi', 'robbie', 'robbin', 'robby', 'robbyn', 'robena', 'robenia', 'roberta', 'robin', 'robina', 'robinet', 'robinett', 'robinetta', 'robinette', 'robinia', 'roby', 'robyn', 'roch', 'rochell', 'rochella', 'rochelle', 'rochette', 'roda', 'rodi', 'rodie', 'rodina', 'romola', 'romona', 'romonda', 'romy', 'rona', 'ronalda', 'ronda', 'ronica', 'ronna', 'ronni', 'ronnica', 'ronnie', 'ronny', 'roobbie', 'rora', 'rori', 'rorie', 'rory', 'ros', 'rosa', 'rosabel', 'rosabella', 'rosabelle', 'rosaleen', 'rosalia', 'rosalie', 'rosalind', 'rosalinda', 'rosalinde', 'rosaline', 'rosalyn', 'rosalynd', 'rosamond', 'rosamund', 'rosana', 'rosanna', 'rosanne', 'rosario', 'rose', 'roseann', 'roseanna', 'roseanne', 'roselia', 'roselin', 'roseline', 'rosella', 'roselle', 'roselyn', 'rosemaria', 'rosemarie', 'rosemary', 'rosemonde', 'rosene', 'rosetta', 'rosette', 'roshelle', 'rosie', 'rosina', 'rosita', 'roslyn', 'rosmunda', 'rosy', 'row', 'rowe', 'rowena', 'roxana', 'roxane', 'roxanna', 'roxanne', 'roxi', 'roxie', 'roxine', 'roxy', 'roz', 'rozalie', 'rozalin', 'rozamond', 'rozanna', 'rozanne', 'roze', 'rozele', 'rozella', 'rozelle', 'rozina', 'rubetta', 'rubi', 'rubia', 'rubie', 'rubina', 'ruby', 'ruella', 'ruperta', 'ruth', 'ruthann', 'ruthanne', 'ruthe', 'ruthi', 'ruthie', 'ruthy', 'ryann', 'rycca', 'saba', 'sabina', 'sabine', 'sabra', 'sabrina', 'sacha', 'sada', 'sadella', 'sadie', 'sal', 'sallee', 'salli', 'sallie', 'sally', 'sallyann', 'sallyanne', 'salome', 'sam', 'samantha', 'samara', 'samaria', 'sammy', 'samuela', 'samuella', 'sande', 'sandi', 'sandie', 'sandra', 'sandy', 'sandye', 'sapphira', 'sapphire', 'sara', 'sara-ann', 'saraann', 'sarah', 'sarajane', 'saree', 'sarena', 'sarene', 'sarette', 'sari', 'sarina', 'sarine', 'sarita', 'sascha', 'sasha', 'sashenka', 'saudra', 'saundra', 'savina', 'sayre', 'scarlet', 'scarlett', 'scotty', 'sean', 'seana', 'secunda', 'seka', 'sela', 'selena', 'selene', 'selestina', 'selia', 'selie', 'selina', 'selinda', 'seline', 'sella', 'selle', 'selma', 'sena', 'sephira', 'serena', 'serene', 'shaina', 'shaine', 'shalna', 'shalne', 'shamit', 'shana', 'shanda', 'shandee', 'shandie', 'shandra', 'shandy', 'shane', 'shani', 'shanie', 'shanna', 'shannah', 'shannen', 'shannon', 'shanon', 'shanta', 'shantee', 'shara', 'sharai', 'shari', 'sharia', 'sharie', 'sharity', 'sharl', 'sharla', 'sharleen', 'sharlene', 'sharline', 'sharna', 'sharon', 'sharona', 'sharra', 'sharron', 'sharyl', 'shaun', 'shauna', 'shawn', 'shawna', 'shawnee', 'shay', 'shayla', 'shaylah', 'shaylyn', 'shaylynn', 'shayna', 'shayne', 'shea', 'sheba', 'sheela', 'sheelagh', 'sheelah', 'sheena', 'sheeree', 'sheila', 'sheila-kathryn', 'sheilah', 'sheilakathryn', 'shel', 'shela', 'shelagh', 'shelba', 'shelbi', 'shelby', 'shelia', 'shell', 'shelley', 'shelli', 'shellie', 'shelly', 'shena', 'sher', 'sheree', 'sheri', 'sherie', 'sheril', 'sherill', 'sherilyn', 'sherline', 'sherri', 'sherrie', 'sherry', 'sherye', 'sheryl', 'shilpa', 'shina', 'shir', 'shira', 'shirah', 'shirl', 'shirlee', 'shirleen', 'shirlene', 'shirley', 'shirline', 'shoshana', 'shoshanna', 'shoshie', 'siana', 'sianna', 'sib', 'sibbie', 'sibby', 'sibeal', 'sibel', 'sibella', 'sibelle', 'sibilla', 'sibley', 'sibyl', 'sibylla', 'sibylle', 'sidoney', 'sidonia', 'sidonnie', 'sigrid', 'sile', 'sileas', 'silva', 'silvana', 'silvia', 'silvie', 'simona', 'simone', 'simonette', 'simonne', 'sindee', 'sinead', 'siobhan', 'sioux', 'siouxie', 'sisely', 'sisile', 'sissie', 'sissy', 'sofia', 'sofie', 'solange', 'sondra', 'sonia', 'sonja', 'sonni', 'sonnie', 'sonnnie', 'sonny', 'sonya', 'sophey', 'sophi', 'sophia', 'sophie', 'sophronia', 'sorcha', 'sosanna', 'stace', 'stacee', 'stacey', 'staci', 'stacia', 'stacie', 'stacy', 'stafani', 'star', 'starla', 'starlene', 'starlin', 'starr', 'stefa', 'stefania', 'stefanie', 'steffane', 'steffi', 'steffie', 'stella', 'stepha', 'stephana', 'stephani', 'stephanie', 'stephannie', 'stephenie', 'stephi', 'stephie', 'stephine', 'stesha', 'stevana', 'stevena', 'stoddard', 'storey', 'storm', 'stormi', 'stormie', 'stormy', 'sue', 'sue-elle', 'suellen', 'sukey', 'suki', 'sula', 'sunny', 'sunshine', 'susan', 'susana', 'susanetta', 'susann', 'susanna', 'susannah', 'susanne', 'susette', 'susi', 'susie', 'sussi', 'susy', 'suzan', 'suzann', 'suzanna', 'suzanne', 'suzetta', 'suzette', 'suzi', 'suzie', 'suzy', 'suzzy', 'sybil', 'sybila', 'sybilla', 'sybille', 'sybyl', 'sydel', 'sydelle', 'sydney', 'sylvia', 'sylvie', 'tabatha', 'tabbatha', 'tabbi', 'tabbie', 'tabbitha', 'tabby', 'tabina', 'tabitha', 'taffy', 'talia', 'tallia', 'tallie', 'tally', 'talya', 'talyah', 'tamar', 'tamara', 'tamarah', 'tamarra', 'tamera', 'tami', 'tamiko', 'tamma', 'tammara', 'tammi', 'tammie', 'tammy', 'tamra', 'tana', 'tandi', 'tandie', 'tandy', 'tani', 'tania', 'tansy', 'tanya', 'tara', 'tarah', 'tarra', 'tarrah', 'taryn', 'tasha', 'tasia', 'tate', 'tatiana', 'tatiania', 'tatum', 'tawnya', 'tawsha', 'teane', 'ted', 'tedda', 'teddi', 'teddie', 'teddy', 'tedi', 'tedra', 'teena', 'tella', 'teodora', 'tera', 'teresa', 'teresaanne', 'terese', 'teresina', 'teresita', 'teressa', 'teri', 'teriann', 'terina', 'terra', 'terri', 'terri-jo', 'terrianne', 'terrie', 'terry', 'terrye', 'tersina', 'teryl', 'terza', 'tess', 'tessa', 'tessi', 'tessie', 'tessy', 'thalia', 'thea', 'theada', 'theadora', 'theda', 'thekla', 'thelma', 'theo', 'theodora', 'theodosia', 'theresa', 'theresa-marie', 'therese', 'theresina', 'theresita', 'theressa', 'therine', 'thia', 'thomasa', 'thomasin', 'thomasina', 'thomasine', 'tia', 'tiana', 'tiena', 'tierney', 'tiertza', 'tiff', 'tiffani', 'tiffanie', 'tiffany', 'tiffi', 'tiffie', 'tiffy', 'tilda', 'tildi', 'tildie', 'tildy', 'tillie', 'tilly', 'tim', 'timi', 'timmi', 'timmie', 'timmy', 'timothea', 'tina', 'tine', 'tiphani', 'tiphanie', 'tiphany', 'tish', 'tisha', 'tobe', 'tobey', 'tobi', 'tobie', 'toby', 'tobye', 'toinette', 'toma', 'tomasina', 'tomasine', 'tomi', 'tomiko', 'tommi', 'tommie', 'tommy', 'toni', 'tonia', 'tonie', 'tony', 'tonya', 'tootsie', 'torey', 'tori', 'torie', 'torrie', 'tory', 'tova', 'tove', 'trace', 'tracee', 'tracey', 'traci', 'tracie', 'tracy', 'trenna', 'tresa', 'trescha', 'tressa', 'tricia', 'trina', 'trish', 'trisha', 'trista', 'trix', 'trixi', 'trixie', 'trixy', 'truda', 'trude', 'trudey', 'trudi', 'trudie', 'trudy', 'trula', 'tuesday', 'twila', 'twyla', 'tybi', 'tybie', 'tyne', 'ula', 'ulla', 'ulrica', 'ulrika', 'ulrike', 'umeko', 'una', 'ursa', 'ursala', 'ursola', 'ursula', 'ursulina', 'ursuline', 'uta', 'val', 'valaree', 'valaria', 'vale', 'valeda', 'valencia', 'valene', 'valenka', 'valentia', 'valentina', 'valentine', 'valera', 'valeria', 'valerie', 'valery', 'valerye', 'valida', 'valina', 'valli', 'vallie', 'vally', 'valma', 'valry', 'van', 'vanda', 'vanessa', 'vania', 'vanna', 'vanni', 'vannie', 'vanny', 'vanya', 'veda', 'velma', 'velvet', 'vena', 'venita', 'ventura', 'venus', 'vera', 'veradis', 'vere', 'verena', 'verene', 'veriee', 'verile', 'verina', 'verine', 'verla', 'verna', 'vernice', 'veronica', 'veronika', 'veronike', 'veronique', 'vi', 'vicki', 'vickie', 'vicky', 'victoria', 'vida', 'viki', 'vikki', 'vikkie', 'vikky', 'vilhelmina', 'vilma', 'vin', 'vina', 'vinita', 'vinni', 'vinnie', 'vinny', 'viola', 'violante', 'viole', 'violet', 'violetta', 'violette', 'virgie', 'virgina', 'virginia', 'virginie', 'vita', 'vitia', 'vitoria', 'vittoria', 'viv', 'viva', 'vivi', 'vivia', 'vivian', 'viviana', 'vivianna', 'vivianne', 'vivie', 'vivien', 'viviene', 'vivienne', 'viviyan', 'vivyan', 'vivyanne', 'vonni', 'vonnie', 'vonny', 'wallie', 'wallis', 'wally', 'waly', 'wanda', 'wandie', 'wandis', 'waneta', 'wenda', 'wendeline', 'wendi', 'wendie', 'wendy', 'wenona', 'wenonah', 'whitney', 'wileen', 'wilhelmina', 'wilhelmine', 'wilie', 'willa', 'willabella', 'willamina', 'willetta', 'willette', 'willi', 'willie', 'willow', 'willy', 'willyt', 'wilma', 'wilmette', 'wilona', 'wilone', 'wilow', 'windy', 'wini', 'winifred', 'winna', 'winnah', 'winne', 'winni', 'winnie', 'winnifred', 'winny', 'winona', 'winonah', 'wren', 'wrennie', 'wylma', 'wynn', 'wynne', 'wynnie', 'wynny', 'xaviera', 'xena', 'xenia', 'xylia', 'xylina', 'yalonda', 'yehudit', 'yelena', 'yetta', 'yettie', 'yetty', 'yevette', 'yoko', 'yolanda', 'yolande', 'yolane', 'yolanthe', 'yonina', 'yoshi', 'yoshiko', 'yovonnda', 'yvette', 'yvonne', 'zabrina', 'zahara', 'zandra', 'zaneta', 'zara', 'zarah', 'zaria', 'zarla', 'zea', 'zelda', 'zelma', 'zena', 'zenia', 'zia', 'zilvia', 'zita', 'zitella', 'zoe', 'zola', 'zonda', 'zondra', 'zonnya', 'zora', 'zorah', 'zorana', 'zorina', 'zorine', 'zsa zsa', 'zsazsa', 'zulema', 'zuzana', 'aamir', 'aaron', 'abbey', 'abbie', 'abbot', 'abbott', 'abby', 'abdel', 'abdul', 'abdulkarim', 'abdullah', 'abe', 'abel', 'abelard', 'abner', 'abraham', 'abram', 'ace', 'adair', 'adam', 'adams', 'addie', 'adger', 'aditya', 'adlai', 'adnan', 'adolf', 'adolfo', 'adolph', 'adolphe', 'adolpho', 'adolphus', 'adrian', 'adrick', 'adrien', 'agamemnon', 'aguinaldo', 'aguste', 'agustin', 'aharon', 'ahmad', 'ahmed', 'ahmet', 'ajai', 'ajay', 'al', 'alaa', 'alain', 'alan', 'alasdair', 'alastair', 'albatros', 'albert', 'alberto', 'albrecht', 'alden', 'aldis', 'aldo', 'aldric', 'aldrich', 'aldus', 'aldwin', 'alec', 'aleck', 'alejandro', 'aleks', 'aleksandrs', 'alessandro', 'alex', 'alexander', 'alexei', 'alexis', 'alf', 'alfie', 'alfonse', 'alfonso', 'alfonzo', 'alford', 'alfred', 'alfredo', 'algernon', 'ali', 'alic', 'alister', 'alix', 'allah', 'allan', 'allen', 'alley', 'allie', 'allin', 'allyn', 'alonso', 'alonzo', 'aloysius', 'alphonse', 'alphonso', 'alston', 'alton', 'alvin', 'alwin', 'amadeus', 'ambros', 'ambrose', 'ambrosi', 'ambrosio', 'ambrosius', 'amery', 'amory', 'amos', 'anatol', 'anatole', 'anatollo', 'anatoly', 'anders', 'andie', 'andonis', 'andre', 'andrea', 'andreas', 'andrej', 'andres', 'andrew', 'andrey', 'andri', 'andros', 'andrus', 'andrzej', 'andy', 'angel', 'angelico', 'angelo', 'angie', 'angus', 'ansel', 'ansell', 'anselm', 'anson', 'anthony', 'antin', 'antoine', 'anton', 'antone', 'antoni', 'antonin', 'antonino', 'antonio', 'antonius', 'antony', 'anurag', 'apollo', 'apostolos', 'aram', 'archibald', 'archibold', 'archie', 'archon', 'archy', 'arel', 'ari', 'arie', 'ariel', 'aristotle', 'arlo', 'armand', 'armando', 'armond', 'armstrong', 'arne', 'arnie', 'arnold', 'arnoldo', 'aron', 'arron', 'art', 'arther', 'arthur', 'artie', 'artur', 'arturo', 'arvie', 'arvin', 'arvind', 'arvy', 'ash', 'ashby', 'ashish', 'ashley', 'ashton', 'aub', 'aube', 'aubert', 'aubrey', 'augie', 'august', 'augustin', 'augustine', 'augusto', 'augustus', 'austen', 'austin', 'ave', 'averell', 'averil', 'averill', 'avery', 'avi', 'avraham', 'avram', 'avrom', 'axel', 'aylmer', 'aziz', 'bailey', 'bailie', 'baillie', 'baily', 'baird', 'baldwin', 'bancroft', 'barbabas', 'barclay', 'bard', 'barde', 'barn', 'barnabas', 'barnabe', 'barnaby', 'barnard', 'barnebas', 'barnett', 'barney', 'barnie', 'barny', 'baron', 'barr', 'barret', 'barrett', 'barri', 'barrie', 'barris', 'barron', 'barry', 'bart', 'bartel', 'barth', 'barthel', 'bartholemy', 'bartholomeo', 'bartholomeus', 'bartholomew', 'bartie', 'bartlet', 'bartlett', 'bartolemo', 'bartolomei', 'bartolomeo', 'barton', 'barty', 'bary', 'basil', 'batholomew', 'baxter', 'bay', 'bayard', 'beale', 'bealle', 'bear', 'bearnard', 'beau', 'beaufort', 'beauregard', 'beck', 'bela', 'ben', 'benedict', 'bengt', 'benito', 'benjamen', 'benjamin', 'benji', 'benjie', 'benjy', 'benn', 'bennet', 'bennett', 'bennie', 'benny', 'benson', 'bentley', 'benton', 'beowulf', 'berchtold', 'berk', 'berke', 'berkeley', 'berkie', 'berkley', 'bernard', 'bernardo', 'bernd', 'bernhard', 'bernie', 'bert', 'bertie', 'bertram', 'bertrand', 'bharat', 'biff', 'bill', 'billie', 'billy', 'bing', 'binky', 'bishop', 'bjorn', 'bjorne', 'blaine', 'blair', 'blake', 'blare', 'blayne', 'bo', 'bob', 'bobbie', 'bobby', 'bogart', 'bogdan', 'boniface', 'boris', 'boyce', 'boyd', 'brad', 'braden', 'bradford', 'bradley', 'bradly', 'brady', 'brandon', 'brandy', 'brant', 'brendan', 'brent', 'bret', 'brett', 'brewer', 'brewster', 'brian', 'brice', 'briggs', 'brinkley', 'britt', 'brock', 'broddie', 'broddy', 'broderic', 'broderick', 'brodie', 'brody', 'bronson', 'brook', 'brooke', 'brooks', 'bruce', 'bruno', 'bryan', 'bryant', 'bryce', 'bryn', 'bryon', 'bubba', 'buck', 'bucky', 'bud', 'buddy', 'burgess', 'burke', 'burl', 'burnaby', 'burt', 'burton', 'buster', 'butch', 'butler', 'byram', 'byron', 'caesar', 'cain', 'cal', 'caldwell', 'caleb', 'calhoun', 'calvin', 'cam', 'cameron', 'cammy', 'carey', 'carl', 'carleigh', 'carlie', 'carlin', 'carlo', 'carlos', 'carlton', 'carlyle', 'carmine', 'carroll', 'carson', 'carsten', 'carter', 'cary', 'caryl', 'case', 'casey', 'caspar', 'casper', 'cass', 'cat', 'cecil', 'cesar', 'chad', 'chadd', 'chaddie', 'chaddy', 'chadwick', 'chaim', 'chalmers', 'chan', 'chance', 'chancey', 'chanderjit', 'chandler', 'chane', 'chariot', 'charles', 'charleton', 'charley', 'charlie', 'charlton', 'chas', 'chase', 'chaunce', 'chauncey', 'che', 'chelton', 'chen', 'chester', 'cheston', 'chet', 'chev', 'chevalier', 'chevy', 'chip', 'chris', 'chrissy', 'christ', 'christian', 'christiano', 'christie', 'christof', 'christofer', 'christoph', 'christophe', 'christopher', 'christorpher', 'christos', 'christy', 'chrisy', 'chuck', 'churchill', 'clair', 'claire', 'clancy', 'clarance', 'clare', 'clarence', 'clark', 'clarke', 'claude', 'claudio', 'claudius', 'claus', 'clay', 'clayborn', 'clayborne', 'claybourne', 'clayton', 'cleland', 'clem', 'clemens', 'clement', 'clemente', 'clemmie', 'cletus', 'cleveland', 'cliff', 'clifford', 'clifton', 'clint', 'clinten', 'clinton', 'clive', 'clyde', 'cob', 'cobb', 'cobbie', 'cobby', 'cody', 'colbert', 'cole', 'coleman', 'colin', 'collin', 'collins', 'conan', 'connie', 'connolly', 'connor', 'conrad', 'conroy', 'constantin', 'constantine', 'constantinos', 'conway', 'cooper', 'corbin', 'corby', 'corey', 'corky', 'cornelius', 'cornellis', 'corrie', 'cortese', 'corwin', 'cory', 'cosmo', 'costa', 'courtney', 'craig', 'crawford', 'creighton', 'cris', 'cristopher', 'curt', 'curtice', 'curtis', 'cy', 'cyril', 'cyrill', 'cyrille', 'cyrillus', 'cyrus', 'dabney', 'daffy', 'dale', 'dallas', 'dalton', 'damian', 'damien', 'damon', 'dan', 'dana', 'dane', 'dani', 'danie', 'daniel', 'dannie', 'danny', 'dante', 'darby', 'darcy', 'daren', 'darian', 'darien', 'darin', 'dario', 'darius', 'darrel', 'darrell', 'darren', 'darrick', 'darrin', 'darryl', 'darth', 'darwin', 'daryl', 'daryle', 'dave', 'davey', 'david', 'davidde', 'davide', 'davidson', 'davie', 'davin', 'davis', 'davon', 'davoud', 'davy', 'dawson', 'dean', 'deane', 'del', 'delbert', 'dell', 'delmar', 'demetre', 'demetri', 'demetris', 'demetrius', 'demosthenis', 'denis', 'dennie', 'dennis', 'denny', 'derby', 'derek', 'derick', 'derk', 'derrek', 'derrick', 'derrin', 'derrol', 'derron', 'deryl', 'desmond', 'desmund', 'devin', 'devon', 'dewey', 'dewitt', 'dexter', 'dick', 'dickey', 'dickie', 'diego', 'dieter', 'dietrich', 'dillon', 'dimitri', 'dimitrios', 'dimitris', 'dimitrou', 'dimitry', 'dino', 'dion', 'dionis', 'dionysus', 'dirk', 'dmitri', 'dom', 'domenic', 'domenico', 'dominic', 'dominick', 'dominique', 'don', 'donal', 'donald', 'donn', 'donnie', 'donny', 'donovan', 'dorian', 'dory', 'doug', 'douggie', 'dougie', 'douglas', 'douglass', 'douglis', 'dov', 'doyle', 'drake', 'drew', 'dru', 'dryke', 'duane', 'dudley', 'duffie', 'duffy', 'dugan', 'duke', 'dunc', 'duncan', 'dunstan', 'durand', 'durant', 'durante', 'durward', 'dustin', 'dwain', 'dwaine', 'dwane', 'dwayne', 'dwight', 'dylan', 'dyson', 'earl', 'earle', 'easton', 'eben', 'ebeneser', 'ebenezer', 'eberhard', 'ed', 'eddie', 'eddy', 'edgar', 'edgardo', 'edie', 'edmond', 'edmund', 'edouard', 'edsel', 'eduard', 'eduardo', 'edward', 'edwin', 'efram', 'egbert', 'ehud', 'elbert', 'elden', 'eldon', 'eli', 'elias', 'elihu', 'elijah', 'eliot', 'eliott', 'elisha', 'elliot', 'elliott', 'ellis', 'ellsworth', 'ellwood', 'elmer', 'elmore', 'elnar', 'elric', 'elroy', 'elton', 'elvin', 'elvis', 'elwin', 'elwood', 'elwyn', 'ely', 'emanuel', 'emerson', 'emery', 'emil', 'emile', 'emilio', 'emmanuel', 'emmery', 'emmet', 'emmett', 'emmit', 'emmott', 'emmy', 'emory', 'ender', 'engelbart', 'engelbert', 'englebart', 'englebert', 'enoch', 'enrico', 'enrique', 'ephraim', 'ephram', 'ephrayim', 'ephrem', 'er', 'erasmus', 'erastus', 'erek', 'erhard', 'erhart', 'eric', 'erich', 'erick', 'erik', 'erin', 'erl', 'ernest', 'ernesto', 'ernie', 'ernst', 'erny', 'errol', 'ervin', 'erwin', 'esau', 'esme', 'esteban', 'ethan', 'ethelbert', 'ethelred', 'etienne', 'euclid', 'eugen', 'eugene', 'eustace', 'ev', 'evan', 'evelyn', 'everard', 'everett', 'ewan', 'ewart', 'ez', 'ezechiel', 'ezekiel', 'ezra', 'fabian', 'fabio', 'fairfax', 'farley', 'fazeel', 'federico', 'felice', 'felicio', 'felipe', 'felix', 'ferd', 'ferdie', 'ferdinand', 'ferdy', 'fergus', 'ferguson', 'ferinand', 'fernando', 'fidel', 'filbert', 'filip', 'filipe', 'filmore', 'finley', 'finn', 'fitz', 'fitzgerald', 'flem', 'fleming', 'flemming', 'fletch', 'fletcher', 'flin', 'flinn', 'flint', 'flipper', 'florian', 'floyd', 'flynn', 'fons', 'fonsie', 'fonz', 'fonzie', 'forbes', 'ford', 'forest', 'forester', 'forrest', 'forrester', 'forster', 'foster', 'fowler', 'fox', 'fran', 'francesco', 'francis', 'francisco', 'francois', 'frank', 'frankie', 'franklin', 'franklyn', 'franky', 'frans', 'franz', 'fraser', 'frazier', 'fred', 'freddie', 'freddy', 'frederic', 'frederich', 'frederick', 'frederico', 'frederik', 'fredric', 'fredrick', 'freeman', 'freemon', 'fremont', 'french', 'friedric', 'friedrich', 'friedrick', 'fritz', 'fulton', 'fyodor', 'gabe', 'gabriel', 'gabriele', 'gabriell', 'gabriello', 'gail', 'gale', 'galen', 'gallagher', 'gamaliel', 'garcia', 'garcon', 'gardener', 'gardiner', 'gardner', 'garey', 'garfield', 'garfinkel', 'garold', 'garp', 'garret', 'garrett', 'garrot', 'garrott', 'garry', 'garth', 'garv', 'garvey', 'garvin', 'garvy', 'garwin', 'garwood', 'gary', 'gaspar', 'gasper', 'gaston', 'gav', 'gaven', 'gavin', 'gavriel', 'gay', 'gayle', 'gearard', 'gene', 'geo', 'geof', 'geoff', 'geoffrey', 'geoffry', 'georg', 'george', 'georges', 'georgia', 'georgie', 'georgy', 'gerald', 'geraldo', 'gerard', 'gere', 'gerhard', 'gerhardt', 'geri', 'germaine', 'gerold', 'gerome', 'gerrard', 'gerri', 'gerrit', 'gerry', 'gershom', 'gershon', 'giacomo', 'gian', 'giancarlo', 'giavani', 'gibb', 'gideon', 'giff', 'giffard', 'giffer', 'giffie', 'gifford', 'giffy', 'gil', 'gilbert', 'gilberto', 'gilburt', 'giles', 'gill', 'gilles', 'ginger', 'gino', 'giordano', 'giorgi', 'giorgio', 'giovanne', 'giovanni', 'giraldo', 'giraud', 'giuseppe', 'glen', 'glenn', 'glynn', 'godard', 'godart', 'goddard', 'goddart', 'godfree', 'godfrey', 'godfry', 'godwin', 'gomer', 'gonzales', 'gonzalo', 'goober', 'goose', 'gordan', 'gordie', 'gordon', 'grace', 'grady', 'graehme', 'graeme', 'graham', 'graig', 'grant', 'granville', 'greg', 'gregg', 'greggory', 'gregor', 'gregorio', 'gregory', 'gretchen', 'griff', 'griffin', 'griffith', 'griswold', 'grove', 'grover', 'guido', 'guillaume', 'guillermo', 'gunner', 'gunter', 'gunther', 'gus', 'gustaf', 'gustav', 'gustave', 'gustavo', 'gustavus', 'guthrey', 'guthrie', 'guthry', 'guy', 'hadleigh', 'hadley', 'hadrian', 'hagan', 'hagen', 'hailey', 'hakeem', 'hakim', 'hal', 'hale', 'haleigh', 'haley', 'hall', 'hallam', 'halvard', 'ham', 'hamel', 'hamid', 'hamil', 'hamilton', 'hamish', 'hamlen', 'hamlet', 'hamlin', 'hammad', 'hamnet', 'han', 'hanan', 'hanford', 'hank', 'hannibal', 'hans', 'hans-peter', 'hansel', 'hanson', 'harald', 'harcourt', 'hari', 'harlan', 'harland', 'harley', 'harlin', 'harman', 'harmon', 'harold', 'harris', 'harrison', 'harrold', 'harry', 'hart', 'hartley', 'hartwell', 'harv', 'harvard', 'harvey', 'harvie', 'harwell', 'hasheem', 'hashim', 'haskel', 'haskell', 'hassan', 'hastings', 'hasty', 'haven', 'hayden', 'haydon', 'hayes', 'hayward', 'haywood', 'hazel', 'heath', 'heathcliff', 'hebert', 'hector', 'heinrich', 'heinz', 'helmuth', 'henderson', 'hendrick', 'hendrik', 'henri', 'henrie', 'henrik', 'henrique', 'henry', 'herb', 'herbert', 'herbie', 'herby', 'hercule', 'hercules', 'herculie', 'herman', 'hermann', 'hermon', 'hermy', 'hernando', 'herold', 'herrick', 'herrmann', 'hersch', 'herschel', 'hersh', 'hershel', 'herve', 'hervey', 'hew', 'hewe', 'hewet', 'hewett', 'hewie', 'hewitt', 'heywood', 'hezekiah', 'higgins', 'hilary', 'hilbert', 'hill', 'hillard', 'hillary', 'hillel', 'hillery', 'hilliard', 'hilton', 'hiralal', 'hiram', 'hiro', 'hirsch', 'hobart', 'hodge', 'hogan', 'hollis', 'holly', 'homer', 'horace', 'horacio', 'horatio', 'horatius', 'horst', 'howard', 'howie', 'hoyt', 'hubert', 'hudson', 'huey', 'hugh', 'hugo', 'humbert', 'humphrey', 'hunt', 'hunter', 'huntington', 'huntlee', 'huntley', 'hurley', 'husain', 'husein', 'hussein', 'hy', 'hyatt', 'hyman', 'hymie', 'iago', 'iain', 'ian', 'ibrahim', 'ichabod', 'iggie', 'iggy', 'ignace', 'ignacio', 'ignacius', 'ignatius', 'ignaz', 'ignazio', 'igor', 'ike', 'ikey', 'immanuel', 'ingamar', 'ingelbert', 'ingemar', 'inglebert', 'ingmar', 'ingram', 'inigo', 'ira', 'irvin', 'irvine', 'irving', 'irwin', 'isa', 'isaac', 'isaak', 'isador', 'isadore', 'isaiah', 'ishmael', 'isidore', 'ismail', 'israel', 'istvan', 'ivan', 'ivor', 'izaak', 'izak', 'izzy', 'jabez', 'jack', 'jackie', 'jackson', 'jacob', 'jacques', 'jae', 'jaime', 'jake', 'jakob', 'james', 'jameson', 'jamey', 'jamie', 'jan', 'janos', 'janus', 'jared', 'jarrett', 'jarvis', 'jason', 'jasper', 'javier', 'jay', 'jean', 'jean-christophe', 'jean-francois', 'jean-lou', 'jean-luc', 'jean-marc', 'jean-paul', 'jean-pierre', 'jeb', 'jed', 'jedediah', 'jef', 'jeff', 'jefferey', 'jefferson', 'jeffery', 'jeffie', 'jeffrey', 'jeffry', 'jefry', 'jehu', 'jennings', 'jens', 'jephthah', 'jerald', 'jeramie', 'jere', 'jereme', 'jeremiah', 'jeremias', 'jeremie', 'jeremy', 'jermain', 'jermaine', 'jermayne', 'jerold', 'jerome', 'jeromy', 'jerri', 'jerrie', 'jerrold', 'jerrome', 'jerry', 'jervis', 'jerzy', 'jess', 'jesse', 'jessee', 'jessey', 'jessie', 'jesus', 'jeth', 'jethro', 'jim', 'jimbo', 'jimmie', 'jimmy', 'jo', 'joab', 'joachim', 'joao', 'joaquin', 'job', 'jock', 'jodi', 'jodie', 'jody', 'joe', 'joel', 'joey', 'johan', 'johann', 'johannes', 'john', 'john-david', 'john-patrick', 'johnathan', 'johnathon', 'johnnie', 'johnny', 'johny', 'jon', 'jonah', 'jonas', 'jonathan', 'jonathon', 'jonny', 'jordan', 'jordon', 'jordy', 'jorge', 'jory', 'jose', 'josef', 'joseph', 'josephus', 'josh', 'joshua', 'joshuah', 'josiah', 'jotham', 'juan', 'juanita', 'jud', 'judah', 'judas', 'judd', 'jude', 'judith', 'judson', 'judy', 'juergen', 'jule', 'jules', 'julian', 'julie', 'julio', 'julius', 'justin', 'justis', 'kaiser', 'kaleb', 'kalil', 'kalle', 'kalman', 'kalvin', 'kam', 'kane', 'kareem', 'karel', 'karim', 'karl', 'karsten', 'kaspar', 'keefe', 'keenan', 'keene', 'keil', 'keith', 'kellen', 'kelley', 'kelly', 'kelsey', 'kelvin', 'kelwin', 'ken', 'kendal', 'kendall', 'kendrick', 'kenn', 'kennedy', 'kenneth', 'kenny', 'kent', 'kenton', 'kenyon', 'kermie', 'kermit', 'kerry', 'kevan', 'kevin', 'kim', 'kimball', 'kimmo', 'kin', 'kincaid', 'king', 'kingsley', 'kingsly', 'kingston', 'kip', 'kirby', 'kirk', 'kit', 'klaus', 'klee', 'knox', 'konrad', 'konstantin', 'kory', 'kostas', 'kraig', 'kris', 'krishna', 'kristian', 'kristopher', 'kristos', 'kurt', 'kurtis', 'kyle', 'laird', 'lamar', 'lambert', 'lamont', 'lance', 'lancelot', 'lane', 'langston', 'lanny', 'larry', 'lars', 'laurance', 'lauren', 'laurence', 'laurens', 'laurent', 'laurie', 'lawerence', 'lawrence', 'lawson', 'lawton', 'lay', 'layton', 'lazar', 'lazare', 'lazaro', 'lazarus', 'lazlo', 'lee', 'lefty', 'leif', 'leigh', 'leighton', 'leland', 'lem', 'lemar', 'lemmie', 'lemmy', 'lemuel', 'len', 'lenard', 'lennie', 'lenny', 'leo', 'leon', 'leonard', 'leonardo', 'leonerd', 'leonhard', 'leonid', 'leonidas', 'leopold', 'leroy', 'les', 'lesley', 'leslie', 'lester', 'lev', 'levi', 'levin', 'levon', 'levy', 'lew', 'lewis', 'lex', 'liam', 'lin', 'lincoln', 'lind', 'lindsay', 'lindsey', 'lindy', 'linoel', 'linus', 'lion', 'lionel', 'lionello', 'llewellyn', 'lloyd', 'locke', 'lockwood', 'logan', 'lon', 'lonnie', 'lonny', 'loren', 'lorenzo', 'lorne', 'lorrie', 'lothar', 'lou', 'louie', 'louis', 'lovell', 'lowell', 'lucas', 'luce', 'lucian', 'luciano', 'lucien', 'lucio', 'lucius', 'ludvig', 'ludwig', 'luigi', 'luis', 'lukas', 'luke', 'luther', 'lyle', 'lyn', 'lyndon', 'lynn', 'mac', 'mace', 'mack', 'mackenzie', 'maddie', 'maddy', 'madison', 'magnum', 'magnus', 'mahesh', 'mahmoud', 'mahmud', 'maison', 'major', 'malcolm', 'manfred', 'manish', 'manny', 'manuel', 'marc', 'marcel', 'marcello', 'marcellus', 'marcelo', 'marchall', 'marcio', 'marco', 'marcos', 'marcus', 'marietta', 'marilu', 'mario', 'marion', 'marius', 'mark', 'marko', 'markos', 'markus', 'marlin', 'marlo', 'marlon', 'marlow', 'marlowe', 'marmaduke', 'marsh', 'marshal', 'marshall', 'mart', 'martainn', 'marten', 'martie', 'martin', 'martino', 'marty', 'martyn', 'marv', 'marve', 'marven', 'marvin', 'marwin', 'mason', 'mateo', 'mathew', 'mathias', 'matias', 'matt', 'matteo', 'matthaeus', 'mattheus', 'matthew', 'matthias', 'matthieu', 'matthiew', 'matthus', 'mattias', 'mattie', 'matty', 'maurice', 'mauricio', 'maurie', 'maurise', 'maurits', 'mauritz', 'maury', 'max', 'maxfield', 'maxie', 'maxim', 'maximilian', 'maximilien', 'maxwell', 'mayer', 'maynard', 'maynord', 'mayor', 'mead', 'meade', 'meier', 'meir', 'mel', 'melvin', 'melvyn', 'menard', 'mendel', 'mendie', 'meredeth', 'meredith', 'merell', 'merill', 'merle', 'merlin', 'merrel', 'merrick', 'merril', 'merrill', 'merry', 'merv', 'mervin', 'merwin', 'meryl', 'meyer', 'mic', 'micah', 'michael', 'michail', 'michal', 'michale', 'micheal', 'micheil', 'michel', 'michele', 'mick', 'mickey', 'mickie', 'micky', 'miguel', 'mika', 'mikael', 'mike', 'mikel', 'mikey', 'mikhail', 'miles', 'millicent', 'milo', 'milt', 'milton', 'mischa', 'mitch', 'mitchael', 'mitchel', 'mitchell', 'moe', 'mohamad', 'mohamed', 'mohammad', 'mohammed', 'mohan', 'moise', 'moises', 'moishe', 'monroe', 'montague', 'monte', 'montgomery', 'monty', 'moore', 'mordecai', 'morgan', 'morlee', 'morley', 'morly', 'morrie', 'morris', 'morry', 'morse', 'mort', 'morten', 'mortie', 'mortimer', 'morton', 'morty', 'mose', 'moses', 'moshe', 'moss', 'muffin', 'mugsy', 'muhammad', 'munmro', 'munroe', 'murdoch', 'murdock', 'murphy', 'murray', 'mustafa', 'myke', 'myles', 'mylo', 'myron', 'nahum', 'napoleon', 'nat', 'natale', 'nate', 'nathan', 'nathanael', 'nathanial', 'nathaniel', 'nathanil', 'neal', 'neale', 'neall', 'nealon', 'nealson', 'nealy', 'ned', 'neddie', 'neddy', 'neel', 'neil', 'nels', 'nelsen', 'nelson', 'nero', 'neron', 'nester', 'nestor', 'nev', 'nevil', 'nevile', 'neville', 'nevin', 'nevins', 'newton', 'niall', 'niccolo', 'nicholas', 'nichole', 'nichols', 'nick', 'nickey', 'nickie', 'nickolas', 'nicky', 'nico', 'nicolas', 'niels', 'nigel', 'niki', 'nikita', 'nikki', 'nikolai', 'nikos', 'niles', 'nils', 'nilson', 'niven', 'noach', 'noah', 'noam', 'noble', 'noe', 'noel', 'nolan', 'noland', 'norbert', 'norm', 'norman', 'normand', 'normie', 'norris', 'northrop', 'northrup', 'norton', 'norwood', 'nunzio', 'obadiah', 'obadias', 'oberon', 'obie', 'octavius', 'odell', 'odie', 'odin', 'odysseus', 'olaf', 'olag', 'ole', 'oleg', 'olin', 'oliver', 'olivier', 'olle', 'ollie', 'omar', 'oral', 'oran', 'orazio', 'orbadiah', 'oren', 'orin', 'orion', 'orlando', 'orren', 'orrin', 'orson', 'orton', 'orville', 'osbert', 'osborn', 'osborne', 'osbourn', 'osbourne', 'oscar', 'osgood', 'osmond', 'osmund', 'ossie', 'oswald', 'oswell', 'otes', 'othello', 'otho', 'otis', 'otto', 'owen', 'ozzie', 'ozzy', 'pablo', 'pace', 'paco', 'paddie', 'paddy', 'padraig', 'page', 'paige', 'pail', 'palmer', 'paolo', 'park', 'parke', 'parker', 'parnell', 'parrnell', 'parry', 'parsifal', 'partha', 'pascal', 'pascale', 'pasquale', 'pat', 'pate', 'patel', 'paten', 'patin', 'paton', 'patric', 'patrice', 'patricio', 'patrick', 'patrik', 'patsy', 'pattie', 'patty', 'paul', 'paulo', 'pavel', 'pearce', 'pedro', 'peirce', 'pembroke', 'pen', 'penn', 'pennie', 'penny', 'penrod', 'pepe', 'pepillo', 'pepito', 'perceval', 'percival', 'percy', 'perry', 'pete', 'peter', 'petey', 'petr', 'peyter', 'peyton', 'phil', 'philbert', 'philip', 'phillip', 'phillipe', 'phillipp', 'phineas', 'phip', 'pierce', 'pierre', 'pierson', 'piet', 'pieter', 'pietro', 'piggy', 'pincas', 'pinchas', 'pincus', 'piotr', 'pip', 'plato', 'pooh', 'porter', 'poul', 'powell', 'praneetf', 'prasad', 'prasun', 'prent', 'prentice', 'prentiss', 'prescott', 'preston', 'price', 'prince', 'pryce', 'puff', 'purcell', 'putnam', 'pyotr', 'quent', 'quentin', 'quiggly', 'quigly', 'quigman', 'quill', 'quillan', 'quincey', 'quincy', 'quinlan', 'quinn', 'quint', 'quintin', 'quinton', 'quintus', 'rab', 'rabbi', 'rabi', 'rad', 'radcliffe', 'rafael', 'rafe', 'ragnar', 'rahul', 'raimund', 'rainer', 'raj', 'rajeev', 'raleigh', 'ralf', 'ralph', 'ram', 'ramesh', 'ramon', 'ramsay', 'ramsey', 'rand', 'randal', 'randall', 'randell', 'randi', 'randie', 'randolf', 'randolph', 'randy', 'ransell', 'ransom', 'raoul', 'raphael', 'raul', 'ravi', 'ravil', 'rawley', 'ray', 'raymond', 'raymund', 'raymundo', 'raynard', 'rayner', 'raynor', 'reagan', 'red', 'redford', 'redmond', 'reece', 'reed', 'rees', 'reese', 'reg', 'regan', 'regen', 'reggie', 'reggis', 'reggy', 'reginald', 'reginauld', 'reid', 'reilly', 'reinhard', 'reinhold', 'rem', 'remington', 'remus', 'renado', 'renaldo', 'renard', 'renato', 'renaud', 'renault', 'rene', 'reube', 'reuben', 'reuven', 'rex', 'rey', 'reynard', 'reynold', 'reynolds', 'reza', 'rhett', 'ric', 'ricard', 'ricardo', 'riccardo', 'rice', 'rich', 'richard', 'richardo', 'richie', 'richmond', 'richy', 'rick', 'rickard', 'rickey', 'ricki', 'rickie', 'ricky', 'rik', 'rikki', 'riley', 'rinaldo', 'ripley', 'ritch', 'ritchie', 'roarke', 'rob', 'robb', 'robbert', 'robbie', 'robert', 'roberto', 'robin', 'robinson', 'rochester', 'rock', 'rockwell', 'rocky', 'rod', 'rodd', 'roddie', 'roddy', 'roderic', 'roderich', 'roderick', 'roderigo', 'rodge', 'rodger', 'rodney', 'rodolfo', 'rodolph', 'rodolphe', 'rodrick', 'rodrigo', 'rodrique', 'rog', 'roger', 'rogers', 'roice', 'roland', 'rolando', 'rolf', 'rolfe', 'rolland', 'rollin', 'rollins', 'rollo', 'rolph', 'romain', 'roman', 'romeo', 'ron', 'ronald', 'ronen', 'roni', 'ronnie', 'ronny', 'roosevelt', 'rory', 'roscoe', 'ross', 'roth', 'rourke', 'rowland', 'roy', 'royal', 'royce', 'rube', 'ruben', 'rubin', 'ruby', 'rudd', 'ruddie', 'ruddy', 'rudie', 'rudiger', 'rudolf', 'rudolfo', 'rudolph', 'rudy', 'rudyard', 'rufe', 'rufus', 'rupert', 'ruperto', 'russ', 'russel', 'russell', 'rustie', 'rustin', 'rusty', 'rutger', 'rutherford', 'rutledge', 'rutter', 'ryan', 'sal', 'salem', 'salim', 'salman', 'salmon', 'salomo', 'salomon', 'salomone', 'salvador', 'salvatore', 'salvidor', 'sam', 'sammie', 'sammy', 'sampson', 'samson', 'samuel', 'samuele', 'sancho', 'sander', 'sanders', 'sanderson', 'sandor', 'sandro', 'sandy', 'sanford', 'sanson', 'sansone', 'sarge', 'sargent', 'sascha', 'sasha', 'saul', 'sauncho', 'saunder', 'saunders', 'saunderson', 'saundra', 'saw', 'sawyer', 'sawyere', 'sax', 'saxe', 'saxon', 'say', 'sayer', 'sayers', 'sayre', 'sayres', 'scarface', 'schroeder', 'schuyler', 'scot', 'scott', 'scotti', 'scottie', 'scotty', 'seamus', 'sean', 'sebastian', 'sebastiano', 'sebastien', 'see', 'selby', 'selig', 'serge', 'sergeant', 'sergei', 'sergent', 'sergio', 'seth', 'seymour', 'shadow', 'shaine', 'shalom', 'shamus', 'shanan', 'shane', 'shannan', 'shannon', 'shaughn', 'shaun', 'shaw', 'shawn', 'shay', 'shayne', 'shea', 'sheff', 'sheffie', 'sheffield', 'sheffy', 'shelby', 'shelden', 'sheldon', 'shell', 'shelley', 'shelton', 'shem', 'shep', 'shepard', 'shepherd', 'sheppard', 'shepperd', 'sheridan', 'sherlock', 'sherlocke', 'sherman', 'sherwin', 'sherwood', 'sherwynd', 'shimon', 'shlomo', 'sholom', 'shorty', 'shumeet', 'shurlock', 'shurlocke', 'shurwood', 'si', 'sibyl', 'sid', 'siddhartha', 'sidnee', 'sidney', 'siegfried', 'siffre', 'sig', 'sigfrid', 'sigfried', 'sigmund', 'silas', 'silvain', 'silvan', 'silvano', 'silvanus', 'silvester', 'silvio', 'sim', 'simeon', 'simmonds', 'simon', 'simone', 'sinclair', 'sinclare', 'sivert', 'siward', 'skell', 'skelly', 'skip', 'skipp', 'skipper', 'skippie', 'skippy', 'skipton', 'sky', 'skye', 'skylar', 'skyler', 'slade', 'slim', 'sloan', 'sloane', 'sly', 'smith', 'smitty', 'socrates', 'sol', 'sollie', 'solly', 'solomon', 'somerset', 'son', 'sonnie', 'sonny', 'sparky', 'spence', 'spencer', 'spense', 'spenser', 'spike', 'spiro', 'spiros', 'spud', 'srinivas', 'stacy', 'staffard', 'stafford', 'staford', 'stan', 'standford', 'stanfield', 'stanford', 'stanislaw', 'stanleigh', 'stanley', 'stanly', 'stanton', 'stanwood', 'stavros', 'stearn', 'stearne', 'stefan', 'stefano', 'steffen', 'stephan', 'stephanus', 'stephen', 'sterling', 'stern', 'sterne', 'steve', 'steven', 'stevie', 'stevy', 'stew', 'steward', 'stewart', 'stig', 'stillman', 'stillmann', 'sting', 'stinky', 'stirling', 'stu', 'stuart', 'sturgis', 'sullivan', 'sully', 'sumner', 'sunny', 'sutherland', 'sutton', 'sven', 'swen', 'syd', 'sydney', 'sylvan', 'sylvester', 'tab', 'tabb', 'tabbie', 'tabby', 'taber', 'tabor', 'tad', 'tadd', 'taddeo', 'taddeus', 'tadeas', 'tailor', 'tait', 'taite', 'talbert', 'talbot', 'tallie', 'tally', 'tam', 'tamas', 'tammie', 'tammy', 'tan', 'tann', 'tanner', 'tanney', 'tannie', 'tanny', 'tarrance', 'tarrant', 'tarzan', 'tate', 'taylor', 'teador', 'ted', 'tedd', 'teddie', 'teddy', 'tedie', 'tedman', 'tedmund', 'tedrick', 'temp', 'temple', 'templeton', 'teodoor', 'teodor', 'teodorico', 'teodoro', 'terence', 'terencio', 'terrance', 'terrel', 'terrell', 'terrence', 'terri', 'terrill', 'terry', 'thacher', 'thad', 'thaddeus', 'thaddius', 'thaddus', 'thadeus', 'thain', 'thaine', 'thane', 'tharen', 'thatch', 'thatcher', 'thaxter', 'thayne', 'thebault', 'thedric', 'thedrick', 'theo', 'theobald', 'theodor', 'theodore', 'theodoric', 'theophyllus', 'thibaud', 'thibaut', 'thom', 'thomas', 'thor', 'thorn', 'thorndike', 'thornie', 'thornton', 'thorny', 'thorpe', 'thorstein', 'thorsten', 'thorvald', 'thurstan', 'thurston', 'tibold', 'tiebold', 'tiebout', 'tiler', 'tim', 'timmie', 'timmy', 'timothee', 'timotheus', 'timothy', 'tirrell', 'tito', 'titos', 'titus', 'tobe', 'tobiah', 'tobias', 'tobie', 'tobin', 'tobit', 'toby', 'tod', 'todd', 'toddie', 'toddy', 'tom', 'tomas', 'tome', 'tomkin', 'tomlin', 'tommie', 'tommy', 'tonnie', 'tony', 'tore', 'torey', 'torin', 'torr', 'torrance', 'torre', 'torrence', 'torrey', 'torrin', 'torry', 'town', 'towney', 'townie', 'townsend', 'towny', 'trace', 'tracey', 'tracie', 'tracy', 'traver', 'travers', 'travis', 'tray', 'tre', 'tremain', 'tremaine', 'tremayne', 'trent', 'trenton', 'trev', 'trevar', 'trever', 'trevor', 'trey', 'trip', 'tristan', 'troy', 'truman', 'tuck', 'tucker', 'tuckie', 'tucky', 'tudor', 'tull', 'tulley', 'tully', 'turner', 'ty', 'tybalt', 'tye', 'tyler', 'tymon', 'tymothy', 'tynan', 'tyrone', 'tyrus', 'tyson', 'udale', 'udall', 'udell', 'ugo', 'ulberto', 'uli', 'ulick', 'ulises', 'ulric', 'ulrich', 'ulrick', 'ulysses', 'umberto', 'upton', 'urbain', 'urban', 'urbano', 'urbanus', 'uri', 'uriah', 'uriel', 'urson', 'vachel', 'vaclav', 'vail', 'val', 'valdemar', 'vale', 'valentin', 'valentine', 'van', 'vance', 'vasili', 'vasilis', 'vasily', 'vassili', 'vassily', 'vaughan', 'vaughn', 'venkat', 'verge', 'vergil', 'vern', 'verne', 'vernen', 'verney', 'vernon', 'vernor', 'vibhu', 'vic', 'vick', 'victor', 'vijay', 'vilhelm', 'vin', 'vince', 'vincent', 'vincents', 'vinnie', 'vinny', 'vinod', 'virge', 'virgie', 'virgil', 'virgilio', 'vite', 'vito', 'vlad', 'vladamir', 'vladimir', 'voltaire', 'von', 'wade', 'wadsworth', 'wain', 'waine', 'wainwright', 'wait', 'waite', 'waiter', 'wake', 'wakefield', 'wald', 'waldemar', 'walden', 'waldo', 'waldon', 'waleed', 'walker', 'wallace', 'wallache', 'wallas', 'wallie', 'wallis', 'wally', 'walsh', 'walt', 'walter', 'walther', 'walton', 'wang', 'ward', 'warde', 'warden', 'ware', 'waring', 'warner', 'warren', 'wash', 'washington', 'wat', 'waverley', 'waverly', 'way', 'waylan', 'wayland', 'waylen', 'waylin', 'waylon', 'wayne', 'web', 'webb', 'weber', 'webster', 'weidar', 'weider', 'welbie', 'welby', 'welch', 'wells', 'welsh', 'wendall', 'wendel', 'wendell', 'werner', 'wes', 'wesley', 'weslie', 'west', 'westbrook', 'westbrooke', 'westleigh', 'westley', 'weston', 'weylin', 'wheeler', 'whit', 'whitaker', 'whitby', 'whitman', 'whitney', 'whittaker', 'wiatt', 'wilber', 'wilbert', 'wilbur', 'wilburn', 'wilburt', 'wilden', 'wildon', 'wilek', 'wiley', 'wilfred', 'wilfrid', 'wilhelm', 'will', 'willard', 'willdon', 'willem', 'willey', 'willi', 'william', 'willie', 'willis', 'willmott', 'willy', 'wilmar', 'wilmer', 'wilson', 'wilt', 'wilton', 'win', 'windham', 'winfield', 'winford', 'winfred', 'winifield', 'winn', 'winnie', 'winny', 'winslow', 'winston', 'winthrop', 'winton', 'wit', 'witold', 'wittie', 'witty', 'wojciech', 'wolf', 'wolfgang', 'wolfie', 'wolfram', 'wolfy', 'woochang', 'wood', 'woodie', 'woodman', 'woodrow', 'woody', 'worden', 'worth', 'worthington', 'worthy', 'wright', 'wyatan', 'wyatt', 'wye', 'wylie', 'wyn', 'wyndham', 'wynn', 'wynton', 'xavier', 'xenos', 'xerxes', 'xever', 'ximenes', 'ximenez', 'xymenes', 'yaakov', 'yacov', 'yale', 'yanaton', 'yance', 'yancey', 'yancy', 'yank', 'yankee', 'yard', 'yardley', 'yehudi', 'yigal', 'yule', 'yuri', 'yves', 'zach', 'zacharia', 'zachariah', 'zacharias', 'zacharie', 'zachary', 'zacherie', 'zachery', 'zack', 'zackariah', 'zak', 'zalman', 'zane', 'zared', 'zary', 'zeb', 'zebadiah', 'zebedee', 'zebulen', 'zebulon', 'zechariah', 'zed', 'zedekiah', 'zeke', 'zelig', 'zerk', 'zeus', 'zippy', 'zollie', 'zolly', 'zorro']\n"
     ]
    }
   ],
   "source": [
    "unwanted = [w for w in nltk.corpus.stopwords.words('english')]\n",
    "unwanted.extend([w.lower() for w in nltk.corpus.names.words()])  # add words from the names corpus to the unwanted list\n",
    "print(unwanted)     # since movie reviews are likely to have lots of actor names, which shouldn’t be part of your feature sets."
   ]
  },
  {
   "cell_type": "code",
   "execution_count": 46,
   "metadata": {},
   "outputs": [],
   "source": [
    "def skip_unwanted(pos_tuple):\n",
    "    word, tag = pos_tuple\n",
    "    if not word.isalpha() or word in unwanted:\n",
    "        return False\n",
    "    if tag.startswith('NN'):\n",
    "        return False\n",
    "    return True\n",
    "\n",
    "positive_words = [word for word, tag in filter(\n",
    "    skip_unwanted, \n",
    "    nltk.pos_tag(nltk.corpus.movie_reviews.words(categories=['pos'])))]\n",
    "negative_words = [word for word, tag in filter(\n",
    "    skip_unwanted, \n",
    "    nltk.pos_tag(nltk.corpus.movie_reviews.words(categories=['neg'])))]"
   ]
  },
  {
   "cell_type": "code",
   "execution_count": 47,
   "metadata": {},
   "outputs": [],
   "source": [
    "positive_fd = nltk.FreqDist(positive_words)\n",
    "negative_fd = nltk.FreqDist(negative_words)"
   ]
  },
  {
   "cell_type": "code",
   "execution_count": 48,
   "metadata": {},
   "outputs": [
    {
     "data": {
      "text/plain": [
       "[('one', 2821),\n",
       " ('like', 1799),\n",
       " ('good', 1231),\n",
       " ('also', 1200),\n",
       " ('even', 1179),\n",
       " ('well', 1094),\n",
       " ('much', 1038),\n",
       " ('would', 1019),\n",
       " ('first', 1004),\n",
       " ('two', 999),\n",
       " ('get', 850),\n",
       " ('best', 828),\n",
       " ('many', 780),\n",
       " ('make', 779),\n",
       " ('really', 777),\n",
       " ('little', 774),\n",
       " ('great', 751),\n",
       " ('new', 723),\n",
       " ('never', 721),\n",
       " ('could', 636)]"
      ]
     },
     "execution_count": 48,
     "metadata": {},
     "output_type": "execute_result"
    }
   ],
   "source": [
    "positive_fd.most_common(20)"
   ]
  },
  {
   "cell_type": "code",
   "execution_count": 49,
   "metadata": {},
   "outputs": [
    {
     "data": {
      "text/plain": [
       "[('one', 2495),\n",
       " ('like', 1886),\n",
       " ('even', 1386),\n",
       " ('good', 1146),\n",
       " ('would', 1090),\n",
       " ('bad', 1034),\n",
       " ('much', 1011),\n",
       " ('get', 990),\n",
       " ('two', 912),\n",
       " ('first', 832),\n",
       " ('make', 824),\n",
       " ('could', 791),\n",
       " ('really', 781),\n",
       " ('also', 767),\n",
       " ('well', 761),\n",
       " ('little', 726),\n",
       " ('never', 653),\n",
       " ('know', 640),\n",
       " ('big', 597),\n",
       " ('new', 569)]"
      ]
     },
     "execution_count": 49,
     "metadata": {},
     "output_type": "execute_result"
    }
   ],
   "source": [
    "negative_fd.most_common(20)"
   ]
  },
  {
   "cell_type": "markdown",
   "metadata": {},
   "source": [
    "Since many words are present in both positive and negative sets, begin by finding the common set so you can remove it from the distribution objects"
   ]
  },
  {
   "cell_type": "code",
   "execution_count": 51,
   "metadata": {},
   "outputs": [
    {
     "data": {
      "text/plain": [
       "nltk.probability.FreqDist"
      ]
     },
     "execution_count": 51,
     "metadata": {},
     "output_type": "execute_result"
    }
   ],
   "source": [
    "type(positive_fd)"
   ]
  },
  {
   "cell_type": "code",
   "execution_count": 50,
   "metadata": {},
   "outputs": [],
   "source": [
    "common_set = set(positive_fd).intersection(negative_fd)"
   ]
  },
  {
   "cell_type": "code",
   "execution_count": 51,
   "metadata": {},
   "outputs": [],
   "source": [
    "for word in common_set:\n",
    "    del positive_fd[word]    \n",
    "    del negative_fd[word]"
   ]
  },
  {
   "cell_type": "code",
   "execution_count": 52,
   "metadata": {},
   "outputs": [
    {
     "data": {
      "text/plain": [
       "[('shrek', 23),\n",
       " ('fei', 22),\n",
       " ('ordell', 20),\n",
       " ('soviet', 16),\n",
       " ('kimble', 16),\n",
       " ('en', 14),\n",
       " ('addresses', 14),\n",
       " ('lovingly', 14),\n",
       " ('nello', 14),\n",
       " ('horned', 13)]"
      ]
     },
     "execution_count": 52,
     "metadata": {},
     "output_type": "execute_result"
    }
   ],
   "source": [
    "positive_fd.most_common(10)"
   ]
  },
  {
   "cell_type": "code",
   "execution_count": 53,
   "metadata": {},
   "outputs": [
    {
     "data": {
      "text/plain": [
       "[('battlefield', 18),\n",
       " ('sphere', 18),\n",
       " ('nbsp', 18),\n",
       " ('heckerling', 15),\n",
       " ('spawn', 13),\n",
       " ('incoherent', 13),\n",
       " ('degenerates', 13),\n",
       " ('schumacher', 12),\n",
       " ('autistic', 12),\n",
       " ('horrid', 10)]"
      ]
     },
     "execution_count": 53,
     "metadata": {},
     "output_type": "execute_result"
    }
   ],
   "source": [
    "negative_fd.most_common(10)"
   ]
  },
  {
   "cell_type": "markdown",
   "metadata": {},
   "source": [
    "Once you’re left with unique positive and negative words in each frequency distribution object, you can finally build sets from the most common words in each distribution. The amount of words in each set is something you could tweak in order to determine its effect on sentiment analysis."
   ]
  },
  {
   "cell_type": "code",
   "execution_count": 54,
   "metadata": {},
   "outputs": [],
   "source": [
    "top_100_positive = [word for word, count in positive_fd.most_common(100)]\n",
    "top_100_negative = [word for word, count in negative_fd.most_common(100)]"
   ]
  },
  {
   "cell_type": "code",
   "execution_count": 57,
   "metadata": {},
   "outputs": [
    {
     "data": {
      "text/plain": [
       "['battlefield',\n",
       " 'sphere',\n",
       " 'nbsp',\n",
       " 'heckerling',\n",
       " 'spawn',\n",
       " 'incoherent',\n",
       " 'degenerates',\n",
       " 'schumacher',\n",
       " 'autistic',\n",
       " 'horrid']"
      ]
     },
     "execution_count": 57,
     "metadata": {},
     "output_type": "execute_result"
    }
   ],
   "source": [
    "top_100_negative[:10]"
   ]
  },
  {
   "cell_type": "code",
   "execution_count": 58,
   "metadata": {},
   "outputs": [
    {
     "data": {
      "text/plain": [
       "['shrek',\n",
       " 'fei',\n",
       " 'ordell',\n",
       " 'soviet',\n",
       " 'kimble',\n",
       " 'en',\n",
       " 'addresses',\n",
       " 'lovingly',\n",
       " 'nello',\n",
       " 'horned']"
      ]
     },
     "execution_count": 58,
     "metadata": {},
     "output_type": "execute_result"
    }
   ],
   "source": [
    "top_100_positive[:10]"
   ]
  },
  {
   "cell_type": "markdown",
   "metadata": {},
   "source": [
    "This is one example of a feature you can extract from your data, and it’s far from perfect. Looking closely at these sets, you’ll notice some uncommon names and words that aren’t necessarily positive or negative. \n",
    "  \n",
    "Additionally, the other NLTK tools you’ve learned so far can be useful for building more features. One possibility is to leverage collocations that carry positive meaning, like the bigram “thumbs up!”"
   ]
  },
  {
   "cell_type": "markdown",
   "metadata": {},
   "source": [
    "Here’s how you can set up the positive and negative bigram finders:"
   ]
  },
  {
   "cell_type": "code",
   "execution_count": 59,
   "metadata": {},
   "outputs": [],
   "source": [
    "unwanted = nltk.corpus.stopwords.words(\"english\")\n",
    "unwanted.extend([w.lower() for w in nltk.corpus.names.words()])\n",
    "\n",
    "positive_bigram_finder = nltk.collocations.BigramCollocationFinder.from_words([\n",
    "    w for w in nltk.corpus.movie_reviews.words(categories=[\"pos\"])\n",
    "    if w.isalpha() and w not in unwanted\n",
    "])\n",
    "negative_bigram_finder = nltk.collocations.BigramCollocationFinder.from_words([\n",
    "    w for w in nltk.corpus.movie_reviews.words(categories=[\"neg\"])\n",
    "    if w.isalpha() and w not in unwanted\n",
    "])"
   ]
  },
  {
   "cell_type": "markdown",
   "metadata": {},
   "source": [
    "The rest is up to you! Try different combinations of features, think of ways to use the negative VADER scores, create ratios, polish the frequency distributions. The possibilities are endless!"
   ]
  },
  {
   "cell_type": "markdown",
   "metadata": {},
   "source": [
    "#### Training and Using a Classifier"
   ]
  },
  {
   "cell_type": "markdown",
   "metadata": {},
   "source": [
    "With your new feature set ready to use, the first prerequisite for training a classifier is to define a function that will extract features from a given piece of data."
   ]
  },
  {
   "cell_type": "markdown",
   "metadata": {},
   "source": [
    "extract_features() should return a dictionary, and it will create three features for each piece of text:\n",
    "- The average compound score\n",
    "- The average positive score\n",
    "- The amount of words in the text that are also part of the top 100 words in all positive reviews"
   ]
  },
  {
   "cell_type": "code",
   "execution_count": 56,
   "metadata": {},
   "outputs": [],
   "source": [
    "def extract_features(text):\n",
    "    features = dict()\n",
    "    word_count = 0\n",
    "    compound_scores = list()\n",
    "    positive_scores = list()\n",
    "    \n",
    "    for sent in nltk.sent_tokenize(text):\n",
    "        for word in nltk.word_tokenize(sent):\n",
    "            if word.lower() in top_100_positive:\n",
    "                word_count += 1\n",
    "        compound_scores.append(sia.polarity_scores(sent)['compound'])\n",
    "        positive_scores.append(sia.polarity_scores(sent)['pos'])\n",
    "    \n",
    "    # Adding 1 to the final compound score to always have positive numbers\n",
    "    # since some classifiers you'll use later don't work with negative numbers.\n",
    "    features['wordcount'] = word_count\n",
    "    features['mean_compound'] = mean(compound_scores) + 1\n",
    "    features['mean_positive'] = mean(positive_scores)\n",
    "    \n",
    "    return features"
   ]
  },
  {
   "cell_type": "markdown",
   "metadata": {},
   "source": [
    "In order to train and evaluate a classifier, you’ll need to build a list of features for each text you’ll analyze:"
   ]
  },
  {
   "cell_type": "code",
   "execution_count": 57,
   "metadata": {},
   "outputs": [],
   "source": [
    "features = [\n",
    "    (extract_features(nltk.corpus.movie_reviews.raw(review_id)), 'pos') \n",
    "    for review_id in nltk.corpus.movie_reviews.fileids(categories=['pos'])\n",
    "]\n",
    "\n",
    "features.extend([\n",
    "    (extract_features(nltk.corpus.movie_reviews.raw(review_id)), 'neg') \n",
    "    for review_id in nltk.corpus.movie_reviews.fileids(categories=['neg'])\n",
    "])"
   ]
  },
  {
   "cell_type": "markdown",
   "metadata": {},
   "source": [
    "Training the classifier involves splitting the feature set so that one portion can be used for training and the other for evaluation, then calling .train():"
   ]
  },
  {
   "cell_type": "code",
   "execution_count": 62,
   "metadata": {},
   "outputs": [],
   "source": [
    "train_count = len(features) // 4"
   ]
  },
  {
   "cell_type": "code",
   "execution_count": 66,
   "metadata": {},
   "outputs": [
    {
     "name": "stdout",
     "output_type": "stream",
     "text": [
      "features count: 2000\n",
      "training count: 500\n",
      "evaluation count: 1500\n"
     ]
    }
   ],
   "source": [
    "print('features count:', len(features))\n",
    "print('training count:', train_count)\n",
    "print('evaluation count:', len(features) - train_count)"
   ]
  },
  {
   "cell_type": "code",
   "execution_count": 67,
   "metadata": {},
   "outputs": [],
   "source": [
    "shuffle(features)\n",
    "classifier = nltk.NaiveBayesClassifier.train(features[:train_count])"
   ]
  },
  {
   "cell_type": "code",
   "execution_count": 68,
   "metadata": {},
   "outputs": [
    {
     "data": {
      "text/plain": [
       "[('wordcount', 3),\n",
       " ('wordcount', 2),\n",
       " ('wordcount', 4),\n",
       " ('wordcount', 5),\n",
       " ('wordcount', 0),\n",
       " ('wordcount', 1),\n",
       " ('mean_positive', 0.11716666666666667),\n",
       " ('mean_positive', 0.159),\n",
       " ('mean_compound', 0.659528),\n",
       " ('mean_compound', 0.6766466666666666)]"
      ]
     },
     "execution_count": 68,
     "metadata": {},
     "output_type": "execute_result"
    }
   ],
   "source": [
    "classifier.most_informative_features(10)"
   ]
  },
  {
   "cell_type": "code",
   "execution_count": 86,
   "metadata": {},
   "outputs": [
    {
     "data": {
      "text/plain": [
       "0.6666666666666666"
      ]
     },
     "execution_count": 86,
     "metadata": {},
     "output_type": "execute_result"
    }
   ],
   "source": [
    "shuffle(features)\n",
    "classifier = nltk.NaiveBayesClassifier.train(features[:train_count])\n",
    "nltk.classify.accuracy(classifier, features[train_count:])"
   ]
  },
  {
   "cell_type": "markdown",
   "metadata": {},
   "source": [
    "Adding a single feature has marginally improved VADER’s initial accuracy, from 64 percent to 67 percent. More features could help, as long as they truly indicate how positive a review is. You can use classifier.show_most_informative_features() to determine which features are most indicative of a specific property."
   ]
  },
  {
   "cell_type": "markdown",
   "metadata": {},
   "source": [
    "Feature engineering is a big part of improving the accuracy of a given algorithm, but it’s not the whole story. \n",
    "  \n",
    "Another strategy is to use and compare different classifiers."
   ]
  },
  {
   "cell_type": "markdown",
   "metadata": {},
   "source": [
    "### 4. Comparing Additional Classifiers"
   ]
  },
  {
   "cell_type": "code",
   "execution_count": 58,
   "metadata": {},
   "outputs": [],
   "source": [
    "import sklearn"
   ]
  },
  {
   "cell_type": "markdown",
   "metadata": {},
   "source": [
    "NLTK provides a class that can use most classifiers from the popular machine learning framework scikit-learn.\n",
    "\n",
    "Many of the classifiers that scikit-learn provides can be instantiated quickly since they have defaults that often work well. In this section, you’ll learn how to integrate them within NLTK to classify linguistic data."
   ]
  },
  {
   "cell_type": "markdown",
   "metadata": {},
   "source": [
    "A subset of all classifiers available to you. These will work within NLTK for sentiment analysis"
   ]
  },
  {
   "cell_type": "code",
   "execution_count": 59,
   "metadata": {},
   "outputs": [],
   "source": [
    "from sklearn.naive_bayes import (\n",
    "    BernoulliNB,\n",
    "    ComplementNB,\n",
    "    MultinomialNB,\n",
    ")\n",
    "from sklearn.neighbors import KNeighborsClassifier\n",
    "from sklearn.tree import DecisionTreeClassifier\n",
    "from sklearn.ensemble import RandomForestClassifier, AdaBoostClassifier\n",
    "from sklearn.linear_model import LogisticRegression\n",
    "from sklearn.neural_network import MLPClassifier\n",
    "from sklearn.discriminant_analysis import QuadraticDiscriminantAnalysis"
   ]
  },
  {
   "cell_type": "markdown",
   "metadata": {},
   "source": [
    "To aid in accuracy evaluation, it’s helpful to have a mapping of classifier names and their instances:"
   ]
  },
  {
   "cell_type": "code",
   "execution_count": 60,
   "metadata": {},
   "outputs": [],
   "source": [
    "classifiers = {\n",
    "    \"BernoulliNB\": BernoulliNB(),\n",
    "    \"ComplementNB\": ComplementNB(),\n",
    "    \"MultinomialNB\": MultinomialNB(),\n",
    "    \"KNeighborsClassifier\": KNeighborsClassifier(),\n",
    "    \"DecisionTreeClassifier\": DecisionTreeClassifier(),\n",
    "    \"RandomForestClassifier\": RandomForestClassifier(),\n",
    "    \"LogisticRegression\": LogisticRegression(),\n",
    "    \"MLPClassifier\": MLPClassifier(max_iter=1000),\n",
    "    \"AdaBoostClassifier\": AdaBoostClassifier(),\n",
    "}"
   ]
  },
  {
   "cell_type": "markdown",
   "metadata": {},
   "source": [
    "#### Using scikit-learn Classifiers With NLTK"
   ]
  },
  {
   "cell_type": "markdown",
   "metadata": {},
   "source": [
    "Since NLTK allows you to integrate scikit-learn classifiers directly into its own classifier class, the training and classification processes will use the same methods you’ve already seen, .train() and .classify()."
   ]
  },
  {
   "cell_type": "markdown",
   "metadata": {},
   "source": [
    "The features list contains tuples whose first item is a set of features given by extract_features(), and whose second item is the classification label from preclassified data in the movie_reviews corpus."
   ]
  },
  {
   "cell_type": "code",
   "execution_count": 61,
   "metadata": {},
   "outputs": [],
   "source": [
    "train_count = len(features) // 4\n",
    "shuffle(features)"
   ]
  },
  {
   "cell_type": "code",
   "execution_count": 64,
   "metadata": {},
   "outputs": [
    {
     "name": "stdout",
     "output_type": "stream",
     "text": [
      "66.60% - BernoulliNB\n",
      "66.33% - ComplementNB\n",
      "65.87% - MultinomialNB\n",
      "69.60% - KNeighborsClassifier\n",
      "63.60% - DecisionTreeClassifier\n",
      "68.93% - RandomForestClassifier\n",
      "70.87% - LogisticRegression\n",
      "71.93% - MLPClassifier\n",
      "69.67% - AdaBoostClassifier\n"
     ]
    }
   ],
   "source": [
    "for name, sklearn_classifier in classifiers.items():\n",
    "    classifier = nltk.classify.SklearnClassifier(sklearn_classifier)\n",
    "    classifier.train(features[:train_count])\n",
    "    accuracy = nltk.classify.accuracy(classifier, features[train_count:])\n",
    "    print(F\"{accuracy:.2%} - {name}\")"
   ]
  },
  {
   "cell_type": "markdown",
   "metadata": {},
   "source": [
    "For each scikit-learn classifier, call nltk.classify.SklearnClassifier to create a usable NLTK classifier that can be trained and evaluated exactly like you’ve seen before with nltk.NaiveBayesClassifier and its other built-in classifiers. The .train() and .accuracy() methods should receive different portions of the same list of features.\n",
    "  \n",
    "  \n",
    "Now you’ve reached over 73 percent accuracy before even adding a second feature! While this doesn’t mean that the MLPClassifier will continue to be the best one as you engineer new features, having additional classification algorithms at your disposal is clearly advantageous."
   ]
  },
  {
   "cell_type": "markdown",
   "metadata": {},
   "source": [
    "### Conclusion"
   ]
  },
  {
   "cell_type": "markdown",
   "metadata": {},
   "source": [
    "You’re now familiar with the features of NTLK that allow you to process text into objects that you can filter and manipulate, which allows you to analyze text data to gain information about its properties. You can also use different classifiers to perform sentiment analysis on your data and gain insights about how your audience is responding to content."
   ]
  },
  {
   "cell_type": "markdown",
   "metadata": {},
   "source": [
    "In this tutorial, you learned how to:\n",
    "\n",
    "- Split and filter text data in preparation for analysis\n",
    "- Analyze word frequency\n",
    "- Find concordance and collocations using different methods\n",
    "- Perform quick sentiment analysis with NLTK’s built-in VADER\n",
    "- Define features for custom classification\n",
    "- Use and compare classifiers from scikit-learn for sentiment analysis within NLTK"
   ]
  },
  {
   "cell_type": "code",
   "execution_count": null,
   "metadata": {},
   "outputs": [],
   "source": []
  },
  {
   "cell_type": "code",
   "execution_count": null,
   "metadata": {},
   "outputs": [],
   "source": []
  }
 ],
 "metadata": {
  "kernelspec": {
   "display_name": "Python 3",
   "language": "python",
   "name": "python3"
  },
  "language_info": {
   "codemirror_mode": {
    "name": "ipython",
    "version": 3
   },
   "file_extension": ".py",
   "mimetype": "text/x-python",
   "name": "python",
   "nbconvert_exporter": "python",
   "pygments_lexer": "ipython3",
   "version": "3.8.5"
  }
 },
 "nbformat": 4,
 "nbformat_minor": 4
}
